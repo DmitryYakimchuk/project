{
 "cells": [
  {
   "cell_type": "markdown",
   "metadata": {},
   "source": [
    "# Проект 5. Прогнозирование стоимости автомобиля по характеристикам (Car Price prediction)\n",
    "\n",
    "## Название команды на kaggle и skillfactory: Dmitry&TatianaK\n",
    "\n",
    "## Цель\n",
    "Создать модель, которая будет предсказывать стоимость автомобиля по его характеристикам.\n",
    "\n",
    "## Задачи\n",
    "1. Собрать данные с внешних источников (см. отдельный ноутбук с названием Парсер Auto-ru.ipynb);\n",
    "2. Обработать собранный датасет;\n",
    "3. Сделать разведовательный анализ данных (EDA);\n",
    "4. Подобрать наилучшую модель, предсказывающую стоимость автомобиля, а также оптимальные параметры модели."
   ]
  },
  {
   "cell_type": "code",
   "execution_count": 1,
   "metadata": {
    "execution": {
     "iopub.execute_input": "2021-12-01T12:40:20.925607Z",
     "iopub.status.busy": "2021-12-01T12:40:20.923729Z",
     "iopub.status.idle": "2021-12-01T12:40:21.987926Z",
     "shell.execute_reply": "2021-12-01T12:40:21.988668Z",
     "shell.execute_reply.started": "2021-12-01T12:10:16.247659Z"
    },
    "papermill": {
     "duration": 1.275804,
     "end_time": "2021-12-01T12:40:21.989076",
     "exception": false,
     "start_time": "2021-12-01T12:40:20.713272",
     "status": "completed"
    },
    "tags": []
   },
   "outputs": [],
   "source": [
    "import pandas as pd\n",
    "import re\n",
    "from ast import literal_eval\n",
    "import seaborn as sns\n",
    "import matplotlib.pyplot as plt\n",
    "import numpy as np\n",
    "            \n",
    "from IPython.display import Markdown, display\n",
    "from itertools import combinations\n",
    "from scipy.stats import ttest_ind"
   ]
  },
  {
   "cell_type": "code",
   "execution_count": 213,
   "metadata": {
    "execution": {
     "iopub.execute_input": "2021-12-01T12:40:22.421527Z",
     "iopub.status.busy": "2021-12-01T12:40:22.420812Z",
     "iopub.status.idle": "2021-12-01T12:40:23.181247Z",
     "shell.execute_reply": "2021-12-01T12:40:23.180379Z",
     "shell.execute_reply.started": "2021-12-01T12:19:32.087175Z"
    },
    "papermill": {
     "duration": 0.973522,
     "end_time": "2021-12-01T12:40:23.181443",
     "exception": false,
     "start_time": "2021-12-01T12:40:22.207921",
     "status": "completed"
    },
    "tags": []
   },
   "outputs": [],
   "source": [
    "# import catboost\n",
    "# from catboost import Pool, CatBoostRegressor\n",
    "\n",
    "from sklearn.model_selection import train_test_split\n",
    "from sklearn.linear_model import LinearRegression\n",
    "from sklearn.tree import DecisionTreeRegressor\n",
    "from sklearn.ensemble import RandomForestRegressor\n",
    "from sklearn.ensemble import AdaBoostRegressor\n",
    "from sklearn.ensemble import GradientBoostingRegressor\n",
    "from sklearn.ensemble import BaggingRegressor\n",
    "# from lightgbm import LGBMRegressor\n",
    "from sklearn.ensemble import StackingRegressor\n",
    "from sklearn.model_selection import GridSearchCV"
   ]
  },
  {
   "cell_type": "code",
   "execution_count": 3,
   "metadata": {
    "execution": {
     "iopub.execute_input": "2021-12-01T12:40:23.604360Z",
     "iopub.status.busy": "2021-12-01T12:40:23.603613Z",
     "iopub.status.idle": "2021-12-01T12:40:23.606506Z",
     "shell.execute_reply": "2021-12-01T12:40:23.605868Z",
     "shell.execute_reply.started": "2021-12-01T12:10:16.271288Z"
    },
    "papermill": {
     "duration": 0.211864,
     "end_time": "2021-12-01T12:40:23.606642",
     "exception": false,
     "start_time": "2021-12-01T12:40:23.394778",
     "status": "completed"
    },
    "tags": []
   },
   "outputs": [],
   "source": [
    "# VERSION    = 15\n",
    "# DIR_TRAIN  = '../input/5projectdata' # подключили к ноутбуку внешний датасет\n",
    "# DIR_TEST   = '../input/5projectdata'\n",
    "# VAL_SIZE   = 0.20   # 20%"
   ]
  },
  {
   "cell_type": "code",
   "execution_count": 4,
   "metadata": {
    "execution": {
     "iopub.execute_input": "2021-12-01T12:40:24.005637Z",
     "iopub.status.busy": "2021-12-01T12:40:24.004972Z",
     "iopub.status.idle": "2021-12-01T12:40:24.775328Z",
     "shell.execute_reply": "2021-12-01T12:40:24.775924Z",
     "shell.execute_reply.started": "2021-12-01T12:10:16.283531Z"
    },
    "papermill": {
     "duration": 0.970584,
     "end_time": "2021-12-01T12:40:24.776108",
     "exception": false,
     "start_time": "2021-12-01T12:40:23.805524",
     "status": "completed"
    },
    "tags": []
   },
   "outputs": [],
   "source": [
    "# !ls '../input'"
   ]
  },
  {
   "cell_type": "code",
   "execution_count": 5,
   "metadata": {
    "execution": {
     "iopub.execute_input": "2021-12-01T12:40:25.206419Z",
     "iopub.status.busy": "2021-12-01T12:40:25.205681Z",
     "iopub.status.idle": "2021-12-01T12:40:28.838248Z",
     "shell.execute_reply": "2021-12-01T12:40:28.837453Z",
     "shell.execute_reply.started": "2021-12-01T12:10:17.075417Z"
    },
    "papermill": {
     "duration": 3.845349,
     "end_time": "2021-12-01T12:40:28.838403",
     "exception": false,
     "start_time": "2021-12-01T12:40:24.993054",
     "status": "completed"
    },
    "tags": []
   },
   "outputs": [],
   "source": [
    "# train_data = pd.read_csv(DIR_TRAIN + '/train_data_equi_dict') # датасет для обучения модели\n",
    "# test_data = pd.read_csv(DIR_TEST + '/test_car.csv')\n",
    "# # #sample_submission = pd.read_csv(DIR_TEST+'sample_submission.csv')"
   ]
  },
  {
   "cell_type": "code",
   "execution_count": 1,
   "metadata": {},
   "outputs": [
    {
     "ename": "NameError",
     "evalue": "name 'pd' is not defined",
     "output_type": "error",
     "traceback": [
      "\u001b[0;31m---------------------------------------------------------------------------\u001b[0m",
      "\u001b[0;31mNameError\u001b[0m                                 Traceback (most recent call last)",
      "\u001b[0;32m<ipython-input-1-6f5411d89b54>\u001b[0m in \u001b[0;36m<module>\u001b[0;34m\u001b[0m\n\u001b[1;32m      1\u001b[0m \u001b[0;31m# Для локального запуска\u001b[0m\u001b[0;34m\u001b[0m\u001b[0;34m\u001b[0m\u001b[0;34m\u001b[0m\u001b[0m\n\u001b[0;32m----> 2\u001b[0;31m \u001b[0mtrain_data\u001b[0m \u001b[0;34m=\u001b[0m \u001b[0mpd\u001b[0m\u001b[0;34m.\u001b[0m\u001b[0mread_csv\u001b[0m\u001b[0;34m(\u001b[0m\u001b[0;34m'train_car.csv'\u001b[0m\u001b[0;34m)\u001b[0m \u001b[0;31m# датасет для обучения модели\u001b[0m\u001b[0;34m\u001b[0m\u001b[0;34m\u001b[0m\u001b[0m\n\u001b[0m\u001b[1;32m      3\u001b[0m \u001b[0mtest_data\u001b[0m \u001b[0;34m=\u001b[0m \u001b[0mpd\u001b[0m\u001b[0;34m.\u001b[0m\u001b[0mread_csv\u001b[0m\u001b[0;34m(\u001b[0m\u001b[0;34m'test_car.csv'\u001b[0m\u001b[0;34m)\u001b[0m\u001b[0;34m\u001b[0m\u001b[0;34m\u001b[0m\u001b[0m\n",
      "\u001b[0;31mNameError\u001b[0m: name 'pd' is not defined"
     ]
    }
   ],
   "source": [
    "# Для локального запуска\n",
    "train_data = pd.read_csv('train_car.csv') # датасет для обучения модели\n",
    "test_data = pd.read_csv('test_car.csv')"
   ]
  },
  {
   "cell_type": "code",
   "execution_count": 7,
   "metadata": {
    "execution": {
     "iopub.execute_input": "2021-12-01T12:40:29.241161Z",
     "iopub.status.busy": "2021-12-01T12:40:29.240190Z",
     "iopub.status.idle": "2021-12-01T12:40:29.243058Z",
     "shell.execute_reply": "2021-12-01T12:40:29.242352Z",
     "shell.execute_reply.started": "2021-12-01T12:10:19.421856Z"
    },
    "papermill": {
     "duration": 0.205275,
     "end_time": "2021-12-01T12:40:29.243327",
     "exception": false,
     "start_time": "2021-12-01T12:40:29.038052",
     "status": "completed"
    },
    "tags": []
   },
   "outputs": [],
   "source": [
    "pd.set_option('display.max_columns', None)"
   ]
  },
  {
   "cell_type": "markdown",
   "metadata": {
    "papermill": {
     "duration": 0.220242,
     "end_time": "2021-12-01T12:40:29.665773",
     "exception": false,
     "start_time": "2021-12-01T12:40:29.445531",
     "status": "completed"
    },
    "tags": []
   },
   "source": [
    "## ***test_data***"
   ]
  },
  {
   "cell_type": "markdown",
   "metadata": {
    "execution": {
     "iopub.execute_input": "2021-12-01T12:40:30.072192Z",
     "iopub.status.busy": "2021-12-01T12:40:30.071098Z",
     "iopub.status.idle": "2021-12-01T12:40:30.074161Z",
     "shell.execute_reply": "2021-12-01T12:40:30.073490Z",
     "shell.execute_reply.started": "2021-12-01T12:10:19.428952Z"
    },
    "papermill": {
     "duration": 0.211945,
     "end_time": "2021-12-01T12:40:30.074306",
     "exception": false,
     "start_time": "2021-12-01T12:40:29.862361",
     "status": "completed"
    },
    "tags": []
   },
   "source": [
    "- brand - Брэнд автомобиля\n",
    "- car_url - Адрес страницы, с которой взята информация\n",
    "- color - Цвет автомобиля\n",
    "- complectation_dict - Различные характеристики авто\n",
    "- description - Описание обьявления на сайте\n",
    "- engineDisplacement - Объем двигателя\n",
    "- enginePower - Мощность двигателя\n",
    "- equipment_dict - Характеристики атомобиля\n",
    "- fuelType - Тип топлива\n",
    "- image - Изображение авто\n",
    "- mileage - Пробег\n",
    "- modelDate - Год модели\n",
    "- model_info - Информация о модели авто\n",
    "- model_name - Модель\n",
    "- name - Мощности и обьема двигателя\n",
    "- numberOfDoors - Количество дверей\n",
    "- parsing_unixtime - Время парсинга\n",
    "- priceCurrency - Валюта стоимости\n",
    "- productionDate - Год выпуска\n",
    "- sell_id - id\n",
    "- super_gen - Технические характеристики авто\n",
    "- vehicleConfiguration - Характеристики коробки передач и мощности\n",
    "- vehicleTransmission - Трансмиссия автомобиля\n",
    "- vendor - Продавей\n",
    "- Владельцы - Количество владельцев\n",
    "- Владение - Время владения\n",
    "- ПТС - Характеристика ПТС\n",
    "- Привод - Привод\n",
    "- Руль - Расположение руля\n",
    "- Состояние - Состояние авто\n",
    "- Таможня - Растаможен ли автомобиль"
   ]
  },
  {
   "cell_type": "code",
   "execution_count": 8,
   "metadata": {
    "execution": {
     "iopub.execute_input": "2021-12-01T12:40:30.478072Z",
     "iopub.status.busy": "2021-12-01T12:40:30.477106Z",
     "iopub.status.idle": "2021-12-01T12:40:30.480252Z",
     "shell.execute_reply": "2021-12-01T12:40:30.479590Z",
     "shell.execute_reply.started": "2021-12-01T12:10:19.441149Z"
    },
    "papermill": {
     "duration": 0.210153,
     "end_time": "2021-12-01T12:40:30.480391",
     "exception": false,
     "start_time": "2021-12-01T12:40:30.270238",
     "status": "completed"
    },
    "tags": []
   },
   "outputs": [],
   "source": [
    "# рассмотрим все колонки данного датафрейма и приведем к нормальному виду"
   ]
  },
  {
   "cell_type": "code",
   "execution_count": 9,
   "metadata": {
    "execution": {
     "iopub.execute_input": "2021-12-01T12:40:30.988122Z",
     "iopub.status.busy": "2021-12-01T12:40:30.987377Z",
     "iopub.status.idle": "2021-12-01T12:40:31.014185Z",
     "shell.execute_reply": "2021-12-01T12:40:31.013232Z",
     "shell.execute_reply.started": "2021-12-01T12:10:19.455383Z"
    },
    "papermill": {
     "duration": 0.335352,
     "end_time": "2021-12-01T12:40:31.014397",
     "exception": false,
     "start_time": "2021-12-01T12:40:30.679045",
     "status": "completed"
    },
    "tags": []
   },
   "outputs": [
    {
     "name": "stdout",
     "output_type": "stream",
     "text": [
      "<class 'pandas.core.frame.DataFrame'>\n",
      "RangeIndex: 34686 entries, 0 to 34685\n",
      "Data columns (total 32 columns):\n",
      " #   Column                Non-Null Count  Dtype \n",
      "---  ------                --------------  ----- \n",
      " 0   bodyType              34686 non-null  object\n",
      " 1   brand                 34686 non-null  object\n",
      " 2   car_url               34686 non-null  object\n",
      " 3   color                 34686 non-null  object\n",
      " 4   complectation_dict    6418 non-null   object\n",
      " 5   description           34686 non-null  object\n",
      " 6   engineDisplacement    34686 non-null  object\n",
      " 7   enginePower           34686 non-null  object\n",
      " 8   equipment_dict        24690 non-null  object\n",
      " 9   fuelType              34686 non-null  object\n",
      " 10  image                 34686 non-null  object\n",
      " 11  mileage               34686 non-null  int64 \n",
      " 12  modelDate             34686 non-null  int64 \n",
      " 13  model_info            34686 non-null  object\n",
      " 14  model_name            34686 non-null  object\n",
      " 15  name                  34686 non-null  object\n",
      " 16  numberOfDoors         34686 non-null  int64 \n",
      " 17  parsing_unixtime      34686 non-null  int64 \n",
      " 18  priceCurrency         34686 non-null  object\n",
      " 19  productionDate        34686 non-null  int64 \n",
      " 20  sell_id               34686 non-null  int64 \n",
      " 21  super_gen             34686 non-null  object\n",
      " 22  vehicleConfiguration  34686 non-null  object\n",
      " 23  vehicleTransmission   34686 non-null  object\n",
      " 24  vendor                34686 non-null  object\n",
      " 25  Владельцы             34686 non-null  object\n",
      " 26  Владение              11995 non-null  object\n",
      " 27  ПТС                   34685 non-null  object\n",
      " 28  Привод                34686 non-null  object\n",
      " 29  Руль                  34686 non-null  object\n",
      " 30  Состояние             34686 non-null  object\n",
      " 31  Таможня               34686 non-null  object\n",
      "dtypes: int64(6), object(26)\n",
      "memory usage: 8.5+ MB\n"
     ]
    }
   ],
   "source": [
    "test_data.info()"
   ]
  },
  {
   "cell_type": "code",
   "execution_count": 10,
   "metadata": {
    "execution": {
     "iopub.execute_input": "2021-12-01T12:40:31.438383Z",
     "iopub.status.busy": "2021-12-01T12:40:31.437330Z",
     "iopub.status.idle": "2021-12-01T12:40:31.470978Z",
     "shell.execute_reply": "2021-12-01T12:40:31.471499Z",
     "shell.execute_reply.started": "2021-12-01T12:10:19.582110Z"
    },
    "papermill": {
     "duration": 0.247741,
     "end_time": "2021-12-01T12:40:31.471679",
     "exception": false,
     "start_time": "2021-12-01T12:40:31.223938",
     "status": "completed"
    },
    "tags": []
   },
   "outputs": [
    {
     "data": {
      "text/html": [
       "<div>\n",
       "<style scoped>\n",
       "    .dataframe tbody tr th:only-of-type {\n",
       "        vertical-align: middle;\n",
       "    }\n",
       "\n",
       "    .dataframe tbody tr th {\n",
       "        vertical-align: top;\n",
       "    }\n",
       "\n",
       "    .dataframe thead th {\n",
       "        text-align: right;\n",
       "    }\n",
       "</style>\n",
       "<table border=\"1\" class=\"dataframe\">\n",
       "  <thead>\n",
       "    <tr style=\"text-align: right;\">\n",
       "      <th></th>\n",
       "      <th>bodyType</th>\n",
       "      <th>brand</th>\n",
       "      <th>car_url</th>\n",
       "      <th>color</th>\n",
       "      <th>complectation_dict</th>\n",
       "      <th>description</th>\n",
       "      <th>engineDisplacement</th>\n",
       "      <th>enginePower</th>\n",
       "      <th>equipment_dict</th>\n",
       "      <th>fuelType</th>\n",
       "      <th>image</th>\n",
       "      <th>mileage</th>\n",
       "      <th>modelDate</th>\n",
       "      <th>model_info</th>\n",
       "      <th>model_name</th>\n",
       "      <th>name</th>\n",
       "      <th>numberOfDoors</th>\n",
       "      <th>parsing_unixtime</th>\n",
       "      <th>priceCurrency</th>\n",
       "      <th>productionDate</th>\n",
       "      <th>sell_id</th>\n",
       "      <th>super_gen</th>\n",
       "      <th>vehicleConfiguration</th>\n",
       "      <th>vehicleTransmission</th>\n",
       "      <th>vendor</th>\n",
       "      <th>Владельцы</th>\n",
       "      <th>Владение</th>\n",
       "      <th>ПТС</th>\n",
       "      <th>Привод</th>\n",
       "      <th>Руль</th>\n",
       "      <th>Состояние</th>\n",
       "      <th>Таможня</th>\n",
       "    </tr>\n",
       "  </thead>\n",
       "  <tbody>\n",
       "    <tr>\n",
       "      <th>0</th>\n",
       "      <td>лифтбек</td>\n",
       "      <td>SKODA</td>\n",
       "      <td>https://auto.ru/cars/used/sale/skoda/octavia/1...</td>\n",
       "      <td>синий</td>\n",
       "      <td>NaN</td>\n",
       "      <td>Все автомобили, представленные в продаже, прох...</td>\n",
       "      <td>1.2 LTR</td>\n",
       "      <td>105 N12</td>\n",
       "      <td>{\"engine-proof\":true,\"tinted-glass\":true,\"airb...</td>\n",
       "      <td>бензин</td>\n",
       "      <td>https://autoru.naydex.net/o9DBXQ270/5ac010hAY0...</td>\n",
       "      <td>74000</td>\n",
       "      <td>2013</td>\n",
       "      <td>{\"code\":\"OCTAVIA\",\"name\":\"Octavia\",\"ru_name\":\"...</td>\n",
       "      <td>OCTAVIA</td>\n",
       "      <td>1.2 AMT (105 л.с.)</td>\n",
       "      <td>5</td>\n",
       "      <td>1603226273</td>\n",
       "      <td>RUB</td>\n",
       "      <td>2014</td>\n",
       "      <td>1100575026</td>\n",
       "      <td>{\"id\":\"10373605\",\"displacement\":1197,\"engine_t...</td>\n",
       "      <td>LIFTBACK ROBOT 1.2</td>\n",
       "      <td>роботизированная</td>\n",
       "      <td>EUROPEAN</td>\n",
       "      <td>3 или более</td>\n",
       "      <td>NaN</td>\n",
       "      <td>Оригинал</td>\n",
       "      <td>передний</td>\n",
       "      <td>Левый</td>\n",
       "      <td>Не требует ремонта</td>\n",
       "      <td>Растаможен</td>\n",
       "    </tr>\n",
       "    <tr>\n",
       "      <th>1</th>\n",
       "      <td>лифтбек</td>\n",
       "      <td>SKODA</td>\n",
       "      <td>https://auto.ru/cars/used/sale/skoda/octavia/1...</td>\n",
       "      <td>чёрный</td>\n",
       "      <td>NaN</td>\n",
       "      <td>ЛОТ: 01217195\\nАвтопрага Север\\nДанный автомоб...</td>\n",
       "      <td>1.6 LTR</td>\n",
       "      <td>110 N12</td>\n",
       "      <td>{\"cruise-control\":true,\"asr\":true,\"esp\":true,\"...</td>\n",
       "      <td>бензин</td>\n",
       "      <td>https://autoru.naydex.net/o9DBXQ270/5ac010hAY0...</td>\n",
       "      <td>60563</td>\n",
       "      <td>2017</td>\n",
       "      <td>{\"code\":\"OCTAVIA\",\"name\":\"Octavia\",\"ru_name\":\"...</td>\n",
       "      <td>OCTAVIA</td>\n",
       "      <td>1.6 MT (110 л.с.)</td>\n",
       "      <td>5</td>\n",
       "      <td>1603226277</td>\n",
       "      <td>RUB</td>\n",
       "      <td>2017</td>\n",
       "      <td>1100549428</td>\n",
       "      <td>{\"id\":\"20913311\",\"displacement\":1598,\"engine_t...</td>\n",
       "      <td>LIFTBACK MECHANICAL 1.6</td>\n",
       "      <td>механическая</td>\n",
       "      <td>EUROPEAN</td>\n",
       "      <td>1 владелец</td>\n",
       "      <td>NaN</td>\n",
       "      <td>Оригинал</td>\n",
       "      <td>передний</td>\n",
       "      <td>Левый</td>\n",
       "      <td>Не требует ремонта</td>\n",
       "      <td>Растаможен</td>\n",
       "    </tr>\n",
       "    <tr>\n",
       "      <th>2</th>\n",
       "      <td>лифтбек</td>\n",
       "      <td>SKODA</td>\n",
       "      <td>https://auto.ru/cars/used/sale/skoda/superb/11...</td>\n",
       "      <td>серый</td>\n",
       "      <td>{\"id\":\"20026336\",\"name\":\"Ambition\",\"available_...</td>\n",
       "      <td>Все автомобили, представленные в продаже, прох...</td>\n",
       "      <td>1.8 LTR</td>\n",
       "      <td>152 N12</td>\n",
       "      <td>{\"cruise-control\":true,\"tinted-glass\":true,\"es...</td>\n",
       "      <td>бензин</td>\n",
       "      <td>https://avatars.mds.yandex.net/get-autoru-vos/...</td>\n",
       "      <td>88000</td>\n",
       "      <td>2013</td>\n",
       "      <td>{\"code\":\"SUPERB\",\"name\":\"Superb\",\"ru_name\":\"Су...</td>\n",
       "      <td>SUPERB</td>\n",
       "      <td>DSG 1.8 AMT (152 л.с.)</td>\n",
       "      <td>5</td>\n",
       "      <td>1603226280</td>\n",
       "      <td>RUB</td>\n",
       "      <td>2014</td>\n",
       "      <td>1100658222</td>\n",
       "      <td>{\"id\":\"20026323\",\"nameplate\":\"DSG\",\"displaceme...</td>\n",
       "      <td>LIFTBACK ROBOT 1.8</td>\n",
       "      <td>роботизированная</td>\n",
       "      <td>EUROPEAN</td>\n",
       "      <td>1 владелец</td>\n",
       "      <td>NaN</td>\n",
       "      <td>Оригинал</td>\n",
       "      <td>передний</td>\n",
       "      <td>Левый</td>\n",
       "      <td>Не требует ремонта</td>\n",
       "      <td>Растаможен</td>\n",
       "    </tr>\n",
       "    <tr>\n",
       "      <th>3</th>\n",
       "      <td>лифтбек</td>\n",
       "      <td>SKODA</td>\n",
       "      <td>https://auto.ru/cars/used/sale/skoda/octavia/1...</td>\n",
       "      <td>коричневый</td>\n",
       "      <td>{\"id\":\"20803582\",\"name\":\"Ambition\",\"available_...</td>\n",
       "      <td>КОМПЛЕКТ ЗИМНЕЙ (ЛЕТНЕЙ) РЕЗИНЫ ПО СЕЗОНУ В ПО...</td>\n",
       "      <td>1.6 LTR</td>\n",
       "      <td>110 N12</td>\n",
       "      <td>{\"cruise-control\":true,\"roller-blind-for-rear-...</td>\n",
       "      <td>бензин</td>\n",
       "      <td>https://autoru.naydex.net/o9DBXQ270/5ac010hAY0...</td>\n",
       "      <td>95000</td>\n",
       "      <td>2013</td>\n",
       "      <td>{\"code\":\"OCTAVIA\",\"name\":\"Octavia\",\"ru_name\":\"...</td>\n",
       "      <td>OCTAVIA</td>\n",
       "      <td>1.6 AT (110 л.с.)</td>\n",
       "      <td>5</td>\n",
       "      <td>1603226284</td>\n",
       "      <td>RUB</td>\n",
       "      <td>2014</td>\n",
       "      <td>1100937408</td>\n",
       "      <td>{\"id\":\"20105521\",\"displacement\":1598,\"engine_t...</td>\n",
       "      <td>LIFTBACK AUTOMATIC 1.6</td>\n",
       "      <td>автоматическая</td>\n",
       "      <td>EUROPEAN</td>\n",
       "      <td>1 владелец</td>\n",
       "      <td>NaN</td>\n",
       "      <td>Оригинал</td>\n",
       "      <td>передний</td>\n",
       "      <td>Левый</td>\n",
       "      <td>Не требует ремонта</td>\n",
       "      <td>Растаможен</td>\n",
       "    </tr>\n",
       "    <tr>\n",
       "      <th>4</th>\n",
       "      <td>лифтбек</td>\n",
       "      <td>SKODA</td>\n",
       "      <td>https://auto.ru/cars/used/sale/skoda/octavia/1...</td>\n",
       "      <td>белый</td>\n",
       "      <td>NaN</td>\n",
       "      <td>ЛОТ: 01220889\\nАвтопрага Север\\n\\nВы можете по...</td>\n",
       "      <td>1.8 LTR</td>\n",
       "      <td>152 N12</td>\n",
       "      <td>{\"cruise-control\":true,\"asr\":true,\"esp\":true,\"...</td>\n",
       "      <td>бензин</td>\n",
       "      <td>https://autoru.naydex.net/o9DBXQ270/5ac010hAY0...</td>\n",
       "      <td>58536</td>\n",
       "      <td>2008</td>\n",
       "      <td>{\"code\":\"OCTAVIA\",\"name\":\"Octavia\",\"ru_name\":\"...</td>\n",
       "      <td>OCTAVIA</td>\n",
       "      <td>1.8 AT (152 л.с.)</td>\n",
       "      <td>5</td>\n",
       "      <td>1603226288</td>\n",
       "      <td>RUB</td>\n",
       "      <td>2012</td>\n",
       "      <td>1101037972</td>\n",
       "      <td>{\"id\":\"4561004\",\"displacement\":1798,\"engine_ty...</td>\n",
       "      <td>LIFTBACK AUTOMATIC 1.8</td>\n",
       "      <td>автоматическая</td>\n",
       "      <td>EUROPEAN</td>\n",
       "      <td>1 владелец</td>\n",
       "      <td>NaN</td>\n",
       "      <td>Оригинал</td>\n",
       "      <td>передний</td>\n",
       "      <td>Левый</td>\n",
       "      <td>Не требует ремонта</td>\n",
       "      <td>Растаможен</td>\n",
       "    </tr>\n",
       "  </tbody>\n",
       "</table>\n",
       "</div>"
      ],
      "text/plain": [
       "  bodyType  brand                                            car_url  \\\n",
       "0  лифтбек  SKODA  https://auto.ru/cars/used/sale/skoda/octavia/1...   \n",
       "1  лифтбек  SKODA  https://auto.ru/cars/used/sale/skoda/octavia/1...   \n",
       "2  лифтбек  SKODA  https://auto.ru/cars/used/sale/skoda/superb/11...   \n",
       "3  лифтбек  SKODA  https://auto.ru/cars/used/sale/skoda/octavia/1...   \n",
       "4  лифтбек  SKODA  https://auto.ru/cars/used/sale/skoda/octavia/1...   \n",
       "\n",
       "        color                                 complectation_dict  \\\n",
       "0       синий                                                NaN   \n",
       "1      чёрный                                                NaN   \n",
       "2       серый  {\"id\":\"20026336\",\"name\":\"Ambition\",\"available_...   \n",
       "3  коричневый  {\"id\":\"20803582\",\"name\":\"Ambition\",\"available_...   \n",
       "4       белый                                                NaN   \n",
       "\n",
       "                                         description engineDisplacement  \\\n",
       "0  Все автомобили, представленные в продаже, прох...            1.2 LTR   \n",
       "1  ЛОТ: 01217195\\nАвтопрага Север\\nДанный автомоб...            1.6 LTR   \n",
       "2  Все автомобили, представленные в продаже, прох...            1.8 LTR   \n",
       "3  КОМПЛЕКТ ЗИМНЕЙ (ЛЕТНЕЙ) РЕЗИНЫ ПО СЕЗОНУ В ПО...            1.6 LTR   \n",
       "4  ЛОТ: 01220889\\nАвтопрага Север\\n\\nВы можете по...            1.8 LTR   \n",
       "\n",
       "  enginePower                                     equipment_dict fuelType  \\\n",
       "0     105 N12  {\"engine-proof\":true,\"tinted-glass\":true,\"airb...   бензин   \n",
       "1     110 N12  {\"cruise-control\":true,\"asr\":true,\"esp\":true,\"...   бензин   \n",
       "2     152 N12  {\"cruise-control\":true,\"tinted-glass\":true,\"es...   бензин   \n",
       "3     110 N12  {\"cruise-control\":true,\"roller-blind-for-rear-...   бензин   \n",
       "4     152 N12  {\"cruise-control\":true,\"asr\":true,\"esp\":true,\"...   бензин   \n",
       "\n",
       "                                               image  mileage  modelDate  \\\n",
       "0  https://autoru.naydex.net/o9DBXQ270/5ac010hAY0...    74000       2013   \n",
       "1  https://autoru.naydex.net/o9DBXQ270/5ac010hAY0...    60563       2017   \n",
       "2  https://avatars.mds.yandex.net/get-autoru-vos/...    88000       2013   \n",
       "3  https://autoru.naydex.net/o9DBXQ270/5ac010hAY0...    95000       2013   \n",
       "4  https://autoru.naydex.net/o9DBXQ270/5ac010hAY0...    58536       2008   \n",
       "\n",
       "                                          model_info model_name  \\\n",
       "0  {\"code\":\"OCTAVIA\",\"name\":\"Octavia\",\"ru_name\":\"...    OCTAVIA   \n",
       "1  {\"code\":\"OCTAVIA\",\"name\":\"Octavia\",\"ru_name\":\"...    OCTAVIA   \n",
       "2  {\"code\":\"SUPERB\",\"name\":\"Superb\",\"ru_name\":\"Су...     SUPERB   \n",
       "3  {\"code\":\"OCTAVIA\",\"name\":\"Octavia\",\"ru_name\":\"...    OCTAVIA   \n",
       "4  {\"code\":\"OCTAVIA\",\"name\":\"Octavia\",\"ru_name\":\"...    OCTAVIA   \n",
       "\n",
       "                     name  numberOfDoors  parsing_unixtime priceCurrency  \\\n",
       "0      1.2 AMT (105 л.с.)              5        1603226273           RUB   \n",
       "1       1.6 MT (110 л.с.)              5        1603226277           RUB   \n",
       "2  DSG 1.8 AMT (152 л.с.)              5        1603226280           RUB   \n",
       "3       1.6 AT (110 л.с.)              5        1603226284           RUB   \n",
       "4       1.8 AT (152 л.с.)              5        1603226288           RUB   \n",
       "\n",
       "   productionDate     sell_id  \\\n",
       "0            2014  1100575026   \n",
       "1            2017  1100549428   \n",
       "2            2014  1100658222   \n",
       "3            2014  1100937408   \n",
       "4            2012  1101037972   \n",
       "\n",
       "                                           super_gen     vehicleConfiguration  \\\n",
       "0  {\"id\":\"10373605\",\"displacement\":1197,\"engine_t...       LIFTBACK ROBOT 1.2   \n",
       "1  {\"id\":\"20913311\",\"displacement\":1598,\"engine_t...  LIFTBACK MECHANICAL 1.6   \n",
       "2  {\"id\":\"20026323\",\"nameplate\":\"DSG\",\"displaceme...       LIFTBACK ROBOT 1.8   \n",
       "3  {\"id\":\"20105521\",\"displacement\":1598,\"engine_t...   LIFTBACK AUTOMATIC 1.6   \n",
       "4  {\"id\":\"4561004\",\"displacement\":1798,\"engine_ty...   LIFTBACK AUTOMATIC 1.8   \n",
       "\n",
       "  vehicleTransmission    vendor    Владельцы Владение       ПТС    Привод  \\\n",
       "0    роботизированная  EUROPEAN  3 или более      NaN  Оригинал  передний   \n",
       "1        механическая  EUROPEAN   1 владелец      NaN  Оригинал  передний   \n",
       "2    роботизированная  EUROPEAN   1 владелец      NaN  Оригинал  передний   \n",
       "3      автоматическая  EUROPEAN   1 владелец      NaN  Оригинал  передний   \n",
       "4      автоматическая  EUROPEAN   1 владелец      NaN  Оригинал  передний   \n",
       "\n",
       "    Руль           Состояние     Таможня  \n",
       "0  Левый  Не требует ремонта  Растаможен  \n",
       "1  Левый  Не требует ремонта  Растаможен  \n",
       "2  Левый  Не требует ремонта  Растаможен  \n",
       "3  Левый  Не требует ремонта  Растаможен  \n",
       "4  Левый  Не требует ремонта  Растаможен  "
      ]
     },
     "execution_count": 10,
     "metadata": {},
     "output_type": "execute_result"
    }
   ],
   "source": [
    "test_data.head(5)"
   ]
  },
  {
   "cell_type": "markdown",
   "metadata": {
    "papermill": {
     "duration": 0.204103,
     "end_time": "2021-12-01T12:40:31.884873",
     "exception": false,
     "start_time": "2021-12-01T12:40:31.680770",
     "status": "completed"
    },
    "tags": []
   },
   "source": [
    "## bodyType"
   ]
  },
  {
   "cell_type": "code",
   "execution_count": 11,
   "metadata": {
    "execution": {
     "iopub.execute_input": "2021-12-01T12:40:32.291729Z",
     "iopub.status.busy": "2021-12-01T12:40:32.291040Z",
     "iopub.status.idle": "2021-12-01T12:40:32.296830Z",
     "shell.execute_reply": "2021-12-01T12:40:32.296121Z",
     "shell.execute_reply.started": "2021-12-01T12:10:19.614365Z"
    },
    "papermill": {
     "duration": 0.212051,
     "end_time": "2021-12-01T12:40:32.296978",
     "exception": false,
     "start_time": "2021-12-01T12:40:32.084927",
     "status": "completed"
    },
    "tags": []
   },
   "outputs": [
    {
     "data": {
      "text/plain": [
       "array(['лифтбек', 'внедорожник 5 дв.', 'хэтчбек 5 дв.', 'седан',\n",
       "       'компактвэн', 'универсал 5 дв.', 'пикап одинарная кабина',\n",
       "       'хэтчбек 3 дв.', 'купе', 'кабриолет', 'минивэн',\n",
       "       'пикап двойная кабина', 'внедорожник 3 дв.', 'родстер', 'микровэн',\n",
       "       'седан 2 дв.', 'купе-хардтоп', 'фастбек', 'тарга',\n",
       "       'внедорожник открытый', 'лимузин', 'пикап полуторная кабина',\n",
       "       'седан-хардтоп', 'фургон'], dtype=object)"
      ]
     },
     "execution_count": 11,
     "metadata": {},
     "output_type": "execute_result"
    }
   ],
   "source": [
    "test_data.bodyType.unique()"
   ]
  },
  {
   "cell_type": "code",
   "execution_count": 12,
   "metadata": {
    "execution": {
     "iopub.execute_input": "2021-12-01T12:40:32.709003Z",
     "iopub.status.busy": "2021-12-01T12:40:32.708160Z",
     "iopub.status.idle": "2021-12-01T12:40:32.711173Z",
     "shell.execute_reply": "2021-12-01T12:40:32.710582Z",
     "shell.execute_reply.started": "2021-12-01T12:10:19.633429Z"
    },
    "papermill": {
     "duration": 0.213656,
     "end_time": "2021-12-01T12:40:32.711320",
     "exception": false,
     "start_time": "2021-12-01T12:40:32.497664",
     "status": "completed"
    },
    "tags": []
   },
   "outputs": [],
   "source": [
    "def fill_pbodyType(car):\n",
    "    if car == 'лифтбек':\n",
    "        return 'LIFTBACK'\n",
    "    elif car == \"внедорожник 5 дв.\":\n",
    "        return 'ALLROAD_5_DOORS'\n",
    "    elif car == \"хэтчбек 5 дв.\":\n",
    "        return 'HATCHBACK_5_DOORS'\n",
    "    elif car == \"седан\":\n",
    "        return 'SEDAN'\n",
    "    elif car == \"компактвэн\":\n",
    "        return 'COMPACTVAN'\n",
    "    elif car == \"универсал 5 дв.\":\n",
    "        return 'WAGON_5_DOORS'\n",
    "    elif car == \"пикап одинарная кабина\":\n",
    "        return 'PICKUP_ONE'\n",
    "    elif car == \"хэтчбек 3 дв.\":\n",
    "        return 'HATCHBACK_3_DOORS'\n",
    "    elif car == \"купе\":\n",
    "        return 'COUPE'\n",
    "    elif car == \"кабриолет\":\n",
    "        return 'CABRIO'\n",
    "    elif car == \"минивэн\":\n",
    "        return 'MINIVAN'\n",
    "    elif car == \"пикап двойная кабина\":\n",
    "        return 'PICKUP_TWO'\n",
    "    elif car == \"внедорожник 3 дв.\":\n",
    "        return 'ALLROAD_3_DOORS'\n",
    "    elif car == \"родстер\":\n",
    "        return 'ROADSTER'\n",
    "    elif car == \"микровэн\":\n",
    "        return 'MICROVAN'\n",
    "    elif car == \"седан 2 дв.\":\n",
    "        return 'SEDAN_2_DOORS'\n",
    "    elif car == \"купе-хардтоп\":\n",
    "        return 'COUPE_HARDTOP'\n",
    "    elif car == \"фастбек\":\n",
    "        return 'FASTBACK'\n",
    "    elif car == \"тарга\":\n",
    "        return 'TARGA'\n",
    "    elif car == \"внедорожник открытый\":\n",
    "        return 'ALLROAD_OPEN'\n",
    "    elif car == \"лимузин\":\n",
    "        return 'LIMOUSINE'\n",
    "    elif car == \"пикап полуторная кабина\":\n",
    "        return 'PICKUP_ONE_HALF'\n",
    "    elif car == \"седан-хардтоп\":\n",
    "        return 'SEDAN_HARDTOP'\n",
    "    elif car == \"фургон\":\n",
    "        return 'VAN'"
   ]
  },
  {
   "cell_type": "code",
   "execution_count": 13,
   "metadata": {
    "execution": {
     "iopub.execute_input": "2021-12-01T12:40:33.122953Z",
     "iopub.status.busy": "2021-12-01T12:40:33.121951Z",
     "iopub.status.idle": "2021-12-01T12:40:33.126809Z",
     "shell.execute_reply": "2021-12-01T12:40:33.127278Z",
     "shell.execute_reply.started": "2021-12-01T12:10:19.646431Z"
    },
    "papermill": {
     "duration": 0.219383,
     "end_time": "2021-12-01T12:40:33.127457",
     "exception": false,
     "start_time": "2021-12-01T12:40:32.908074",
     "status": "completed"
    },
    "tags": []
   },
   "outputs": [],
   "source": [
    "test_data['bodyType'] = test_data['bodyType'].apply(fill_pbodyType)"
   ]
  },
  {
   "cell_type": "code",
   "execution_count": 14,
   "metadata": {
    "execution": {
     "iopub.execute_input": "2021-12-01T12:40:33.528718Z",
     "iopub.status.busy": "2021-12-01T12:40:33.527702Z",
     "iopub.status.idle": "2021-12-01T12:40:33.536651Z",
     "shell.execute_reply": "2021-12-01T12:40:33.537214Z",
     "shell.execute_reply.started": "2021-12-01T12:10:19.678500Z"
    },
    "papermill": {
     "duration": 0.212688,
     "end_time": "2021-12-01T12:40:33.537390",
     "exception": false,
     "start_time": "2021-12-01T12:40:33.324702",
     "status": "completed"
    },
    "tags": []
   },
   "outputs": [
    {
     "data": {
      "text/plain": [
       "array(['LIFTBACK', 'ALLROAD_5_DOORS', 'HATCHBACK_5_DOORS', 'SEDAN',\n",
       "       'COMPACTVAN', 'WAGON_5_DOORS', 'PICKUP_ONE', 'HATCHBACK_3_DOORS',\n",
       "       'COUPE', 'CABRIO', 'MINIVAN', 'PICKUP_TWO', 'ALLROAD_3_DOORS',\n",
       "       'ROADSTER', 'MICROVAN', 'SEDAN_2_DOORS', 'COUPE_HARDTOP',\n",
       "       'FASTBACK', 'TARGA', 'ALLROAD_OPEN', 'LIMOUSINE',\n",
       "       'PICKUP_ONE_HALF', 'SEDAN_HARDTOP', 'VAN'], dtype=object)"
      ]
     },
     "execution_count": 14,
     "metadata": {},
     "output_type": "execute_result"
    }
   ],
   "source": [
    "test_data.bodyType.unique()"
   ]
  },
  {
   "cell_type": "markdown",
   "metadata": {
    "papermill": {
     "duration": 0.203031,
     "end_time": "2021-12-01T12:40:33.943316",
     "exception": false,
     "start_time": "2021-12-01T12:40:33.740285",
     "status": "completed"
    },
    "tags": []
   },
   "source": [
    "## brand"
   ]
  },
  {
   "cell_type": "code",
   "execution_count": 15,
   "metadata": {
    "execution": {
     "iopub.execute_input": "2021-12-01T12:40:34.352976Z",
     "iopub.status.busy": "2021-12-01T12:40:34.352281Z",
     "iopub.status.idle": "2021-12-01T12:40:34.360631Z",
     "shell.execute_reply": "2021-12-01T12:40:34.361270Z",
     "shell.execute_reply.started": "2021-12-01T12:10:19.688176Z"
    },
    "papermill": {
     "duration": 0.217075,
     "end_time": "2021-12-01T12:40:34.361453",
     "exception": false,
     "start_time": "2021-12-01T12:40:34.144378",
     "status": "completed"
    },
    "tags": []
   },
   "outputs": [
    {
     "data": {
      "text/plain": [
       "array(['SKODA', 'AUDI', 'HONDA', 'VOLVO', 'BMW', 'NISSAN', 'INFINITI',\n",
       "       'MERCEDES', 'TOYOTA', 'LEXUS', 'VOLKSWAGEN', 'MITSUBISHI'],\n",
       "      dtype=object)"
      ]
     },
     "execution_count": 15,
     "metadata": {},
     "output_type": "execute_result"
    }
   ],
   "source": [
    "test_data.brand.unique()"
   ]
  },
  {
   "cell_type": "markdown",
   "metadata": {
    "papermill": {
     "duration": 0.204942,
     "end_time": "2021-12-01T12:40:34.767639",
     "exception": false,
     "start_time": "2021-12-01T12:40:34.562697",
     "status": "completed"
    },
    "tags": []
   },
   "source": [
    "## car_url"
   ]
  },
  {
   "cell_type": "code",
   "execution_count": 16,
   "metadata": {
    "execution": {
     "iopub.execute_input": "2021-12-01T12:40:35.180217Z",
     "iopub.status.busy": "2021-12-01T12:40:35.179442Z",
     "iopub.status.idle": "2021-12-01T12:40:35.184425Z",
     "shell.execute_reply": "2021-12-01T12:40:35.183622Z",
     "shell.execute_reply.started": "2021-12-01T12:10:19.702767Z"
    },
    "papermill": {
     "duration": 0.213534,
     "end_time": "2021-12-01T12:40:35.184577",
     "exception": false,
     "start_time": "2021-12-01T12:40:34.971043",
     "status": "completed"
    },
    "tags": []
   },
   "outputs": [
    {
     "data": {
      "text/plain": [
       "'https://auto.ru/cars/used/sale/skoda/octavia/1100575026-c780dc09/'"
      ]
     },
     "execution_count": 16,
     "metadata": {},
     "output_type": "execute_result"
    }
   ],
   "source": [
    "test_data.car_url[0]"
   ]
  },
  {
   "cell_type": "code",
   "execution_count": 17,
   "metadata": {
    "execution": {
     "iopub.execute_input": "2021-12-01T12:40:35.616648Z",
     "iopub.status.busy": "2021-12-01T12:40:35.615960Z",
     "iopub.status.idle": "2021-12-01T12:40:35.617513Z",
     "shell.execute_reply": "2021-12-01T12:40:35.618266Z",
     "shell.execute_reply.started": "2021-12-01T12:10:19.712807Z"
    },
    "papermill": {
     "duration": 0.224131,
     "end_time": "2021-12-01T12:40:35.618444",
     "exception": false,
     "start_time": "2021-12-01T12:40:35.394313",
     "status": "completed"
    },
    "tags": []
   },
   "outputs": [],
   "source": [
    "test_data.drop(['car_url'], inplace = True, axis = 1)"
   ]
  },
  {
   "cell_type": "markdown",
   "metadata": {
    "papermill": {
     "duration": 0.204451,
     "end_time": "2021-12-01T12:40:36.027981",
     "exception": false,
     "start_time": "2021-12-01T12:40:35.823530",
     "status": "completed"
    },
    "tags": []
   },
   "source": [
    "## color"
   ]
  },
  {
   "cell_type": "code",
   "execution_count": 18,
   "metadata": {
    "execution": {
     "iopub.execute_input": "2021-12-01T12:40:36.463223Z",
     "iopub.status.busy": "2021-12-01T12:40:36.462142Z",
     "iopub.status.idle": "2021-12-01T12:40:36.469467Z",
     "shell.execute_reply": "2021-12-01T12:40:36.468849Z",
     "shell.execute_reply.started": "2021-12-01T12:10:19.736519Z"
    },
    "papermill": {
     "duration": 0.235964,
     "end_time": "2021-12-01T12:40:36.469820",
     "exception": false,
     "start_time": "2021-12-01T12:40:36.233856",
     "status": "completed"
    },
    "tags": []
   },
   "outputs": [
    {
     "data": {
      "text/plain": [
       "array(['синий', 'чёрный', 'серый', 'коричневый', 'белый', 'пурпурный',\n",
       "       'бежевый', 'серебристый', 'красный', 'зелёный', 'жёлтый',\n",
       "       'голубой', 'оранжевый', 'фиолетовый', 'золотистый', 'розовый'],\n",
       "      dtype=object)"
      ]
     },
     "execution_count": 18,
     "metadata": {},
     "output_type": "execute_result"
    }
   ],
   "source": [
    "test_data.color.unique()"
   ]
  },
  {
   "cell_type": "code",
   "execution_count": 19,
   "metadata": {
    "execution": {
     "iopub.execute_input": "2021-12-01T12:40:36.883305Z",
     "iopub.status.busy": "2021-12-01T12:40:36.882486Z",
     "iopub.status.idle": "2021-12-01T12:40:36.891562Z",
     "shell.execute_reply": "2021-12-01T12:40:36.892120Z",
     "shell.execute_reply.started": "2021-12-01T12:10:19.748553Z"
    },
    "papermill": {
     "duration": 0.219397,
     "end_time": "2021-12-01T12:40:36.892304",
     "exception": false,
     "start_time": "2021-12-01T12:40:36.672907",
     "status": "completed"
    },
    "tags": []
   },
   "outputs": [],
   "source": [
    "def fill_color(car):\n",
    "    if car == 'синий':\n",
    "        return 'BLUE'\n",
    "    elif car == \"чёрный\":\n",
    "        return 'BLACK'\n",
    "    elif car == \"серый\":\n",
    "        return 'GRAY'\n",
    "    elif car == \"коричневый\":\n",
    "        return 'BROWN'\n",
    "    elif car == \"белый\":\n",
    "        return 'WHITE'\n",
    "    elif car == \"пурпурный\":\n",
    "        return 'MAGENTA'\n",
    "    elif car == \"бежевый\":\n",
    "        return 'BEIGE'\n",
    "    elif car == \"серебристый\":\n",
    "        return 'SILVER'\n",
    "    elif car == \"красный\":\n",
    "        return 'RED'\n",
    "    elif car == \"зелёный\":\n",
    "        return 'GREEN'\n",
    "    elif car == \"жёлтый\":\n",
    "        return 'YELLOW'\n",
    "    elif car == \"голубой\":\n",
    "        return 'LIGHT_BLUE'\n",
    "    elif car == \"оранжевый\":\n",
    "        return 'ORANGE'\n",
    "    elif car == \"фиолетовый\":\n",
    "        return 'PURPLE'\n",
    "    elif car == \"золотистый\":\n",
    "        return 'GOLDEN'\n",
    "    elif car == \"розовый\":\n",
    "        return 'PINK'"
   ]
  },
  {
   "cell_type": "code",
   "execution_count": 20,
   "metadata": {
    "execution": {
     "iopub.execute_input": "2021-12-01T12:40:37.306273Z",
     "iopub.status.busy": "2021-12-01T12:40:37.305606Z",
     "iopub.status.idle": "2021-12-01T12:40:37.323819Z",
     "shell.execute_reply": "2021-12-01T12:40:37.324514Z",
     "shell.execute_reply.started": "2021-12-01T12:10:19.758869Z"
    },
    "papermill": {
     "duration": 0.22711,
     "end_time": "2021-12-01T12:40:37.324710",
     "exception": false,
     "start_time": "2021-12-01T12:40:37.097600",
     "status": "completed"
    },
    "tags": []
   },
   "outputs": [],
   "source": [
    "test_data['color'] = test_data['color'].apply(fill_color)"
   ]
  },
  {
   "cell_type": "code",
   "execution_count": 21,
   "metadata": {
    "execution": {
     "iopub.execute_input": "2021-12-01T12:40:37.732179Z",
     "iopub.status.busy": "2021-12-01T12:40:37.731500Z",
     "iopub.status.idle": "2021-12-01T12:40:37.740824Z",
     "shell.execute_reply": "2021-12-01T12:40:37.741374Z",
     "shell.execute_reply.started": "2021-12-01T12:10:19.788324Z"
    },
    "papermill": {
     "duration": 0.21663,
     "end_time": "2021-12-01T12:40:37.741565",
     "exception": false,
     "start_time": "2021-12-01T12:40:37.524935",
     "status": "completed"
    },
    "tags": []
   },
   "outputs": [
    {
     "data": {
      "text/plain": [
       "array(['BLUE', 'BLACK', 'GRAY', 'BROWN', 'WHITE', 'MAGENTA', 'BEIGE',\n",
       "       'SILVER', 'RED', 'GREEN', 'YELLOW', 'LIGHT_BLUE', 'ORANGE',\n",
       "       'PURPLE', 'GOLDEN', 'PINK'], dtype=object)"
      ]
     },
     "execution_count": 21,
     "metadata": {},
     "output_type": "execute_result"
    }
   ],
   "source": [
    "test_data.color.unique()"
   ]
  },
  {
   "cell_type": "markdown",
   "metadata": {
    "papermill": {
     "duration": 0.205813,
     "end_time": "2021-12-01T12:40:38.149446",
     "exception": false,
     "start_time": "2021-12-01T12:40:37.943633",
     "status": "completed"
    },
    "tags": []
   },
   "source": [
    "## complectation_dict"
   ]
  },
  {
   "cell_type": "code",
   "execution_count": 22,
   "metadata": {
    "execution": {
     "iopub.execute_input": "2021-12-01T12:40:38.546810Z",
     "iopub.status.busy": "2021-12-01T12:40:38.546144Z",
     "iopub.status.idle": "2021-12-01T12:40:38.553806Z",
     "shell.execute_reply": "2021-12-01T12:40:38.554314Z",
     "shell.execute_reply.started": "2021-12-01T12:10:19.798773Z"
    },
    "papermill": {
     "duration": 0.208408,
     "end_time": "2021-12-01T12:40:38.554487",
     "exception": false,
     "start_time": "2021-12-01T12:40:38.346079",
     "status": "completed"
    },
    "tags": []
   },
   "outputs": [
    {
     "data": {
      "text/plain": [
       "0                                                      NaN\n",
       "1                                                      NaN\n",
       "2        {\"id\":\"20026336\",\"name\":\"Ambition\",\"available_...\n",
       "3        {\"id\":\"20803582\",\"name\":\"Ambition\",\"available_...\n",
       "4                                                      NaN\n",
       "                               ...                        \n",
       "34681                                                  NaN\n",
       "34682                                                  NaN\n",
       "34683                                                  NaN\n",
       "34684    {\"id\":\"6336008\",\"name\":\"xDrive20d Локальная сб...\n",
       "34685                                                  NaN\n",
       "Name: complectation_dict, Length: 34686, dtype: object"
      ]
     },
     "execution_count": 22,
     "metadata": {},
     "output_type": "execute_result"
    }
   ],
   "source": [
    "test_data.complectation_dict"
   ]
  },
  {
   "cell_type": "code",
   "execution_count": 23,
   "metadata": {
    "execution": {
     "iopub.execute_input": "2021-12-01T12:40:38.956171Z",
     "iopub.status.busy": "2021-12-01T12:40:38.955419Z",
     "iopub.status.idle": "2021-12-01T12:40:38.970862Z",
     "shell.execute_reply": "2021-12-01T12:40:38.971669Z",
     "shell.execute_reply.started": "2021-12-01T12:10:19.811716Z"
    },
    "papermill": {
     "duration": 0.218528,
     "end_time": "2021-12-01T12:40:38.971890",
     "exception": false,
     "start_time": "2021-12-01T12:40:38.753362",
     "status": "completed"
    },
    "tags": []
   },
   "outputs": [],
   "source": [
    "test_data.drop(['complectation_dict'], inplace = True, axis = 1)"
   ]
  },
  {
   "cell_type": "markdown",
   "metadata": {
    "papermill": {
     "duration": 0.202403,
     "end_time": "2021-12-01T12:40:39.441277",
     "exception": false,
     "start_time": "2021-12-01T12:40:39.238874",
     "status": "completed"
    },
    "tags": []
   },
   "source": [
    "## description"
   ]
  },
  {
   "cell_type": "code",
   "execution_count": 24,
   "metadata": {
    "execution": {
     "iopub.execute_input": "2021-12-01T12:40:39.856605Z",
     "iopub.status.busy": "2021-12-01T12:40:39.855784Z",
     "iopub.status.idle": "2021-12-01T12:40:39.859406Z",
     "shell.execute_reply": "2021-12-01T12:40:39.859953Z",
     "shell.execute_reply.started": "2021-12-01T12:10:19.831288Z"
    },
    "papermill": {
     "duration": 0.213419,
     "end_time": "2021-12-01T12:40:39.860129",
     "exception": false,
     "start_time": "2021-12-01T12:40:39.646710",
     "status": "completed"
    },
    "tags": []
   },
   "outputs": [
    {
     "data": {
      "text/plain": [
       "'Все автомобили, представленные в продаже, проходят тщательную проверку по более 40 параметрам. Предоставляем гарантию юридической чистоты, а так же год технической гарантии на двигатель и КПП. Бесплатный тест-драйв. Возможно оформление автомобиля в кредит!\\n\\nПреимущества автокредитования:\\n— Первоначальный взнос от 0%;\\n— Более 30 кредитных программ;\\n— Процентная ставка от 6% годовых;\\n— Срок кредита от 6 месяцев до 7 лет;\\n— Оформление кредита по двум документам;\\n— Досрочное погашение без штрафов и комиссий;\\n— Сумма кредита до 2 млн рублей;\\n— Оформление КАСКО – по желанию;\\n— Без справок и поручителей.\\n\\nСотрудничаем с 12 аккредитованными и сертифицированными банками РФ, среднее время ожидания решения банка 20–30 минут.\\n\\nПри покупке автомобиля по программе «Trade-in – выгодный обмен» или в кредит, получите дополнительную скидку до 80 000 рублей на данный автомобиль!\\n\\nЗаписаться на тест-драйв, а так же получить подробную информацию можно у специалистов автоцентра по указанному номеру телефона.'"
      ]
     },
     "execution_count": 24,
     "metadata": {},
     "output_type": "execute_result"
    }
   ],
   "source": [
    "test_data.description[0]"
   ]
  },
  {
   "cell_type": "code",
   "execution_count": 25,
   "metadata": {
    "execution": {
     "iopub.execute_input": "2021-12-01T12:40:40.273282Z",
     "iopub.status.busy": "2021-12-01T12:40:40.271979Z",
     "iopub.status.idle": "2021-12-01T12:40:40.290159Z",
     "shell.execute_reply": "2021-12-01T12:40:40.290708Z",
     "shell.execute_reply.started": "2021-12-01T12:10:19.837949Z"
    },
    "papermill": {
     "duration": 0.220339,
     "end_time": "2021-12-01T12:40:40.291112",
     "exception": false,
     "start_time": "2021-12-01T12:40:40.070773",
     "status": "completed"
    },
    "tags": []
   },
   "outputs": [],
   "source": [
    "test_data.drop(['description'], inplace = True, axis = 1)"
   ]
  },
  {
   "cell_type": "markdown",
   "metadata": {
    "papermill": {
     "duration": 0.239154,
     "end_time": "2021-12-01T12:40:40.755832",
     "exception": false,
     "start_time": "2021-12-01T12:40:40.516678",
     "status": "completed"
    },
    "tags": []
   },
   "source": [
    "## engineDisplacement"
   ]
  },
  {
   "cell_type": "code",
   "execution_count": 26,
   "metadata": {
    "execution": {
     "iopub.execute_input": "2021-12-01T12:40:41.225237Z",
     "iopub.status.busy": "2021-12-01T12:40:41.223420Z",
     "iopub.status.idle": "2021-12-01T12:40:41.233347Z",
     "shell.execute_reply": "2021-12-01T12:40:41.234034Z",
     "shell.execute_reply.started": "2021-12-01T12:10:19.862093Z"
    },
    "papermill": {
     "duration": 0.244447,
     "end_time": "2021-12-01T12:40:41.234245",
     "exception": false,
     "start_time": "2021-12-01T12:40:40.989798",
     "status": "completed"
    },
    "tags": []
   },
   "outputs": [
    {
     "data": {
      "text/plain": [
       "array(['1.2 LTR', '1.6 LTR', '1.8 LTR', '2.0 LTR', '1.4 LTR', '1.3 LTR',\n",
       "       '1.0 LTR', '3.6 LTR', '1.5 LTR', '1.9 LTR', '2.8 LTR', '1.1 LTR',\n",
       "       '2.5 LTR', '4.2 LTR', '3.0 LTR', '4.0 LTR', '5.9 LTR', '2.7 LTR',\n",
       "       '3.1 LTR', '2.4 LTR', '5.2 LTR', '3.2 LTR', '4.1 LTR', '6.3 LTR',\n",
       "       '2.3 LTR', '6.0 LTR', '2.2 LTR', '3.7 LTR', '2.9 LTR', '5.0 LTR',\n",
       "       '3.3 LTR', '2.1 LTR', '2.6 LTR', ' LTR', '3.5 LTR', '1.7 LTR',\n",
       "       '0.7 LTR', '4.4 LTR', '4.8 LTR', '5.4 LTR', '6.6 LTR', '4.9 LTR',\n",
       "       '3.8 LTR', '3.4 LTR', '3.9 LTR', '4.6 LTR', '5.6 LTR', '4.5 LTR',\n",
       "       '5.5 LTR', '6.2 LTR', '4.7 LTR', '4.3 LTR', '5.8 LTR', '5.3 LTR',\n",
       "       '5.7 LTR'], dtype=object)"
      ]
     },
     "execution_count": 26,
     "metadata": {},
     "output_type": "execute_result"
    }
   ],
   "source": [
    "test_data.engineDisplacement.unique() "
   ]
  },
  {
   "cell_type": "code",
   "execution_count": 27,
   "metadata": {
    "execution": {
     "iopub.execute_input": "2021-12-01T12:40:41.679996Z",
     "iopub.status.busy": "2021-12-01T12:40:41.679054Z",
     "iopub.status.idle": "2021-12-01T12:40:41.762097Z",
     "shell.execute_reply": "2021-12-01T12:40:41.762604Z",
     "shell.execute_reply.started": "2021-12-01T12:10:19.872741Z"
    },
    "papermill": {
     "duration": 0.30126,
     "end_time": "2021-12-01T12:40:41.762794",
     "exception": false,
     "start_time": "2021-12-01T12:40:41.461534",
     "status": "completed"
    },
    "tags": []
   },
   "outputs": [
    {
     "data": {
      "text/html": [
       "<div>\n",
       "<style scoped>\n",
       "    .dataframe tbody tr th:only-of-type {\n",
       "        vertical-align: middle;\n",
       "    }\n",
       "\n",
       "    .dataframe tbody tr th {\n",
       "        vertical-align: top;\n",
       "    }\n",
       "\n",
       "    .dataframe thead th {\n",
       "        text-align: right;\n",
       "    }\n",
       "</style>\n",
       "<table border=\"1\" class=\"dataframe\">\n",
       "  <thead>\n",
       "    <tr style=\"text-align: right;\">\n",
       "      <th></th>\n",
       "      <th>bodyType</th>\n",
       "      <th>brand</th>\n",
       "      <th>color</th>\n",
       "      <th>engineDisplacement</th>\n",
       "      <th>enginePower</th>\n",
       "      <th>equipment_dict</th>\n",
       "      <th>fuelType</th>\n",
       "      <th>image</th>\n",
       "      <th>mileage</th>\n",
       "      <th>modelDate</th>\n",
       "      <th>model_info</th>\n",
       "      <th>model_name</th>\n",
       "      <th>name</th>\n",
       "      <th>numberOfDoors</th>\n",
       "      <th>parsing_unixtime</th>\n",
       "      <th>priceCurrency</th>\n",
       "      <th>productionDate</th>\n",
       "      <th>sell_id</th>\n",
       "      <th>super_gen</th>\n",
       "      <th>vehicleConfiguration</th>\n",
       "      <th>vehicleTransmission</th>\n",
       "      <th>vendor</th>\n",
       "      <th>Владельцы</th>\n",
       "      <th>Владение</th>\n",
       "      <th>ПТС</th>\n",
       "      <th>Привод</th>\n",
       "      <th>Руль</th>\n",
       "      <th>Состояние</th>\n",
       "      <th>Таможня</th>\n",
       "    </tr>\n",
       "  </thead>\n",
       "  <tbody>\n",
       "    <tr>\n",
       "      <th>5241</th>\n",
       "      <td>ALLROAD_5_DOORS</td>\n",
       "      <td>AUDI</td>\n",
       "      <td>WHITE</td>\n",
       "      <td>LTR</td>\n",
       "      <td>408 N12</td>\n",
       "      <td>{\"asr\":true,\"esp\":true,\"usb\":true,\"e-adjustmen...</td>\n",
       "      <td>электро</td>\n",
       "      <td>https://avatars.mds.yandex.net/get-autoru-vos/...</td>\n",
       "      <td>885</td>\n",
       "      <td>2018</td>\n",
       "      <td>{\"code\":\"E_TRON\",\"name\":\"e-tron\",\"ru_name\":\"И-...</td>\n",
       "      <td>E_TRON</td>\n",
       "      <td>55 Electro AT (301 кВт) 4WD</td>\n",
       "      <td>5</td>\n",
       "      <td>1603132719</td>\n",
       "      <td>RUB</td>\n",
       "      <td>2019</td>\n",
       "      <td>1101083243</td>\n",
       "      <td>{\"id\":\"22291114\",\"name\":\"55\",\"nameplate\":\"55\",...</td>\n",
       "      <td>ALLROAD_5_DOORS AUTOMATIC</td>\n",
       "      <td>автоматическая</td>\n",
       "      <td>EUROPEAN</td>\n",
       "      <td>1 владелец</td>\n",
       "      <td>1 год и 3 месяца</td>\n",
       "      <td>Оригинал</td>\n",
       "      <td>полный</td>\n",
       "      <td>Левый</td>\n",
       "      <td>Не требует ремонта</td>\n",
       "      <td>Растаможен</td>\n",
       "    </tr>\n",
       "    <tr>\n",
       "      <th>7992</th>\n",
       "      <td>HATCHBACK_5_DOORS</td>\n",
       "      <td>BMW</td>\n",
       "      <td>BLUE</td>\n",
       "      <td>LTR</td>\n",
       "      <td>170 N12</td>\n",
       "      <td>NaN</td>\n",
       "      <td>электро</td>\n",
       "      <td>https://avatars.mds.yandex.net/get-autoru-vos/...</td>\n",
       "      <td>32000</td>\n",
       "      <td>2017</td>\n",
       "      <td>{\"code\":\"I3\",\"name\":\"i3\",\"ru_name\":\"и3\",\"morph...</td>\n",
       "      <td>I3</td>\n",
       "      <td>Electro AT (126 кВт)</td>\n",
       "      <td>5</td>\n",
       "      <td>1603109407</td>\n",
       "      <td>RUB</td>\n",
       "      <td>2018</td>\n",
       "      <td>1101043134</td>\n",
       "      <td>{\"id\":\"21624534\",\"displacement\":0,\"engine_type...</td>\n",
       "      <td>HATCHBACK_5_DOORS AUTOMATIC</td>\n",
       "      <td>автоматическая</td>\n",
       "      <td>EUROPEAN</td>\n",
       "      <td>1 владелец</td>\n",
       "      <td>NaN</td>\n",
       "      <td>Оригинал</td>\n",
       "      <td>задний</td>\n",
       "      <td>Левый</td>\n",
       "      <td>Не требует ремонта</td>\n",
       "      <td>Растаможен</td>\n",
       "    </tr>\n",
       "    <tr>\n",
       "      <th>8252</th>\n",
       "      <td>HATCHBACK_5_DOORS</td>\n",
       "      <td>BMW</td>\n",
       "      <td>GRAY</td>\n",
       "      <td>LTR</td>\n",
       "      <td>170 N12</td>\n",
       "      <td>{\"park-assist-f\":true,\"park-assist-r\":true}</td>\n",
       "      <td>электро</td>\n",
       "      <td>https://autoru.naydex.net/lICN99c69/9bc7d3Rr7k...</td>\n",
       "      <td>51000</td>\n",
       "      <td>2013</td>\n",
       "      <td>{\"code\":\"I3\",\"name\":\"i3\",\"ru_name\":\"и3\",\"morph...</td>\n",
       "      <td>I3</td>\n",
       "      <td>Electro AT (126 кВт)</td>\n",
       "      <td>5</td>\n",
       "      <td>1603110423</td>\n",
       "      <td>RUB</td>\n",
       "      <td>2014</td>\n",
       "      <td>1101278018</td>\n",
       "      <td>{\"id\":\"20465813\",\"displacement\":0,\"engine_type...</td>\n",
       "      <td>HATCHBACK_5_DOORS AUTOMATIC</td>\n",
       "      <td>автоматическая</td>\n",
       "      <td>EUROPEAN</td>\n",
       "      <td>1 владелец</td>\n",
       "      <td>1 месяц</td>\n",
       "      <td>Оригинал</td>\n",
       "      <td>задний</td>\n",
       "      <td>Левый</td>\n",
       "      <td>Не требует ремонта</td>\n",
       "      <td>Растаможен</td>\n",
       "    </tr>\n",
       "    <tr>\n",
       "      <th>8350</th>\n",
       "      <td>HATCHBACK_5_DOORS</td>\n",
       "      <td>BMW</td>\n",
       "      <td>WHITE</td>\n",
       "      <td>LTR</td>\n",
       "      <td>170 N12</td>\n",
       "      <td>{\"cruise-control\":true,\"asr\":true,\"esp\":true,\"...</td>\n",
       "      <td>электро</td>\n",
       "      <td>https://avatars.mds.yandex.net/get-autoru-vos/...</td>\n",
       "      <td>25000</td>\n",
       "      <td>2017</td>\n",
       "      <td>{\"code\":\"I3\",\"name\":\"i3\",\"ru_name\":\"и3\",\"morph...</td>\n",
       "      <td>I3</td>\n",
       "      <td>Electro AT (126 кВт)</td>\n",
       "      <td>5</td>\n",
       "      <td>1603110814</td>\n",
       "      <td>RUB</td>\n",
       "      <td>2018</td>\n",
       "      <td>1100271628</td>\n",
       "      <td>{\"id\":\"21624534\",\"displacement\":0,\"engine_type...</td>\n",
       "      <td>HATCHBACK_5_DOORS AUTOMATIC</td>\n",
       "      <td>автоматическая</td>\n",
       "      <td>EUROPEAN</td>\n",
       "      <td>1 владелец</td>\n",
       "      <td>NaN</td>\n",
       "      <td>Оригинал</td>\n",
       "      <td>задний</td>\n",
       "      <td>Левый</td>\n",
       "      <td>Не требует ремонта</td>\n",
       "      <td>Растаможен</td>\n",
       "    </tr>\n",
       "    <tr>\n",
       "      <th>8684</th>\n",
       "      <td>HATCHBACK_5_DOORS</td>\n",
       "      <td>BMW</td>\n",
       "      <td>BLACK</td>\n",
       "      <td>LTR</td>\n",
       "      <td>170 N12</td>\n",
       "      <td>{\"cruise-control\":true,\"glonass\":true,\"navigat...</td>\n",
       "      <td>электро</td>\n",
       "      <td>https://avatars.mds.yandex.net/get-autoru-vos/...</td>\n",
       "      <td>58500</td>\n",
       "      <td>2013</td>\n",
       "      <td>{\"code\":\"I3\",\"name\":\"i3\",\"ru_name\":\"и3\",\"morph...</td>\n",
       "      <td>I3</td>\n",
       "      <td>94Ah Electro AT (126 кВт)</td>\n",
       "      <td>5</td>\n",
       "      <td>1603112107</td>\n",
       "      <td>RUB</td>\n",
       "      <td>2017</td>\n",
       "      <td>1101174554</td>\n",
       "      <td>{\"id\":\"20789143\",\"nameplate\":\"94Ah\",\"displacem...</td>\n",
       "      <td>HATCHBACK_5_DOORS AUTOMATIC</td>\n",
       "      <td>автоматическая</td>\n",
       "      <td>EUROPEAN</td>\n",
       "      <td>1 владелец</td>\n",
       "      <td>NaN</td>\n",
       "      <td>Оригинал</td>\n",
       "      <td>задний</td>\n",
       "      <td>Левый</td>\n",
       "      <td>Не требует ремонта</td>\n",
       "      <td>Растаможен</td>\n",
       "    </tr>\n",
       "    <tr>\n",
       "      <th>8722</th>\n",
       "      <td>HATCHBACK_5_DOORS</td>\n",
       "      <td>BMW</td>\n",
       "      <td>LIGHT_BLUE</td>\n",
       "      <td>LTR</td>\n",
       "      <td>170 N12</td>\n",
       "      <td>NaN</td>\n",
       "      <td>электро</td>\n",
       "      <td>https://autoru.naydex.net/lICN99c69/9bc7d3Rr7k...</td>\n",
       "      <td>28800</td>\n",
       "      <td>2013</td>\n",
       "      <td>{\"code\":\"I3\",\"name\":\"i3\",\"ru_name\":\"и3\",\"morph...</td>\n",
       "      <td>I3</td>\n",
       "      <td>Electro AT (126 кВт)</td>\n",
       "      <td>5</td>\n",
       "      <td>1603112248</td>\n",
       "      <td>RUB</td>\n",
       "      <td>2017</td>\n",
       "      <td>1100097316</td>\n",
       "      <td>{\"id\":\"20465813\",\"displacement\":0,\"engine_type...</td>\n",
       "      <td>HATCHBACK_5_DOORS AUTOMATIC</td>\n",
       "      <td>автоматическая</td>\n",
       "      <td>EUROPEAN</td>\n",
       "      <td>1 владелец</td>\n",
       "      <td>NaN</td>\n",
       "      <td>Оригинал</td>\n",
       "      <td>задний</td>\n",
       "      <td>Левый</td>\n",
       "      <td>Не требует ремонта</td>\n",
       "      <td>Растаможен</td>\n",
       "    </tr>\n",
       "    <tr>\n",
       "      <th>8917</th>\n",
       "      <td>HATCHBACK_5_DOORS</td>\n",
       "      <td>BMW</td>\n",
       "      <td>BEIGE</td>\n",
       "      <td>LTR</td>\n",
       "      <td>170 N12</td>\n",
       "      <td>{\"glonass\":true,\"roof-rails\":true}</td>\n",
       "      <td>электро</td>\n",
       "      <td>https://avatars.mds.yandex.net/get-autoru-vos/...</td>\n",
       "      <td>39000</td>\n",
       "      <td>2013</td>\n",
       "      <td>{\"code\":\"I3\",\"name\":\"i3\",\"ru_name\":\"и3\",\"morph...</td>\n",
       "      <td>I3</td>\n",
       "      <td>94Ah Electro AT (126 кВт)</td>\n",
       "      <td>5</td>\n",
       "      <td>1603113092</td>\n",
       "      <td>RUB</td>\n",
       "      <td>2017</td>\n",
       "      <td>1100871574</td>\n",
       "      <td>{\"id\":\"20789143\",\"nameplate\":\"94Ah\",\"displacem...</td>\n",
       "      <td>HATCHBACK_5_DOORS AUTOMATIC</td>\n",
       "      <td>автоматическая</td>\n",
       "      <td>EUROPEAN</td>\n",
       "      <td>1 владелец</td>\n",
       "      <td>NaN</td>\n",
       "      <td>Оригинал</td>\n",
       "      <td>задний</td>\n",
       "      <td>Левый</td>\n",
       "      <td>Не требует ремонта</td>\n",
       "      <td>Растаможен</td>\n",
       "    </tr>\n",
       "    <tr>\n",
       "      <th>10817</th>\n",
       "      <td>HATCHBACK_5_DOORS</td>\n",
       "      <td>BMW</td>\n",
       "      <td>GRAY</td>\n",
       "      <td>LTR</td>\n",
       "      <td>170 N12</td>\n",
       "      <td>NaN</td>\n",
       "      <td>электро</td>\n",
       "      <td>https://avatars.mds.yandex.net/get-autoru-vos/...</td>\n",
       "      <td>50359</td>\n",
       "      <td>2013</td>\n",
       "      <td>{\"code\":\"I3\",\"name\":\"i3\",\"ru_name\":\"и3\",\"morph...</td>\n",
       "      <td>I3</td>\n",
       "      <td>Electro AT (126 кВт)</td>\n",
       "      <td>5</td>\n",
       "      <td>1603120595</td>\n",
       "      <td>RUB</td>\n",
       "      <td>2016</td>\n",
       "      <td>1101266443</td>\n",
       "      <td>{\"id\":\"20465813\",\"displacement\":0,\"engine_type...</td>\n",
       "      <td>HATCHBACK_5_DOORS AUTOMATIC</td>\n",
       "      <td>автоматическая</td>\n",
       "      <td>EUROPEAN</td>\n",
       "      <td>1 владелец</td>\n",
       "      <td>NaN</td>\n",
       "      <td>Оригинал</td>\n",
       "      <td>задний</td>\n",
       "      <td>Левый</td>\n",
       "      <td>Не требует ремонта</td>\n",
       "      <td>Растаможен</td>\n",
       "    </tr>\n",
       "    <tr>\n",
       "      <th>10936</th>\n",
       "      <td>HATCHBACK_5_DOORS</td>\n",
       "      <td>BMW</td>\n",
       "      <td>BLACK</td>\n",
       "      <td>LTR</td>\n",
       "      <td>170 N12</td>\n",
       "      <td>{\"cruise-control\":true,\"asr\":true,\"tinted-glas...</td>\n",
       "      <td>электро</td>\n",
       "      <td>https://avatars.mds.yandex.net/get-autoru-vos/...</td>\n",
       "      <td>78000</td>\n",
       "      <td>2013</td>\n",
       "      <td>{\"code\":\"I3\",\"name\":\"i3\",\"ru_name\":\"и3\",\"morph...</td>\n",
       "      <td>I3</td>\n",
       "      <td>Electro AT (126 кВт)</td>\n",
       "      <td>5</td>\n",
       "      <td>1603121049</td>\n",
       "      <td>RUB</td>\n",
       "      <td>2016</td>\n",
       "      <td>1099673346</td>\n",
       "      <td>{\"id\":\"20465813\",\"displacement\":0,\"engine_type...</td>\n",
       "      <td>HATCHBACK_5_DOORS AUTOMATIC</td>\n",
       "      <td>автоматическая</td>\n",
       "      <td>EUROPEAN</td>\n",
       "      <td>1 владелец</td>\n",
       "      <td>NaN</td>\n",
       "      <td>Оригинал</td>\n",
       "      <td>задний</td>\n",
       "      <td>Левый</td>\n",
       "      <td>Не требует ремонта</td>\n",
       "      <td>Растаможен</td>\n",
       "    </tr>\n",
       "    <tr>\n",
       "      <th>11043</th>\n",
       "      <td>HATCHBACK_5_DOORS</td>\n",
       "      <td>BMW</td>\n",
       "      <td>GRAY</td>\n",
       "      <td>LTR</td>\n",
       "      <td>170 N12</td>\n",
       "      <td>{\"glonass\":true,\"airbag-driver\":true,\"aux\":tru...</td>\n",
       "      <td>электро</td>\n",
       "      <td>https://autoru.naydex.net/ys1kR7800/fbd964zfcB...</td>\n",
       "      <td>20000</td>\n",
       "      <td>2013</td>\n",
       "      <td>{\"code\":\"I3\",\"name\":\"i3\",\"ru_name\":\"и3\",\"morph...</td>\n",
       "      <td>I3</td>\n",
       "      <td>94Ah Electro AT (126 кВт)</td>\n",
       "      <td>5</td>\n",
       "      <td>1603121457</td>\n",
       "      <td>RUB</td>\n",
       "      <td>2017</td>\n",
       "      <td>1099376120</td>\n",
       "      <td>{\"id\":\"20789143\",\"nameplate\":\"94Ah\",\"displacem...</td>\n",
       "      <td>HATCHBACK_5_DOORS AUTOMATIC</td>\n",
       "      <td>автоматическая</td>\n",
       "      <td>EUROPEAN</td>\n",
       "      <td>1 владелец</td>\n",
       "      <td>8 месяцев</td>\n",
       "      <td>Оригинал</td>\n",
       "      <td>задний</td>\n",
       "      <td>Левый</td>\n",
       "      <td>Не требует ремонта</td>\n",
       "      <td>Растаможен</td>\n",
       "    </tr>\n",
       "    <tr>\n",
       "      <th>11302</th>\n",
       "      <td>HATCHBACK_5_DOORS</td>\n",
       "      <td>NISSAN</td>\n",
       "      <td>LIGHT_BLUE</td>\n",
       "      <td>LTR</td>\n",
       "      <td>109 N12</td>\n",
       "      <td>{\"asr\":true,\"tinted-glass\":true,\"start-stop-fu...</td>\n",
       "      <td>электро</td>\n",
       "      <td>https://avatars.mds.yandex.net/get-autoru-vos/...</td>\n",
       "      <td>91357</td>\n",
       "      <td>2010</td>\n",
       "      <td>{\"code\":\"LEAF\",\"name\":\"Leaf\",\"ru_name\":\"лиф\",\"...</td>\n",
       "      <td>LEAF</td>\n",
       "      <td>Electro AT (81 кВт)</td>\n",
       "      <td>5</td>\n",
       "      <td>1603270279</td>\n",
       "      <td>RUB</td>\n",
       "      <td>2011</td>\n",
       "      <td>1101276307</td>\n",
       "      <td>{\"id\":\"20471790\",\"displacement\":0,\"engine_type...</td>\n",
       "      <td>HATCHBACK_5_DOORS AUTOMATIC</td>\n",
       "      <td>автоматическая</td>\n",
       "      <td>JAPANESE</td>\n",
       "      <td>3 или более</td>\n",
       "      <td>NaN</td>\n",
       "      <td>Оригинал</td>\n",
       "      <td>передний</td>\n",
       "      <td>Левый</td>\n",
       "      <td>Не требует ремонта</td>\n",
       "      <td>Растаможен</td>\n",
       "    </tr>\n",
       "    <tr>\n",
       "      <th>11682</th>\n",
       "      <td>HATCHBACK_5_DOORS</td>\n",
       "      <td>NISSAN</td>\n",
       "      <td>WHITE</td>\n",
       "      <td>LTR</td>\n",
       "      <td>150 N12</td>\n",
       "      <td>{\"tinted-glass\":true,\"esp\":true,\"adaptive-ligh...</td>\n",
       "      <td>электро</td>\n",
       "      <td>https://autoru.naydex.net/G87gDZg56/28c7a8vqVE...</td>\n",
       "      <td>9000</td>\n",
       "      <td>2017</td>\n",
       "      <td>{\"code\":\"LEAF\",\"name\":\"Leaf\",\"ru_name\":\"лиф\",\"...</td>\n",
       "      <td>LEAF</td>\n",
       "      <td>Electro AT (111 кВт)</td>\n",
       "      <td>5</td>\n",
       "      <td>1603271771</td>\n",
       "      <td>RUB</td>\n",
       "      <td>2018</td>\n",
       "      <td>1101016469</td>\n",
       "      <td>{\"id\":\"21110150\",\"displacement\":0,\"engine_type...</td>\n",
       "      <td>HATCHBACK_5_DOORS AUTOMATIC</td>\n",
       "      <td>автоматическая</td>\n",
       "      <td>JAPANESE</td>\n",
       "      <td>1 владелец</td>\n",
       "      <td>2 месяца</td>\n",
       "      <td>Оригинал</td>\n",
       "      <td>передний</td>\n",
       "      <td>Левый</td>\n",
       "      <td>Не требует ремонта</td>\n",
       "      <td>Растаможен</td>\n",
       "    </tr>\n",
       "    <tr>\n",
       "      <th>11714</th>\n",
       "      <td>HATCHBACK_5_DOORS</td>\n",
       "      <td>NISSAN</td>\n",
       "      <td>WHITE</td>\n",
       "      <td>LTR</td>\n",
       "      <td>150 N12</td>\n",
       "      <td>{\"collision-prevention-assist\":true,\"led-light...</td>\n",
       "      <td>электро</td>\n",
       "      <td>https://avatars.mds.yandex.net/get-autoru-vos/...</td>\n",
       "      <td>14800</td>\n",
       "      <td>2017</td>\n",
       "      <td>{\"code\":\"LEAF\",\"name\":\"Leaf\",\"ru_name\":\"лиф\",\"...</td>\n",
       "      <td>LEAF</td>\n",
       "      <td>Electro AT (111 кВт)</td>\n",
       "      <td>5</td>\n",
       "      <td>1603271891</td>\n",
       "      <td>RUB</td>\n",
       "      <td>2017</td>\n",
       "      <td>1096304590</td>\n",
       "      <td>{\"id\":\"21110150\",\"displacement\":0,\"engine_type...</td>\n",
       "      <td>HATCHBACK_5_DOORS AUTOMATIC</td>\n",
       "      <td>автоматическая</td>\n",
       "      <td>JAPANESE</td>\n",
       "      <td>1 владелец</td>\n",
       "      <td>NaN</td>\n",
       "      <td>Оригинал</td>\n",
       "      <td>передний</td>\n",
       "      <td>Правый</td>\n",
       "      <td>Не требует ремонта</td>\n",
       "      <td>Растаможен</td>\n",
       "    </tr>\n",
       "    <tr>\n",
       "      <th>11719</th>\n",
       "      <td>HATCHBACK_5_DOORS</td>\n",
       "      <td>NISSAN</td>\n",
       "      <td>WHITE</td>\n",
       "      <td>LTR</td>\n",
       "      <td>109 N12</td>\n",
       "      <td>NaN</td>\n",
       "      <td>электро</td>\n",
       "      <td>https://avatars.mds.yandex.net/get-autoru-vos/...</td>\n",
       "      <td>102000</td>\n",
       "      <td>2010</td>\n",
       "      <td>{\"code\":\"LEAF\",\"name\":\"Leaf\",\"ru_name\":\"лиф\",\"...</td>\n",
       "      <td>LEAF</td>\n",
       "      <td>Electro AT (81 кВт)</td>\n",
       "      <td>5</td>\n",
       "      <td>1603271909</td>\n",
       "      <td>RUB</td>\n",
       "      <td>2011</td>\n",
       "      <td>1098005210</td>\n",
       "      <td>{\"id\":\"20471790\",\"displacement\":0,\"engine_type...</td>\n",
       "      <td>HATCHBACK_5_DOORS AUTOMATIC</td>\n",
       "      <td>автоматическая</td>\n",
       "      <td>JAPANESE</td>\n",
       "      <td>1 владелец</td>\n",
       "      <td>5 месяцев</td>\n",
       "      <td>Оригинал</td>\n",
       "      <td>передний</td>\n",
       "      <td>Правый</td>\n",
       "      <td>Не требует ремонта</td>\n",
       "      <td>Растаможен</td>\n",
       "    </tr>\n",
       "    <tr>\n",
       "      <th>11754</th>\n",
       "      <td>HATCHBACK_5_DOORS</td>\n",
       "      <td>NISSAN</td>\n",
       "      <td>WHITE</td>\n",
       "      <td>LTR</td>\n",
       "      <td>109 N12</td>\n",
       "      <td>{\"cruise-control\":true,\"start-button\":true,\"ra...</td>\n",
       "      <td>электро</td>\n",
       "      <td>https://autoru.naydex.net/G87gDZg56/28c7a8vqVE...</td>\n",
       "      <td>34500</td>\n",
       "      <td>2010</td>\n",
       "      <td>{\"code\":\"LEAF\",\"name\":\"Leaf\",\"ru_name\":\"лиф\",\"...</td>\n",
       "      <td>LEAF</td>\n",
       "      <td>Electro AT (81 кВт)</td>\n",
       "      <td>5</td>\n",
       "      <td>1603272047</td>\n",
       "      <td>RUB</td>\n",
       "      <td>2011</td>\n",
       "      <td>1100716452</td>\n",
       "      <td>{\"id\":\"20471790\",\"displacement\":0,\"engine_type...</td>\n",
       "      <td>HATCHBACK_5_DOORS AUTOMATIC</td>\n",
       "      <td>автоматическая</td>\n",
       "      <td>JAPANESE</td>\n",
       "      <td>2 владельца</td>\n",
       "      <td>NaN</td>\n",
       "      <td>Оригинал</td>\n",
       "      <td>передний</td>\n",
       "      <td>Правый</td>\n",
       "      <td>Не требует ремонта</td>\n",
       "      <td>Растаможен</td>\n",
       "    </tr>\n",
       "    <tr>\n",
       "      <th>11878</th>\n",
       "      <td>HATCHBACK_5_DOORS</td>\n",
       "      <td>NISSAN</td>\n",
       "      <td>SILVER</td>\n",
       "      <td>LTR</td>\n",
       "      <td>109 N12</td>\n",
       "      <td>{\"asr\":true,\"glonass\":true,\"tinted-glass\":true...</td>\n",
       "      <td>электро</td>\n",
       "      <td>https://autoru.naydex.net/G87gDZg56/28c7a8vqVE...</td>\n",
       "      <td>66000</td>\n",
       "      <td>2010</td>\n",
       "      <td>{\"code\":\"LEAF\",\"name\":\"Leaf\",\"ru_name\":\"лиф\",\"...</td>\n",
       "      <td>LEAF</td>\n",
       "      <td>Electro AT (81 кВт)</td>\n",
       "      <td>5</td>\n",
       "      <td>1603272515</td>\n",
       "      <td>RUB</td>\n",
       "      <td>2013</td>\n",
       "      <td>1100545586</td>\n",
       "      <td>{\"id\":\"21216745\",\"displacement\":0,\"engine_type...</td>\n",
       "      <td>HATCHBACK_5_DOORS AUTOMATIC</td>\n",
       "      <td>автоматическая</td>\n",
       "      <td>JAPANESE</td>\n",
       "      <td>1 владелец</td>\n",
       "      <td>NaN</td>\n",
       "      <td>Оригинал</td>\n",
       "      <td>передний</td>\n",
       "      <td>Левый</td>\n",
       "      <td>Не требует ремонта</td>\n",
       "      <td>Растаможен</td>\n",
       "    </tr>\n",
       "    <tr>\n",
       "      <th>11974</th>\n",
       "      <td>HATCHBACK_5_DOORS</td>\n",
       "      <td>NISSAN</td>\n",
       "      <td>BLACK</td>\n",
       "      <td>LTR</td>\n",
       "      <td>109 N12</td>\n",
       "      <td>{\"asr\":true,\"tinted-glass\":true,\"esp\":true,\"ai...</td>\n",
       "      <td>электро</td>\n",
       "      <td>https://autoru.naydex.net/G87gDZg56/28c7a8vqVE...</td>\n",
       "      <td>40000</td>\n",
       "      <td>2010</td>\n",
       "      <td>{\"code\":\"LEAF\",\"name\":\"Leaf\",\"ru_name\":\"лиф\",\"...</td>\n",
       "      <td>LEAF</td>\n",
       "      <td>Electro AT (81 кВт)</td>\n",
       "      <td>5</td>\n",
       "      <td>1603272879</td>\n",
       "      <td>RUB</td>\n",
       "      <td>2011</td>\n",
       "      <td>1080755058</td>\n",
       "      <td>{\"id\":\"20471790\",\"displacement\":0,\"engine_type...</td>\n",
       "      <td>HATCHBACK_5_DOORS AUTOMATIC</td>\n",
       "      <td>автоматическая</td>\n",
       "      <td>JAPANESE</td>\n",
       "      <td>1 владелец</td>\n",
       "      <td>3 года и 8 месяцев</td>\n",
       "      <td>Оригинал</td>\n",
       "      <td>передний</td>\n",
       "      <td>Правый</td>\n",
       "      <td>Не требует ремонта</td>\n",
       "      <td>Растаможен</td>\n",
       "    </tr>\n",
       "    <tr>\n",
       "      <th>12072</th>\n",
       "      <td>HATCHBACK_5_DOORS</td>\n",
       "      <td>NISSAN</td>\n",
       "      <td>BLACK</td>\n",
       "      <td>LTR</td>\n",
       "      <td>109 N12</td>\n",
       "      <td>NaN</td>\n",
       "      <td>электро</td>\n",
       "      <td>https://avatars.mds.yandex.net/get-autoru-vos/...</td>\n",
       "      <td>52755</td>\n",
       "      <td>2010</td>\n",
       "      <td>{\"code\":\"LEAF\",\"name\":\"Leaf\",\"ru_name\":\"лиф\",\"...</td>\n",
       "      <td>LEAF</td>\n",
       "      <td>Electro AT (81 кВт)</td>\n",
       "      <td>5</td>\n",
       "      <td>1603273264</td>\n",
       "      <td>RUB</td>\n",
       "      <td>2012</td>\n",
       "      <td>1101286188</td>\n",
       "      <td>{\"id\":\"21216745\",\"displacement\":0,\"engine_type...</td>\n",
       "      <td>HATCHBACK_5_DOORS AUTOMATIC</td>\n",
       "      <td>автоматическая</td>\n",
       "      <td>JAPANESE</td>\n",
       "      <td>3 или более</td>\n",
       "      <td>9 месяцев</td>\n",
       "      <td>Оригинал</td>\n",
       "      <td>передний</td>\n",
       "      <td>Правый</td>\n",
       "      <td>Не требует ремонта</td>\n",
       "      <td>Растаможен</td>\n",
       "    </tr>\n",
       "    <tr>\n",
       "      <th>12085</th>\n",
       "      <td>HATCHBACK_5_DOORS</td>\n",
       "      <td>NISSAN</td>\n",
       "      <td>LIGHT_BLUE</td>\n",
       "      <td>LTR</td>\n",
       "      <td>109 N12</td>\n",
       "      <td>{\"cruise-control\":true,\"esp\":true,\"start-stop-...</td>\n",
       "      <td>электро</td>\n",
       "      <td>https://autoru.naydex.net/G87gDZg56/28c7a8vqVE...</td>\n",
       "      <td>26100</td>\n",
       "      <td>2010</td>\n",
       "      <td>{\"code\":\"LEAF\",\"name\":\"Leaf\",\"ru_name\":\"лиф\",\"...</td>\n",
       "      <td>LEAF</td>\n",
       "      <td>Electro AT (81 кВт)</td>\n",
       "      <td>5</td>\n",
       "      <td>1603273313</td>\n",
       "      <td>RUB</td>\n",
       "      <td>2015</td>\n",
       "      <td>1094070448</td>\n",
       "      <td>{\"id\":\"21216745\",\"displacement\":0,\"engine_type...</td>\n",
       "      <td>HATCHBACK_5_DOORS AUTOMATIC</td>\n",
       "      <td>автоматическая</td>\n",
       "      <td>JAPANESE</td>\n",
       "      <td>1 владелец</td>\n",
       "      <td>1 год и 6 месяцев</td>\n",
       "      <td>Оригинал</td>\n",
       "      <td>передний</td>\n",
       "      <td>Левый</td>\n",
       "      <td>Не требует ремонта</td>\n",
       "      <td>Растаможен</td>\n",
       "    </tr>\n",
       "    <tr>\n",
       "      <th>12100</th>\n",
       "      <td>HATCHBACK_5_DOORS</td>\n",
       "      <td>NISSAN</td>\n",
       "      <td>GRAY</td>\n",
       "      <td>LTR</td>\n",
       "      <td>109 N12</td>\n",
       "      <td>{\"tinted-glass\":true,\"esp\":true,\"aux\":true,\"us...</td>\n",
       "      <td>электро</td>\n",
       "      <td>https://avatars.mds.yandex.net/get-autoru-vos/...</td>\n",
       "      <td>26000</td>\n",
       "      <td>2010</td>\n",
       "      <td>{\"code\":\"LEAF\",\"name\":\"Leaf\",\"ru_name\":\"лиф\",\"...</td>\n",
       "      <td>LEAF</td>\n",
       "      <td>30kWh Electro AT (81 кВт)</td>\n",
       "      <td>5</td>\n",
       "      <td>1603273367</td>\n",
       "      <td>RUB</td>\n",
       "      <td>2016</td>\n",
       "      <td>1096063842</td>\n",
       "      <td>{\"id\":\"21216761\",\"nameplate\":\"30kWh\",\"displace...</td>\n",
       "      <td>HATCHBACK_5_DOORS AUTOMATIC</td>\n",
       "      <td>автоматическая</td>\n",
       "      <td>JAPANESE</td>\n",
       "      <td>1 владелец</td>\n",
       "      <td>1 год и 3 месяца</td>\n",
       "      <td>Оригинал</td>\n",
       "      <td>передний</td>\n",
       "      <td>Правый</td>\n",
       "      <td>Не требует ремонта</td>\n",
       "      <td>Растаможен</td>\n",
       "    </tr>\n",
       "    <tr>\n",
       "      <th>12250</th>\n",
       "      <td>HATCHBACK_5_DOORS</td>\n",
       "      <td>NISSAN</td>\n",
       "      <td>GRAY</td>\n",
       "      <td>LTR</td>\n",
       "      <td>109 N12</td>\n",
       "      <td>{\"engine-proof\":true,\"glonass\":true,\"tinted-gl...</td>\n",
       "      <td>электро</td>\n",
       "      <td>https://autoru.naydex.net/G87gDZg56/28c7a8vqVE...</td>\n",
       "      <td>63000</td>\n",
       "      <td>2010</td>\n",
       "      <td>{\"code\":\"LEAF\",\"name\":\"Leaf\",\"ru_name\":\"лиф\",\"...</td>\n",
       "      <td>LEAF</td>\n",
       "      <td>Electro AT (81 кВт)</td>\n",
       "      <td>5</td>\n",
       "      <td>1603273950</td>\n",
       "      <td>RUB</td>\n",
       "      <td>2013</td>\n",
       "      <td>1099128560</td>\n",
       "      <td>{\"id\":\"21216745\",\"displacement\":0,\"engine_type...</td>\n",
       "      <td>HATCHBACK_5_DOORS AUTOMATIC</td>\n",
       "      <td>автоматическая</td>\n",
       "      <td>JAPANESE</td>\n",
       "      <td>1 владелец</td>\n",
       "      <td>9 месяцев</td>\n",
       "      <td>Оригинал</td>\n",
       "      <td>передний</td>\n",
       "      <td>Правый</td>\n",
       "      <td>Не требует ремонта</td>\n",
       "      <td>Растаможен</td>\n",
       "    </tr>\n",
       "    <tr>\n",
       "      <th>12287</th>\n",
       "      <td>HATCHBACK_5_DOORS</td>\n",
       "      <td>NISSAN</td>\n",
       "      <td>LIGHT_BLUE</td>\n",
       "      <td>LTR</td>\n",
       "      <td>109 N12</td>\n",
       "      <td>{\"glonass\":true,\"esp\":true,\"aux\":true,\"usb\":tr...</td>\n",
       "      <td>электро</td>\n",
       "      <td>https://avatars.mds.yandex.net/get-autoru-vos/...</td>\n",
       "      <td>45000</td>\n",
       "      <td>2010</td>\n",
       "      <td>{\"code\":\"LEAF\",\"name\":\"Leaf\",\"ru_name\":\"лиф\",\"...</td>\n",
       "      <td>LEAF</td>\n",
       "      <td>Electro AT (81 кВт)</td>\n",
       "      <td>5</td>\n",
       "      <td>1603274088</td>\n",
       "      <td>RUB</td>\n",
       "      <td>2013</td>\n",
       "      <td>1099444936</td>\n",
       "      <td>{\"id\":\"21216745\",\"displacement\":0,\"engine_type...</td>\n",
       "      <td>HATCHBACK_5_DOORS AUTOMATIC</td>\n",
       "      <td>автоматическая</td>\n",
       "      <td>JAPANESE</td>\n",
       "      <td>1 владелец</td>\n",
       "      <td>NaN</td>\n",
       "      <td>Оригинал</td>\n",
       "      <td>передний</td>\n",
       "      <td>Левый</td>\n",
       "      <td>Не требует ремонта</td>\n",
       "      <td>Растаможен</td>\n",
       "    </tr>\n",
       "    <tr>\n",
       "      <th>12334</th>\n",
       "      <td>HATCHBACK_5_DOORS</td>\n",
       "      <td>NISSAN</td>\n",
       "      <td>BLACK</td>\n",
       "      <td>LTR</td>\n",
       "      <td>109 N12</td>\n",
       "      <td>{\"engine-proof\":true,\"cruise-control\":true,\"ti...</td>\n",
       "      <td>электро</td>\n",
       "      <td>https://autoru.naydex.net/G87gDZg56/28c7a8vqVE...</td>\n",
       "      <td>48320</td>\n",
       "      <td>2010</td>\n",
       "      <td>{\"code\":\"LEAF\",\"name\":\"Leaf\",\"ru_name\":\"лиф\",\"...</td>\n",
       "      <td>LEAF</td>\n",
       "      <td>Electro AT (81 кВт)</td>\n",
       "      <td>5</td>\n",
       "      <td>1603274263</td>\n",
       "      <td>RUB</td>\n",
       "      <td>2013</td>\n",
       "      <td>1101141342</td>\n",
       "      <td>{\"id\":\"21216745\",\"displacement\":0,\"engine_type...</td>\n",
       "      <td>HATCHBACK_5_DOORS AUTOMATIC</td>\n",
       "      <td>автоматическая</td>\n",
       "      <td>JAPANESE</td>\n",
       "      <td>1 владелец</td>\n",
       "      <td>5 месяцев</td>\n",
       "      <td>Оригинал</td>\n",
       "      <td>передний</td>\n",
       "      <td>Правый</td>\n",
       "      <td>Не требует ремонта</td>\n",
       "      <td>Растаможен</td>\n",
       "    </tr>\n",
       "    <tr>\n",
       "      <th>12466</th>\n",
       "      <td>HATCHBACK_5_DOORS</td>\n",
       "      <td>NISSAN</td>\n",
       "      <td>BLACK</td>\n",
       "      <td>LTR</td>\n",
       "      <td>109 N12</td>\n",
       "      <td>{\"cruise-control\":true,\"asr\":true,\"tinted-glas...</td>\n",
       "      <td>электро</td>\n",
       "      <td>https://autoru.naydex.net/G87gDZg56/28c7a8vqVE...</td>\n",
       "      <td>52000</td>\n",
       "      <td>2010</td>\n",
       "      <td>{\"code\":\"LEAF\",\"name\":\"Leaf\",\"ru_name\":\"лиф\",\"...</td>\n",
       "      <td>LEAF</td>\n",
       "      <td>30kWh Electro AT (81 кВт)</td>\n",
       "      <td>5</td>\n",
       "      <td>1603274762</td>\n",
       "      <td>RUB</td>\n",
       "      <td>2016</td>\n",
       "      <td>1101125324</td>\n",
       "      <td>{\"id\":\"21216761\",\"nameplate\":\"30kWh\",\"displace...</td>\n",
       "      <td>HATCHBACK_5_DOORS AUTOMATIC</td>\n",
       "      <td>автоматическая</td>\n",
       "      <td>JAPANESE</td>\n",
       "      <td>1 владелец</td>\n",
       "      <td>2 года и 2 месяца</td>\n",
       "      <td>Оригинал</td>\n",
       "      <td>передний</td>\n",
       "      <td>Правый</td>\n",
       "      <td>Не требует ремонта</td>\n",
       "      <td>Растаможен</td>\n",
       "    </tr>\n",
       "    <tr>\n",
       "      <th>12481</th>\n",
       "      <td>HATCHBACK_5_DOORS</td>\n",
       "      <td>NISSAN</td>\n",
       "      <td>WHITE</td>\n",
       "      <td>LTR</td>\n",
       "      <td>109 N12</td>\n",
       "      <td>{\"cruise-control\":true,\"tinted-glass\":true,\"es...</td>\n",
       "      <td>электро</td>\n",
       "      <td>https://avatars.mds.yandex.net/get-autoru-vos/...</td>\n",
       "      <td>145000</td>\n",
       "      <td>2010</td>\n",
       "      <td>{\"code\":\"LEAF\",\"name\":\"Leaf\",\"ru_name\":\"лиф\",\"...</td>\n",
       "      <td>LEAF</td>\n",
       "      <td>Electro AT (81 кВт)</td>\n",
       "      <td>5</td>\n",
       "      <td>1603274830</td>\n",
       "      <td>RUB</td>\n",
       "      <td>2013</td>\n",
       "      <td>1101192217</td>\n",
       "      <td>{\"id\":\"21216745\",\"displacement\":0,\"engine_type...</td>\n",
       "      <td>HATCHBACK_5_DOORS AUTOMATIC</td>\n",
       "      <td>автоматическая</td>\n",
       "      <td>JAPANESE</td>\n",
       "      <td>1 владелец</td>\n",
       "      <td>5 месяцев</td>\n",
       "      <td>Оригинал</td>\n",
       "      <td>передний</td>\n",
       "      <td>Правый</td>\n",
       "      <td>Не требует ремонта</td>\n",
       "      <td>Растаможен</td>\n",
       "    </tr>\n",
       "    <tr>\n",
       "      <th>12558</th>\n",
       "      <td>HATCHBACK_5_DOORS</td>\n",
       "      <td>NISSAN</td>\n",
       "      <td>SILVER</td>\n",
       "      <td>LTR</td>\n",
       "      <td>109 N12</td>\n",
       "      <td>{\"cruise-control\":true,\"asr\":true,\"tinted-glas...</td>\n",
       "      <td>электро</td>\n",
       "      <td>https://autoru.naydex.net/G87gDZg56/28c7a8vqVE...</td>\n",
       "      <td>53000</td>\n",
       "      <td>2010</td>\n",
       "      <td>{\"code\":\"LEAF\",\"name\":\"Leaf\",\"ru_name\":\"лиф\",\"...</td>\n",
       "      <td>LEAF</td>\n",
       "      <td>Electro AT (81 кВт)</td>\n",
       "      <td>5</td>\n",
       "      <td>1603275171</td>\n",
       "      <td>RUB</td>\n",
       "      <td>2011</td>\n",
       "      <td>1090481640</td>\n",
       "      <td>{\"id\":\"20471790\",\"displacement\":0,\"engine_type...</td>\n",
       "      <td>HATCHBACK_5_DOORS AUTOMATIC</td>\n",
       "      <td>автоматическая</td>\n",
       "      <td>JAPANESE</td>\n",
       "      <td>1 владелец</td>\n",
       "      <td>1 год и 2 месяца</td>\n",
       "      <td>Оригинал</td>\n",
       "      <td>передний</td>\n",
       "      <td>Правый</td>\n",
       "      <td>Не требует ремонта</td>\n",
       "      <td>Растаможен</td>\n",
       "    </tr>\n",
       "    <tr>\n",
       "      <th>12582</th>\n",
       "      <td>HATCHBACK_5_DOORS</td>\n",
       "      <td>NISSAN</td>\n",
       "      <td>WHITE</td>\n",
       "      <td>LTR</td>\n",
       "      <td>109 N12</td>\n",
       "      <td>{\"cruise-control\":true,\"asr\":true,\"tinted-glas...</td>\n",
       "      <td>электро</td>\n",
       "      <td>https://avatars.mds.yandex.net/get-autoru-vos/...</td>\n",
       "      <td>42500</td>\n",
       "      <td>2010</td>\n",
       "      <td>{\"code\":\"LEAF\",\"name\":\"Leaf\",\"ru_name\":\"лиф\",\"...</td>\n",
       "      <td>LEAF</td>\n",
       "      <td>30kWh Electro AT (81 кВт)</td>\n",
       "      <td>5</td>\n",
       "      <td>1603275261</td>\n",
       "      <td>RUB</td>\n",
       "      <td>2015</td>\n",
       "      <td>1097520737</td>\n",
       "      <td>{\"id\":\"21216761\",\"nameplate\":\"30kWh\",\"displace...</td>\n",
       "      <td>HATCHBACK_5_DOORS AUTOMATIC</td>\n",
       "      <td>автоматическая</td>\n",
       "      <td>JAPANESE</td>\n",
       "      <td>1 владелец</td>\n",
       "      <td>2 года и 6 месяцев</td>\n",
       "      <td>Оригинал</td>\n",
       "      <td>передний</td>\n",
       "      <td>Правый</td>\n",
       "      <td>Не требует ремонта</td>\n",
       "      <td>Растаможен</td>\n",
       "    </tr>\n",
       "    <tr>\n",
       "      <th>12678</th>\n",
       "      <td>HATCHBACK_5_DOORS</td>\n",
       "      <td>NISSAN</td>\n",
       "      <td>BLACK</td>\n",
       "      <td>LTR</td>\n",
       "      <td>109 N12</td>\n",
       "      <td>{\"cruise-control\":true,\"esp\":true,\"airbag-driv...</td>\n",
       "      <td>электро</td>\n",
       "      <td>https://autoru.naydex.net/G87gDZg56/28c7a8vqVE...</td>\n",
       "      <td>34000</td>\n",
       "      <td>2010</td>\n",
       "      <td>{\"code\":\"LEAF\",\"name\":\"Leaf\",\"ru_name\":\"лиф\",\"...</td>\n",
       "      <td>LEAF</td>\n",
       "      <td>Electro AT (81 кВт)</td>\n",
       "      <td>5</td>\n",
       "      <td>1603275627</td>\n",
       "      <td>RUB</td>\n",
       "      <td>2014</td>\n",
       "      <td>1095157400</td>\n",
       "      <td>{\"id\":\"21216745\",\"displacement\":0,\"engine_type...</td>\n",
       "      <td>HATCHBACK_5_DOORS AUTOMATIC</td>\n",
       "      <td>автоматическая</td>\n",
       "      <td>JAPANESE</td>\n",
       "      <td>1 владелец</td>\n",
       "      <td>1 год и 3 месяца</td>\n",
       "      <td>Оригинал</td>\n",
       "      <td>передний</td>\n",
       "      <td>Правый</td>\n",
       "      <td>Не требует ремонта</td>\n",
       "      <td>Растаможен</td>\n",
       "    </tr>\n",
       "    <tr>\n",
       "      <th>12749</th>\n",
       "      <td>HATCHBACK_5_DOORS</td>\n",
       "      <td>NISSAN</td>\n",
       "      <td>BLACK</td>\n",
       "      <td>LTR</td>\n",
       "      <td>109 N12</td>\n",
       "      <td>{\"engine-proof\":true,\"cruise-control\":true,\"as...</td>\n",
       "      <td>электро</td>\n",
       "      <td>https://avatars.mds.yandex.net/get-autoru-vos/...</td>\n",
       "      <td>74000</td>\n",
       "      <td>2010</td>\n",
       "      <td>{\"code\":\"LEAF\",\"name\":\"Leaf\",\"ru_name\":\"лиф\",\"...</td>\n",
       "      <td>LEAF</td>\n",
       "      <td>Electro AT (81 кВт)</td>\n",
       "      <td>5</td>\n",
       "      <td>1603275897</td>\n",
       "      <td>RUB</td>\n",
       "      <td>2015</td>\n",
       "      <td>1096968496</td>\n",
       "      <td>{\"id\":\"21216745\",\"displacement\":0,\"engine_type...</td>\n",
       "      <td>HATCHBACK_5_DOORS AUTOMATIC</td>\n",
       "      <td>автоматическая</td>\n",
       "      <td>JAPANESE</td>\n",
       "      <td>1 владелец</td>\n",
       "      <td>1 год и 1 месяц</td>\n",
       "      <td>Оригинал</td>\n",
       "      <td>передний</td>\n",
       "      <td>Правый</td>\n",
       "      <td>Не требует ремонта</td>\n",
       "      <td>Растаможен</td>\n",
       "    </tr>\n",
       "    <tr>\n",
       "      <th>12854</th>\n",
       "      <td>HATCHBACK_5_DOORS</td>\n",
       "      <td>NISSAN</td>\n",
       "      <td>BLACK</td>\n",
       "      <td>LTR</td>\n",
       "      <td>109 N12</td>\n",
       "      <td>{\"electro-window-back\":true,\"alloy-wheel-disks...</td>\n",
       "      <td>электро</td>\n",
       "      <td>https://autoru.naydex.net/G87gDZg56/28c7a8vqVE...</td>\n",
       "      <td>100000</td>\n",
       "      <td>2010</td>\n",
       "      <td>{\"code\":\"LEAF\",\"name\":\"Leaf\",\"ru_name\":\"лиф\",\"...</td>\n",
       "      <td>LEAF</td>\n",
       "      <td>Electro AT (81 кВт)</td>\n",
       "      <td>5</td>\n",
       "      <td>1603276292</td>\n",
       "      <td>RUB</td>\n",
       "      <td>2011</td>\n",
       "      <td>1098568684</td>\n",
       "      <td>{\"id\":\"20471790\",\"displacement\":0,\"engine_type...</td>\n",
       "      <td>HATCHBACK_5_DOORS AUTOMATIC</td>\n",
       "      <td>автоматическая</td>\n",
       "      <td>JAPANESE</td>\n",
       "      <td>2 владельца</td>\n",
       "      <td>11 месяцев</td>\n",
       "      <td>Оригинал</td>\n",
       "      <td>передний</td>\n",
       "      <td>Правый</td>\n",
       "      <td>Не требует ремонта</td>\n",
       "      <td>Растаможен</td>\n",
       "    </tr>\n",
       "    <tr>\n",
       "      <th>12916</th>\n",
       "      <td>HATCHBACK_5_DOORS</td>\n",
       "      <td>NISSAN</td>\n",
       "      <td>BLACK</td>\n",
       "      <td>LTR</td>\n",
       "      <td>109 N12</td>\n",
       "      <td>{\"cruise-control\":true,\"tinted-glass\":true,\"es...</td>\n",
       "      <td>электро</td>\n",
       "      <td>https://avatars.mds.yandex.net/get-autoru-vos/...</td>\n",
       "      <td>81100</td>\n",
       "      <td>2010</td>\n",
       "      <td>{\"code\":\"LEAF\",\"name\":\"Leaf\",\"ru_name\":\"лиф\",\"...</td>\n",
       "      <td>LEAF</td>\n",
       "      <td>Electro AT (81 кВт)</td>\n",
       "      <td>5</td>\n",
       "      <td>1603276526</td>\n",
       "      <td>RUB</td>\n",
       "      <td>2014</td>\n",
       "      <td>1099971412</td>\n",
       "      <td>{\"id\":\"21216745\",\"displacement\":0,\"engine_type...</td>\n",
       "      <td>HATCHBACK_5_DOORS AUTOMATIC</td>\n",
       "      <td>автоматическая</td>\n",
       "      <td>JAPANESE</td>\n",
       "      <td>1 владелец</td>\n",
       "      <td>NaN</td>\n",
       "      <td>Оригинал</td>\n",
       "      <td>передний</td>\n",
       "      <td>Правый</td>\n",
       "      <td>Не требует ремонта</td>\n",
       "      <td>Растаможен</td>\n",
       "    </tr>\n",
       "    <tr>\n",
       "      <th>12948</th>\n",
       "      <td>HATCHBACK_5_DOORS</td>\n",
       "      <td>NISSAN</td>\n",
       "      <td>SILVER</td>\n",
       "      <td>LTR</td>\n",
       "      <td>109 N12</td>\n",
       "      <td>NaN</td>\n",
       "      <td>электро</td>\n",
       "      <td>https://autoru.naydex.net/G87gDZg56/28c7a8vqVE...</td>\n",
       "      <td>57000</td>\n",
       "      <td>2010</td>\n",
       "      <td>{\"code\":\"LEAF\",\"name\":\"Leaf\",\"ru_name\":\"лиф\",\"...</td>\n",
       "      <td>LEAF</td>\n",
       "      <td>Electro AT (81 кВт)</td>\n",
       "      <td>5</td>\n",
       "      <td>1603276645</td>\n",
       "      <td>RUB</td>\n",
       "      <td>2014</td>\n",
       "      <td>1099100395</td>\n",
       "      <td>{\"id\":\"21216745\",\"displacement\":0,\"engine_type...</td>\n",
       "      <td>HATCHBACK_5_DOORS AUTOMATIC</td>\n",
       "      <td>автоматическая</td>\n",
       "      <td>JAPANESE</td>\n",
       "      <td>2 владельца</td>\n",
       "      <td>NaN</td>\n",
       "      <td>Оригинал</td>\n",
       "      <td>передний</td>\n",
       "      <td>Правый</td>\n",
       "      <td>Не требует ремонта</td>\n",
       "      <td>Растаможен</td>\n",
       "    </tr>\n",
       "    <tr>\n",
       "      <th>12950</th>\n",
       "      <td>HATCHBACK_5_DOORS</td>\n",
       "      <td>NISSAN</td>\n",
       "      <td>WHITE</td>\n",
       "      <td>LTR</td>\n",
       "      <td>109 N12</td>\n",
       "      <td>{\"cruise-control\":true,\"asr\":true,\"tinted-glas...</td>\n",
       "      <td>электро</td>\n",
       "      <td>https://autoru.naydex.net/G87gDZg56/28c7a8vqVE...</td>\n",
       "      <td>59000</td>\n",
       "      <td>2010</td>\n",
       "      <td>{\"code\":\"LEAF\",\"name\":\"Leaf\",\"ru_name\":\"лиф\",\"...</td>\n",
       "      <td>LEAF</td>\n",
       "      <td>Electro AT (81 кВт)</td>\n",
       "      <td>5</td>\n",
       "      <td>1603276653</td>\n",
       "      <td>RUB</td>\n",
       "      <td>2014</td>\n",
       "      <td>1099030986</td>\n",
       "      <td>{\"id\":\"21216745\",\"displacement\":0,\"engine_type...</td>\n",
       "      <td>HATCHBACK_5_DOORS AUTOMATIC</td>\n",
       "      <td>автоматическая</td>\n",
       "      <td>JAPANESE</td>\n",
       "      <td>1 владелец</td>\n",
       "      <td>NaN</td>\n",
       "      <td>Оригинал</td>\n",
       "      <td>передний</td>\n",
       "      <td>Правый</td>\n",
       "      <td>Не требует ремонта</td>\n",
       "      <td>Растаможен</td>\n",
       "    </tr>\n",
       "    <tr>\n",
       "      <th>13052</th>\n",
       "      <td>HATCHBACK_5_DOORS</td>\n",
       "      <td>NISSAN</td>\n",
       "      <td>WHITE</td>\n",
       "      <td>LTR</td>\n",
       "      <td>109 N12</td>\n",
       "      <td>{\"cruise-control\":true,\"tinted-glass\":true,\"es...</td>\n",
       "      <td>электро</td>\n",
       "      <td>https://autoru.naydex.net/G87gDZg56/28c7a8vqVE...</td>\n",
       "      <td>55000</td>\n",
       "      <td>2010</td>\n",
       "      <td>{\"code\":\"LEAF\",\"name\":\"Leaf\",\"ru_name\":\"лиф\",\"...</td>\n",
       "      <td>LEAF</td>\n",
       "      <td>Electro AT (81 кВт)</td>\n",
       "      <td>5</td>\n",
       "      <td>1603277036</td>\n",
       "      <td>RUB</td>\n",
       "      <td>2013</td>\n",
       "      <td>1099403232</td>\n",
       "      <td>{\"id\":\"21216745\",\"displacement\":0,\"engine_type...</td>\n",
       "      <td>HATCHBACK_5_DOORS AUTOMATIC</td>\n",
       "      <td>автоматическая</td>\n",
       "      <td>JAPANESE</td>\n",
       "      <td>1 владелец</td>\n",
       "      <td>3 года и 4 месяца</td>\n",
       "      <td>Оригинал</td>\n",
       "      <td>передний</td>\n",
       "      <td>Правый</td>\n",
       "      <td>Не требует ремонта</td>\n",
       "      <td>Растаможен</td>\n",
       "    </tr>\n",
       "    <tr>\n",
       "      <th>13104</th>\n",
       "      <td>HATCHBACK_5_DOORS</td>\n",
       "      <td>NISSAN</td>\n",
       "      <td>WHITE</td>\n",
       "      <td>LTR</td>\n",
       "      <td>109 N12</td>\n",
       "      <td>{\"cruise-control\":true,\"esp\":true,\"adaptive-li...</td>\n",
       "      <td>электро</td>\n",
       "      <td>https://autoru.naydex.net/G87gDZg56/28c7a8vqVE...</td>\n",
       "      <td>104000</td>\n",
       "      <td>2010</td>\n",
       "      <td>{\"code\":\"LEAF\",\"name\":\"Leaf\",\"ru_name\":\"лиф\",\"...</td>\n",
       "      <td>LEAF</td>\n",
       "      <td>Electro AT (81 кВт)</td>\n",
       "      <td>5</td>\n",
       "      <td>1603277228</td>\n",
       "      <td>RUB</td>\n",
       "      <td>2014</td>\n",
       "      <td>1092571590</td>\n",
       "      <td>{\"id\":\"21216745\",\"displacement\":0,\"engine_type...</td>\n",
       "      <td>HATCHBACK_5_DOORS AUTOMATIC</td>\n",
       "      <td>автоматическая</td>\n",
       "      <td>JAPANESE</td>\n",
       "      <td>1 владелец</td>\n",
       "      <td>1 год</td>\n",
       "      <td>Оригинал</td>\n",
       "      <td>передний</td>\n",
       "      <td>Правый</td>\n",
       "      <td>Не требует ремонта</td>\n",
       "      <td>Растаможен</td>\n",
       "    </tr>\n",
       "    <tr>\n",
       "      <th>13105</th>\n",
       "      <td>HATCHBACK_5_DOORS</td>\n",
       "      <td>NISSAN</td>\n",
       "      <td>SILVER</td>\n",
       "      <td>LTR</td>\n",
       "      <td>109 N12</td>\n",
       "      <td>{\"cruise-control\":true,\"tinted-glass\":true,\"st...</td>\n",
       "      <td>электро</td>\n",
       "      <td>https://avatars.mds.yandex.net/get-autoru-vos/...</td>\n",
       "      <td>134000</td>\n",
       "      <td>2010</td>\n",
       "      <td>{\"code\":\"LEAF\",\"name\":\"Leaf\",\"ru_name\":\"лиф\",\"...</td>\n",
       "      <td>LEAF</td>\n",
       "      <td>Electro AT (81 кВт)</td>\n",
       "      <td>5</td>\n",
       "      <td>1603277232</td>\n",
       "      <td>RUB</td>\n",
       "      <td>2012</td>\n",
       "      <td>1089397026</td>\n",
       "      <td>{\"id\":\"21216745\",\"displacement\":0,\"engine_type...</td>\n",
       "      <td>HATCHBACK_5_DOORS AUTOMATIC</td>\n",
       "      <td>автоматическая</td>\n",
       "      <td>JAPANESE</td>\n",
       "      <td>1 владелец</td>\n",
       "      <td>2 года и 4 месяца</td>\n",
       "      <td>Оригинал</td>\n",
       "      <td>передний</td>\n",
       "      <td>Правый</td>\n",
       "      <td>Не требует ремонта</td>\n",
       "      <td>Растаможен</td>\n",
       "    </tr>\n",
       "    <tr>\n",
       "      <th>13478</th>\n",
       "      <td>HATCHBACK_5_DOORS</td>\n",
       "      <td>NISSAN</td>\n",
       "      <td>RED</td>\n",
       "      <td>LTR</td>\n",
       "      <td>109 N12</td>\n",
       "      <td>{\"cruise-control\":true,\"airbag-driver\":true,\"a...</td>\n",
       "      <td>электро</td>\n",
       "      <td>https://autoru.naydex.net/G87gDZg56/28c7a8vqVE...</td>\n",
       "      <td>48000</td>\n",
       "      <td>2010</td>\n",
       "      <td>{\"code\":\"LEAF\",\"name\":\"Leaf\",\"ru_name\":\"лиф\",\"...</td>\n",
       "      <td>LEAF</td>\n",
       "      <td>30kWh Electro AT (81 кВт)</td>\n",
       "      <td>5</td>\n",
       "      <td>1603278613</td>\n",
       "      <td>RUB</td>\n",
       "      <td>2016</td>\n",
       "      <td>1101317667</td>\n",
       "      <td>{\"id\":\"21216761\",\"nameplate\":\"30kWh\",\"displace...</td>\n",
       "      <td>HATCHBACK_5_DOORS AUTOMATIC</td>\n",
       "      <td>автоматическая</td>\n",
       "      <td>JAPANESE</td>\n",
       "      <td>1 владелец</td>\n",
       "      <td>4 месяца</td>\n",
       "      <td>Оригинал</td>\n",
       "      <td>передний</td>\n",
       "      <td>Правый</td>\n",
       "      <td>Не требует ремонта</td>\n",
       "      <td>Растаможен</td>\n",
       "    </tr>\n",
       "    <tr>\n",
       "      <th>13633</th>\n",
       "      <td>HATCHBACK_5_DOORS</td>\n",
       "      <td>NISSAN</td>\n",
       "      <td>BLUE</td>\n",
       "      <td>LTR</td>\n",
       "      <td>109 N12</td>\n",
       "      <td>NaN</td>\n",
       "      <td>электро</td>\n",
       "      <td>https://autoru.naydex.net/G87gDZg56/28c7a8vqVE...</td>\n",
       "      <td>103238</td>\n",
       "      <td>2010</td>\n",
       "      <td>{\"code\":\"LEAF\",\"name\":\"Leaf\",\"ru_name\":\"лиф\",\"...</td>\n",
       "      <td>LEAF</td>\n",
       "      <td>Electro AT (81 кВт)</td>\n",
       "      <td>5</td>\n",
       "      <td>1603279199</td>\n",
       "      <td>RUB</td>\n",
       "      <td>2012</td>\n",
       "      <td>1007894747</td>\n",
       "      <td>{\"id\":\"20471790\",\"displacement\":0,\"engine_type...</td>\n",
       "      <td>HATCHBACK_5_DOORS AUTOMATIC</td>\n",
       "      <td>автоматическая</td>\n",
       "      <td>JAPANESE</td>\n",
       "      <td>2 владельца</td>\n",
       "      <td>5 лет и 10 месяцев</td>\n",
       "      <td>Оригинал</td>\n",
       "      <td>передний</td>\n",
       "      <td>Левый</td>\n",
       "      <td>Не требует ремонта</td>\n",
       "      <td>Растаможен</td>\n",
       "    </tr>\n",
       "    <tr>\n",
       "      <th>13660</th>\n",
       "      <td>HATCHBACK_5_DOORS</td>\n",
       "      <td>NISSAN</td>\n",
       "      <td>BLACK</td>\n",
       "      <td>LTR</td>\n",
       "      <td>109 N12</td>\n",
       "      <td>{\"cruise-control\":true,\"tinted-glass\":true,\"es...</td>\n",
       "      <td>электро</td>\n",
       "      <td>https://avatars.mds.yandex.net/get-autoru-vos/...</td>\n",
       "      <td>66000</td>\n",
       "      <td>2010</td>\n",
       "      <td>{\"code\":\"LEAF\",\"name\":\"Leaf\",\"ru_name\":\"лиф\",\"...</td>\n",
       "      <td>LEAF</td>\n",
       "      <td>Electro AT (81 кВт)</td>\n",
       "      <td>5</td>\n",
       "      <td>1603279302</td>\n",
       "      <td>RUB</td>\n",
       "      <td>2012</td>\n",
       "      <td>1099544944</td>\n",
       "      <td>{\"id\":\"20471790\",\"displacement\":0,\"engine_type...</td>\n",
       "      <td>HATCHBACK_5_DOORS AUTOMATIC</td>\n",
       "      <td>автоматическая</td>\n",
       "      <td>JAPANESE</td>\n",
       "      <td>1 владелец</td>\n",
       "      <td>1 год и 3 месяца</td>\n",
       "      <td>Оригинал</td>\n",
       "      <td>передний</td>\n",
       "      <td>Правый</td>\n",
       "      <td>Не требует ремонта</td>\n",
       "      <td>Растаможен</td>\n",
       "    </tr>\n",
       "    <tr>\n",
       "      <th>13720</th>\n",
       "      <td>HATCHBACK_5_DOORS</td>\n",
       "      <td>NISSAN</td>\n",
       "      <td>RED</td>\n",
       "      <td>LTR</td>\n",
       "      <td>109 N12</td>\n",
       "      <td>{\"electro-window-back\":true,\"esp\":true,\"start-...</td>\n",
       "      <td>электро</td>\n",
       "      <td>https://autoru.naydex.net/G87gDZg56/28c7a8vqVE...</td>\n",
       "      <td>57000</td>\n",
       "      <td>2010</td>\n",
       "      <td>{\"code\":\"LEAF\",\"name\":\"Leaf\",\"ru_name\":\"лиф\",\"...</td>\n",
       "      <td>LEAF</td>\n",
       "      <td>Electro AT (81 кВт)</td>\n",
       "      <td>5</td>\n",
       "      <td>1603279529</td>\n",
       "      <td>RUB</td>\n",
       "      <td>2012</td>\n",
       "      <td>1097070280</td>\n",
       "      <td>{\"id\":\"20471790\",\"displacement\":0,\"engine_type...</td>\n",
       "      <td>HATCHBACK_5_DOORS AUTOMATIC</td>\n",
       "      <td>автоматическая</td>\n",
       "      <td>JAPANESE</td>\n",
       "      <td>1 владелец</td>\n",
       "      <td>NaN</td>\n",
       "      <td>Оригинал</td>\n",
       "      <td>передний</td>\n",
       "      <td>Правый</td>\n",
       "      <td>Не требует ремонта</td>\n",
       "      <td>Растаможен</td>\n",
       "    </tr>\n",
       "    <tr>\n",
       "      <th>13812</th>\n",
       "      <td>HATCHBACK_5_DOORS</td>\n",
       "      <td>NISSAN</td>\n",
       "      <td>LIGHT_BLUE</td>\n",
       "      <td>LTR</td>\n",
       "      <td>109 N12</td>\n",
       "      <td>NaN</td>\n",
       "      <td>электро</td>\n",
       "      <td>https://avatars.mds.yandex.net/get-autoru-vos/...</td>\n",
       "      <td>71500</td>\n",
       "      <td>2010</td>\n",
       "      <td>{\"code\":\"LEAF\",\"name\":\"Leaf\",\"ru_name\":\"лиф\",\"...</td>\n",
       "      <td>LEAF</td>\n",
       "      <td>Electro AT (81 кВт)</td>\n",
       "      <td>5</td>\n",
       "      <td>1603279868</td>\n",
       "      <td>RUB</td>\n",
       "      <td>2013</td>\n",
       "      <td>1097723780</td>\n",
       "      <td>{\"id\":\"21216745\",\"displacement\":0,\"engine_type...</td>\n",
       "      <td>HATCHBACK_5_DOORS AUTOMATIC</td>\n",
       "      <td>автоматическая</td>\n",
       "      <td>JAPANESE</td>\n",
       "      <td>1 владелец</td>\n",
       "      <td>NaN</td>\n",
       "      <td>Оригинал</td>\n",
       "      <td>передний</td>\n",
       "      <td>Правый</td>\n",
       "      <td>Не требует ремонта</td>\n",
       "      <td>Растаможен</td>\n",
       "    </tr>\n",
       "    <tr>\n",
       "      <th>13915</th>\n",
       "      <td>HATCHBACK_5_DOORS</td>\n",
       "      <td>NISSAN</td>\n",
       "      <td>RED</td>\n",
       "      <td>LTR</td>\n",
       "      <td>109 N12</td>\n",
       "      <td>{\"cruise-control\":true,\"steel-wheels\":true,\"au...</td>\n",
       "      <td>электро</td>\n",
       "      <td>https://avatars.mds.yandex.net/get-autoru-vos/...</td>\n",
       "      <td>26100</td>\n",
       "      <td>2010</td>\n",
       "      <td>{\"code\":\"LEAF\",\"name\":\"Leaf\",\"ru_name\":\"лиф\",\"...</td>\n",
       "      <td>LEAF</td>\n",
       "      <td>30kWh Electro AT (81 кВт)</td>\n",
       "      <td>5</td>\n",
       "      <td>1603280250</td>\n",
       "      <td>RUB</td>\n",
       "      <td>2016</td>\n",
       "      <td>1084835990</td>\n",
       "      <td>{\"id\":\"21216761\",\"nameplate\":\"30kWh\",\"displace...</td>\n",
       "      <td>HATCHBACK_5_DOORS AUTOMATIC</td>\n",
       "      <td>автоматическая</td>\n",
       "      <td>JAPANESE</td>\n",
       "      <td>1 владелец</td>\n",
       "      <td>2 года и 4 месяца</td>\n",
       "      <td>Оригинал</td>\n",
       "      <td>передний</td>\n",
       "      <td>Правый</td>\n",
       "      <td>Не требует ремонта</td>\n",
       "      <td>Растаможен</td>\n",
       "    </tr>\n",
       "    <tr>\n",
       "      <th>13952</th>\n",
       "      <td>HATCHBACK_5_DOORS</td>\n",
       "      <td>NISSAN</td>\n",
       "      <td>WHITE</td>\n",
       "      <td>LTR</td>\n",
       "      <td>109 N12</td>\n",
       "      <td>{\"electro-window-back\":true,\"cruise-control\":t...</td>\n",
       "      <td>электро</td>\n",
       "      <td>https://autoru.naydex.net/G87gDZg56/28c7a8vqVE...</td>\n",
       "      <td>87000</td>\n",
       "      <td>2010</td>\n",
       "      <td>{\"code\":\"LEAF\",\"name\":\"Leaf\",\"ru_name\":\"лиф\",\"...</td>\n",
       "      <td>LEAF</td>\n",
       "      <td>Electro AT (81 кВт)</td>\n",
       "      <td>5</td>\n",
       "      <td>1603280387</td>\n",
       "      <td>RUB</td>\n",
       "      <td>2013</td>\n",
       "      <td>1101275789</td>\n",
       "      <td>{\"id\":\"21216745\",\"displacement\":0,\"engine_type...</td>\n",
       "      <td>HATCHBACK_5_DOORS AUTOMATIC</td>\n",
       "      <td>автоматическая</td>\n",
       "      <td>JAPANESE</td>\n",
       "      <td>1 владелец</td>\n",
       "      <td>11 месяцев</td>\n",
       "      <td>Оригинал</td>\n",
       "      <td>передний</td>\n",
       "      <td>Правый</td>\n",
       "      <td>Не требует ремонта</td>\n",
       "      <td>Растаможен</td>\n",
       "    </tr>\n",
       "    <tr>\n",
       "      <th>13989</th>\n",
       "      <td>HATCHBACK_5_DOORS</td>\n",
       "      <td>NISSAN</td>\n",
       "      <td>BLACK</td>\n",
       "      <td>LTR</td>\n",
       "      <td>109 N12</td>\n",
       "      <td>{\"electro-window-back\":true,\"16-inch-wheels\":t...</td>\n",
       "      <td>электро</td>\n",
       "      <td>https://avatars.mds.yandex.net/get-autoru-vos/...</td>\n",
       "      <td>45364</td>\n",
       "      <td>2010</td>\n",
       "      <td>{\"code\":\"LEAF\",\"name\":\"Leaf\",\"ru_name\":\"лиф\",\"...</td>\n",
       "      <td>LEAF</td>\n",
       "      <td>Electro AT (81 кВт)</td>\n",
       "      <td>5</td>\n",
       "      <td>1603280521</td>\n",
       "      <td>RUB</td>\n",
       "      <td>2014</td>\n",
       "      <td>1096827062</td>\n",
       "      <td>{\"id\":\"21216745\",\"displacement\":0,\"engine_type...</td>\n",
       "      <td>HATCHBACK_5_DOORS AUTOMATIC</td>\n",
       "      <td>автоматическая</td>\n",
       "      <td>JAPANESE</td>\n",
       "      <td>1 владелец</td>\n",
       "      <td>11 месяцев</td>\n",
       "      <td>Оригинал</td>\n",
       "      <td>передний</td>\n",
       "      <td>Правый</td>\n",
       "      <td>Не требует ремонта</td>\n",
       "      <td>Растаможен</td>\n",
       "    </tr>\n",
       "    <tr>\n",
       "      <th>14147</th>\n",
       "      <td>HATCHBACK_5_DOORS</td>\n",
       "      <td>NISSAN</td>\n",
       "      <td>GRAY</td>\n",
       "      <td>LTR</td>\n",
       "      <td>109 N12</td>\n",
       "      <td>{\"glonass\":true,\"esp\":true,\"start-stop-functio...</td>\n",
       "      <td>электро</td>\n",
       "      <td>https://autoru.naydex.net/G87gDZg56/28c7a8vqVE...</td>\n",
       "      <td>710000</td>\n",
       "      <td>2010</td>\n",
       "      <td>{\"code\":\"LEAF\",\"name\":\"Leaf\",\"ru_name\":\"лиф\",\"...</td>\n",
       "      <td>LEAF</td>\n",
       "      <td>Electro AT (81 кВт)</td>\n",
       "      <td>5</td>\n",
       "      <td>1603281131</td>\n",
       "      <td>RUB</td>\n",
       "      <td>2013</td>\n",
       "      <td>1095537140</td>\n",
       "      <td>{\"id\":\"21216745\",\"displacement\":0,\"engine_type...</td>\n",
       "      <td>HATCHBACK_5_DOORS AUTOMATIC</td>\n",
       "      <td>автоматическая</td>\n",
       "      <td>JAPANESE</td>\n",
       "      <td>2 владельца</td>\n",
       "      <td>NaN</td>\n",
       "      <td>Оригинал</td>\n",
       "      <td>передний</td>\n",
       "      <td>Правый</td>\n",
       "      <td>Не требует ремонта</td>\n",
       "      <td>Растаможен</td>\n",
       "    </tr>\n",
       "    <tr>\n",
       "      <th>14419</th>\n",
       "      <td>HATCHBACK_5_DOORS</td>\n",
       "      <td>NISSAN</td>\n",
       "      <td>GRAY</td>\n",
       "      <td>LTR</td>\n",
       "      <td>109 N12</td>\n",
       "      <td>{\"cruise-control\":true,\"asr\":true,\"esp\":true,\"...</td>\n",
       "      <td>электро</td>\n",
       "      <td>https://avatars.mds.yandex.net/get-autoru-vos/...</td>\n",
       "      <td>78000</td>\n",
       "      <td>2010</td>\n",
       "      <td>{\"code\":\"LEAF\",\"name\":\"Leaf\",\"ru_name\":\"лиф\",\"...</td>\n",
       "      <td>LEAF</td>\n",
       "      <td>Electro AT (81 кВт)</td>\n",
       "      <td>5</td>\n",
       "      <td>1603282139</td>\n",
       "      <td>RUB</td>\n",
       "      <td>2014</td>\n",
       "      <td>1093816364</td>\n",
       "      <td>{\"id\":\"21216745\",\"displacement\":0,\"engine_type...</td>\n",
       "      <td>HATCHBACK_5_DOORS AUTOMATIC</td>\n",
       "      <td>автоматическая</td>\n",
       "      <td>JAPANESE</td>\n",
       "      <td>2 владельца</td>\n",
       "      <td>1 год и 1 месяц</td>\n",
       "      <td>Оригинал</td>\n",
       "      <td>передний</td>\n",
       "      <td>Правый</td>\n",
       "      <td>Не требует ремонта</td>\n",
       "      <td>Растаможен</td>\n",
       "    </tr>\n",
       "    <tr>\n",
       "      <th>23869</th>\n",
       "      <td>HATCHBACK_5_DOORS</td>\n",
       "      <td>VOLKSWAGEN</td>\n",
       "      <td>BLACK</td>\n",
       "      <td>LTR</td>\n",
       "      <td>115 N12</td>\n",
       "      <td>{\"cruise-control\":true,\"asr\":true,\"esp\":true,\"...</td>\n",
       "      <td>электро</td>\n",
       "      <td>https://autoru.naydex.net/o9DBXQ270/5ac010hAY0...</td>\n",
       "      <td>27000</td>\n",
       "      <td>2012</td>\n",
       "      <td>{\"code\":\"GOLF\",\"name\":\"Golf\",\"ru_name\":\"Гольф\"...</td>\n",
       "      <td>GOLF</td>\n",
       "      <td>e-Golf Electro AT (85 кВт)</td>\n",
       "      <td>5</td>\n",
       "      <td>1603215408</td>\n",
       "      <td>RUB</td>\n",
       "      <td>2016</td>\n",
       "      <td>1096786642</td>\n",
       "      <td>{\"id\":\"20513237\",\"name\":\"e-Golf\",\"nameplate\":\"...</td>\n",
       "      <td>HATCHBACK_5_DOORS AUTOMATIC</td>\n",
       "      <td>автоматическая</td>\n",
       "      <td>EUROPEAN</td>\n",
       "      <td>1 владелец</td>\n",
       "      <td>NaN</td>\n",
       "      <td>Оригинал</td>\n",
       "      <td>передний</td>\n",
       "      <td>Левый</td>\n",
       "      <td>Не требует ремонта</td>\n",
       "      <td>Растаможен</td>\n",
       "    </tr>\n",
       "    <tr>\n",
       "      <th>23948</th>\n",
       "      <td>HATCHBACK_5_DOORS</td>\n",
       "      <td>VOLKSWAGEN</td>\n",
       "      <td>WHITE</td>\n",
       "      <td>LTR</td>\n",
       "      <td>115 N12</td>\n",
       "      <td>{\"cruise-control\":true,\"engine-proof\":true,\"es...</td>\n",
       "      <td>электро</td>\n",
       "      <td>https://avatars.mds.yandex.net/get-autoru-vos/...</td>\n",
       "      <td>12638</td>\n",
       "      <td>2012</td>\n",
       "      <td>{\"code\":\"GOLF\",\"name\":\"Golf\",\"ru_name\":\"Гольф\"...</td>\n",
       "      <td>GOLF</td>\n",
       "      <td>e-Golf Electro AT (85 кВт)</td>\n",
       "      <td>5</td>\n",
       "      <td>1603215709</td>\n",
       "      <td>RUB</td>\n",
       "      <td>2014</td>\n",
       "      <td>1100858264</td>\n",
       "      <td>{\"id\":\"20513237\",\"name\":\"e-Golf\",\"nameplate\":\"...</td>\n",
       "      <td>HATCHBACK_5_DOORS AUTOMATIC</td>\n",
       "      <td>автоматическая</td>\n",
       "      <td>EUROPEAN</td>\n",
       "      <td>1 владелец</td>\n",
       "      <td>NaN</td>\n",
       "      <td>Оригинал</td>\n",
       "      <td>передний</td>\n",
       "      <td>Левый</td>\n",
       "      <td>Не требует ремонта</td>\n",
       "      <td>Растаможен</td>\n",
       "    </tr>\n",
       "    <tr>\n",
       "      <th>27064</th>\n",
       "      <td>HATCHBACK_5_DOORS</td>\n",
       "      <td>MITSUBISHI</td>\n",
       "      <td>WHITE</td>\n",
       "      <td>LTR</td>\n",
       "      <td>67 N12</td>\n",
       "      <td>NaN</td>\n",
       "      <td>электро</td>\n",
       "      <td>https://autoru.naydex.net/mcQh17801/f1b5751dCi...</td>\n",
       "      <td>40000</td>\n",
       "      <td>2010</td>\n",
       "      <td>{\"code\":\"I_MIEV\",\"name\":\"i-MiEV\",\"ru_name\":\"i-...</td>\n",
       "      <td>I_MIEV</td>\n",
       "      <td>Electro AT (50 кВт)</td>\n",
       "      <td>5</td>\n",
       "      <td>1603261303</td>\n",
       "      <td>RUB</td>\n",
       "      <td>2016</td>\n",
       "      <td>1101238446</td>\n",
       "      <td>{\"id\":\"20471034\",\"displacement\":0,\"engine_type...</td>\n",
       "      <td>HATCHBACK_5_DOORS AUTOMATIC</td>\n",
       "      <td>автоматическая</td>\n",
       "      <td>JAPANESE</td>\n",
       "      <td>2 владельца</td>\n",
       "      <td>4 года</td>\n",
       "      <td>Оригинал</td>\n",
       "      <td>задний</td>\n",
       "      <td>Левый</td>\n",
       "      <td>Не требует ремонта</td>\n",
       "      <td>Растаможен</td>\n",
       "    </tr>\n",
       "    <tr>\n",
       "      <th>28241</th>\n",
       "      <td>HATCHBACK_5_DOORS</td>\n",
       "      <td>MITSUBISHI</td>\n",
       "      <td>SILVER</td>\n",
       "      <td>LTR</td>\n",
       "      <td>67 N12</td>\n",
       "      <td>NaN</td>\n",
       "      <td>электро</td>\n",
       "      <td>https://autoru.naydex.net/mcQh17801/f1b5751dCi...</td>\n",
       "      <td>38550</td>\n",
       "      <td>2010</td>\n",
       "      <td>{\"code\":\"I_MIEV\",\"name\":\"i-MiEV\",\"ru_name\":\"i-...</td>\n",
       "      <td>I_MIEV</td>\n",
       "      <td>Electro AT (50 кВт)</td>\n",
       "      <td>5</td>\n",
       "      <td>1603265723</td>\n",
       "      <td>RUB</td>\n",
       "      <td>2012</td>\n",
       "      <td>1101136533</td>\n",
       "      <td>{\"id\":\"20471034\",\"displacement\":0,\"engine_type...</td>\n",
       "      <td>HATCHBACK_5_DOORS AUTOMATIC</td>\n",
       "      <td>автоматическая</td>\n",
       "      <td>JAPANESE</td>\n",
       "      <td>2 владельца</td>\n",
       "      <td>NaN</td>\n",
       "      <td>Оригинал</td>\n",
       "      <td>задний</td>\n",
       "      <td>Правый</td>\n",
       "      <td>Не требует ремонта</td>\n",
       "      <td>Растаможен</td>\n",
       "    </tr>\n",
       "    <tr>\n",
       "      <th>32668</th>\n",
       "      <td>HATCHBACK_5_DOORS</td>\n",
       "      <td>NISSAN</td>\n",
       "      <td>BLACK</td>\n",
       "      <td>LTR</td>\n",
       "      <td>150 N12</td>\n",
       "      <td>{\"cruise-control\":true,\"glonass\":true,\"ptf\":tr...</td>\n",
       "      <td>электро</td>\n",
       "      <td>https://autoru.naydex.net/1xsMU7627/eea2057RFg...</td>\n",
       "      <td>100</td>\n",
       "      <td>2017</td>\n",
       "      <td>{\"code\":\"LEAF\",\"name\":\"Leaf\",\"ru_name\":\"лиф\",\"...</td>\n",
       "      <td>LEAF</td>\n",
       "      <td>Electro AT (111 кВт)</td>\n",
       "      <td>5</td>\n",
       "      <td>1603604726</td>\n",
       "      <td>RUB</td>\n",
       "      <td>2018</td>\n",
       "      <td>1101205768</td>\n",
       "      <td>{\"id\":\"21110150\",\"displacement\":0,\"engine_type...</td>\n",
       "      <td>HATCHBACK_5_DOORS AUTOMATIC</td>\n",
       "      <td>автоматическая</td>\n",
       "      <td>JAPANESE</td>\n",
       "      <td>1 владелец</td>\n",
       "      <td>1 год и 10 месяцев</td>\n",
       "      <td>Оригинал</td>\n",
       "      <td>передний</td>\n",
       "      <td>Левый</td>\n",
       "      <td>Не требует ремонта</td>\n",
       "      <td>Растаможен</td>\n",
       "    </tr>\n",
       "    <tr>\n",
       "      <th>32700</th>\n",
       "      <td>HATCHBACK_5_DOORS</td>\n",
       "      <td>NISSAN</td>\n",
       "      <td>LIGHT_BLUE</td>\n",
       "      <td>LTR</td>\n",
       "      <td>109 N12</td>\n",
       "      <td>{\"cruise-control\":true,\"airbag-rear-side\":true...</td>\n",
       "      <td>электро</td>\n",
       "      <td>https://avatars.mds.yandex.net/get-autoru-vos/...</td>\n",
       "      <td>29500</td>\n",
       "      <td>2010</td>\n",
       "      <td>{\"code\":\"LEAF\",\"name\":\"Leaf\",\"ru_name\":\"лиф\",\"...</td>\n",
       "      <td>LEAF</td>\n",
       "      <td>Electro AT (81 кВт)</td>\n",
       "      <td>5</td>\n",
       "      <td>1603605068</td>\n",
       "      <td>RUB</td>\n",
       "      <td>2011</td>\n",
       "      <td>1101341419</td>\n",
       "      <td>{\"id\":\"20471790\",\"displacement\":0,\"engine_type...</td>\n",
       "      <td>HATCHBACK_5_DOORS AUTOMATIC</td>\n",
       "      <td>автоматическая</td>\n",
       "      <td>JAPANESE</td>\n",
       "      <td>1 владелец</td>\n",
       "      <td>5 месяцев</td>\n",
       "      <td>Оригинал</td>\n",
       "      <td>передний</td>\n",
       "      <td>Правый</td>\n",
       "      <td>Не требует ремонта</td>\n",
       "      <td>Растаможен</td>\n",
       "    </tr>\n",
       "    <tr>\n",
       "      <th>32798</th>\n",
       "      <td>HATCHBACK_5_DOORS</td>\n",
       "      <td>NISSAN</td>\n",
       "      <td>BLACK</td>\n",
       "      <td>LTR</td>\n",
       "      <td>109 N12</td>\n",
       "      <td>{\"tinted-glass\":true,\"esp\":true,\"start-stop-fu...</td>\n",
       "      <td>электро</td>\n",
       "      <td>https://autoru.naydex.net/1xsMU7627/eea2057RFg...</td>\n",
       "      <td>50000</td>\n",
       "      <td>2010</td>\n",
       "      <td>{\"code\":\"LEAF\",\"name\":\"Leaf\",\"ru_name\":\"лиф\",\"...</td>\n",
       "      <td>LEAF</td>\n",
       "      <td>Electro AT (81 кВт)</td>\n",
       "      <td>5</td>\n",
       "      <td>1603607392</td>\n",
       "      <td>RUB</td>\n",
       "      <td>2013</td>\n",
       "      <td>1091614100</td>\n",
       "      <td>{\"id\":\"21216745\",\"displacement\":0,\"engine_type...</td>\n",
       "      <td>HATCHBACK_5_DOORS AUTOMATIC</td>\n",
       "      <td>автоматическая</td>\n",
       "      <td>JAPANESE</td>\n",
       "      <td>1 владелец</td>\n",
       "      <td>NaN</td>\n",
       "      <td>Оригинал</td>\n",
       "      <td>передний</td>\n",
       "      <td>Правый</td>\n",
       "      <td>Не требует ремонта</td>\n",
       "      <td>Растаможен</td>\n",
       "    </tr>\n",
       "    <tr>\n",
       "      <th>34159</th>\n",
       "      <td>HATCHBACK_5_DOORS</td>\n",
       "      <td>MERCEDES</td>\n",
       "      <td>WHITE</td>\n",
       "      <td>LTR</td>\n",
       "      <td>179 N12</td>\n",
       "      <td>{\"cruise-control\":true,\"airbag-driver\":true,\"a...</td>\n",
       "      <td>электро</td>\n",
       "      <td>https://autoru.naydex.net/O1Iap7626/e63034lCq/...</td>\n",
       "      <td>28900</td>\n",
       "      <td>2014</td>\n",
       "      <td>{\"code\":\"B_KLASSE\",\"name\":\"B-Класс\",\"ru_name\":...</td>\n",
       "      <td>B_KLASSE</td>\n",
       "      <td>250 e Electro AT (132 кВт)</td>\n",
       "      <td>5</td>\n",
       "      <td>1603668620</td>\n",
       "      <td>RUB</td>\n",
       "      <td>2016</td>\n",
       "      <td>1101370553</td>\n",
       "      <td>{\"id\":\"20803379\",\"name\":\"250 e\",\"nameplate\":\"2...</td>\n",
       "      <td>HATCHBACK_5_DOORS AUTOMATIC</td>\n",
       "      <td>автоматическая</td>\n",
       "      <td>EUROPEAN</td>\n",
       "      <td>2 владельца</td>\n",
       "      <td>10 месяцев</td>\n",
       "      <td>Оригинал</td>\n",
       "      <td>передний</td>\n",
       "      <td>Левый</td>\n",
       "      <td>Не требует ремонта</td>\n",
       "      <td>Растаможен</td>\n",
       "    </tr>\n",
       "    <tr>\n",
       "      <th>34504</th>\n",
       "      <td>HATCHBACK_5_DOORS</td>\n",
       "      <td>NISSAN</td>\n",
       "      <td>BLACK</td>\n",
       "      <td>LTR</td>\n",
       "      <td>109 N12</td>\n",
       "      <td>{\"alloy-wheel-disks\":true,\"tinted-glass\":true,...</td>\n",
       "      <td>электро</td>\n",
       "      <td>https://autoru.naydex.net/16IvE9y79/a7f8demo/N...</td>\n",
       "      <td>103075</td>\n",
       "      <td>2010</td>\n",
       "      <td>{\"code\":\"LEAF\",\"name\":\"Leaf\",\"ru_name\":\"лиф\",\"...</td>\n",
       "      <td>LEAF</td>\n",
       "      <td>Electro AT (81 кВт)</td>\n",
       "      <td>5</td>\n",
       "      <td>1603688872</td>\n",
       "      <td>RUB</td>\n",
       "      <td>2013</td>\n",
       "      <td>1101039646</td>\n",
       "      <td>{\"id\":\"21216745\",\"displacement\":0,\"engine_type...</td>\n",
       "      <td>HATCHBACK_5_DOORS AUTOMATIC</td>\n",
       "      <td>автоматическая</td>\n",
       "      <td>JAPANESE</td>\n",
       "      <td>2 владельца</td>\n",
       "      <td>2 года и 1 месяц</td>\n",
       "      <td>Оригинал</td>\n",
       "      <td>передний</td>\n",
       "      <td>Правый</td>\n",
       "      <td>Не требует ремонта</td>\n",
       "      <td>Растаможен</td>\n",
       "    </tr>\n",
       "  </tbody>\n",
       "</table>\n",
       "</div>"
      ],
      "text/plain": [
       "                bodyType       brand       color engineDisplacement  \\\n",
       "5241     ALLROAD_5_DOORS        AUDI       WHITE                LTR   \n",
       "7992   HATCHBACK_5_DOORS         BMW        BLUE                LTR   \n",
       "8252   HATCHBACK_5_DOORS         BMW        GRAY                LTR   \n",
       "8350   HATCHBACK_5_DOORS         BMW       WHITE                LTR   \n",
       "8684   HATCHBACK_5_DOORS         BMW       BLACK                LTR   \n",
       "8722   HATCHBACK_5_DOORS         BMW  LIGHT_BLUE                LTR   \n",
       "8917   HATCHBACK_5_DOORS         BMW       BEIGE                LTR   \n",
       "10817  HATCHBACK_5_DOORS         BMW        GRAY                LTR   \n",
       "10936  HATCHBACK_5_DOORS         BMW       BLACK                LTR   \n",
       "11043  HATCHBACK_5_DOORS         BMW        GRAY                LTR   \n",
       "11302  HATCHBACK_5_DOORS      NISSAN  LIGHT_BLUE                LTR   \n",
       "11682  HATCHBACK_5_DOORS      NISSAN       WHITE                LTR   \n",
       "11714  HATCHBACK_5_DOORS      NISSAN       WHITE                LTR   \n",
       "11719  HATCHBACK_5_DOORS      NISSAN       WHITE                LTR   \n",
       "11754  HATCHBACK_5_DOORS      NISSAN       WHITE                LTR   \n",
       "11878  HATCHBACK_5_DOORS      NISSAN      SILVER                LTR   \n",
       "11974  HATCHBACK_5_DOORS      NISSAN       BLACK                LTR   \n",
       "12072  HATCHBACK_5_DOORS      NISSAN       BLACK                LTR   \n",
       "12085  HATCHBACK_5_DOORS      NISSAN  LIGHT_BLUE                LTR   \n",
       "12100  HATCHBACK_5_DOORS      NISSAN        GRAY                LTR   \n",
       "12250  HATCHBACK_5_DOORS      NISSAN        GRAY                LTR   \n",
       "12287  HATCHBACK_5_DOORS      NISSAN  LIGHT_BLUE                LTR   \n",
       "12334  HATCHBACK_5_DOORS      NISSAN       BLACK                LTR   \n",
       "12466  HATCHBACK_5_DOORS      NISSAN       BLACK                LTR   \n",
       "12481  HATCHBACK_5_DOORS      NISSAN       WHITE                LTR   \n",
       "12558  HATCHBACK_5_DOORS      NISSAN      SILVER                LTR   \n",
       "12582  HATCHBACK_5_DOORS      NISSAN       WHITE                LTR   \n",
       "12678  HATCHBACK_5_DOORS      NISSAN       BLACK                LTR   \n",
       "12749  HATCHBACK_5_DOORS      NISSAN       BLACK                LTR   \n",
       "12854  HATCHBACK_5_DOORS      NISSAN       BLACK                LTR   \n",
       "12916  HATCHBACK_5_DOORS      NISSAN       BLACK                LTR   \n",
       "12948  HATCHBACK_5_DOORS      NISSAN      SILVER                LTR   \n",
       "12950  HATCHBACK_5_DOORS      NISSAN       WHITE                LTR   \n",
       "13052  HATCHBACK_5_DOORS      NISSAN       WHITE                LTR   \n",
       "13104  HATCHBACK_5_DOORS      NISSAN       WHITE                LTR   \n",
       "13105  HATCHBACK_5_DOORS      NISSAN      SILVER                LTR   \n",
       "13478  HATCHBACK_5_DOORS      NISSAN         RED                LTR   \n",
       "13633  HATCHBACK_5_DOORS      NISSAN        BLUE                LTR   \n",
       "13660  HATCHBACK_5_DOORS      NISSAN       BLACK                LTR   \n",
       "13720  HATCHBACK_5_DOORS      NISSAN         RED                LTR   \n",
       "13812  HATCHBACK_5_DOORS      NISSAN  LIGHT_BLUE                LTR   \n",
       "13915  HATCHBACK_5_DOORS      NISSAN         RED                LTR   \n",
       "13952  HATCHBACK_5_DOORS      NISSAN       WHITE                LTR   \n",
       "13989  HATCHBACK_5_DOORS      NISSAN       BLACK                LTR   \n",
       "14147  HATCHBACK_5_DOORS      NISSAN        GRAY                LTR   \n",
       "14419  HATCHBACK_5_DOORS      NISSAN        GRAY                LTR   \n",
       "23869  HATCHBACK_5_DOORS  VOLKSWAGEN       BLACK                LTR   \n",
       "23948  HATCHBACK_5_DOORS  VOLKSWAGEN       WHITE                LTR   \n",
       "27064  HATCHBACK_5_DOORS  MITSUBISHI       WHITE                LTR   \n",
       "28241  HATCHBACK_5_DOORS  MITSUBISHI      SILVER                LTR   \n",
       "32668  HATCHBACK_5_DOORS      NISSAN       BLACK                LTR   \n",
       "32700  HATCHBACK_5_DOORS      NISSAN  LIGHT_BLUE                LTR   \n",
       "32798  HATCHBACK_5_DOORS      NISSAN       BLACK                LTR   \n",
       "34159  HATCHBACK_5_DOORS    MERCEDES       WHITE                LTR   \n",
       "34504  HATCHBACK_5_DOORS      NISSAN       BLACK                LTR   \n",
       "\n",
       "      enginePower                                     equipment_dict fuelType  \\\n",
       "5241      408 N12  {\"asr\":true,\"esp\":true,\"usb\":true,\"e-adjustmen...  электро   \n",
       "7992      170 N12                                                NaN  электро   \n",
       "8252      170 N12        {\"park-assist-f\":true,\"park-assist-r\":true}  электро   \n",
       "8350      170 N12  {\"cruise-control\":true,\"asr\":true,\"esp\":true,\"...  электро   \n",
       "8684      170 N12  {\"cruise-control\":true,\"glonass\":true,\"navigat...  электро   \n",
       "8722      170 N12                                                NaN  электро   \n",
       "8917      170 N12                 {\"glonass\":true,\"roof-rails\":true}  электро   \n",
       "10817     170 N12                                                NaN  электро   \n",
       "10936     170 N12  {\"cruise-control\":true,\"asr\":true,\"tinted-glas...  электро   \n",
       "11043     170 N12  {\"glonass\":true,\"airbag-driver\":true,\"aux\":tru...  электро   \n",
       "11302     109 N12  {\"asr\":true,\"tinted-glass\":true,\"start-stop-fu...  электро   \n",
       "11682     150 N12  {\"tinted-glass\":true,\"esp\":true,\"adaptive-ligh...  электро   \n",
       "11714     150 N12  {\"collision-prevention-assist\":true,\"led-light...  электро   \n",
       "11719     109 N12                                                NaN  электро   \n",
       "11754     109 N12  {\"cruise-control\":true,\"start-button\":true,\"ra...  электро   \n",
       "11878     109 N12  {\"asr\":true,\"glonass\":true,\"tinted-glass\":true...  электро   \n",
       "11974     109 N12  {\"asr\":true,\"tinted-glass\":true,\"esp\":true,\"ai...  электро   \n",
       "12072     109 N12                                                NaN  электро   \n",
       "12085     109 N12  {\"cruise-control\":true,\"esp\":true,\"start-stop-...  электро   \n",
       "12100     109 N12  {\"tinted-glass\":true,\"esp\":true,\"aux\":true,\"us...  электро   \n",
       "12250     109 N12  {\"engine-proof\":true,\"glonass\":true,\"tinted-gl...  электро   \n",
       "12287     109 N12  {\"glonass\":true,\"esp\":true,\"aux\":true,\"usb\":tr...  электро   \n",
       "12334     109 N12  {\"engine-proof\":true,\"cruise-control\":true,\"ti...  электро   \n",
       "12466     109 N12  {\"cruise-control\":true,\"asr\":true,\"tinted-glas...  электро   \n",
       "12481     109 N12  {\"cruise-control\":true,\"tinted-glass\":true,\"es...  электро   \n",
       "12558     109 N12  {\"cruise-control\":true,\"asr\":true,\"tinted-glas...  электро   \n",
       "12582     109 N12  {\"cruise-control\":true,\"asr\":true,\"tinted-glas...  электро   \n",
       "12678     109 N12  {\"cruise-control\":true,\"esp\":true,\"airbag-driv...  электро   \n",
       "12749     109 N12  {\"engine-proof\":true,\"cruise-control\":true,\"as...  электро   \n",
       "12854     109 N12  {\"electro-window-back\":true,\"alloy-wheel-disks...  электро   \n",
       "12916     109 N12  {\"cruise-control\":true,\"tinted-glass\":true,\"es...  электро   \n",
       "12948     109 N12                                                NaN  электро   \n",
       "12950     109 N12  {\"cruise-control\":true,\"asr\":true,\"tinted-glas...  электро   \n",
       "13052     109 N12  {\"cruise-control\":true,\"tinted-glass\":true,\"es...  электро   \n",
       "13104     109 N12  {\"cruise-control\":true,\"esp\":true,\"adaptive-li...  электро   \n",
       "13105     109 N12  {\"cruise-control\":true,\"tinted-glass\":true,\"st...  электро   \n",
       "13478     109 N12  {\"cruise-control\":true,\"airbag-driver\":true,\"a...  электро   \n",
       "13633     109 N12                                                NaN  электро   \n",
       "13660     109 N12  {\"cruise-control\":true,\"tinted-glass\":true,\"es...  электро   \n",
       "13720     109 N12  {\"electro-window-back\":true,\"esp\":true,\"start-...  электро   \n",
       "13812     109 N12                                                NaN  электро   \n",
       "13915     109 N12  {\"cruise-control\":true,\"steel-wheels\":true,\"au...  электро   \n",
       "13952     109 N12  {\"electro-window-back\":true,\"cruise-control\":t...  электро   \n",
       "13989     109 N12  {\"electro-window-back\":true,\"16-inch-wheels\":t...  электро   \n",
       "14147     109 N12  {\"glonass\":true,\"esp\":true,\"start-stop-functio...  электро   \n",
       "14419     109 N12  {\"cruise-control\":true,\"asr\":true,\"esp\":true,\"...  электро   \n",
       "23869     115 N12  {\"cruise-control\":true,\"asr\":true,\"esp\":true,\"...  электро   \n",
       "23948     115 N12  {\"cruise-control\":true,\"engine-proof\":true,\"es...  электро   \n",
       "27064      67 N12                                                NaN  электро   \n",
       "28241      67 N12                                                NaN  электро   \n",
       "32668     150 N12  {\"cruise-control\":true,\"glonass\":true,\"ptf\":tr...  электро   \n",
       "32700     109 N12  {\"cruise-control\":true,\"airbag-rear-side\":true...  электро   \n",
       "32798     109 N12  {\"tinted-glass\":true,\"esp\":true,\"start-stop-fu...  электро   \n",
       "34159     179 N12  {\"cruise-control\":true,\"airbag-driver\":true,\"a...  электро   \n",
       "34504     109 N12  {\"alloy-wheel-disks\":true,\"tinted-glass\":true,...  электро   \n",
       "\n",
       "                                                   image  mileage  modelDate  \\\n",
       "5241   https://avatars.mds.yandex.net/get-autoru-vos/...      885       2018   \n",
       "7992   https://avatars.mds.yandex.net/get-autoru-vos/...    32000       2017   \n",
       "8252   https://autoru.naydex.net/lICN99c69/9bc7d3Rr7k...    51000       2013   \n",
       "8350   https://avatars.mds.yandex.net/get-autoru-vos/...    25000       2017   \n",
       "8684   https://avatars.mds.yandex.net/get-autoru-vos/...    58500       2013   \n",
       "8722   https://autoru.naydex.net/lICN99c69/9bc7d3Rr7k...    28800       2013   \n",
       "8917   https://avatars.mds.yandex.net/get-autoru-vos/...    39000       2013   \n",
       "10817  https://avatars.mds.yandex.net/get-autoru-vos/...    50359       2013   \n",
       "10936  https://avatars.mds.yandex.net/get-autoru-vos/...    78000       2013   \n",
       "11043  https://autoru.naydex.net/ys1kR7800/fbd964zfcB...    20000       2013   \n",
       "11302  https://avatars.mds.yandex.net/get-autoru-vos/...    91357       2010   \n",
       "11682  https://autoru.naydex.net/G87gDZg56/28c7a8vqVE...     9000       2017   \n",
       "11714  https://avatars.mds.yandex.net/get-autoru-vos/...    14800       2017   \n",
       "11719  https://avatars.mds.yandex.net/get-autoru-vos/...   102000       2010   \n",
       "11754  https://autoru.naydex.net/G87gDZg56/28c7a8vqVE...    34500       2010   \n",
       "11878  https://autoru.naydex.net/G87gDZg56/28c7a8vqVE...    66000       2010   \n",
       "11974  https://autoru.naydex.net/G87gDZg56/28c7a8vqVE...    40000       2010   \n",
       "12072  https://avatars.mds.yandex.net/get-autoru-vos/...    52755       2010   \n",
       "12085  https://autoru.naydex.net/G87gDZg56/28c7a8vqVE...    26100       2010   \n",
       "12100  https://avatars.mds.yandex.net/get-autoru-vos/...    26000       2010   \n",
       "12250  https://autoru.naydex.net/G87gDZg56/28c7a8vqVE...    63000       2010   \n",
       "12287  https://avatars.mds.yandex.net/get-autoru-vos/...    45000       2010   \n",
       "12334  https://autoru.naydex.net/G87gDZg56/28c7a8vqVE...    48320       2010   \n",
       "12466  https://autoru.naydex.net/G87gDZg56/28c7a8vqVE...    52000       2010   \n",
       "12481  https://avatars.mds.yandex.net/get-autoru-vos/...   145000       2010   \n",
       "12558  https://autoru.naydex.net/G87gDZg56/28c7a8vqVE...    53000       2010   \n",
       "12582  https://avatars.mds.yandex.net/get-autoru-vos/...    42500       2010   \n",
       "12678  https://autoru.naydex.net/G87gDZg56/28c7a8vqVE...    34000       2010   \n",
       "12749  https://avatars.mds.yandex.net/get-autoru-vos/...    74000       2010   \n",
       "12854  https://autoru.naydex.net/G87gDZg56/28c7a8vqVE...   100000       2010   \n",
       "12916  https://avatars.mds.yandex.net/get-autoru-vos/...    81100       2010   \n",
       "12948  https://autoru.naydex.net/G87gDZg56/28c7a8vqVE...    57000       2010   \n",
       "12950  https://autoru.naydex.net/G87gDZg56/28c7a8vqVE...    59000       2010   \n",
       "13052  https://autoru.naydex.net/G87gDZg56/28c7a8vqVE...    55000       2010   \n",
       "13104  https://autoru.naydex.net/G87gDZg56/28c7a8vqVE...   104000       2010   \n",
       "13105  https://avatars.mds.yandex.net/get-autoru-vos/...   134000       2010   \n",
       "13478  https://autoru.naydex.net/G87gDZg56/28c7a8vqVE...    48000       2010   \n",
       "13633  https://autoru.naydex.net/G87gDZg56/28c7a8vqVE...   103238       2010   \n",
       "13660  https://avatars.mds.yandex.net/get-autoru-vos/...    66000       2010   \n",
       "13720  https://autoru.naydex.net/G87gDZg56/28c7a8vqVE...    57000       2010   \n",
       "13812  https://avatars.mds.yandex.net/get-autoru-vos/...    71500       2010   \n",
       "13915  https://avatars.mds.yandex.net/get-autoru-vos/...    26100       2010   \n",
       "13952  https://autoru.naydex.net/G87gDZg56/28c7a8vqVE...    87000       2010   \n",
       "13989  https://avatars.mds.yandex.net/get-autoru-vos/...    45364       2010   \n",
       "14147  https://autoru.naydex.net/G87gDZg56/28c7a8vqVE...   710000       2010   \n",
       "14419  https://avatars.mds.yandex.net/get-autoru-vos/...    78000       2010   \n",
       "23869  https://autoru.naydex.net/o9DBXQ270/5ac010hAY0...    27000       2012   \n",
       "23948  https://avatars.mds.yandex.net/get-autoru-vos/...    12638       2012   \n",
       "27064  https://autoru.naydex.net/mcQh17801/f1b5751dCi...    40000       2010   \n",
       "28241  https://autoru.naydex.net/mcQh17801/f1b5751dCi...    38550       2010   \n",
       "32668  https://autoru.naydex.net/1xsMU7627/eea2057RFg...      100       2017   \n",
       "32700  https://avatars.mds.yandex.net/get-autoru-vos/...    29500       2010   \n",
       "32798  https://autoru.naydex.net/1xsMU7627/eea2057RFg...    50000       2010   \n",
       "34159  https://autoru.naydex.net/O1Iap7626/e63034lCq/...    28900       2014   \n",
       "34504  https://autoru.naydex.net/16IvE9y79/a7f8demo/N...   103075       2010   \n",
       "\n",
       "                                              model_info model_name  \\\n",
       "5241   {\"code\":\"E_TRON\",\"name\":\"e-tron\",\"ru_name\":\"И-...     E_TRON   \n",
       "7992   {\"code\":\"I3\",\"name\":\"i3\",\"ru_name\":\"и3\",\"morph...         I3   \n",
       "8252   {\"code\":\"I3\",\"name\":\"i3\",\"ru_name\":\"и3\",\"morph...         I3   \n",
       "8350   {\"code\":\"I3\",\"name\":\"i3\",\"ru_name\":\"и3\",\"morph...         I3   \n",
       "8684   {\"code\":\"I3\",\"name\":\"i3\",\"ru_name\":\"и3\",\"morph...         I3   \n",
       "8722   {\"code\":\"I3\",\"name\":\"i3\",\"ru_name\":\"и3\",\"morph...         I3   \n",
       "8917   {\"code\":\"I3\",\"name\":\"i3\",\"ru_name\":\"и3\",\"morph...         I3   \n",
       "10817  {\"code\":\"I3\",\"name\":\"i3\",\"ru_name\":\"и3\",\"morph...         I3   \n",
       "10936  {\"code\":\"I3\",\"name\":\"i3\",\"ru_name\":\"и3\",\"morph...         I3   \n",
       "11043  {\"code\":\"I3\",\"name\":\"i3\",\"ru_name\":\"и3\",\"morph...         I3   \n",
       "11302  {\"code\":\"LEAF\",\"name\":\"Leaf\",\"ru_name\":\"лиф\",\"...       LEAF   \n",
       "11682  {\"code\":\"LEAF\",\"name\":\"Leaf\",\"ru_name\":\"лиф\",\"...       LEAF   \n",
       "11714  {\"code\":\"LEAF\",\"name\":\"Leaf\",\"ru_name\":\"лиф\",\"...       LEAF   \n",
       "11719  {\"code\":\"LEAF\",\"name\":\"Leaf\",\"ru_name\":\"лиф\",\"...       LEAF   \n",
       "11754  {\"code\":\"LEAF\",\"name\":\"Leaf\",\"ru_name\":\"лиф\",\"...       LEAF   \n",
       "11878  {\"code\":\"LEAF\",\"name\":\"Leaf\",\"ru_name\":\"лиф\",\"...       LEAF   \n",
       "11974  {\"code\":\"LEAF\",\"name\":\"Leaf\",\"ru_name\":\"лиф\",\"...       LEAF   \n",
       "12072  {\"code\":\"LEAF\",\"name\":\"Leaf\",\"ru_name\":\"лиф\",\"...       LEAF   \n",
       "12085  {\"code\":\"LEAF\",\"name\":\"Leaf\",\"ru_name\":\"лиф\",\"...       LEAF   \n",
       "12100  {\"code\":\"LEAF\",\"name\":\"Leaf\",\"ru_name\":\"лиф\",\"...       LEAF   \n",
       "12250  {\"code\":\"LEAF\",\"name\":\"Leaf\",\"ru_name\":\"лиф\",\"...       LEAF   \n",
       "12287  {\"code\":\"LEAF\",\"name\":\"Leaf\",\"ru_name\":\"лиф\",\"...       LEAF   \n",
       "12334  {\"code\":\"LEAF\",\"name\":\"Leaf\",\"ru_name\":\"лиф\",\"...       LEAF   \n",
       "12466  {\"code\":\"LEAF\",\"name\":\"Leaf\",\"ru_name\":\"лиф\",\"...       LEAF   \n",
       "12481  {\"code\":\"LEAF\",\"name\":\"Leaf\",\"ru_name\":\"лиф\",\"...       LEAF   \n",
       "12558  {\"code\":\"LEAF\",\"name\":\"Leaf\",\"ru_name\":\"лиф\",\"...       LEAF   \n",
       "12582  {\"code\":\"LEAF\",\"name\":\"Leaf\",\"ru_name\":\"лиф\",\"...       LEAF   \n",
       "12678  {\"code\":\"LEAF\",\"name\":\"Leaf\",\"ru_name\":\"лиф\",\"...       LEAF   \n",
       "12749  {\"code\":\"LEAF\",\"name\":\"Leaf\",\"ru_name\":\"лиф\",\"...       LEAF   \n",
       "12854  {\"code\":\"LEAF\",\"name\":\"Leaf\",\"ru_name\":\"лиф\",\"...       LEAF   \n",
       "12916  {\"code\":\"LEAF\",\"name\":\"Leaf\",\"ru_name\":\"лиф\",\"...       LEAF   \n",
       "12948  {\"code\":\"LEAF\",\"name\":\"Leaf\",\"ru_name\":\"лиф\",\"...       LEAF   \n",
       "12950  {\"code\":\"LEAF\",\"name\":\"Leaf\",\"ru_name\":\"лиф\",\"...       LEAF   \n",
       "13052  {\"code\":\"LEAF\",\"name\":\"Leaf\",\"ru_name\":\"лиф\",\"...       LEAF   \n",
       "13104  {\"code\":\"LEAF\",\"name\":\"Leaf\",\"ru_name\":\"лиф\",\"...       LEAF   \n",
       "13105  {\"code\":\"LEAF\",\"name\":\"Leaf\",\"ru_name\":\"лиф\",\"...       LEAF   \n",
       "13478  {\"code\":\"LEAF\",\"name\":\"Leaf\",\"ru_name\":\"лиф\",\"...       LEAF   \n",
       "13633  {\"code\":\"LEAF\",\"name\":\"Leaf\",\"ru_name\":\"лиф\",\"...       LEAF   \n",
       "13660  {\"code\":\"LEAF\",\"name\":\"Leaf\",\"ru_name\":\"лиф\",\"...       LEAF   \n",
       "13720  {\"code\":\"LEAF\",\"name\":\"Leaf\",\"ru_name\":\"лиф\",\"...       LEAF   \n",
       "13812  {\"code\":\"LEAF\",\"name\":\"Leaf\",\"ru_name\":\"лиф\",\"...       LEAF   \n",
       "13915  {\"code\":\"LEAF\",\"name\":\"Leaf\",\"ru_name\":\"лиф\",\"...       LEAF   \n",
       "13952  {\"code\":\"LEAF\",\"name\":\"Leaf\",\"ru_name\":\"лиф\",\"...       LEAF   \n",
       "13989  {\"code\":\"LEAF\",\"name\":\"Leaf\",\"ru_name\":\"лиф\",\"...       LEAF   \n",
       "14147  {\"code\":\"LEAF\",\"name\":\"Leaf\",\"ru_name\":\"лиф\",\"...       LEAF   \n",
       "14419  {\"code\":\"LEAF\",\"name\":\"Leaf\",\"ru_name\":\"лиф\",\"...       LEAF   \n",
       "23869  {\"code\":\"GOLF\",\"name\":\"Golf\",\"ru_name\":\"Гольф\"...       GOLF   \n",
       "23948  {\"code\":\"GOLF\",\"name\":\"Golf\",\"ru_name\":\"Гольф\"...       GOLF   \n",
       "27064  {\"code\":\"I_MIEV\",\"name\":\"i-MiEV\",\"ru_name\":\"i-...     I_MIEV   \n",
       "28241  {\"code\":\"I_MIEV\",\"name\":\"i-MiEV\",\"ru_name\":\"i-...     I_MIEV   \n",
       "32668  {\"code\":\"LEAF\",\"name\":\"Leaf\",\"ru_name\":\"лиф\",\"...       LEAF   \n",
       "32700  {\"code\":\"LEAF\",\"name\":\"Leaf\",\"ru_name\":\"лиф\",\"...       LEAF   \n",
       "32798  {\"code\":\"LEAF\",\"name\":\"Leaf\",\"ru_name\":\"лиф\",\"...       LEAF   \n",
       "34159  {\"code\":\"B_KLASSE\",\"name\":\"B-Класс\",\"ru_name\":...   B_KLASSE   \n",
       "34504  {\"code\":\"LEAF\",\"name\":\"Leaf\",\"ru_name\":\"лиф\",\"...       LEAF   \n",
       "\n",
       "                              name  numberOfDoors  parsing_unixtime  \\\n",
       "5241   55 Electro AT (301 кВт) 4WD              5        1603132719   \n",
       "7992          Electro AT (126 кВт)              5        1603109407   \n",
       "8252          Electro AT (126 кВт)              5        1603110423   \n",
       "8350          Electro AT (126 кВт)              5        1603110814   \n",
       "8684     94Ah Electro AT (126 кВт)              5        1603112107   \n",
       "8722          Electro AT (126 кВт)              5        1603112248   \n",
       "8917     94Ah Electro AT (126 кВт)              5        1603113092   \n",
       "10817         Electro AT (126 кВт)              5        1603120595   \n",
       "10936         Electro AT (126 кВт)              5        1603121049   \n",
       "11043    94Ah Electro AT (126 кВт)              5        1603121457   \n",
       "11302          Electro AT (81 кВт)              5        1603270279   \n",
       "11682         Electro AT (111 кВт)              5        1603271771   \n",
       "11714         Electro AT (111 кВт)              5        1603271891   \n",
       "11719          Electro AT (81 кВт)              5        1603271909   \n",
       "11754          Electro AT (81 кВт)              5        1603272047   \n",
       "11878          Electro AT (81 кВт)              5        1603272515   \n",
       "11974          Electro AT (81 кВт)              5        1603272879   \n",
       "12072          Electro AT (81 кВт)              5        1603273264   \n",
       "12085          Electro AT (81 кВт)              5        1603273313   \n",
       "12100    30kWh Electro AT (81 кВт)              5        1603273367   \n",
       "12250          Electro AT (81 кВт)              5        1603273950   \n",
       "12287          Electro AT (81 кВт)              5        1603274088   \n",
       "12334          Electro AT (81 кВт)              5        1603274263   \n",
       "12466    30kWh Electro AT (81 кВт)              5        1603274762   \n",
       "12481          Electro AT (81 кВт)              5        1603274830   \n",
       "12558          Electro AT (81 кВт)              5        1603275171   \n",
       "12582    30kWh Electro AT (81 кВт)              5        1603275261   \n",
       "12678          Electro AT (81 кВт)              5        1603275627   \n",
       "12749          Electro AT (81 кВт)              5        1603275897   \n",
       "12854          Electro AT (81 кВт)              5        1603276292   \n",
       "12916          Electro AT (81 кВт)              5        1603276526   \n",
       "12948          Electro AT (81 кВт)              5        1603276645   \n",
       "12950          Electro AT (81 кВт)              5        1603276653   \n",
       "13052          Electro AT (81 кВт)              5        1603277036   \n",
       "13104          Electro AT (81 кВт)              5        1603277228   \n",
       "13105          Electro AT (81 кВт)              5        1603277232   \n",
       "13478    30kWh Electro AT (81 кВт)              5        1603278613   \n",
       "13633          Electro AT (81 кВт)              5        1603279199   \n",
       "13660          Electro AT (81 кВт)              5        1603279302   \n",
       "13720          Electro AT (81 кВт)              5        1603279529   \n",
       "13812          Electro AT (81 кВт)              5        1603279868   \n",
       "13915    30kWh Electro AT (81 кВт)              5        1603280250   \n",
       "13952          Electro AT (81 кВт)              5        1603280387   \n",
       "13989          Electro AT (81 кВт)              5        1603280521   \n",
       "14147          Electro AT (81 кВт)              5        1603281131   \n",
       "14419          Electro AT (81 кВт)              5        1603282139   \n",
       "23869   e-Golf Electro AT (85 кВт)              5        1603215408   \n",
       "23948   e-Golf Electro AT (85 кВт)              5        1603215709   \n",
       "27064          Electro AT (50 кВт)              5        1603261303   \n",
       "28241          Electro AT (50 кВт)              5        1603265723   \n",
       "32668         Electro AT (111 кВт)              5        1603604726   \n",
       "32700          Electro AT (81 кВт)              5        1603605068   \n",
       "32798          Electro AT (81 кВт)              5        1603607392   \n",
       "34159   250 e Electro AT (132 кВт)              5        1603668620   \n",
       "34504          Electro AT (81 кВт)              5        1603688872   \n",
       "\n",
       "      priceCurrency  productionDate     sell_id  \\\n",
       "5241            RUB            2019  1101083243   \n",
       "7992            RUB            2018  1101043134   \n",
       "8252            RUB            2014  1101278018   \n",
       "8350            RUB            2018  1100271628   \n",
       "8684            RUB            2017  1101174554   \n",
       "8722            RUB            2017  1100097316   \n",
       "8917            RUB            2017  1100871574   \n",
       "10817           RUB            2016  1101266443   \n",
       "10936           RUB            2016  1099673346   \n",
       "11043           RUB            2017  1099376120   \n",
       "11302           RUB            2011  1101276307   \n",
       "11682           RUB            2018  1101016469   \n",
       "11714           RUB            2017  1096304590   \n",
       "11719           RUB            2011  1098005210   \n",
       "11754           RUB            2011  1100716452   \n",
       "11878           RUB            2013  1100545586   \n",
       "11974           RUB            2011  1080755058   \n",
       "12072           RUB            2012  1101286188   \n",
       "12085           RUB            2015  1094070448   \n",
       "12100           RUB            2016  1096063842   \n",
       "12250           RUB            2013  1099128560   \n",
       "12287           RUB            2013  1099444936   \n",
       "12334           RUB            2013  1101141342   \n",
       "12466           RUB            2016  1101125324   \n",
       "12481           RUB            2013  1101192217   \n",
       "12558           RUB            2011  1090481640   \n",
       "12582           RUB            2015  1097520737   \n",
       "12678           RUB            2014  1095157400   \n",
       "12749           RUB            2015  1096968496   \n",
       "12854           RUB            2011  1098568684   \n",
       "12916           RUB            2014  1099971412   \n",
       "12948           RUB            2014  1099100395   \n",
       "12950           RUB            2014  1099030986   \n",
       "13052           RUB            2013  1099403232   \n",
       "13104           RUB            2014  1092571590   \n",
       "13105           RUB            2012  1089397026   \n",
       "13478           RUB            2016  1101317667   \n",
       "13633           RUB            2012  1007894747   \n",
       "13660           RUB            2012  1099544944   \n",
       "13720           RUB            2012  1097070280   \n",
       "13812           RUB            2013  1097723780   \n",
       "13915           RUB            2016  1084835990   \n",
       "13952           RUB            2013  1101275789   \n",
       "13989           RUB            2014  1096827062   \n",
       "14147           RUB            2013  1095537140   \n",
       "14419           RUB            2014  1093816364   \n",
       "23869           RUB            2016  1096786642   \n",
       "23948           RUB            2014  1100858264   \n",
       "27064           RUB            2016  1101238446   \n",
       "28241           RUB            2012  1101136533   \n",
       "32668           RUB            2018  1101205768   \n",
       "32700           RUB            2011  1101341419   \n",
       "32798           RUB            2013  1091614100   \n",
       "34159           RUB            2016  1101370553   \n",
       "34504           RUB            2013  1101039646   \n",
       "\n",
       "                                               super_gen  \\\n",
       "5241   {\"id\":\"22291114\",\"name\":\"55\",\"nameplate\":\"55\",...   \n",
       "7992   {\"id\":\"21624534\",\"displacement\":0,\"engine_type...   \n",
       "8252   {\"id\":\"20465813\",\"displacement\":0,\"engine_type...   \n",
       "8350   {\"id\":\"21624534\",\"displacement\":0,\"engine_type...   \n",
       "8684   {\"id\":\"20789143\",\"nameplate\":\"94Ah\",\"displacem...   \n",
       "8722   {\"id\":\"20465813\",\"displacement\":0,\"engine_type...   \n",
       "8917   {\"id\":\"20789143\",\"nameplate\":\"94Ah\",\"displacem...   \n",
       "10817  {\"id\":\"20465813\",\"displacement\":0,\"engine_type...   \n",
       "10936  {\"id\":\"20465813\",\"displacement\":0,\"engine_type...   \n",
       "11043  {\"id\":\"20789143\",\"nameplate\":\"94Ah\",\"displacem...   \n",
       "11302  {\"id\":\"20471790\",\"displacement\":0,\"engine_type...   \n",
       "11682  {\"id\":\"21110150\",\"displacement\":0,\"engine_type...   \n",
       "11714  {\"id\":\"21110150\",\"displacement\":0,\"engine_type...   \n",
       "11719  {\"id\":\"20471790\",\"displacement\":0,\"engine_type...   \n",
       "11754  {\"id\":\"20471790\",\"displacement\":0,\"engine_type...   \n",
       "11878  {\"id\":\"21216745\",\"displacement\":0,\"engine_type...   \n",
       "11974  {\"id\":\"20471790\",\"displacement\":0,\"engine_type...   \n",
       "12072  {\"id\":\"21216745\",\"displacement\":0,\"engine_type...   \n",
       "12085  {\"id\":\"21216745\",\"displacement\":0,\"engine_type...   \n",
       "12100  {\"id\":\"21216761\",\"nameplate\":\"30kWh\",\"displace...   \n",
       "12250  {\"id\":\"21216745\",\"displacement\":0,\"engine_type...   \n",
       "12287  {\"id\":\"21216745\",\"displacement\":0,\"engine_type...   \n",
       "12334  {\"id\":\"21216745\",\"displacement\":0,\"engine_type...   \n",
       "12466  {\"id\":\"21216761\",\"nameplate\":\"30kWh\",\"displace...   \n",
       "12481  {\"id\":\"21216745\",\"displacement\":0,\"engine_type...   \n",
       "12558  {\"id\":\"20471790\",\"displacement\":0,\"engine_type...   \n",
       "12582  {\"id\":\"21216761\",\"nameplate\":\"30kWh\",\"displace...   \n",
       "12678  {\"id\":\"21216745\",\"displacement\":0,\"engine_type...   \n",
       "12749  {\"id\":\"21216745\",\"displacement\":0,\"engine_type...   \n",
       "12854  {\"id\":\"20471790\",\"displacement\":0,\"engine_type...   \n",
       "12916  {\"id\":\"21216745\",\"displacement\":0,\"engine_type...   \n",
       "12948  {\"id\":\"21216745\",\"displacement\":0,\"engine_type...   \n",
       "12950  {\"id\":\"21216745\",\"displacement\":0,\"engine_type...   \n",
       "13052  {\"id\":\"21216745\",\"displacement\":0,\"engine_type...   \n",
       "13104  {\"id\":\"21216745\",\"displacement\":0,\"engine_type...   \n",
       "13105  {\"id\":\"21216745\",\"displacement\":0,\"engine_type...   \n",
       "13478  {\"id\":\"21216761\",\"nameplate\":\"30kWh\",\"displace...   \n",
       "13633  {\"id\":\"20471790\",\"displacement\":0,\"engine_type...   \n",
       "13660  {\"id\":\"20471790\",\"displacement\":0,\"engine_type...   \n",
       "13720  {\"id\":\"20471790\",\"displacement\":0,\"engine_type...   \n",
       "13812  {\"id\":\"21216745\",\"displacement\":0,\"engine_type...   \n",
       "13915  {\"id\":\"21216761\",\"nameplate\":\"30kWh\",\"displace...   \n",
       "13952  {\"id\":\"21216745\",\"displacement\":0,\"engine_type...   \n",
       "13989  {\"id\":\"21216745\",\"displacement\":0,\"engine_type...   \n",
       "14147  {\"id\":\"21216745\",\"displacement\":0,\"engine_type...   \n",
       "14419  {\"id\":\"21216745\",\"displacement\":0,\"engine_type...   \n",
       "23869  {\"id\":\"20513237\",\"name\":\"e-Golf\",\"nameplate\":\"...   \n",
       "23948  {\"id\":\"20513237\",\"name\":\"e-Golf\",\"nameplate\":\"...   \n",
       "27064  {\"id\":\"20471034\",\"displacement\":0,\"engine_type...   \n",
       "28241  {\"id\":\"20471034\",\"displacement\":0,\"engine_type...   \n",
       "32668  {\"id\":\"21110150\",\"displacement\":0,\"engine_type...   \n",
       "32700  {\"id\":\"20471790\",\"displacement\":0,\"engine_type...   \n",
       "32798  {\"id\":\"21216745\",\"displacement\":0,\"engine_type...   \n",
       "34159  {\"id\":\"20803379\",\"name\":\"250 e\",\"nameplate\":\"2...   \n",
       "34504  {\"id\":\"21216745\",\"displacement\":0,\"engine_type...   \n",
       "\n",
       "              vehicleConfiguration vehicleTransmission    vendor    Владельцы  \\\n",
       "5241     ALLROAD_5_DOORS AUTOMATIC      автоматическая  EUROPEAN   1 владелец   \n",
       "7992   HATCHBACK_5_DOORS AUTOMATIC      автоматическая  EUROPEAN   1 владелец   \n",
       "8252   HATCHBACK_5_DOORS AUTOMATIC      автоматическая  EUROPEAN   1 владелец   \n",
       "8350   HATCHBACK_5_DOORS AUTOMATIC      автоматическая  EUROPEAN   1 владелец   \n",
       "8684   HATCHBACK_5_DOORS AUTOMATIC      автоматическая  EUROPEAN   1 владелец   \n",
       "8722   HATCHBACK_5_DOORS AUTOMATIC      автоматическая  EUROPEAN   1 владелец   \n",
       "8917   HATCHBACK_5_DOORS AUTOMATIC      автоматическая  EUROPEAN   1 владелец   \n",
       "10817  HATCHBACK_5_DOORS AUTOMATIC      автоматическая  EUROPEAN   1 владелец   \n",
       "10936  HATCHBACK_5_DOORS AUTOMATIC      автоматическая  EUROPEAN   1 владелец   \n",
       "11043  HATCHBACK_5_DOORS AUTOMATIC      автоматическая  EUROPEAN   1 владелец   \n",
       "11302  HATCHBACK_5_DOORS AUTOMATIC      автоматическая  JAPANESE  3 или более   \n",
       "11682  HATCHBACK_5_DOORS AUTOMATIC      автоматическая  JAPANESE   1 владелец   \n",
       "11714  HATCHBACK_5_DOORS AUTOMATIC      автоматическая  JAPANESE   1 владелец   \n",
       "11719  HATCHBACK_5_DOORS AUTOMATIC      автоматическая  JAPANESE   1 владелец   \n",
       "11754  HATCHBACK_5_DOORS AUTOMATIC      автоматическая  JAPANESE  2 владельца   \n",
       "11878  HATCHBACK_5_DOORS AUTOMATIC      автоматическая  JAPANESE   1 владелец   \n",
       "11974  HATCHBACK_5_DOORS AUTOMATIC      автоматическая  JAPANESE   1 владелец   \n",
       "12072  HATCHBACK_5_DOORS AUTOMATIC      автоматическая  JAPANESE  3 или более   \n",
       "12085  HATCHBACK_5_DOORS AUTOMATIC      автоматическая  JAPANESE   1 владелец   \n",
       "12100  HATCHBACK_5_DOORS AUTOMATIC      автоматическая  JAPANESE   1 владелец   \n",
       "12250  HATCHBACK_5_DOORS AUTOMATIC      автоматическая  JAPANESE   1 владелец   \n",
       "12287  HATCHBACK_5_DOORS AUTOMATIC      автоматическая  JAPANESE   1 владелец   \n",
       "12334  HATCHBACK_5_DOORS AUTOMATIC      автоматическая  JAPANESE   1 владелец   \n",
       "12466  HATCHBACK_5_DOORS AUTOMATIC      автоматическая  JAPANESE   1 владелец   \n",
       "12481  HATCHBACK_5_DOORS AUTOMATIC      автоматическая  JAPANESE   1 владелец   \n",
       "12558  HATCHBACK_5_DOORS AUTOMATIC      автоматическая  JAPANESE   1 владелец   \n",
       "12582  HATCHBACK_5_DOORS AUTOMATIC      автоматическая  JAPANESE   1 владелец   \n",
       "12678  HATCHBACK_5_DOORS AUTOMATIC      автоматическая  JAPANESE   1 владелец   \n",
       "12749  HATCHBACK_5_DOORS AUTOMATIC      автоматическая  JAPANESE   1 владелец   \n",
       "12854  HATCHBACK_5_DOORS AUTOMATIC      автоматическая  JAPANESE  2 владельца   \n",
       "12916  HATCHBACK_5_DOORS AUTOMATIC      автоматическая  JAPANESE   1 владелец   \n",
       "12948  HATCHBACK_5_DOORS AUTOMATIC      автоматическая  JAPANESE  2 владельца   \n",
       "12950  HATCHBACK_5_DOORS AUTOMATIC      автоматическая  JAPANESE   1 владелец   \n",
       "13052  HATCHBACK_5_DOORS AUTOMATIC      автоматическая  JAPANESE   1 владелец   \n",
       "13104  HATCHBACK_5_DOORS AUTOMATIC      автоматическая  JAPANESE   1 владелец   \n",
       "13105  HATCHBACK_5_DOORS AUTOMATIC      автоматическая  JAPANESE   1 владелец   \n",
       "13478  HATCHBACK_5_DOORS AUTOMATIC      автоматическая  JAPANESE   1 владелец   \n",
       "13633  HATCHBACK_5_DOORS AUTOMATIC      автоматическая  JAPANESE  2 владельца   \n",
       "13660  HATCHBACK_5_DOORS AUTOMATIC      автоматическая  JAPANESE   1 владелец   \n",
       "13720  HATCHBACK_5_DOORS AUTOMATIC      автоматическая  JAPANESE   1 владелец   \n",
       "13812  HATCHBACK_5_DOORS AUTOMATIC      автоматическая  JAPANESE   1 владелец   \n",
       "13915  HATCHBACK_5_DOORS AUTOMATIC      автоматическая  JAPANESE   1 владелец   \n",
       "13952  HATCHBACK_5_DOORS AUTOMATIC      автоматическая  JAPANESE   1 владелец   \n",
       "13989  HATCHBACK_5_DOORS AUTOMATIC      автоматическая  JAPANESE   1 владелец   \n",
       "14147  HATCHBACK_5_DOORS AUTOMATIC      автоматическая  JAPANESE  2 владельца   \n",
       "14419  HATCHBACK_5_DOORS AUTOMATIC      автоматическая  JAPANESE  2 владельца   \n",
       "23869  HATCHBACK_5_DOORS AUTOMATIC      автоматическая  EUROPEAN   1 владелец   \n",
       "23948  HATCHBACK_5_DOORS AUTOMATIC      автоматическая  EUROPEAN   1 владелец   \n",
       "27064  HATCHBACK_5_DOORS AUTOMATIC      автоматическая  JAPANESE  2 владельца   \n",
       "28241  HATCHBACK_5_DOORS AUTOMATIC      автоматическая  JAPANESE  2 владельца   \n",
       "32668  HATCHBACK_5_DOORS AUTOMATIC      автоматическая  JAPANESE   1 владелец   \n",
       "32700  HATCHBACK_5_DOORS AUTOMATIC      автоматическая  JAPANESE   1 владелец   \n",
       "32798  HATCHBACK_5_DOORS AUTOMATIC      автоматическая  JAPANESE   1 владелец   \n",
       "34159  HATCHBACK_5_DOORS AUTOMATIC      автоматическая  EUROPEAN  2 владельца   \n",
       "34504  HATCHBACK_5_DOORS AUTOMATIC      автоматическая  JAPANESE  2 владельца   \n",
       "\n",
       "                 Владение       ПТС    Привод    Руль           Состояние  \\\n",
       "5241     1 год и 3 месяца  Оригинал    полный   Левый  Не требует ремонта   \n",
       "7992                  NaN  Оригинал    задний   Левый  Не требует ремонта   \n",
       "8252              1 месяц  Оригинал    задний   Левый  Не требует ремонта   \n",
       "8350                  NaN  Оригинал    задний   Левый  Не требует ремонта   \n",
       "8684                  NaN  Оригинал    задний   Левый  Не требует ремонта   \n",
       "8722                  NaN  Оригинал    задний   Левый  Не требует ремонта   \n",
       "8917                  NaN  Оригинал    задний   Левый  Не требует ремонта   \n",
       "10817                 NaN  Оригинал    задний   Левый  Не требует ремонта   \n",
       "10936                 NaN  Оригинал    задний   Левый  Не требует ремонта   \n",
       "11043           8 месяцев  Оригинал    задний   Левый  Не требует ремонта   \n",
       "11302                 NaN  Оригинал  передний   Левый  Не требует ремонта   \n",
       "11682            2 месяца  Оригинал  передний   Левый  Не требует ремонта   \n",
       "11714                 NaN  Оригинал  передний  Правый  Не требует ремонта   \n",
       "11719           5 месяцев  Оригинал  передний  Правый  Не требует ремонта   \n",
       "11754                 NaN  Оригинал  передний  Правый  Не требует ремонта   \n",
       "11878                 NaN  Оригинал  передний   Левый  Не требует ремонта   \n",
       "11974  3 года и 8 месяцев  Оригинал  передний  Правый  Не требует ремонта   \n",
       "12072           9 месяцев  Оригинал  передний  Правый  Не требует ремонта   \n",
       "12085   1 год и 6 месяцев  Оригинал  передний   Левый  Не требует ремонта   \n",
       "12100    1 год и 3 месяца  Оригинал  передний  Правый  Не требует ремонта   \n",
       "12250           9 месяцев  Оригинал  передний  Правый  Не требует ремонта   \n",
       "12287                 NaN  Оригинал  передний   Левый  Не требует ремонта   \n",
       "12334           5 месяцев  Оригинал  передний  Правый  Не требует ремонта   \n",
       "12466   2 года и 2 месяца  Оригинал  передний  Правый  Не требует ремонта   \n",
       "12481           5 месяцев  Оригинал  передний  Правый  Не требует ремонта   \n",
       "12558    1 год и 2 месяца  Оригинал  передний  Правый  Не требует ремонта   \n",
       "12582  2 года и 6 месяцев  Оригинал  передний  Правый  Не требует ремонта   \n",
       "12678    1 год и 3 месяца  Оригинал  передний  Правый  Не требует ремонта   \n",
       "12749     1 год и 1 месяц  Оригинал  передний  Правый  Не требует ремонта   \n",
       "12854          11 месяцев  Оригинал  передний  Правый  Не требует ремонта   \n",
       "12916                 NaN  Оригинал  передний  Правый  Не требует ремонта   \n",
       "12948                 NaN  Оригинал  передний  Правый  Не требует ремонта   \n",
       "12950                 NaN  Оригинал  передний  Правый  Не требует ремонта   \n",
       "13052   3 года и 4 месяца  Оригинал  передний  Правый  Не требует ремонта   \n",
       "13104               1 год  Оригинал  передний  Правый  Не требует ремонта   \n",
       "13105   2 года и 4 месяца  Оригинал  передний  Правый  Не требует ремонта   \n",
       "13478            4 месяца  Оригинал  передний  Правый  Не требует ремонта   \n",
       "13633  5 лет и 10 месяцев  Оригинал  передний   Левый  Не требует ремонта   \n",
       "13660    1 год и 3 месяца  Оригинал  передний  Правый  Не требует ремонта   \n",
       "13720                 NaN  Оригинал  передний  Правый  Не требует ремонта   \n",
       "13812                 NaN  Оригинал  передний  Правый  Не требует ремонта   \n",
       "13915   2 года и 4 месяца  Оригинал  передний  Правый  Не требует ремонта   \n",
       "13952          11 месяцев  Оригинал  передний  Правый  Не требует ремонта   \n",
       "13989          11 месяцев  Оригинал  передний  Правый  Не требует ремонта   \n",
       "14147                 NaN  Оригинал  передний  Правый  Не требует ремонта   \n",
       "14419     1 год и 1 месяц  Оригинал  передний  Правый  Не требует ремонта   \n",
       "23869                 NaN  Оригинал  передний   Левый  Не требует ремонта   \n",
       "23948                 NaN  Оригинал  передний   Левый  Не требует ремонта   \n",
       "27064              4 года  Оригинал    задний   Левый  Не требует ремонта   \n",
       "28241                 NaN  Оригинал    задний  Правый  Не требует ремонта   \n",
       "32668  1 год и 10 месяцев  Оригинал  передний   Левый  Не требует ремонта   \n",
       "32700           5 месяцев  Оригинал  передний  Правый  Не требует ремонта   \n",
       "32798                 NaN  Оригинал  передний  Правый  Не требует ремонта   \n",
       "34159          10 месяцев  Оригинал  передний   Левый  Не требует ремонта   \n",
       "34504    2 года и 1 месяц  Оригинал  передний  Правый  Не требует ремонта   \n",
       "\n",
       "          Таможня  \n",
       "5241   Растаможен  \n",
       "7992   Растаможен  \n",
       "8252   Растаможен  \n",
       "8350   Растаможен  \n",
       "8684   Растаможен  \n",
       "8722   Растаможен  \n",
       "8917   Растаможен  \n",
       "10817  Растаможен  \n",
       "10936  Растаможен  \n",
       "11043  Растаможен  \n",
       "11302  Растаможен  \n",
       "11682  Растаможен  \n",
       "11714  Растаможен  \n",
       "11719  Растаможен  \n",
       "11754  Растаможен  \n",
       "11878  Растаможен  \n",
       "11974  Растаможен  \n",
       "12072  Растаможен  \n",
       "12085  Растаможен  \n",
       "12100  Растаможен  \n",
       "12250  Растаможен  \n",
       "12287  Растаможен  \n",
       "12334  Растаможен  \n",
       "12466  Растаможен  \n",
       "12481  Растаможен  \n",
       "12558  Растаможен  \n",
       "12582  Растаможен  \n",
       "12678  Растаможен  \n",
       "12749  Растаможен  \n",
       "12854  Растаможен  \n",
       "12916  Растаможен  \n",
       "12948  Растаможен  \n",
       "12950  Растаможен  \n",
       "13052  Растаможен  \n",
       "13104  Растаможен  \n",
       "13105  Растаможен  \n",
       "13478  Растаможен  \n",
       "13633  Растаможен  \n",
       "13660  Растаможен  \n",
       "13720  Растаможен  \n",
       "13812  Растаможен  \n",
       "13915  Растаможен  \n",
       "13952  Растаможен  \n",
       "13989  Растаможен  \n",
       "14147  Растаможен  \n",
       "14419  Растаможен  \n",
       "23869  Растаможен  \n",
       "23948  Растаможен  \n",
       "27064  Растаможен  \n",
       "28241  Растаможен  \n",
       "32668  Растаможен  \n",
       "32700  Растаможен  \n",
       "32798  Растаможен  \n",
       "34159  Растаможен  \n",
       "34504  Растаможен  "
      ]
     },
     "execution_count": 27,
     "metadata": {},
     "output_type": "execute_result"
    }
   ],
   "source": [
    "test_data[test_data.engineDisplacement == ' LTR']"
   ]
  },
  {
   "cell_type": "code",
   "execution_count": 28,
   "metadata": {
    "execution": {
     "iopub.execute_input": "2021-12-01T12:40:42.200447Z",
     "iopub.status.busy": "2021-12-01T12:40:42.199528Z",
     "iopub.status.idle": "2021-12-01T12:40:42.213725Z",
     "shell.execute_reply": "2021-12-01T12:40:42.212920Z",
     "shell.execute_reply.started": "2021-12-01T12:10:19.952533Z"
    },
    "papermill": {
     "duration": 0.231792,
     "end_time": "2021-12-01T12:40:42.214008",
     "exception": false,
     "start_time": "2021-12-01T12:40:41.982216",
     "status": "completed"
    },
    "tags": []
   },
   "outputs": [
    {
     "data": {
      "text/plain": [
       "array(['электро'], dtype=object)"
      ]
     },
     "execution_count": 28,
     "metadata": {},
     "output_type": "execute_result"
    }
   ],
   "source": [
    "test_data[test_data.engineDisplacement == ' LTR'].fuelType.unique()"
   ]
  },
  {
   "cell_type": "code",
   "execution_count": 29,
   "metadata": {
    "execution": {
     "iopub.execute_input": "2021-12-01T12:40:42.658776Z",
     "iopub.status.busy": "2021-12-01T12:40:42.658060Z",
     "iopub.status.idle": "2021-12-01T12:40:42.663439Z",
     "shell.execute_reply": "2021-12-01T12:40:42.662701Z",
     "shell.execute_reply.started": "2021-12-01T12:10:19.966958Z"
    },
    "papermill": {
     "duration": 0.229429,
     "end_time": "2021-12-01T12:40:42.663594",
     "exception": false,
     "start_time": "2021-12-01T12:40:42.434165",
     "status": "completed"
    },
    "tags": []
   },
   "outputs": [],
   "source": [
    "test_data.loc[test_data['engineDisplacement'] == ' LTR','engineDisplacement'] = '0 LTR'"
   ]
  },
  {
   "cell_type": "code",
   "execution_count": 30,
   "metadata": {
    "execution": {
     "iopub.execute_input": "2021-12-01T12:40:43.117206Z",
     "iopub.status.busy": "2021-12-01T12:40:43.116494Z",
     "iopub.status.idle": "2021-12-01T12:40:43.120771Z",
     "shell.execute_reply": "2021-12-01T12:40:43.121289Z",
     "shell.execute_reply.started": "2021-12-01T12:10:19.985990Z"
    },
    "papermill": {
     "duration": 0.23369,
     "end_time": "2021-12-01T12:40:43.121476",
     "exception": false,
     "start_time": "2021-12-01T12:40:42.887786",
     "status": "completed"
    },
    "tags": []
   },
   "outputs": [],
   "source": [
    "def V_engine(cell):\n",
    "    V = cell.find('LTR')\n",
    "    return(float(cell[:V]))"
   ]
  },
  {
   "cell_type": "code",
   "execution_count": 31,
   "metadata": {
    "execution": {
     "iopub.execute_input": "2021-12-01T12:40:43.575780Z",
     "iopub.status.busy": "2021-12-01T12:40:43.574931Z",
     "iopub.status.idle": "2021-12-01T12:40:43.624177Z",
     "shell.execute_reply": "2021-12-01T12:40:43.624980Z",
     "shell.execute_reply.started": "2021-12-01T12:10:19.994591Z"
    },
    "papermill": {
     "duration": 0.281736,
     "end_time": "2021-12-01T12:40:43.625197",
     "exception": false,
     "start_time": "2021-12-01T12:40:43.343461",
     "status": "completed"
    },
    "tags": []
   },
   "outputs": [],
   "source": [
    "test_data.engineDisplacement = test_data.engineDisplacement.apply(V_engine)"
   ]
  },
  {
   "cell_type": "code",
   "execution_count": 32,
   "metadata": {
    "execution": {
     "iopub.execute_input": "2021-12-01T12:40:44.141612Z",
     "iopub.status.busy": "2021-12-01T12:40:44.140847Z",
     "iopub.status.idle": "2021-12-01T12:40:44.152398Z",
     "shell.execute_reply": "2021-12-01T12:40:44.153015Z",
     "shell.execute_reply.started": "2021-12-01T12:10:20.041766Z"
    },
    "papermill": {
     "duration": 0.293385,
     "end_time": "2021-12-01T12:40:44.153202",
     "exception": false,
     "start_time": "2021-12-01T12:40:43.859817",
     "status": "completed"
    },
    "tags": []
   },
   "outputs": [
    {
     "data": {
      "text/plain": [
       "array([1.2, 1.6, 1.8, 2. , 1.4, 1.3, 1. , 3.6, 1.5, 1.9, 2.8, 1.1, 2.5,\n",
       "       4.2, 3. , 4. , 5.9, 2.7, 3.1, 2.4, 5.2, 3.2, 4.1, 6.3, 2.3, 6. ,\n",
       "       2.2, 3.7, 2.9, 5. , 3.3, 2.1, 2.6, 0. , 3.5, 1.7, 0.7, 4.4, 4.8,\n",
       "       5.4, 6.6, 4.9, 3.8, 3.4, 3.9, 4.6, 5.6, 4.5, 5.5, 6.2, 4.7, 4.3,\n",
       "       5.8, 5.3, 5.7])"
      ]
     },
     "execution_count": 32,
     "metadata": {},
     "output_type": "execute_result"
    }
   ],
   "source": [
    "test_data.engineDisplacement.unique()"
   ]
  },
  {
   "cell_type": "markdown",
   "metadata": {
    "papermill": {
     "duration": 0.233946,
     "end_time": "2021-12-01T12:40:44.639656",
     "exception": false,
     "start_time": "2021-12-01T12:40:44.405710",
     "status": "completed"
    },
    "tags": []
   },
   "source": [
    "## enginePower "
   ]
  },
  {
   "cell_type": "code",
   "execution_count": 33,
   "metadata": {
    "execution": {
     "iopub.execute_input": "2021-12-01T12:40:45.102589Z",
     "iopub.status.busy": "2021-12-01T12:40:45.101586Z",
     "iopub.status.idle": "2021-12-01T12:40:45.108703Z",
     "shell.execute_reply": "2021-12-01T12:40:45.108179Z",
     "shell.execute_reply.started": "2021-12-01T12:10:20.054080Z"
    },
    "papermill": {
     "duration": 0.235855,
     "end_time": "2021-12-01T12:40:45.108889",
     "exception": false,
     "start_time": "2021-12-01T12:40:44.873034",
     "status": "completed"
    },
    "tags": []
   },
   "outputs": [
    {
     "data": {
      "text/plain": [
       "array(['105 N12', '110 N12', '152 N12', '200 N12', '102 N12', '150 N12',\n",
       "       '90 N12', '180 N12', '220 N12', '122 N12', '70 N12', '140 N12',\n",
       "       '125 N12', '54 N12', '86 N12', '75 N12', '64 N12', '95 N12',\n",
       "       '260 N12', '170 N12', '80 N12', '68 N12', '160 N12', '115 N12',\n",
       "       '280 N12', '53 N12', '60 N12', '143 N12', '42 N12', '101 N12',\n",
       "       '58 N12', '193 N12', '79 N12', '30 N12', '100 N12', '50 N12',\n",
       "       '163 N12', '225 N12', '420 N12', '211 N12', '245 N12', '560 N12',\n",
       "       '500 N12', '249 N12', '450 N12', '605 N12', '250 N12', '354 N12',\n",
       "       '120 N12', '290 N12', '230 N12', '350 N12', '204 N12', '255 N12',\n",
       "       '340 N12', '177 N12', '272 N12', '372 N12', '210 N12', '130 N12',\n",
       "       '300 N12', '190 N12', '239 N12', '435 N12', '333 N12', '271 N12',\n",
       "       '326 N12', '238 N12', '310 N12', '233 N12', '252 N12', '133 N12',\n",
       "       '460 N12', '520 N12', '400 N12', '525 N12', '367 N12', '265 N12',\n",
       "       '550 N12', '580 N12', '88 N12', '165 N12', '430 N12', '335 N12',\n",
       "       '174 N12', '224 N12', '136 N12', '256 N12', '338 N12', '112 N12',\n",
       "       '218 N12', '360 N12', '93 N12', '182 N12', '113 N12', '240 N12',\n",
       "       '270 N12', '137 N12', '155 N12', '61 N12', '254 N12', '116 N12',\n",
       "       '71 N12', '285 N12', '408 N12', '166 N12', '156 N12', '257 N12',\n",
       "       '201 N12', '162 N12', '194 N12', '142 N12', '154 N12', '147 N12',\n",
       "       '281 N12', '243 N12', '118 N12', '128 N12', '91 N12', '83 N12',\n",
       "       '205 N12', '247 N12', '188 N12', '295 N12', '275 N12', '78 N12',\n",
       "       '109 N12', '94 N12', '185 N12', '258 N12', '145 N12', '132 N12',\n",
       "       '135 N12', '52 N12', '66 N12', '124 N12', '98 N12', '215 N12',\n",
       "       '158 N12', '99 N12', '103 N12', '131 N12', '126 N12', '235 N12',\n",
       "       '181 N12', '315 N12', '203 N12', '231 N12', '82 N12', '304 N12',\n",
       "       '175 N12', '320 N12', '213 N12', '144 N12', '146 N12', '151 N12',\n",
       "       '111 N12', '286 N12', '306 N12', '107 N12', '184 N12', '313 N12',\n",
       "       '264 N12', '575 N12', '407 N12', '192 N12', '129 N12', '555 N12',\n",
       "       '625 N12', '329 N12', '370 N12', '381 N12', '269 N12', '600 N12',\n",
       "       '510 N12', '544 N12', '462 N12', '355 N12', '507 N12', '609 N12',\n",
       "       '431 N12', '530 N12', '387 N12', '610 N12', '197 N12', '343 N12',\n",
       "       '445 N12', '171 N12', '51 N12', '46 N12', '347 N12', '321 N12',\n",
       "       '167 N12', '141 N12', '169 N12', '405 N12', '117 N12', '114 N12',\n",
       "       '173 N12', '234 N12', '540 N12', '106 N12', '49 N12', '248 N12',\n",
       "       '317 N12', '309 N12', '97 N12', '121 N12', '268 N12', '149 N12',\n",
       "       '87 N12', '85 N12', '65 N12', '67 N12', '127 N12', '485 N12',\n",
       "       '186 N12', '222 N12', '307 N12', '262 N12', '302 N12', '284 N12',\n",
       "       '325 N12', '168 N12', '221 N12', '330 N12', '283 N12', '328 N12',\n",
       "       '303 N12', '278 N12', '388 N12', '571 N12', '585 N12', '612 N12',\n",
       "       '401 N12', '279 N12', '455 N12', '382 N12', '557 N12', '517 N12',\n",
       "       '394 N12', '422 N12', '292 N12', '469 N12', '522 N12', '296 N12',\n",
       "       '639 N12', '390 N12', '476 N12', '630 N12', '402 N12', '487 N12',\n",
       "       '558 N12', '421 N12', '316 N12', '514 N12', '457 N12', '626 N12',\n",
       "       '242 N12', '38 N12', '32 N12', '223 N12', '72 N12', '305 N12',\n",
       "       '183 N12', '273 N12', '159 N12', '76 N12', '148 N12', '179 N12',\n",
       "       '73 N12', '277 N12', '282 N12', '178 N12', '288 N12', '199 N12',\n",
       "       '266 N12', '92 N12', '74 N12', '324 N12', '232 N12', '157 N12',\n",
       "       '69 N12', '212 N12', '276 N12', '202 N12', '77 N12', '164 N12',\n",
       "       '96 N12', '84 N12', '228 N12', '108 N12', '208 N12', '263 N12',\n",
       "       '294 N12', '318 N12', '380 N12', '219 N12', '214 N12', '383 N12',\n",
       "       '241 N12', '57 N12', '55 N12', '104 N12', '48 N12', '40 N12',\n",
       "       '44 N12', '227 N12', '139 N12', '209 N12', '195 N12', '189 N12',\n",
       "       '480 N12', '591 N12', '301 N12'], dtype=object)"
      ]
     },
     "execution_count": 33,
     "metadata": {},
     "output_type": "execute_result"
    }
   ],
   "source": [
    "test_data.enginePower.unique()   "
   ]
  },
  {
   "cell_type": "code",
   "execution_count": 34,
   "metadata": {
    "execution": {
     "iopub.execute_input": "2021-12-01T12:40:45.532308Z",
     "iopub.status.busy": "2021-12-01T12:40:45.531617Z",
     "iopub.status.idle": "2021-12-01T12:40:45.534301Z",
     "shell.execute_reply": "2021-12-01T12:40:45.533723Z",
     "shell.execute_reply.started": "2021-12-01T12:10:20.066380Z"
    },
    "papermill": {
     "duration": 0.219485,
     "end_time": "2021-12-01T12:40:45.534465",
     "exception": false,
     "start_time": "2021-12-01T12:40:45.314980",
     "status": "completed"
    },
    "tags": []
   },
   "outputs": [],
   "source": [
    "def power_engine(car):\n",
    "    pattern = re.compile('[0-9.]+')\n",
    "    if pattern.match(car):\n",
    "        eng_disp = re.findall(pattern, car)\n",
    "        return int(eng_disp[0])\n",
    "    else:\n",
    "        return 0"
   ]
  },
  {
   "cell_type": "code",
   "execution_count": 35,
   "metadata": {
    "execution": {
     "iopub.execute_input": "2021-12-01T12:40:45.990247Z",
     "iopub.status.busy": "2021-12-01T12:40:45.979478Z",
     "iopub.status.idle": "2021-12-01T12:40:46.167892Z",
     "shell.execute_reply": "2021-12-01T12:40:46.167173Z",
     "shell.execute_reply.started": "2021-12-01T12:10:20.074980Z"
    },
    "papermill": {
     "duration": 0.417394,
     "end_time": "2021-12-01T12:40:46.168071",
     "exception": false,
     "start_time": "2021-12-01T12:40:45.750677",
     "status": "completed"
    },
    "tags": []
   },
   "outputs": [],
   "source": [
    "test_data.enginePower = test_data.enginePower.apply(power_engine)"
   ]
  },
  {
   "cell_type": "code",
   "execution_count": 36,
   "metadata": {
    "execution": {
     "iopub.execute_input": "2021-12-01T12:40:46.593904Z",
     "iopub.status.busy": "2021-12-01T12:40:46.592291Z",
     "iopub.status.idle": "2021-12-01T12:40:46.599832Z",
     "shell.execute_reply": "2021-12-01T12:40:46.599225Z",
     "shell.execute_reply.started": "2021-12-01T12:10:20.259561Z"
    },
    "papermill": {
     "duration": 0.224557,
     "end_time": "2021-12-01T12:40:46.599997",
     "exception": false,
     "start_time": "2021-12-01T12:40:46.375440",
     "status": "completed"
    },
    "tags": []
   },
   "outputs": [
    {
     "data": {
      "text/plain": [
       "array([105, 110, 152, 200, 102, 150,  90, 180, 220, 122])"
      ]
     },
     "execution_count": 36,
     "metadata": {},
     "output_type": "execute_result"
    }
   ],
   "source": [
    "test_data.enginePower.unique()[:10]"
   ]
  },
  {
   "cell_type": "markdown",
   "metadata": {
    "papermill": {
     "duration": 0.221809,
     "end_time": "2021-12-01T12:40:47.046797",
     "exception": false,
     "start_time": "2021-12-01T12:40:46.824988",
     "status": "completed"
    },
    "tags": []
   },
   "source": [
    "## equipment_dict"
   ]
  },
  {
   "cell_type": "code",
   "execution_count": 37,
   "metadata": {
    "execution": {
     "iopub.execute_input": "2021-12-01T12:40:47.485402Z",
     "iopub.status.busy": "2021-12-01T12:40:47.484627Z",
     "iopub.status.idle": "2021-12-01T12:40:47.489615Z",
     "shell.execute_reply": "2021-12-01T12:40:47.490152Z",
     "shell.execute_reply.started": "2021-12-01T12:10:20.268825Z"
    },
    "papermill": {
     "duration": 0.224718,
     "end_time": "2021-12-01T12:40:47.490333",
     "exception": false,
     "start_time": "2021-12-01T12:40:47.265615",
     "status": "completed"
    },
    "tags": []
   },
   "outputs": [
    {
     "data": {
      "text/plain": [
       "str"
      ]
     },
     "execution_count": 37,
     "metadata": {},
     "output_type": "execute_result"
    }
   ],
   "source": [
    "type(test_data.equipment_dict[222])"
   ]
  },
  {
   "cell_type": "code",
   "execution_count": 38,
   "metadata": {
    "execution": {
     "iopub.execute_input": "2021-12-01T12:40:47.922534Z",
     "iopub.status.busy": "2021-12-01T12:40:47.921859Z",
     "iopub.status.idle": "2021-12-01T12:40:47.938342Z",
     "shell.execute_reply": "2021-12-01T12:40:47.937641Z",
     "shell.execute_reply.started": "2021-12-01T12:10:20.285309Z"
    },
    "papermill": {
     "duration": 0.236226,
     "end_time": "2021-12-01T12:40:47.938490",
     "exception": false,
     "start_time": "2021-12-01T12:40:47.702264",
     "status": "completed"
    },
    "tags": []
   },
   "outputs": [
    {
     "data": {
      "text/plain": [
       "False    24690\n",
       "True      9996\n",
       "Name: equipment_dict, dtype: int64"
      ]
     },
     "execution_count": 38,
     "metadata": {},
     "output_type": "execute_result"
    }
   ],
   "source": [
    "test_data['equipment_dict'].isna().value_counts()"
   ]
  },
  {
   "cell_type": "code",
   "execution_count": 39,
   "metadata": {
    "execution": {
     "iopub.execute_input": "2021-12-01T12:40:48.368488Z",
     "iopub.status.busy": "2021-12-01T12:40:48.367729Z",
     "iopub.status.idle": "2021-12-01T12:40:48.372571Z",
     "shell.execute_reply": "2021-12-01T12:40:48.373160Z",
     "shell.execute_reply.started": "2021-12-01T12:10:20.306975Z"
    },
    "papermill": {
     "duration": 0.218535,
     "end_time": "2021-12-01T12:40:48.373351",
     "exception": false,
     "start_time": "2021-12-01T12:40:48.154816",
     "status": "completed"
    },
    "tags": []
   },
   "outputs": [
    {
     "data": {
      "text/plain": [
       "'{\"engine-proof\":true,\"tinted-glass\":true,\"esp\":true,\"airbag-driver\":true,\"aux\":true,\"usb\":true,\"isofix\":true,\"electro-window-front\":true,\"multi-wheel\":true,\"hcc\":true,\"audiosystem-tv\":true,\"heated-wash-system\":true,\"ashtray-and-cigarette-lighter\":true,\"airbag-passenger\":true,\"front-centre-armrest\":true,\"computer\":true,\"apple-carplay\":true,\"roof-rails\":true,\"seat-transformation\":true,\"wheel-power\":true,\"lock\":true,\"door-sill-panel\":true,\"fabric-seats\":true,\"electro-mirrors\":true,\"electro-window-back\":true,\"alloy-wheel-disks\":true,\"ptf\":true,\"rain-sensor\":true,\"airbag-side\":true,\"mirrors-heat\":true,\"17-inch-wheels\":true,\"park-assist-f\":true,\"audiosystem-cd\":true,\"cooling-box\":true,\"abs\":true,\"bluetooth\":true,\"front-seats-heat\":true,\"wheel-leather\":true,\"wheel-configuration2\":true,\"wheel-configuration1\":true,\"immo\":true,\"220v-socket\":true,\"climate-control-2\":true,\"12v-socket\":true,\"park-assist-r\":true}'"
      ]
     },
     "execution_count": 39,
     "metadata": {},
     "output_type": "execute_result"
    }
   ],
   "source": [
    "test_data['equipment_dict'][77]"
   ]
  },
  {
   "cell_type": "code",
   "execution_count": 40,
   "metadata": {
    "execution": {
     "iopub.execute_input": "2021-12-01T12:40:48.800189Z",
     "iopub.status.busy": "2021-12-01T12:40:48.799446Z",
     "iopub.status.idle": "2021-12-01T12:40:48.817335Z",
     "shell.execute_reply": "2021-12-01T12:40:48.816772Z",
     "shell.execute_reply.started": "2021-12-01T12:10:20.313776Z"
    },
    "papermill": {
     "duration": 0.235784,
     "end_time": "2021-12-01T12:40:48.817487",
     "exception": false,
     "start_time": "2021-12-01T12:40:48.581703",
     "status": "completed"
    },
    "tags": []
   },
   "outputs": [],
   "source": [
    "test_data.drop(['equipment_dict'], axis = 1, inplace = True)"
   ]
  },
  {
   "cell_type": "markdown",
   "metadata": {
    "papermill": {
     "duration": 0.211112,
     "end_time": "2021-12-01T12:40:49.237939",
     "exception": false,
     "start_time": "2021-12-01T12:40:49.026827",
     "status": "completed"
    },
    "tags": []
   },
   "source": [
    "## image"
   ]
  },
  {
   "cell_type": "code",
   "execution_count": 41,
   "metadata": {
    "execution": {
     "iopub.execute_input": "2021-12-01T12:40:49.656645Z",
     "iopub.status.busy": "2021-12-01T12:40:49.655989Z",
     "iopub.status.idle": "2021-12-01T12:40:49.661362Z",
     "shell.execute_reply": "2021-12-01T12:40:49.661986Z",
     "shell.execute_reply.started": "2021-12-01T12:10:20.340175Z"
    },
    "papermill": {
     "duration": 0.216848,
     "end_time": "2021-12-01T12:40:49.662170",
     "exception": false,
     "start_time": "2021-12-01T12:40:49.445322",
     "status": "completed"
    },
    "tags": []
   },
   "outputs": [
    {
     "data": {
      "text/plain": [
       "'https://autoru.naydex.net/o9DBXQ270/5ac010hAY0/Xkcrbmf2u0IghxJHqVi5dGL7OcugpPbM0sYLDhB9YWw7CxRKU17ysuJYxu9oaUHn7ahNSrqiKwm-CQDyDolDeEoEc3J49fgWYNYBUbQC7D96sj6K9_O-mo6XT34oWVQDBTEybGZikaX4X4bwLyUujf_KICqw3ygs2UNJlXu4Og#DSD'"
      ]
     },
     "execution_count": 41,
     "metadata": {},
     "output_type": "execute_result"
    }
   ],
   "source": [
    "test_data['image'].loc[0]"
   ]
  },
  {
   "cell_type": "code",
   "execution_count": 42,
   "metadata": {
    "execution": {
     "iopub.execute_input": "2021-12-01T12:40:50.095163Z",
     "iopub.status.busy": "2021-12-01T12:40:50.094430Z",
     "iopub.status.idle": "2021-12-01T12:40:50.106469Z",
     "shell.execute_reply": "2021-12-01T12:40:50.107053Z",
     "shell.execute_reply.started": "2021-12-01T12:10:20.348242Z"
    },
    "papermill": {
     "duration": 0.229786,
     "end_time": "2021-12-01T12:40:50.107265",
     "exception": false,
     "start_time": "2021-12-01T12:40:49.877479",
     "status": "completed"
    },
    "tags": []
   },
   "outputs": [],
   "source": [
    "test_data.drop(['image'], axis = 1, inplace = True)"
   ]
  },
  {
   "cell_type": "markdown",
   "metadata": {
    "papermill": {
     "duration": 0.218291,
     "end_time": "2021-12-01T12:40:50.542001",
     "exception": false,
     "start_time": "2021-12-01T12:40:50.323710",
     "status": "completed"
    },
    "tags": []
   },
   "source": [
    "## mileage"
   ]
  },
  {
   "cell_type": "code",
   "execution_count": 43,
   "metadata": {
    "execution": {
     "iopub.execute_input": "2021-12-01T12:40:50.983401Z",
     "iopub.status.busy": "2021-12-01T12:40:50.982672Z",
     "iopub.status.idle": "2021-12-01T12:40:50.989637Z",
     "shell.execute_reply": "2021-12-01T12:40:50.990154Z",
     "shell.execute_reply.started": "2021-12-01T12:10:20.365828Z"
    },
    "papermill": {
     "duration": 0.234719,
     "end_time": "2021-12-01T12:40:50.990346",
     "exception": false,
     "start_time": "2021-12-01T12:40:50.755627",
     "status": "completed"
    },
    "tags": []
   },
   "outputs": [
    {
     "data": {
      "text/plain": [
       "0"
      ]
     },
     "execution_count": 43,
     "metadata": {},
     "output_type": "execute_result"
    }
   ],
   "source": [
    "test_data['mileage'].isnull().sum()"
   ]
  },
  {
   "cell_type": "code",
   "execution_count": 44,
   "metadata": {
    "execution": {
     "iopub.execute_input": "2021-12-01T12:40:51.479672Z",
     "iopub.status.busy": "2021-12-01T12:40:51.477935Z",
     "iopub.status.idle": "2021-12-01T12:40:51.482235Z",
     "shell.execute_reply": "2021-12-01T12:40:51.478802Z",
     "shell.execute_reply.started": "2021-12-01T12:10:20.374552Z"
    },
    "papermill": {
     "duration": 0.2515,
     "end_time": "2021-12-01T12:40:51.482441",
     "exception": false,
     "start_time": "2021-12-01T12:40:51.230941",
     "status": "completed"
    },
    "tags": []
   },
   "outputs": [
    {
     "data": {
      "text/plain": [
       "74000"
      ]
     },
     "execution_count": 44,
     "metadata": {},
     "output_type": "execute_result"
    }
   ],
   "source": [
    "test_data['mileage'].loc[0]"
   ]
  },
  {
   "cell_type": "markdown",
   "metadata": {
    "papermill": {
     "duration": 0.2238,
     "end_time": "2021-12-01T12:40:51.962511",
     "exception": false,
     "start_time": "2021-12-01T12:40:51.738711",
     "status": "completed"
    },
    "tags": []
   },
   "source": [
    "## modelDate"
   ]
  },
  {
   "cell_type": "code",
   "execution_count": 45,
   "metadata": {
    "execution": {
     "iopub.execute_input": "2021-12-01T12:40:52.404878Z",
     "iopub.status.busy": "2021-12-01T12:40:52.404160Z",
     "iopub.status.idle": "2021-12-01T12:40:52.406657Z",
     "shell.execute_reply": "2021-12-01T12:40:52.407184Z",
     "shell.execute_reply.started": "2021-12-01T12:10:20.386154Z"
    },
    "papermill": {
     "duration": 0.225455,
     "end_time": "2021-12-01T12:40:52.407360",
     "exception": false,
     "start_time": "2021-12-01T12:40:52.181905",
     "status": "completed"
    },
    "tags": []
   },
   "outputs": [
    {
     "data": {
      "text/plain": [
       "2013"
      ]
     },
     "execution_count": 45,
     "metadata": {},
     "output_type": "execute_result"
    }
   ],
   "source": [
    "test_data['modelDate'].loc[0]"
   ]
  },
  {
   "cell_type": "code",
   "execution_count": 46,
   "metadata": {
    "execution": {
     "iopub.execute_input": "2021-12-01T12:40:52.844683Z",
     "iopub.status.busy": "2021-12-01T12:40:52.844026Z",
     "iopub.status.idle": "2021-12-01T12:40:52.850228Z",
     "shell.execute_reply": "2021-12-01T12:40:52.851198Z",
     "shell.execute_reply.started": "2021-12-01T12:10:20.398222Z"
    },
    "papermill": {
     "duration": 0.227399,
     "end_time": "2021-12-01T12:40:52.851454",
     "exception": false,
     "start_time": "2021-12-01T12:40:52.624055",
     "status": "completed"
    },
    "tags": []
   },
   "outputs": [
    {
     "data": {
      "text/plain": [
       "numpy.int64"
      ]
     },
     "execution_count": 46,
     "metadata": {},
     "output_type": "execute_result"
    }
   ],
   "source": [
    "type(test_data['modelDate'].loc[0])"
   ]
  },
  {
   "cell_type": "markdown",
   "metadata": {
    "papermill": {
     "duration": 0.214507,
     "end_time": "2021-12-01T12:40:53.288422",
     "exception": false,
     "start_time": "2021-12-01T12:40:53.073915",
     "status": "completed"
    },
    "tags": []
   },
   "source": [
    "## model_info"
   ]
  },
  {
   "cell_type": "code",
   "execution_count": 47,
   "metadata": {
    "execution": {
     "iopub.execute_input": "2021-12-01T12:40:53.729390Z",
     "iopub.status.busy": "2021-12-01T12:40:53.728616Z",
     "iopub.status.idle": "2021-12-01T12:40:53.734525Z",
     "shell.execute_reply": "2021-12-01T12:40:53.735106Z",
     "shell.execute_reply.started": "2021-12-01T12:10:20.410022Z"
    },
    "papermill": {
     "duration": 0.228391,
     "end_time": "2021-12-01T12:40:53.735295",
     "exception": false,
     "start_time": "2021-12-01T12:40:53.506904",
     "status": "completed"
    },
    "tags": []
   },
   "outputs": [
    {
     "data": {
      "text/plain": [
       "'{\"code\":\"OCTAVIA\",\"name\":\"Octavia\",\"ru_name\":\"Октавия\",\"morphology\":{\"gender\":\"FEMININE\"},\"nameplate\":{\"code\":\"\",\"name\":\"\",\"semantic_url\":\"\"}}'"
      ]
     },
     "execution_count": 47,
     "metadata": {},
     "output_type": "execute_result"
    }
   ],
   "source": [
    "test_data['model_info'].loc[0]"
   ]
  },
  {
   "cell_type": "code",
   "execution_count": 48,
   "metadata": {
    "execution": {
     "iopub.execute_input": "2021-12-01T12:40:54.178706Z",
     "iopub.status.busy": "2021-12-01T12:40:54.177995Z",
     "iopub.status.idle": "2021-12-01T12:40:54.189811Z",
     "shell.execute_reply": "2021-12-01T12:40:54.190352Z",
     "shell.execute_reply.started": "2021-12-01T12:10:20.421303Z"
    },
    "papermill": {
     "duration": 0.237482,
     "end_time": "2021-12-01T12:40:54.190536",
     "exception": false,
     "start_time": "2021-12-01T12:40:53.953054",
     "status": "completed"
    },
    "tags": []
   },
   "outputs": [],
   "source": [
    "test_data.drop(['model_info'], axis = 1, inplace = True)"
   ]
  },
  {
   "cell_type": "markdown",
   "metadata": {
    "papermill": {
     "duration": 0.214465,
     "end_time": "2021-12-01T12:40:54.619018",
     "exception": false,
     "start_time": "2021-12-01T12:40:54.404553",
     "status": "completed"
    },
    "tags": []
   },
   "source": [
    "## model_name"
   ]
  },
  {
   "cell_type": "code",
   "execution_count": 49,
   "metadata": {
    "execution": {
     "iopub.execute_input": "2021-12-01T12:40:55.057134Z",
     "iopub.status.busy": "2021-12-01T12:40:55.056202Z",
     "iopub.status.idle": "2021-12-01T12:40:55.059580Z",
     "shell.execute_reply": "2021-12-01T12:40:55.060113Z",
     "shell.execute_reply.started": "2021-12-01T12:10:20.439650Z"
    },
    "papermill": {
     "duration": 0.225322,
     "end_time": "2021-12-01T12:40:55.060290",
     "exception": false,
     "start_time": "2021-12-01T12:40:54.834968",
     "status": "completed"
    },
    "tags": []
   },
   "outputs": [
    {
     "data": {
      "text/plain": [
       "'OCTAVIA'"
      ]
     },
     "execution_count": 49,
     "metadata": {},
     "output_type": "execute_result"
    }
   ],
   "source": [
    "test_data['model_name'].loc[0]"
   ]
  },
  {
   "cell_type": "code",
   "execution_count": 50,
   "metadata": {
    "execution": {
     "iopub.execute_input": "2021-12-01T12:40:55.504145Z",
     "iopub.status.busy": "2021-12-01T12:40:55.503412Z",
     "iopub.status.idle": "2021-12-01T12:40:55.513506Z",
     "shell.execute_reply": "2021-12-01T12:40:55.512939Z",
     "shell.execute_reply.started": "2021-12-01T12:10:20.447071Z"
    },
    "papermill": {
     "duration": 0.232653,
     "end_time": "2021-12-01T12:40:55.513657",
     "exception": false,
     "start_time": "2021-12-01T12:40:55.281004",
     "status": "completed"
    },
    "tags": []
   },
   "outputs": [
    {
     "data": {
      "text/plain": [
       "544"
      ]
     },
     "execution_count": 50,
     "metadata": {},
     "output_type": "execute_result"
    }
   ],
   "source": [
    "test_data['model_name'].nunique()"
   ]
  },
  {
   "cell_type": "markdown",
   "metadata": {
    "papermill": {
     "duration": 0.209694,
     "end_time": "2021-12-01T12:40:55.940705",
     "exception": false,
     "start_time": "2021-12-01T12:40:55.731011",
     "status": "completed"
    },
    "tags": []
   },
   "source": [
    "## name"
   ]
  },
  {
   "cell_type": "code",
   "execution_count": 51,
   "metadata": {
    "execution": {
     "iopub.execute_input": "2021-12-01T12:40:56.425645Z",
     "iopub.status.busy": "2021-12-01T12:40:56.424959Z",
     "iopub.status.idle": "2021-12-01T12:40:56.427600Z",
     "shell.execute_reply": "2021-12-01T12:40:56.428137Z",
     "shell.execute_reply.started": "2021-12-01T12:10:20.462110Z"
    },
    "papermill": {
     "duration": 0.221183,
     "end_time": "2021-12-01T12:40:56.428320",
     "exception": false,
     "start_time": "2021-12-01T12:40:56.207137",
     "status": "completed"
    },
    "tags": []
   },
   "outputs": [
    {
     "data": {
      "text/plain": [
       "'1.2 AMT (105 л.с.)'"
      ]
     },
     "execution_count": 51,
     "metadata": {},
     "output_type": "execute_result"
    }
   ],
   "source": [
    "test_data['name'].loc[0]"
   ]
  },
  {
   "cell_type": "code",
   "execution_count": 52,
   "metadata": {
    "execution": {
     "iopub.execute_input": "2021-12-01T12:40:56.871027Z",
     "iopub.status.busy": "2021-12-01T12:40:56.870343Z",
     "iopub.status.idle": "2021-12-01T12:40:56.881326Z",
     "shell.execute_reply": "2021-12-01T12:40:56.881830Z",
     "shell.execute_reply.started": "2021-12-01T12:10:20.471895Z"
    },
    "papermill": {
     "duration": 0.22732,
     "end_time": "2021-12-01T12:40:56.882055",
     "exception": false,
     "start_time": "2021-12-01T12:40:56.654735",
     "status": "completed"
    },
    "tags": []
   },
   "outputs": [],
   "source": [
    "test_data.drop(['name'], axis = 1, inplace = True)"
   ]
  },
  {
   "cell_type": "markdown",
   "metadata": {
    "papermill": {
     "duration": 0.211216,
     "end_time": "2021-12-01T12:40:57.309313",
     "exception": false,
     "start_time": "2021-12-01T12:40:57.098097",
     "status": "completed"
    },
    "tags": []
   },
   "source": [
    "## numberOfDoors"
   ]
  },
  {
   "cell_type": "code",
   "execution_count": 53,
   "metadata": {
    "execution": {
     "iopub.execute_input": "2021-12-01T12:40:57.740262Z",
     "iopub.status.busy": "2021-12-01T12:40:57.738540Z",
     "iopub.status.idle": "2021-12-01T12:40:57.744325Z",
     "shell.execute_reply": "2021-12-01T12:40:57.744898Z",
     "shell.execute_reply.started": "2021-12-01T12:10:20.488338Z"
    },
    "papermill": {
     "duration": 0.222759,
     "end_time": "2021-12-01T12:40:57.745088",
     "exception": false,
     "start_time": "2021-12-01T12:40:57.522329",
     "status": "completed"
    },
    "tags": []
   },
   "outputs": [
    {
     "data": {
      "text/plain": [
       "array([5, 4, 2, 3, 0])"
      ]
     },
     "execution_count": 53,
     "metadata": {},
     "output_type": "execute_result"
    }
   ],
   "source": [
    "test_data['numberOfDoors'].unique()"
   ]
  },
  {
   "cell_type": "code",
   "execution_count": 54,
   "metadata": {
    "execution": {
     "iopub.execute_input": "2021-12-01T12:40:58.177316Z",
     "iopub.status.busy": "2021-12-01T12:40:58.174424Z",
     "iopub.status.idle": "2021-12-01T12:40:58.180829Z",
     "shell.execute_reply": "2021-12-01T12:40:58.180319Z",
     "shell.execute_reply.started": "2021-12-01T12:10:20.495462Z"
    },
    "papermill": {
     "duration": 0.225011,
     "end_time": "2021-12-01T12:40:58.181012",
     "exception": false,
     "start_time": "2021-12-01T12:40:57.956001",
     "status": "completed"
    },
    "tags": []
   },
   "outputs": [
    {
     "data": {
      "text/plain": [
       "numpy.int64"
      ]
     },
     "execution_count": 54,
     "metadata": {},
     "output_type": "execute_result"
    }
   ],
   "source": [
    "type(test_data['numberOfDoors'].loc[0])"
   ]
  },
  {
   "cell_type": "markdown",
   "metadata": {
    "papermill": {
     "duration": 0.215002,
     "end_time": "2021-12-01T12:40:58.606329",
     "exception": false,
     "start_time": "2021-12-01T12:40:58.391327",
     "status": "completed"
    },
    "tags": []
   },
   "source": [
    "## parsing_unixtime"
   ]
  },
  {
   "cell_type": "code",
   "execution_count": 55,
   "metadata": {
    "execution": {
     "iopub.execute_input": "2021-12-01T12:40:59.035649Z",
     "iopub.status.busy": "2021-12-01T12:40:59.035007Z",
     "iopub.status.idle": "2021-12-01T12:40:59.040459Z",
     "shell.execute_reply": "2021-12-01T12:40:59.041106Z",
     "shell.execute_reply.started": "2021-12-01T12:10:20.504368Z"
    },
    "papermill": {
     "duration": 0.223468,
     "end_time": "2021-12-01T12:40:59.041283",
     "exception": false,
     "start_time": "2021-12-01T12:40:58.817815",
     "status": "completed"
    },
    "tags": []
   },
   "outputs": [
    {
     "data": {
      "text/plain": [
       "1603226273"
      ]
     },
     "execution_count": 55,
     "metadata": {},
     "output_type": "execute_result"
    }
   ],
   "source": [
    "test_data['parsing_unixtime'].loc[0]"
   ]
  },
  {
   "cell_type": "code",
   "execution_count": 56,
   "metadata": {
    "execution": {
     "iopub.execute_input": "2021-12-01T12:40:59.483789Z",
     "iopub.status.busy": "2021-12-01T12:40:59.483101Z",
     "iopub.status.idle": "2021-12-01T12:40:59.494236Z",
     "shell.execute_reply": "2021-12-01T12:40:59.494796Z",
     "shell.execute_reply.started": "2021-12-01T12:10:20.680639Z"
    },
    "papermill": {
     "duration": 0.234851,
     "end_time": "2021-12-01T12:40:59.494979",
     "exception": false,
     "start_time": "2021-12-01T12:40:59.260128",
     "status": "completed"
    },
    "tags": []
   },
   "outputs": [],
   "source": [
    "test_data.drop(['parsing_unixtime'], axis = 1, inplace = True)"
   ]
  },
  {
   "cell_type": "markdown",
   "metadata": {
    "papermill": {
     "duration": 0.216973,
     "end_time": "2021-12-01T12:40:59.924467",
     "exception": false,
     "start_time": "2021-12-01T12:40:59.707494",
     "status": "completed"
    },
    "tags": []
   },
   "source": [
    "## priceCurrency"
   ]
  },
  {
   "cell_type": "code",
   "execution_count": 57,
   "metadata": {
    "execution": {
     "iopub.execute_input": "2021-12-01T12:41:00.362229Z",
     "iopub.status.busy": "2021-12-01T12:41:00.361566Z",
     "iopub.status.idle": "2021-12-01T12:41:00.368056Z",
     "shell.execute_reply": "2021-12-01T12:41:00.367346Z",
     "shell.execute_reply.started": "2021-12-01T12:10:20.695865Z"
    },
    "papermill": {
     "duration": 0.222943,
     "end_time": "2021-12-01T12:41:00.368217",
     "exception": false,
     "start_time": "2021-12-01T12:41:00.145274",
     "status": "completed"
    },
    "tags": []
   },
   "outputs": [
    {
     "data": {
      "text/plain": [
       "'RUB'"
      ]
     },
     "execution_count": 57,
     "metadata": {},
     "output_type": "execute_result"
    }
   ],
   "source": [
    "test_data['priceCurrency'].loc[0]"
   ]
  },
  {
   "cell_type": "code",
   "execution_count": 58,
   "metadata": {
    "execution": {
     "iopub.execute_input": "2021-12-01T12:41:00.802292Z",
     "iopub.status.busy": "2021-12-01T12:41:00.801575Z",
     "iopub.status.idle": "2021-12-01T12:41:00.812180Z",
     "shell.execute_reply": "2021-12-01T12:41:00.812726Z",
     "shell.execute_reply.started": "2021-12-01T12:10:20.705517Z"
    },
    "papermill": {
     "duration": 0.22841,
     "end_time": "2021-12-01T12:41:00.812939",
     "exception": false,
     "start_time": "2021-12-01T12:41:00.584529",
     "status": "completed"
    },
    "tags": []
   },
   "outputs": [],
   "source": [
    "test_data.drop(['priceCurrency'], axis = 1, inplace = True)"
   ]
  },
  {
   "cell_type": "markdown",
   "metadata": {
    "papermill": {
     "duration": 0.240264,
     "end_time": "2021-12-01T12:41:01.280836",
     "exception": false,
     "start_time": "2021-12-01T12:41:01.040572",
     "status": "completed"
    },
    "tags": []
   },
   "source": [
    "## productionDate"
   ]
  },
  {
   "cell_type": "code",
   "execution_count": 59,
   "metadata": {
    "execution": {
     "iopub.execute_input": "2021-12-01T12:41:01.764380Z",
     "iopub.status.busy": "2021-12-01T12:41:01.763550Z",
     "iopub.status.idle": "2021-12-01T12:41:01.766794Z",
     "shell.execute_reply": "2021-12-01T12:41:01.767294Z",
     "shell.execute_reply.started": "2021-12-01T12:10:20.719746Z"
    },
    "papermill": {
     "duration": 0.249016,
     "end_time": "2021-12-01T12:41:01.767465",
     "exception": false,
     "start_time": "2021-12-01T12:41:01.518449",
     "status": "completed"
    },
    "tags": []
   },
   "outputs": [
    {
     "data": {
      "text/plain": [
       "2014"
      ]
     },
     "execution_count": 59,
     "metadata": {},
     "output_type": "execute_result"
    }
   ],
   "source": [
    "test_data['productionDate'].loc[0]"
   ]
  },
  {
   "cell_type": "code",
   "execution_count": 60,
   "metadata": {
    "execution": {
     "iopub.execute_input": "2021-12-01T12:41:02.232687Z",
     "iopub.status.busy": "2021-12-01T12:41:02.231633Z",
     "iopub.status.idle": "2021-12-01T12:41:02.238199Z",
     "shell.execute_reply": "2021-12-01T12:41:02.238730Z",
     "shell.execute_reply.started": "2021-12-01T12:10:20.728217Z"
    },
    "papermill": {
     "duration": 0.240124,
     "end_time": "2021-12-01T12:41:02.238937",
     "exception": false,
     "start_time": "2021-12-01T12:41:01.998813",
     "status": "completed"
    },
    "tags": []
   },
   "outputs": [
    {
     "data": {
      "text/plain": [
       "numpy.int64"
      ]
     },
     "execution_count": 60,
     "metadata": {},
     "output_type": "execute_result"
    }
   ],
   "source": [
    "type(test_data['productionDate'].loc[0])"
   ]
  },
  {
   "cell_type": "markdown",
   "metadata": {
    "papermill": {
     "duration": 0.249422,
     "end_time": "2021-12-01T12:41:02.722470",
     "exception": false,
     "start_time": "2021-12-01T12:41:02.473048",
     "status": "completed"
    },
    "tags": []
   },
   "source": [
    "## sell_id"
   ]
  },
  {
   "cell_type": "code",
   "execution_count": 61,
   "metadata": {
    "execution": {
     "iopub.execute_input": "2021-12-01T12:41:03.159179Z",
     "iopub.status.busy": "2021-12-01T12:41:03.158433Z",
     "iopub.status.idle": "2021-12-01T12:41:03.164613Z",
     "shell.execute_reply": "2021-12-01T12:41:03.165252Z",
     "shell.execute_reply.started": "2021-12-01T12:10:20.738621Z"
    },
    "papermill": {
     "duration": 0.225592,
     "end_time": "2021-12-01T12:41:03.165435",
     "exception": false,
     "start_time": "2021-12-01T12:41:02.939843",
     "status": "completed"
    },
    "tags": []
   },
   "outputs": [
    {
     "data": {
      "text/plain": [
       "1100575026"
      ]
     },
     "execution_count": 61,
     "metadata": {},
     "output_type": "execute_result"
    }
   ],
   "source": [
    "test_data['sell_id'].loc[0]"
   ]
  },
  {
   "cell_type": "markdown",
   "metadata": {
    "papermill": {
     "duration": 0.213444,
     "end_time": "2021-12-01T12:41:03.596722",
     "exception": false,
     "start_time": "2021-12-01T12:41:03.383278",
     "status": "completed"
    },
    "tags": []
   },
   "source": [
    "## super_gen"
   ]
  },
  {
   "cell_type": "code",
   "execution_count": 62,
   "metadata": {
    "execution": {
     "iopub.execute_input": "2021-12-01T12:41:04.038500Z",
     "iopub.status.busy": "2021-12-01T12:41:04.037791Z",
     "iopub.status.idle": "2021-12-01T12:41:04.040631Z",
     "shell.execute_reply": "2021-12-01T12:41:04.041525Z",
     "shell.execute_reply.started": "2021-12-01T12:10:20.750299Z"
    },
    "papermill": {
     "duration": 0.224985,
     "end_time": "2021-12-01T12:41:04.041727",
     "exception": false,
     "start_time": "2021-12-01T12:41:03.816742",
     "status": "completed"
    },
    "tags": []
   },
   "outputs": [],
   "source": [
    "#Переведем данные в ячейках в формат словаря\n",
    "\n",
    "#На основе данных создадим 6 новых столбцов"
   ]
  },
  {
   "cell_type": "code",
   "execution_count": 63,
   "metadata": {
    "execution": {
     "iopub.execute_input": "2021-12-01T12:41:04.474797Z",
     "iopub.status.busy": "2021-12-01T12:41:04.474087Z",
     "iopub.status.idle": "2021-12-01T12:41:06.229863Z",
     "shell.execute_reply": "2021-12-01T12:41:06.229152Z",
     "shell.execute_reply.started": "2021-12-01T12:10:20.760847Z"
    },
    "papermill": {
     "duration": 1.971948,
     "end_time": "2021-12-01T12:41:06.230059",
     "exception": false,
     "start_time": "2021-12-01T12:41:04.258111",
     "status": "completed"
    },
    "tags": []
   },
   "outputs": [],
   "source": [
    "test_data['super_gen'] = test_data['super_gen'].apply(literal_eval)"
   ]
  },
  {
   "cell_type": "code",
   "execution_count": 64,
   "metadata": {
    "execution": {
     "iopub.execute_input": "2021-12-01T12:41:06.695897Z",
     "iopub.status.busy": "2021-12-01T12:41:06.695198Z",
     "iopub.status.idle": "2021-12-01T12:41:06.700861Z",
     "shell.execute_reply": "2021-12-01T12:41:06.701358Z",
     "shell.execute_reply.started": "2021-12-01T12:10:22.466655Z"
    },
    "papermill": {
     "duration": 0.239181,
     "end_time": "2021-12-01T12:41:06.701560",
     "exception": false,
     "start_time": "2021-12-01T12:41:06.462379",
     "status": "completed"
    },
    "tags": []
   },
   "outputs": [
    {
     "data": {
      "text/plain": [
       "{'id': '10373605',\n",
       " 'displacement': 1197,\n",
       " 'engine_type': 'GASOLINE',\n",
       " 'gear_type': 'FORWARD_CONTROL',\n",
       " 'transmission': 'ROBOT',\n",
       " 'power': 105,\n",
       " 'power_kvt': 77,\n",
       " 'human_name': '1.2 AMT (105 л.с.)',\n",
       " 'acceleration': 10.5,\n",
       " 'clearance_min': 155,\n",
       " 'fuel_rate': 5}"
      ]
     },
     "execution_count": 64,
     "metadata": {},
     "output_type": "execute_result"
    }
   ],
   "source": [
    "test_data['super_gen'].loc[0]"
   ]
  },
  {
   "cell_type": "code",
   "execution_count": 65,
   "metadata": {
    "execution": {
     "iopub.execute_input": "2021-12-01T12:41:07.162778Z",
     "iopub.status.busy": "2021-12-01T12:41:07.162070Z",
     "iopub.status.idle": "2021-12-01T12:41:07.193346Z",
     "shell.execute_reply": "2021-12-01T12:41:07.192613Z",
     "shell.execute_reply.started": "2021-12-01T12:10:22.476425Z"
    },
    "papermill": {
     "duration": 0.253078,
     "end_time": "2021-12-01T12:41:07.193505",
     "exception": false,
     "start_time": "2021-12-01T12:41:06.940427",
     "status": "completed"
    },
    "tags": []
   },
   "outputs": [],
   "source": [
    "test_data['acceleration'] = test_data['super_gen'].apply(lambda x: x.get('acceleration'))"
   ]
  },
  {
   "cell_type": "code",
   "execution_count": 66,
   "metadata": {
    "execution": {
     "iopub.execute_input": "2021-12-01T12:41:07.633953Z",
     "iopub.status.busy": "2021-12-01T12:41:07.632972Z",
     "iopub.status.idle": "2021-12-01T12:41:07.659486Z",
     "shell.execute_reply": "2021-12-01T12:41:07.659979Z",
     "shell.execute_reply.started": "2021-12-01T12:10:22.514434Z"
    },
    "papermill": {
     "duration": 0.251029,
     "end_time": "2021-12-01T12:41:07.660165",
     "exception": false,
     "start_time": "2021-12-01T12:41:07.409136",
     "status": "completed"
    },
    "tags": []
   },
   "outputs": [],
   "source": [
    "test_data['clearance_min'] = test_data['super_gen'].apply(lambda x: x.get('clearance_min'))"
   ]
  },
  {
   "cell_type": "code",
   "execution_count": 67,
   "metadata": {
    "execution": {
     "iopub.execute_input": "2021-12-01T12:41:08.112149Z",
     "iopub.status.busy": "2021-12-01T12:41:08.103656Z",
     "iopub.status.idle": "2021-12-01T12:41:08.134287Z",
     "shell.execute_reply": "2021-12-01T12:41:08.134851Z",
     "shell.execute_reply.started": "2021-12-01T12:10:22.557653Z"
    },
    "papermill": {
     "duration": 0.254297,
     "end_time": "2021-12-01T12:41:08.135037",
     "exception": false,
     "start_time": "2021-12-01T12:41:07.880740",
     "status": "completed"
    },
    "tags": []
   },
   "outputs": [],
   "source": [
    "test_data['fuel_rate'] = test_data['super_gen'].apply(lambda x: x.get('fuel_rate'))"
   ]
  },
  {
   "cell_type": "code",
   "execution_count": 68,
   "metadata": {
    "execution": {
     "iopub.execute_input": "2021-12-01T12:41:08.573797Z",
     "iopub.status.busy": "2021-12-01T12:41:08.573079Z",
     "iopub.status.idle": "2021-12-01T12:41:08.599813Z",
     "shell.execute_reply": "2021-12-01T12:41:08.600354Z",
     "shell.execute_reply.started": "2021-12-01T12:10:22.593622Z"
    },
    "papermill": {
     "duration": 0.247561,
     "end_time": "2021-12-01T12:41:08.600553",
     "exception": false,
     "start_time": "2021-12-01T12:41:08.352992",
     "status": "completed"
    },
    "tags": []
   },
   "outputs": [],
   "source": [
    "test_data['gearType'] = test_data['super_gen'].apply(lambda x: x.get('gear_type'))"
   ]
  },
  {
   "cell_type": "code",
   "execution_count": 69,
   "metadata": {
    "execution": {
     "iopub.execute_input": "2021-12-01T12:41:09.050306Z",
     "iopub.status.busy": "2021-12-01T12:41:09.049625Z",
     "iopub.status.idle": "2021-12-01T12:41:09.074800Z",
     "shell.execute_reply": "2021-12-01T12:41:09.074201Z",
     "shell.execute_reply.started": "2021-12-01T12:10:22.625875Z"
    },
    "papermill": {
     "duration": 0.254392,
     "end_time": "2021-12-01T12:41:09.075003",
     "exception": false,
     "start_time": "2021-12-01T12:41:08.820611",
     "status": "completed"
    },
    "tags": []
   },
   "outputs": [],
   "source": [
    "test_data['fuelType'] = test_data['super_gen'].apply(lambda x: x.get('engine_type'))"
   ]
  },
  {
   "cell_type": "code",
   "execution_count": 70,
   "metadata": {
    "execution": {
     "iopub.execute_input": "2021-12-01T12:41:09.510998Z",
     "iopub.status.busy": "2021-12-01T12:41:09.509210Z",
     "iopub.status.idle": "2021-12-01T12:41:09.536656Z",
     "shell.execute_reply": "2021-12-01T12:41:09.536040Z",
     "shell.execute_reply.started": "2021-12-01T12:10:22.660327Z"
    },
    "papermill": {
     "duration": 0.246305,
     "end_time": "2021-12-01T12:41:09.536865",
     "exception": false,
     "start_time": "2021-12-01T12:41:09.290560",
     "status": "completed"
    },
    "tags": []
   },
   "outputs": [],
   "source": [
    "test_data['transmission'] = test_data['super_gen'].apply(lambda x: x.get('transmission'))"
   ]
  },
  {
   "cell_type": "markdown",
   "metadata": {
    "papermill": {
     "duration": 0.223296,
     "end_time": "2021-12-01T12:41:09.985770",
     "exception": false,
     "start_time": "2021-12-01T12:41:09.762474",
     "status": "completed"
    },
    "tags": []
   },
   "source": [
    "Удалим повторяющиеся"
   ]
  },
  {
   "cell_type": "code",
   "execution_count": 71,
   "metadata": {
    "execution": {
     "iopub.execute_input": "2021-12-01T12:41:10.422059Z",
     "iopub.status.busy": "2021-12-01T12:41:10.421206Z",
     "iopub.status.idle": "2021-12-01T12:41:10.423338Z",
     "shell.execute_reply": "2021-12-01T12:41:10.424012Z",
     "shell.execute_reply.started": "2021-12-01T12:10:22.691482Z"
    },
    "papermill": {
     "duration": 0.22175,
     "end_time": "2021-12-01T12:41:10.424193",
     "exception": false,
     "start_time": "2021-12-01T12:41:10.202443",
     "status": "completed"
    },
    "tags": []
   },
   "outputs": [],
   "source": [
    "# Столбец 'Привод' идентичен 'gear_type'"
   ]
  },
  {
   "cell_type": "code",
   "execution_count": 72,
   "metadata": {
    "execution": {
     "iopub.execute_input": "2021-12-01T12:41:10.863445Z",
     "iopub.status.busy": "2021-12-01T12:41:10.862333Z",
     "iopub.status.idle": "2021-12-01T12:41:10.868734Z",
     "shell.execute_reply": "2021-12-01T12:41:10.869384Z",
     "shell.execute_reply.started": "2021-12-01T12:10:22.697862Z"
    },
    "papermill": {
     "duration": 0.228753,
     "end_time": "2021-12-01T12:41:10.869561",
     "exception": false,
     "start_time": "2021-12-01T12:41:10.640808",
     "status": "completed"
    },
    "tags": []
   },
   "outputs": [
    {
     "data": {
      "text/plain": [
       "Index(['bodyType', 'brand', 'color', 'engineDisplacement', 'enginePower',\n",
       "       'fuelType', 'mileage', 'modelDate', 'model_name', 'numberOfDoors',\n",
       "       'productionDate', 'sell_id', 'super_gen', 'vehicleConfiguration',\n",
       "       'vehicleTransmission', 'vendor', 'Владельцы', 'Владение', 'ПТС',\n",
       "       'Привод', 'Руль', 'Состояние', 'Таможня', 'acceleration',\n",
       "       'clearance_min', 'fuel_rate', 'gearType', 'transmission'],\n",
       "      dtype='object')"
      ]
     },
     "execution_count": 72,
     "metadata": {},
     "output_type": "execute_result"
    }
   ],
   "source": [
    "test_data.columns"
   ]
  },
  {
   "cell_type": "code",
   "execution_count": 73,
   "metadata": {
    "execution": {
     "iopub.execute_input": "2021-12-01T12:41:11.336505Z",
     "iopub.status.busy": "2021-12-01T12:41:11.335515Z",
     "iopub.status.idle": "2021-12-01T12:41:11.340556Z",
     "shell.execute_reply": "2021-12-01T12:41:11.341154Z",
     "shell.execute_reply.started": "2021-12-01T12:10:22.715746Z"
    },
    "papermill": {
     "duration": 0.242621,
     "end_time": "2021-12-01T12:41:11.341346",
     "exception": false,
     "start_time": "2021-12-01T12:41:11.098725",
     "status": "completed"
    },
    "tags": []
   },
   "outputs": [
    {
     "data": {
      "text/plain": [
       "array(['передний', 'полный', 'задний'], dtype=object)"
      ]
     },
     "execution_count": 73,
     "metadata": {},
     "output_type": "execute_result"
    }
   ],
   "source": [
    "test_data['Привод'].unique()"
   ]
  },
  {
   "cell_type": "code",
   "execution_count": 74,
   "metadata": {
    "execution": {
     "iopub.execute_input": "2021-12-01T12:41:11.822195Z",
     "iopub.status.busy": "2021-12-01T12:41:11.821446Z",
     "iopub.status.idle": "2021-12-01T12:41:11.841026Z",
     "shell.execute_reply": "2021-12-01T12:41:11.840313Z",
     "shell.execute_reply.started": "2021-12-01T12:10:22.732074Z"
    },
    "papermill": {
     "duration": 0.265593,
     "end_time": "2021-12-01T12:41:11.841179",
     "exception": false,
     "start_time": "2021-12-01T12:41:11.575586",
     "status": "completed"
    },
    "tags": []
   },
   "outputs": [
    {
     "data": {
      "text/plain": [
       "array(['FORWARD_CONTROL', 'ALL_WHEEL_DRIVE', 'REAR_DRIVE'], dtype=object)"
      ]
     },
     "execution_count": 74,
     "metadata": {},
     "output_type": "execute_result"
    }
   ],
   "source": [
    "test_data['gearType'].unique()"
   ]
  },
  {
   "cell_type": "code",
   "execution_count": 75,
   "metadata": {
    "execution": {
     "iopub.execute_input": "2021-12-01T12:41:12.338329Z",
     "iopub.status.busy": "2021-12-01T12:41:12.337617Z",
     "iopub.status.idle": "2021-12-01T12:41:12.376206Z",
     "shell.execute_reply": "2021-12-01T12:41:12.375363Z",
     "shell.execute_reply.started": "2021-12-01T12:10:22.757315Z"
    },
    "papermill": {
     "duration": 0.288594,
     "end_time": "2021-12-01T12:41:12.376395",
     "exception": false,
     "start_time": "2021-12-01T12:41:12.087801",
     "status": "completed"
    },
    "tags": []
   },
   "outputs": [],
   "source": [
    "test_data.drop(['Привод'], axis = 1, inplace = True)"
   ]
  },
  {
   "cell_type": "code",
   "execution_count": 76,
   "metadata": {
    "execution": {
     "iopub.execute_input": "2021-12-01T12:41:12.870560Z",
     "iopub.status.busy": "2021-12-01T12:41:12.869504Z",
     "iopub.status.idle": "2021-12-01T12:41:12.872830Z",
     "shell.execute_reply": "2021-12-01T12:41:12.873370Z",
     "shell.execute_reply.started": "2021-12-01T12:10:22.820775Z"
    },
    "papermill": {
     "duration": 0.250638,
     "end_time": "2021-12-01T12:41:12.873569",
     "exception": false,
     "start_time": "2021-12-01T12:41:12.622931",
     "status": "completed"
    },
    "tags": []
   },
   "outputs": [],
   "source": [
    "# Столбец 'vehicleTransmission' идентичен 'transmission'"
   ]
  },
  {
   "cell_type": "code",
   "execution_count": 77,
   "metadata": {
    "execution": {
     "iopub.execute_input": "2021-12-01T12:41:13.359573Z",
     "iopub.status.busy": "2021-12-01T12:41:13.358894Z",
     "iopub.status.idle": "2021-12-01T12:41:13.363992Z",
     "shell.execute_reply": "2021-12-01T12:41:13.364509Z",
     "shell.execute_reply.started": "2021-12-01T12:10:22.830031Z"
    },
    "papermill": {
     "duration": 0.248441,
     "end_time": "2021-12-01T12:41:13.364692",
     "exception": false,
     "start_time": "2021-12-01T12:41:13.116251",
     "status": "completed"
    },
    "tags": []
   },
   "outputs": [
    {
     "data": {
      "text/plain": [
       "array(['роботизированная', 'механическая', 'автоматическая', 'вариатор'],\n",
       "      dtype=object)"
      ]
     },
     "execution_count": 77,
     "metadata": {},
     "output_type": "execute_result"
    }
   ],
   "source": [
    "test_data['vehicleTransmission'].unique()"
   ]
  },
  {
   "cell_type": "code",
   "execution_count": 78,
   "metadata": {
    "execution": {
     "iopub.execute_input": "2021-12-01T12:41:13.868273Z",
     "iopub.status.busy": "2021-12-01T12:41:13.867592Z",
     "iopub.status.idle": "2021-12-01T12:41:13.883447Z",
     "shell.execute_reply": "2021-12-01T12:41:13.884055Z",
     "shell.execute_reply.started": "2021-12-01T12:10:22.851540Z"
    },
    "papermill": {
     "duration": 0.250072,
     "end_time": "2021-12-01T12:41:13.884253",
     "exception": false,
     "start_time": "2021-12-01T12:41:13.634181",
     "status": "completed"
    },
    "tags": []
   },
   "outputs": [
    {
     "data": {
      "text/plain": [
       "array(['ROBOT', 'MECHANICAL', 'AUTOMATIC', 'VARIATOR'], dtype=object)"
      ]
     },
     "execution_count": 78,
     "metadata": {},
     "output_type": "execute_result"
    }
   ],
   "source": [
    "test_data['transmission'].unique()"
   ]
  },
  {
   "cell_type": "code",
   "execution_count": 79,
   "metadata": {
    "execution": {
     "iopub.execute_input": "2021-12-01T12:41:14.355484Z",
     "iopub.status.busy": "2021-12-01T12:41:14.354196Z",
     "iopub.status.idle": "2021-12-01T12:41:14.368437Z",
     "shell.execute_reply": "2021-12-01T12:41:14.369041Z",
     "shell.execute_reply.started": "2021-12-01T12:10:22.881080Z"
    },
    "papermill": {
     "duration": 0.256734,
     "end_time": "2021-12-01T12:41:14.369232",
     "exception": false,
     "start_time": "2021-12-01T12:41:14.112498",
     "status": "completed"
    },
    "tags": []
   },
   "outputs": [],
   "source": [
    "test_data.drop(['vehicleTransmission'], axis = 1, inplace = True)"
   ]
  },
  {
   "cell_type": "code",
   "execution_count": 80,
   "metadata": {
    "execution": {
     "iopub.execute_input": "2021-12-01T12:41:14.845396Z",
     "iopub.status.busy": "2021-12-01T12:41:14.844708Z",
     "iopub.status.idle": "2021-12-01T12:41:14.860954Z",
     "shell.execute_reply": "2021-12-01T12:41:14.861515Z",
     "shell.execute_reply.started": "2021-12-01T12:10:22.899019Z"
    },
    "papermill": {
     "duration": 0.255887,
     "end_time": "2021-12-01T12:41:14.861696",
     "exception": false,
     "start_time": "2021-12-01T12:41:14.605809",
     "status": "completed"
    },
    "tags": []
   },
   "outputs": [
    {
     "data": {
      "text/plain": [
       "array(['GASOLINE', 'DIESEL', 'HYBRID', 'ELECTRO', 'LPG'], dtype=object)"
      ]
     },
     "execution_count": 80,
     "metadata": {},
     "output_type": "execute_result"
    }
   ],
   "source": [
    "test_data['fuelType'].unique()"
   ]
  },
  {
   "cell_type": "code",
   "execution_count": 81,
   "metadata": {
    "execution": {
     "iopub.execute_input": "2021-12-01T12:41:15.405267Z",
     "iopub.status.busy": "2021-12-01T12:41:15.404168Z",
     "iopub.status.idle": "2021-12-01T12:41:15.408554Z",
     "shell.execute_reply": "2021-12-01T12:41:15.409578Z",
     "shell.execute_reply.started": "2021-12-01T12:10:22.916579Z"
    },
    "papermill": {
     "duration": 0.244651,
     "end_time": "2021-12-01T12:41:15.409898",
     "exception": false,
     "start_time": "2021-12-01T12:41:15.165247",
     "status": "completed"
    },
    "tags": []
   },
   "outputs": [],
   "source": [
    "# и удаляем сам столбец super_gen, он нам больше не нужен"
   ]
  },
  {
   "cell_type": "code",
   "execution_count": 82,
   "metadata": {
    "execution": {
     "iopub.execute_input": "2021-12-01T12:41:15.967225Z",
     "iopub.status.busy": "2021-12-01T12:41:15.963684Z",
     "iopub.status.idle": "2021-12-01T12:41:15.994795Z",
     "shell.execute_reply": "2021-12-01T12:41:15.995307Z",
     "shell.execute_reply.started": "2021-12-01T12:10:22.923742Z"
    },
    "papermill": {
     "duration": 0.284838,
     "end_time": "2021-12-01T12:41:15.995492",
     "exception": false,
     "start_time": "2021-12-01T12:41:15.710654",
     "status": "completed"
    },
    "tags": []
   },
   "outputs": [],
   "source": [
    "test_data.drop(['super_gen'], axis = 1, inplace = True)"
   ]
  },
  {
   "cell_type": "code",
   "execution_count": 83,
   "metadata": {
    "execution": {
     "iopub.execute_input": "2021-12-01T12:41:16.461814Z",
     "iopub.status.busy": "2021-12-01T12:41:16.460739Z",
     "iopub.status.idle": "2021-12-01T12:41:16.465199Z",
     "shell.execute_reply": "2021-12-01T12:41:16.465738Z",
     "shell.execute_reply.started": "2021-12-01T12:10:22.970124Z"
    },
    "papermill": {
     "duration": 0.24357,
     "end_time": "2021-12-01T12:41:16.465999",
     "exception": false,
     "start_time": "2021-12-01T12:41:16.222429",
     "status": "completed"
    },
    "tags": []
   },
   "outputs": [
    {
     "data": {
      "text/plain": [
       "Index(['bodyType', 'brand', 'color', 'engineDisplacement', 'enginePower',\n",
       "       'fuelType', 'mileage', 'modelDate', 'model_name', 'numberOfDoors',\n",
       "       'productionDate', 'sell_id', 'vehicleConfiguration', 'vendor',\n",
       "       'Владельцы', 'Владение', 'ПТС', 'Руль', 'Состояние', 'Таможня',\n",
       "       'acceleration', 'clearance_min', 'fuel_rate', 'gearType',\n",
       "       'transmission'],\n",
       "      dtype='object')"
      ]
     },
     "execution_count": 83,
     "metadata": {},
     "output_type": "execute_result"
    }
   ],
   "source": [
    "test_data.columns"
   ]
  },
  {
   "cell_type": "code",
   "execution_count": 84,
   "metadata": {
    "execution": {
     "iopub.execute_input": "2021-12-01T12:41:16.926024Z",
     "iopub.status.busy": "2021-12-01T12:41:16.924514Z",
     "iopub.status.idle": "2021-12-01T12:41:16.952075Z",
     "shell.execute_reply": "2021-12-01T12:41:16.952672Z",
     "shell.execute_reply.started": "2021-12-01T12:10:22.979985Z"
    },
    "papermill": {
     "duration": 0.263061,
     "end_time": "2021-12-01T12:41:16.952893",
     "exception": false,
     "start_time": "2021-12-01T12:41:16.689832",
     "status": "completed"
    },
    "tags": []
   },
   "outputs": [
    {
     "data": {
      "text/html": [
       "<div>\n",
       "<style scoped>\n",
       "    .dataframe tbody tr th:only-of-type {\n",
       "        vertical-align: middle;\n",
       "    }\n",
       "\n",
       "    .dataframe tbody tr th {\n",
       "        vertical-align: top;\n",
       "    }\n",
       "\n",
       "    .dataframe thead th {\n",
       "        text-align: right;\n",
       "    }\n",
       "</style>\n",
       "<table border=\"1\" class=\"dataframe\">\n",
       "  <thead>\n",
       "    <tr style=\"text-align: right;\">\n",
       "      <th></th>\n",
       "      <th>bodyType</th>\n",
       "      <th>brand</th>\n",
       "      <th>color</th>\n",
       "      <th>engineDisplacement</th>\n",
       "      <th>enginePower</th>\n",
       "      <th>fuelType</th>\n",
       "      <th>mileage</th>\n",
       "      <th>modelDate</th>\n",
       "      <th>model_name</th>\n",
       "      <th>numberOfDoors</th>\n",
       "      <th>productionDate</th>\n",
       "      <th>sell_id</th>\n",
       "      <th>vehicleConfiguration</th>\n",
       "      <th>vendor</th>\n",
       "      <th>Владельцы</th>\n",
       "      <th>Владение</th>\n",
       "      <th>ПТС</th>\n",
       "      <th>Руль</th>\n",
       "      <th>Состояние</th>\n",
       "      <th>Таможня</th>\n",
       "      <th>acceleration</th>\n",
       "      <th>clearance_min</th>\n",
       "      <th>fuel_rate</th>\n",
       "      <th>gearType</th>\n",
       "      <th>transmission</th>\n",
       "    </tr>\n",
       "  </thead>\n",
       "  <tbody>\n",
       "    <tr>\n",
       "      <th>0</th>\n",
       "      <td>LIFTBACK</td>\n",
       "      <td>SKODA</td>\n",
       "      <td>BLUE</td>\n",
       "      <td>1.2</td>\n",
       "      <td>105</td>\n",
       "      <td>GASOLINE</td>\n",
       "      <td>74000</td>\n",
       "      <td>2013</td>\n",
       "      <td>OCTAVIA</td>\n",
       "      <td>5</td>\n",
       "      <td>2014</td>\n",
       "      <td>1100575026</td>\n",
       "      <td>LIFTBACK ROBOT 1.2</td>\n",
       "      <td>EUROPEAN</td>\n",
       "      <td>3 или более</td>\n",
       "      <td>NaN</td>\n",
       "      <td>Оригинал</td>\n",
       "      <td>Левый</td>\n",
       "      <td>Не требует ремонта</td>\n",
       "      <td>Растаможен</td>\n",
       "      <td>10.5</td>\n",
       "      <td>155.0</td>\n",
       "      <td>5.0</td>\n",
       "      <td>FORWARD_CONTROL</td>\n",
       "      <td>ROBOT</td>\n",
       "    </tr>\n",
       "    <tr>\n",
       "      <th>1</th>\n",
       "      <td>LIFTBACK</td>\n",
       "      <td>SKODA</td>\n",
       "      <td>BLACK</td>\n",
       "      <td>1.6</td>\n",
       "      <td>110</td>\n",
       "      <td>GASOLINE</td>\n",
       "      <td>60563</td>\n",
       "      <td>2017</td>\n",
       "      <td>OCTAVIA</td>\n",
       "      <td>5</td>\n",
       "      <td>2017</td>\n",
       "      <td>1100549428</td>\n",
       "      <td>LIFTBACK MECHANICAL 1.6</td>\n",
       "      <td>EUROPEAN</td>\n",
       "      <td>1 владелец</td>\n",
       "      <td>NaN</td>\n",
       "      <td>Оригинал</td>\n",
       "      <td>Левый</td>\n",
       "      <td>Не требует ремонта</td>\n",
       "      <td>Растаможен</td>\n",
       "      <td>10.8</td>\n",
       "      <td>156.0</td>\n",
       "      <td>6.4</td>\n",
       "      <td>FORWARD_CONTROL</td>\n",
       "      <td>MECHANICAL</td>\n",
       "    </tr>\n",
       "    <tr>\n",
       "      <th>2</th>\n",
       "      <td>LIFTBACK</td>\n",
       "      <td>SKODA</td>\n",
       "      <td>GRAY</td>\n",
       "      <td>1.8</td>\n",
       "      <td>152</td>\n",
       "      <td>GASOLINE</td>\n",
       "      <td>88000</td>\n",
       "      <td>2013</td>\n",
       "      <td>SUPERB</td>\n",
       "      <td>5</td>\n",
       "      <td>2014</td>\n",
       "      <td>1100658222</td>\n",
       "      <td>LIFTBACK ROBOT 1.8</td>\n",
       "      <td>EUROPEAN</td>\n",
       "      <td>1 владелец</td>\n",
       "      <td>NaN</td>\n",
       "      <td>Оригинал</td>\n",
       "      <td>Левый</td>\n",
       "      <td>Не требует ремонта</td>\n",
       "      <td>Растаможен</td>\n",
       "      <td>8.7</td>\n",
       "      <td>139.0</td>\n",
       "      <td>7.1</td>\n",
       "      <td>FORWARD_CONTROL</td>\n",
       "      <td>ROBOT</td>\n",
       "    </tr>\n",
       "    <tr>\n",
       "      <th>3</th>\n",
       "      <td>LIFTBACK</td>\n",
       "      <td>SKODA</td>\n",
       "      <td>BROWN</td>\n",
       "      <td>1.6</td>\n",
       "      <td>110</td>\n",
       "      <td>GASOLINE</td>\n",
       "      <td>95000</td>\n",
       "      <td>2013</td>\n",
       "      <td>OCTAVIA</td>\n",
       "      <td>5</td>\n",
       "      <td>2014</td>\n",
       "      <td>1100937408</td>\n",
       "      <td>LIFTBACK AUTOMATIC 1.6</td>\n",
       "      <td>EUROPEAN</td>\n",
       "      <td>1 владелец</td>\n",
       "      <td>NaN</td>\n",
       "      <td>Оригинал</td>\n",
       "      <td>Левый</td>\n",
       "      <td>Не требует ремонта</td>\n",
       "      <td>Растаможен</td>\n",
       "      <td>12.2</td>\n",
       "      <td>155.0</td>\n",
       "      <td>6.7</td>\n",
       "      <td>FORWARD_CONTROL</td>\n",
       "      <td>AUTOMATIC</td>\n",
       "    </tr>\n",
       "    <tr>\n",
       "      <th>4</th>\n",
       "      <td>LIFTBACK</td>\n",
       "      <td>SKODA</td>\n",
       "      <td>WHITE</td>\n",
       "      <td>1.8</td>\n",
       "      <td>152</td>\n",
       "      <td>GASOLINE</td>\n",
       "      <td>58536</td>\n",
       "      <td>2008</td>\n",
       "      <td>OCTAVIA</td>\n",
       "      <td>5</td>\n",
       "      <td>2012</td>\n",
       "      <td>1101037972</td>\n",
       "      <td>LIFTBACK AUTOMATIC 1.8</td>\n",
       "      <td>EUROPEAN</td>\n",
       "      <td>1 владелец</td>\n",
       "      <td>NaN</td>\n",
       "      <td>Оригинал</td>\n",
       "      <td>Левый</td>\n",
       "      <td>Не требует ремонта</td>\n",
       "      <td>Растаможен</td>\n",
       "      <td>8.8</td>\n",
       "      <td>164.0</td>\n",
       "      <td>7.7</td>\n",
       "      <td>FORWARD_CONTROL</td>\n",
       "      <td>AUTOMATIC</td>\n",
       "    </tr>\n",
       "  </tbody>\n",
       "</table>\n",
       "</div>"
      ],
      "text/plain": [
       "   bodyType  brand  color  engineDisplacement  enginePower  fuelType  mileage  \\\n",
       "0  LIFTBACK  SKODA   BLUE                 1.2          105  GASOLINE    74000   \n",
       "1  LIFTBACK  SKODA  BLACK                 1.6          110  GASOLINE    60563   \n",
       "2  LIFTBACK  SKODA   GRAY                 1.8          152  GASOLINE    88000   \n",
       "3  LIFTBACK  SKODA  BROWN                 1.6          110  GASOLINE    95000   \n",
       "4  LIFTBACK  SKODA  WHITE                 1.8          152  GASOLINE    58536   \n",
       "\n",
       "   modelDate model_name  numberOfDoors  productionDate     sell_id  \\\n",
       "0       2013    OCTAVIA              5            2014  1100575026   \n",
       "1       2017    OCTAVIA              5            2017  1100549428   \n",
       "2       2013     SUPERB              5            2014  1100658222   \n",
       "3       2013    OCTAVIA              5            2014  1100937408   \n",
       "4       2008    OCTAVIA              5            2012  1101037972   \n",
       "\n",
       "      vehicleConfiguration    vendor    Владельцы Владение       ПТС   Руль  \\\n",
       "0       LIFTBACK ROBOT 1.2  EUROPEAN  3 или более      NaN  Оригинал  Левый   \n",
       "1  LIFTBACK MECHANICAL 1.6  EUROPEAN   1 владелец      NaN  Оригинал  Левый   \n",
       "2       LIFTBACK ROBOT 1.8  EUROPEAN   1 владелец      NaN  Оригинал  Левый   \n",
       "3   LIFTBACK AUTOMATIC 1.6  EUROPEAN   1 владелец      NaN  Оригинал  Левый   \n",
       "4   LIFTBACK AUTOMATIC 1.8  EUROPEAN   1 владелец      NaN  Оригинал  Левый   \n",
       "\n",
       "            Состояние     Таможня  acceleration  clearance_min  fuel_rate  \\\n",
       "0  Не требует ремонта  Растаможен          10.5          155.0        5.0   \n",
       "1  Не требует ремонта  Растаможен          10.8          156.0        6.4   \n",
       "2  Не требует ремонта  Растаможен           8.7          139.0        7.1   \n",
       "3  Не требует ремонта  Растаможен          12.2          155.0        6.7   \n",
       "4  Не требует ремонта  Растаможен           8.8          164.0        7.7   \n",
       "\n",
       "          gearType transmission  \n",
       "0  FORWARD_CONTROL        ROBOT  \n",
       "1  FORWARD_CONTROL   MECHANICAL  \n",
       "2  FORWARD_CONTROL        ROBOT  \n",
       "3  FORWARD_CONTROL    AUTOMATIC  \n",
       "4  FORWARD_CONTROL    AUTOMATIC  "
      ]
     },
     "execution_count": 84,
     "metadata": {},
     "output_type": "execute_result"
    }
   ],
   "source": [
    "test_data.head(5)"
   ]
  },
  {
   "cell_type": "markdown",
   "metadata": {
    "papermill": {
     "duration": 0.234854,
     "end_time": "2021-12-01T12:41:17.419659",
     "exception": false,
     "start_time": "2021-12-01T12:41:17.184805",
     "status": "completed"
    },
    "tags": []
   },
   "source": [
    "## vehicleConfiguration"
   ]
  },
  {
   "cell_type": "code",
   "execution_count": 85,
   "metadata": {
    "execution": {
     "iopub.execute_input": "2021-12-01T12:41:17.883220Z",
     "iopub.status.busy": "2021-12-01T12:41:17.882184Z",
     "iopub.status.idle": "2021-12-01T12:41:17.888448Z",
     "shell.execute_reply": "2021-12-01T12:41:17.889040Z",
     "shell.execute_reply.started": "2021-12-01T12:10:23.016302Z"
    },
    "papermill": {
     "duration": 0.24358,
     "end_time": "2021-12-01T12:41:17.889219",
     "exception": false,
     "start_time": "2021-12-01T12:41:17.645639",
     "status": "completed"
    },
    "tags": []
   },
   "outputs": [
    {
     "data": {
      "text/plain": [
       "'LIFTBACK ROBOT 1.2'"
      ]
     },
     "execution_count": 85,
     "metadata": {},
     "output_type": "execute_result"
    }
   ],
   "source": [
    "test_data['vehicleConfiguration'].loc[0]"
   ]
  },
  {
   "cell_type": "code",
   "execution_count": 86,
   "metadata": {
    "execution": {
     "iopub.execute_input": "2021-12-01T12:41:18.370366Z",
     "iopub.status.busy": "2021-12-01T12:41:18.369636Z",
     "iopub.status.idle": "2021-12-01T12:41:18.379205Z",
     "shell.execute_reply": "2021-12-01T12:41:18.379852Z",
     "shell.execute_reply.started": "2021-12-01T12:10:23.025452Z"
    },
    "papermill": {
     "duration": 0.253311,
     "end_time": "2021-12-01T12:41:18.380031",
     "exception": false,
     "start_time": "2021-12-01T12:41:18.126720",
     "status": "completed"
    },
    "tags": []
   },
   "outputs": [
    {
     "data": {
      "text/plain": [
       "array(['LIFTBACK ROBOT 1.2', 'LIFTBACK MECHANICAL 1.6',\n",
       "       'LIFTBACK ROBOT 1.8', 'LIFTBACK AUTOMATIC 1.6',\n",
       "       'LIFTBACK AUTOMATIC 1.8', 'LIFTBACK ROBOT 2.0',\n",
       "       'ALLROAD_5_DOORS ROBOT 1.8', 'ALLROAD_5_DOORS MECHANICAL 1.4',\n",
       "       'ALLROAD_5_DOORS MECHANICAL 1.8', 'LIFTBACK ROBOT 1.4'],\n",
       "      dtype=object)"
      ]
     },
     "execution_count": 86,
     "metadata": {},
     "output_type": "execute_result"
    }
   ],
   "source": [
    "test_data['vehicleConfiguration'].unique()[:10]"
   ]
  },
  {
   "cell_type": "code",
   "execution_count": 87,
   "metadata": {
    "execution": {
     "iopub.execute_input": "2021-12-01T12:41:18.840986Z",
     "iopub.status.busy": "2021-12-01T12:41:18.840247Z",
     "iopub.status.idle": "2021-12-01T12:41:18.852279Z",
     "shell.execute_reply": "2021-12-01T12:41:18.852786Z",
     "shell.execute_reply.started": "2021-12-01T12:10:23.040918Z"
    },
    "papermill": {
     "duration": 0.242261,
     "end_time": "2021-12-01T12:41:18.852989",
     "exception": false,
     "start_time": "2021-12-01T12:41:18.610728",
     "status": "completed"
    },
    "tags": []
   },
   "outputs": [],
   "source": [
    "test_data.drop(['vehicleConfiguration'], axis = 1, inplace = True)"
   ]
  },
  {
   "cell_type": "markdown",
   "metadata": {
    "papermill": {
     "duration": 0.23669,
     "end_time": "2021-12-01T12:41:19.319745",
     "exception": false,
     "start_time": "2021-12-01T12:41:19.083055",
     "status": "completed"
    },
    "tags": []
   },
   "source": [
    "## vendor"
   ]
  },
  {
   "cell_type": "code",
   "execution_count": 88,
   "metadata": {
    "execution": {
     "iopub.execute_input": "2021-12-01T12:41:19.779343Z",
     "iopub.status.busy": "2021-12-01T12:41:19.778563Z",
     "iopub.status.idle": "2021-12-01T12:41:19.785381Z",
     "shell.execute_reply": "2021-12-01T12:41:19.785941Z",
     "shell.execute_reply.started": "2021-12-01T12:10:23.057015Z"
    },
    "papermill": {
     "duration": 0.243675,
     "end_time": "2021-12-01T12:41:19.786115",
     "exception": false,
     "start_time": "2021-12-01T12:41:19.542440",
     "status": "completed"
    },
    "tags": []
   },
   "outputs": [
    {
     "data": {
      "text/plain": [
       "array(['EUROPEAN', 'JAPANESE'], dtype=object)"
      ]
     },
     "execution_count": 88,
     "metadata": {},
     "output_type": "execute_result"
    }
   ],
   "source": [
    "test_data['vendor'].unique()"
   ]
  },
  {
   "cell_type": "markdown",
   "metadata": {
    "papermill": {
     "duration": 0.235833,
     "end_time": "2021-12-01T12:41:20.250436",
     "exception": false,
     "start_time": "2021-12-01T12:41:20.014603",
     "status": "completed"
    },
    "tags": []
   },
   "source": [
    "## Владельцы"
   ]
  },
  {
   "cell_type": "code",
   "execution_count": 89,
   "metadata": {
    "execution": {
     "iopub.execute_input": "2021-12-01T12:41:20.712028Z",
     "iopub.status.busy": "2021-12-01T12:41:20.711332Z",
     "iopub.status.idle": "2021-12-01T12:41:20.721250Z",
     "shell.execute_reply": "2021-12-01T12:41:20.721739Z",
     "shell.execute_reply.started": "2021-12-01T12:10:23.072947Z"
    },
    "papermill": {
     "duration": 0.23957,
     "end_time": "2021-12-01T12:41:20.721949",
     "exception": false,
     "start_time": "2021-12-01T12:41:20.482379",
     "status": "completed"
    },
    "tags": []
   },
   "outputs": [
    {
     "data": {
      "text/plain": [
       "array(['3 или более', '1\\xa0владелец', '2\\xa0владельца'], dtype=object)"
      ]
     },
     "execution_count": 89,
     "metadata": {},
     "output_type": "execute_result"
    }
   ],
   "source": [
    "test_data['Владельцы'].unique()"
   ]
  },
  {
   "cell_type": "code",
   "execution_count": 90,
   "metadata": {
    "execution": {
     "iopub.execute_input": "2021-12-01T12:41:21.199548Z",
     "iopub.status.busy": "2021-12-01T12:41:21.198846Z",
     "iopub.status.idle": "2021-12-01T12:41:21.204591Z",
     "shell.execute_reply": "2021-12-01T12:41:21.205229Z",
     "shell.execute_reply.started": "2021-12-01T12:10:23.084463Z"
    },
    "papermill": {
     "duration": 0.251609,
     "end_time": "2021-12-01T12:41:21.205435",
     "exception": false,
     "start_time": "2021-12-01T12:41:20.953826",
     "status": "completed"
    },
    "tags": []
   },
   "outputs": [],
   "source": [
    "def fill_owners(car):\n",
    "    if car == '3 или более':\n",
    "        return 3\n",
    "    elif car == '1\\xa0владелец':\n",
    "        return 1\n",
    "    elif car == '2\\xa0владельца':\n",
    "        return 2"
   ]
  },
  {
   "cell_type": "code",
   "execution_count": 91,
   "metadata": {
    "execution": {
     "iopub.execute_input": "2021-12-01T12:41:21.689016Z",
     "iopub.status.busy": "2021-12-01T12:41:21.687672Z",
     "iopub.status.idle": "2021-12-01T12:41:21.716822Z",
     "shell.execute_reply": "2021-12-01T12:41:21.717739Z",
     "shell.execute_reply.started": "2021-12-01T12:10:23.092724Z"
    },
    "papermill": {
     "duration": 0.26985,
     "end_time": "2021-12-01T12:41:21.718047",
     "exception": false,
     "start_time": "2021-12-01T12:41:21.448197",
     "status": "completed"
    },
    "tags": []
   },
   "outputs": [],
   "source": [
    "test_data['owners_number'] = test_data['Владельцы'].apply(fill_owners)"
   ]
  },
  {
   "cell_type": "code",
   "execution_count": 92,
   "metadata": {
    "execution": {
     "iopub.execute_input": "2021-12-01T12:41:22.195039Z",
     "iopub.status.busy": "2021-12-01T12:41:22.194305Z",
     "iopub.status.idle": "2021-12-01T12:41:22.211851Z",
     "shell.execute_reply": "2021-12-01T12:41:22.212342Z",
     "shell.execute_reply.started": "2021-12-01T12:10:23.129053Z"
    },
    "papermill": {
     "duration": 0.260745,
     "end_time": "2021-12-01T12:41:22.212536",
     "exception": false,
     "start_time": "2021-12-01T12:41:21.951791",
     "status": "completed"
    },
    "tags": []
   },
   "outputs": [],
   "source": [
    "test_data.drop(['Владельцы'], inplace = True, axis = 1)"
   ]
  },
  {
   "cell_type": "markdown",
   "metadata": {
    "papermill": {
     "duration": 0.229027,
     "end_time": "2021-12-01T12:41:22.671583",
     "exception": false,
     "start_time": "2021-12-01T12:41:22.442556",
     "status": "completed"
    },
    "tags": []
   },
   "source": [
    "## Владение"
   ]
  },
  {
   "cell_type": "code",
   "execution_count": 93,
   "metadata": {
    "execution": {
     "iopub.execute_input": "2021-12-01T12:41:23.148050Z",
     "iopub.status.busy": "2021-12-01T12:41:23.147240Z",
     "iopub.status.idle": "2021-12-01T12:41:23.156548Z",
     "shell.execute_reply": "2021-12-01T12:41:23.157119Z",
     "shell.execute_reply.started": "2021-12-01T12:10:23.146881Z"
    },
    "papermill": {
     "duration": 0.254353,
     "end_time": "2021-12-01T12:41:23.157306",
     "exception": false,
     "start_time": "2021-12-01T12:41:22.902953",
     "status": "completed"
    },
    "tags": []
   },
   "outputs": [
    {
     "data": {
      "text/plain": [
       "array([nan, '3 года и 2 месяца', '11 месяцев', '4 года и 1 месяц',\n",
       "       '2 года и 4 месяца', '1 месяц', '3 года и 10 месяцев',\n",
       "       '2 года и 6 месяцев', '6 лет и 4 месяца', '2 месяца'], dtype=object)"
      ]
     },
     "execution_count": 93,
     "metadata": {},
     "output_type": "execute_result"
    }
   ],
   "source": [
    "test_data['Владение'].unique()[:10]"
   ]
  },
  {
   "cell_type": "code",
   "execution_count": 94,
   "metadata": {
    "execution": {
     "iopub.execute_input": "2021-12-01T12:41:23.630900Z",
     "iopub.status.busy": "2021-12-01T12:41:23.630151Z",
     "iopub.status.idle": "2021-12-01T12:41:23.640670Z",
     "shell.execute_reply": "2021-12-01T12:41:23.641499Z",
     "shell.execute_reply.started": "2021-12-01T12:10:23.159274Z"
    },
    "papermill": {
     "duration": 0.252341,
     "end_time": "2021-12-01T12:41:23.641796",
     "exception": false,
     "start_time": "2021-12-01T12:41:23.389455",
     "status": "completed"
    },
    "tags": []
   },
   "outputs": [
    {
     "data": {
      "text/plain": [
       "22691"
      ]
     },
     "execution_count": 94,
     "metadata": {},
     "output_type": "execute_result"
    }
   ],
   "source": [
    "test_data['Владение'].isnull().sum()"
   ]
  },
  {
   "cell_type": "code",
   "execution_count": 95,
   "metadata": {
    "execution": {
     "iopub.execute_input": "2021-12-01T12:41:24.102439Z",
     "iopub.status.busy": "2021-12-01T12:41:24.101629Z",
     "iopub.status.idle": "2021-12-01T12:41:24.115066Z",
     "shell.execute_reply": "2021-12-01T12:41:24.115659Z",
     "shell.execute_reply.started": "2021-12-01T12:10:23.175354Z"
    },
    "papermill": {
     "duration": 0.245502,
     "end_time": "2021-12-01T12:41:24.115889",
     "exception": false,
     "start_time": "2021-12-01T12:41:23.870387",
     "status": "completed"
    },
    "tags": []
   },
   "outputs": [],
   "source": [
    "test_data.drop(['Владение'], inplace = True, axis = 1)"
   ]
  },
  {
   "cell_type": "markdown",
   "metadata": {
    "papermill": {
     "duration": 0.248176,
     "end_time": "2021-12-01T12:41:24.591493",
     "exception": false,
     "start_time": "2021-12-01T12:41:24.343317",
     "status": "completed"
    },
    "tags": []
   },
   "source": [
    "## ПТС"
   ]
  },
  {
   "cell_type": "code",
   "execution_count": 96,
   "metadata": {
    "execution": {
     "iopub.execute_input": "2021-12-01T12:41:25.054898Z",
     "iopub.status.busy": "2021-12-01T12:41:25.054169Z",
     "iopub.status.idle": "2021-12-01T12:41:25.056732Z",
     "shell.execute_reply": "2021-12-01T12:41:25.057839Z",
     "shell.execute_reply.started": "2021-12-01T12:10:23.194658Z"
    },
    "papermill": {
     "duration": 0.242712,
     "end_time": "2021-12-01T12:41:25.058053",
     "exception": false,
     "start_time": "2021-12-01T12:41:24.815341",
     "status": "completed"
    },
    "tags": []
   },
   "outputs": [
    {
     "data": {
      "text/plain": [
       "array(['Оригинал', 'Дубликат', nan], dtype=object)"
      ]
     },
     "execution_count": 96,
     "metadata": {},
     "output_type": "execute_result"
    }
   ],
   "source": [
    "test_data['ПТС'].unique()"
   ]
  },
  {
   "cell_type": "code",
   "execution_count": 97,
   "metadata": {
    "execution": {
     "iopub.execute_input": "2021-12-01T12:41:25.537056Z",
     "iopub.status.busy": "2021-12-01T12:41:25.535937Z",
     "iopub.status.idle": "2021-12-01T12:41:25.541598Z",
     "shell.execute_reply": "2021-12-01T12:41:25.542115Z",
     "shell.execute_reply.started": "2021-12-01T12:10:23.207873Z"
    },
    "papermill": {
     "duration": 0.247686,
     "end_time": "2021-12-01T12:41:25.542318",
     "exception": false,
     "start_time": "2021-12-01T12:41:25.294632",
     "status": "completed"
    },
    "tags": []
   },
   "outputs": [
    {
     "data": {
      "text/plain": [
       "1"
      ]
     },
     "execution_count": 97,
     "metadata": {},
     "output_type": "execute_result"
    }
   ],
   "source": [
    "test_data['ПТС'].isnull().sum()"
   ]
  },
  {
   "cell_type": "code",
   "execution_count": 98,
   "metadata": {
    "execution": {
     "iopub.execute_input": "2021-12-01T12:41:26.015489Z",
     "iopub.status.busy": "2021-12-01T12:41:26.014813Z",
     "iopub.status.idle": "2021-12-01T12:41:26.018389Z",
     "shell.execute_reply": "2021-12-01T12:41:26.018912Z",
     "shell.execute_reply.started": "2021-12-01T12:10:23.224096Z"
    },
    "papermill": {
     "duration": 0.246633,
     "end_time": "2021-12-01T12:41:26.019101",
     "exception": false,
     "start_time": "2021-12-01T12:41:25.772468",
     "status": "completed"
    },
    "tags": []
   },
   "outputs": [
    {
     "data": {
      "text/plain": [
       "Оригинал    30098\n",
       "Дубликат     4587\n",
       "Name: ПТС, dtype: int64"
      ]
     },
     "execution_count": 98,
     "metadata": {},
     "output_type": "execute_result"
    }
   ],
   "source": [
    "test_data['ПТС'].value_counts()"
   ]
  },
  {
   "cell_type": "code",
   "execution_count": 99,
   "metadata": {
    "execution": {
     "iopub.execute_input": "2021-12-01T12:41:26.495257Z",
     "iopub.status.busy": "2021-12-01T12:41:26.494500Z",
     "iopub.status.idle": "2021-12-01T12:41:26.505047Z",
     "shell.execute_reply": "2021-12-01T12:41:26.504339Z",
     "shell.execute_reply.started": "2021-12-01T12:10:23.243720Z"
    },
    "papermill": {
     "duration": 0.247871,
     "end_time": "2021-12-01T12:41:26.505199",
     "exception": false,
     "start_time": "2021-12-01T12:41:26.257328",
     "status": "completed"
    },
    "tags": []
   },
   "outputs": [],
   "source": [
    "test_data['ПТС'] = test_data['ПТС'].fillna('Оригинал') "
   ]
  },
  {
   "cell_type": "code",
   "execution_count": 100,
   "metadata": {
    "execution": {
     "iopub.execute_input": "2021-12-01T12:41:26.969092Z",
     "iopub.status.busy": "2021-12-01T12:41:26.967634Z",
     "iopub.status.idle": "2021-12-01T12:41:26.974634Z",
     "shell.execute_reply": "2021-12-01T12:41:26.973933Z",
     "shell.execute_reply.started": "2021-12-01T12:10:23.257045Z"
    },
    "papermill": {
     "duration": 0.241646,
     "end_time": "2021-12-01T12:41:26.974812",
     "exception": false,
     "start_time": "2021-12-01T12:41:26.733166",
     "status": "completed"
    },
    "tags": []
   },
   "outputs": [],
   "source": [
    "def fill_registration(car):\n",
    "    if car == 'Оригинал':\n",
    "        return 1\n",
    "    elif car == 'Дубликат':\n",
    "        return 0"
   ]
  },
  {
   "cell_type": "code",
   "execution_count": 101,
   "metadata": {
    "execution": {
     "iopub.execute_input": "2021-12-01T12:41:27.442035Z",
     "iopub.status.busy": "2021-12-01T12:41:27.437097Z",
     "iopub.status.idle": "2021-12-01T12:41:27.464406Z",
     "shell.execute_reply": "2021-12-01T12:41:27.463804Z",
     "shell.execute_reply.started": "2021-12-01T12:10:23.265760Z"
    },
    "papermill": {
     "duration": 0.258683,
     "end_time": "2021-12-01T12:41:27.464552",
     "exception": false,
     "start_time": "2021-12-01T12:41:27.205869",
     "status": "completed"
    },
    "tags": []
   },
   "outputs": [],
   "source": [
    "test_data['original_registration'] = test_data['ПТС'].apply(fill_registration)"
   ]
  },
  {
   "cell_type": "code",
   "execution_count": 102,
   "metadata": {
    "execution": {
     "iopub.execute_input": "2021-12-01T12:41:27.924813Z",
     "iopub.status.busy": "2021-12-01T12:41:27.923401Z",
     "iopub.status.idle": "2021-12-01T12:41:27.935625Z",
     "shell.execute_reply": "2021-12-01T12:41:27.934956Z",
     "shell.execute_reply.started": "2021-12-01T12:10:23.301025Z"
    },
    "papermill": {
     "duration": 0.242922,
     "end_time": "2021-12-01T12:41:27.935808",
     "exception": false,
     "start_time": "2021-12-01T12:41:27.692886",
     "status": "completed"
    },
    "tags": []
   },
   "outputs": [],
   "source": [
    "test_data.drop(['ПТС'], inplace = True, axis = 1)"
   ]
  },
  {
   "cell_type": "markdown",
   "metadata": {
    "papermill": {
     "duration": 0.250293,
     "end_time": "2021-12-01T12:41:28.421694",
     "exception": false,
     "start_time": "2021-12-01T12:41:28.171401",
     "status": "completed"
    },
    "tags": []
   },
   "source": [
    "## Руль"
   ]
  },
  {
   "cell_type": "code",
   "execution_count": 103,
   "metadata": {
    "execution": {
     "iopub.execute_input": "2021-12-01T12:41:28.898590Z",
     "iopub.status.busy": "2021-12-01T12:41:28.897506Z",
     "iopub.status.idle": "2021-12-01T12:41:28.907492Z",
     "shell.execute_reply": "2021-12-01T12:41:28.908142Z",
     "shell.execute_reply.started": "2021-12-01T12:10:23.320587Z"
    },
    "papermill": {
     "duration": 0.246872,
     "end_time": "2021-12-01T12:41:28.908362",
     "exception": false,
     "start_time": "2021-12-01T12:41:28.661490",
     "status": "completed"
    },
    "tags": []
   },
   "outputs": [
    {
     "data": {
      "text/plain": [
       "array(['Левый', 'Правый'], dtype=object)"
      ]
     },
     "execution_count": 103,
     "metadata": {},
     "output_type": "execute_result"
    }
   ],
   "source": [
    "test_data['Руль'].unique()"
   ]
  },
  {
   "cell_type": "code",
   "execution_count": 104,
   "metadata": {
    "execution": {
     "iopub.execute_input": "2021-12-01T12:41:29.398256Z",
     "iopub.status.busy": "2021-12-01T12:41:29.397276Z",
     "iopub.status.idle": "2021-12-01T12:41:29.403674Z",
     "shell.execute_reply": "2021-12-01T12:41:29.403090Z",
     "shell.execute_reply.started": "2021-12-01T12:10:23.335830Z"
    },
    "papermill": {
     "duration": 0.261448,
     "end_time": "2021-12-01T12:41:29.403865",
     "exception": false,
     "start_time": "2021-12-01T12:41:29.142417",
     "status": "completed"
    },
    "tags": []
   },
   "outputs": [],
   "source": [
    "def fill_steering_wheel(car):\n",
    "    if car == 'Левый':\n",
    "        return 'LEFT'\n",
    "    elif car == 'Правый':\n",
    "        return 'RIGHT'"
   ]
  },
  {
   "cell_type": "code",
   "execution_count": 105,
   "metadata": {
    "execution": {
     "iopub.execute_input": "2021-12-01T12:41:29.908725Z",
     "iopub.status.busy": "2021-12-01T12:41:29.908008Z",
     "iopub.status.idle": "2021-12-01T12:41:29.915683Z",
     "shell.execute_reply": "2021-12-01T12:41:29.916191Z",
     "shell.execute_reply.started": "2021-12-01T12:10:23.341317Z"
    },
    "papermill": {
     "duration": 0.272535,
     "end_time": "2021-12-01T12:41:29.916391",
     "exception": false,
     "start_time": "2021-12-01T12:41:29.643856",
     "status": "completed"
    },
    "tags": []
   },
   "outputs": [],
   "source": [
    "test_data['steering_wheel'] = test_data['Руль'].apply(fill_steering_wheel)"
   ]
  },
  {
   "cell_type": "code",
   "execution_count": 106,
   "metadata": {
    "execution": {
     "iopub.execute_input": "2021-12-01T12:41:30.407203Z",
     "iopub.status.busy": "2021-12-01T12:41:30.406273Z",
     "iopub.status.idle": "2021-12-01T12:41:30.430785Z",
     "shell.execute_reply": "2021-12-01T12:41:30.431274Z",
     "shell.execute_reply.started": "2021-12-01T12:10:23.367096Z"
    },
    "papermill": {
     "duration": 0.270296,
     "end_time": "2021-12-01T12:41:30.431479",
     "exception": false,
     "start_time": "2021-12-01T12:41:30.161183",
     "status": "completed"
    },
    "tags": []
   },
   "outputs": [],
   "source": [
    "test_data.drop(['Руль'], inplace = True, axis = 1)"
   ]
  },
  {
   "cell_type": "markdown",
   "metadata": {
    "papermill": {
     "duration": 0.230422,
     "end_time": "2021-12-01T12:41:30.892327",
     "exception": false,
     "start_time": "2021-12-01T12:41:30.661905",
     "status": "completed"
    },
    "tags": []
   },
   "source": [
    "## Состояние"
   ]
  },
  {
   "cell_type": "code",
   "execution_count": 107,
   "metadata": {
    "execution": {
     "iopub.execute_input": "2021-12-01T12:41:31.378899Z",
     "iopub.status.busy": "2021-12-01T12:41:31.377842Z",
     "iopub.status.idle": "2021-12-01T12:41:31.386742Z",
     "shell.execute_reply": "2021-12-01T12:41:31.387445Z",
     "shell.execute_reply.started": "2021-12-01T12:10:23.396154Z"
    },
    "papermill": {
     "duration": 0.257078,
     "end_time": "2021-12-01T12:41:31.387631",
     "exception": false,
     "start_time": "2021-12-01T12:41:31.130553",
     "status": "completed"
    },
    "tags": []
   },
   "outputs": [
    {
     "data": {
      "text/plain": [
       "array(['Не требует ремонта'], dtype=object)"
      ]
     },
     "execution_count": 107,
     "metadata": {},
     "output_type": "execute_result"
    }
   ],
   "source": [
    "test_data['Состояние'].unique()"
   ]
  },
  {
   "cell_type": "code",
   "execution_count": 108,
   "metadata": {
    "execution": {
     "iopub.execute_input": "2021-12-01T12:41:31.878088Z",
     "iopub.status.busy": "2021-12-01T12:41:31.877384Z",
     "iopub.status.idle": "2021-12-01T12:41:31.889193Z",
     "shell.execute_reply": "2021-12-01T12:41:31.889908Z",
     "shell.execute_reply.started": "2021-12-01T12:10:23.411886Z"
    },
    "papermill": {
     "duration": 0.252139,
     "end_time": "2021-12-01T12:41:31.890125",
     "exception": false,
     "start_time": "2021-12-01T12:41:31.637986",
     "status": "completed"
    },
    "tags": []
   },
   "outputs": [],
   "source": [
    "test_data.drop(['Состояние'], inplace = True, axis = 1)"
   ]
  },
  {
   "cell_type": "markdown",
   "metadata": {
    "papermill": {
     "duration": 0.237664,
     "end_time": "2021-12-01T12:41:32.364285",
     "exception": false,
     "start_time": "2021-12-01T12:41:32.126621",
     "status": "completed"
    },
    "tags": []
   },
   "source": [
    "## Таможня"
   ]
  },
  {
   "cell_type": "code",
   "execution_count": 109,
   "metadata": {
    "execution": {
     "iopub.execute_input": "2021-12-01T12:41:32.844152Z",
     "iopub.status.busy": "2021-12-01T12:41:32.843386Z",
     "iopub.status.idle": "2021-12-01T12:41:32.852123Z",
     "shell.execute_reply": "2021-12-01T12:41:32.852598Z",
     "shell.execute_reply.started": "2021-12-01T12:10:23.429792Z"
    },
    "papermill": {
     "duration": 0.249223,
     "end_time": "2021-12-01T12:41:32.852796",
     "exception": false,
     "start_time": "2021-12-01T12:41:32.603573",
     "status": "completed"
    },
    "tags": []
   },
   "outputs": [
    {
     "data": {
      "text/plain": [
       "array(['Растаможен'], dtype=object)"
      ]
     },
     "execution_count": 109,
     "metadata": {},
     "output_type": "execute_result"
    }
   ],
   "source": [
    "test_data['Таможня'].unique()"
   ]
  },
  {
   "cell_type": "code",
   "execution_count": 110,
   "metadata": {
    "execution": {
     "iopub.execute_input": "2021-12-01T12:41:33.347130Z",
     "iopub.status.busy": "2021-12-01T12:41:33.346420Z",
     "iopub.status.idle": "2021-12-01T12:41:33.359932Z",
     "shell.execute_reply": "2021-12-01T12:41:33.361001Z",
     "shell.execute_reply.started": "2021-12-01T12:10:23.443210Z"
    },
    "papermill": {
     "duration": 0.273491,
     "end_time": "2021-12-01T12:41:33.361349",
     "exception": false,
     "start_time": "2021-12-01T12:41:33.087858",
     "status": "completed"
    },
    "tags": []
   },
   "outputs": [],
   "source": [
    "test_data.drop(['Таможня'], inplace = True, axis = 1)"
   ]
  },
  {
   "cell_type": "code",
   "execution_count": 111,
   "metadata": {
    "execution": {
     "iopub.execute_input": "2021-12-01T12:41:33.912647Z",
     "iopub.status.busy": "2021-12-01T12:41:33.911370Z",
     "iopub.status.idle": "2021-12-01T12:41:33.952134Z",
     "shell.execute_reply": "2021-12-01T12:41:33.951411Z",
     "shell.execute_reply.started": "2021-12-01T12:10:23.460959Z"
    },
    "papermill": {
     "duration": 0.33781,
     "end_time": "2021-12-01T12:41:33.952289",
     "exception": false,
     "start_time": "2021-12-01T12:41:33.614479",
     "status": "completed"
    },
    "tags": []
   },
   "outputs": [
    {
     "data": {
      "text/html": [
       "<div>\n",
       "<style scoped>\n",
       "    .dataframe tbody tr th:only-of-type {\n",
       "        vertical-align: middle;\n",
       "    }\n",
       "\n",
       "    .dataframe tbody tr th {\n",
       "        vertical-align: top;\n",
       "    }\n",
       "\n",
       "    .dataframe thead th {\n",
       "        text-align: right;\n",
       "    }\n",
       "</style>\n",
       "<table border=\"1\" class=\"dataframe\">\n",
       "  <thead>\n",
       "    <tr style=\"text-align: right;\">\n",
       "      <th></th>\n",
       "      <th>bodyType</th>\n",
       "      <th>brand</th>\n",
       "      <th>color</th>\n",
       "      <th>engineDisplacement</th>\n",
       "      <th>enginePower</th>\n",
       "      <th>fuelType</th>\n",
       "      <th>mileage</th>\n",
       "      <th>modelDate</th>\n",
       "      <th>model_name</th>\n",
       "      <th>numberOfDoors</th>\n",
       "      <th>productionDate</th>\n",
       "      <th>sell_id</th>\n",
       "      <th>vendor</th>\n",
       "      <th>acceleration</th>\n",
       "      <th>clearance_min</th>\n",
       "      <th>fuel_rate</th>\n",
       "      <th>gearType</th>\n",
       "      <th>transmission</th>\n",
       "      <th>owners_number</th>\n",
       "      <th>original_registration</th>\n",
       "      <th>steering_wheel</th>\n",
       "    </tr>\n",
       "  </thead>\n",
       "  <tbody>\n",
       "    <tr>\n",
       "      <th>0</th>\n",
       "      <td>LIFTBACK</td>\n",
       "      <td>SKODA</td>\n",
       "      <td>BLUE</td>\n",
       "      <td>1.2</td>\n",
       "      <td>105</td>\n",
       "      <td>GASOLINE</td>\n",
       "      <td>74000</td>\n",
       "      <td>2013</td>\n",
       "      <td>OCTAVIA</td>\n",
       "      <td>5</td>\n",
       "      <td>2014</td>\n",
       "      <td>1100575026</td>\n",
       "      <td>EUROPEAN</td>\n",
       "      <td>10.5</td>\n",
       "      <td>155.0</td>\n",
       "      <td>5.0</td>\n",
       "      <td>FORWARD_CONTROL</td>\n",
       "      <td>ROBOT</td>\n",
       "      <td>3</td>\n",
       "      <td>1</td>\n",
       "      <td>LEFT</td>\n",
       "    </tr>\n",
       "    <tr>\n",
       "      <th>1</th>\n",
       "      <td>LIFTBACK</td>\n",
       "      <td>SKODA</td>\n",
       "      <td>BLACK</td>\n",
       "      <td>1.6</td>\n",
       "      <td>110</td>\n",
       "      <td>GASOLINE</td>\n",
       "      <td>60563</td>\n",
       "      <td>2017</td>\n",
       "      <td>OCTAVIA</td>\n",
       "      <td>5</td>\n",
       "      <td>2017</td>\n",
       "      <td>1100549428</td>\n",
       "      <td>EUROPEAN</td>\n",
       "      <td>10.8</td>\n",
       "      <td>156.0</td>\n",
       "      <td>6.4</td>\n",
       "      <td>FORWARD_CONTROL</td>\n",
       "      <td>MECHANICAL</td>\n",
       "      <td>1</td>\n",
       "      <td>1</td>\n",
       "      <td>LEFT</td>\n",
       "    </tr>\n",
       "    <tr>\n",
       "      <th>2</th>\n",
       "      <td>LIFTBACK</td>\n",
       "      <td>SKODA</td>\n",
       "      <td>GRAY</td>\n",
       "      <td>1.8</td>\n",
       "      <td>152</td>\n",
       "      <td>GASOLINE</td>\n",
       "      <td>88000</td>\n",
       "      <td>2013</td>\n",
       "      <td>SUPERB</td>\n",
       "      <td>5</td>\n",
       "      <td>2014</td>\n",
       "      <td>1100658222</td>\n",
       "      <td>EUROPEAN</td>\n",
       "      <td>8.7</td>\n",
       "      <td>139.0</td>\n",
       "      <td>7.1</td>\n",
       "      <td>FORWARD_CONTROL</td>\n",
       "      <td>ROBOT</td>\n",
       "      <td>1</td>\n",
       "      <td>1</td>\n",
       "      <td>LEFT</td>\n",
       "    </tr>\n",
       "    <tr>\n",
       "      <th>3</th>\n",
       "      <td>LIFTBACK</td>\n",
       "      <td>SKODA</td>\n",
       "      <td>BROWN</td>\n",
       "      <td>1.6</td>\n",
       "      <td>110</td>\n",
       "      <td>GASOLINE</td>\n",
       "      <td>95000</td>\n",
       "      <td>2013</td>\n",
       "      <td>OCTAVIA</td>\n",
       "      <td>5</td>\n",
       "      <td>2014</td>\n",
       "      <td>1100937408</td>\n",
       "      <td>EUROPEAN</td>\n",
       "      <td>12.2</td>\n",
       "      <td>155.0</td>\n",
       "      <td>6.7</td>\n",
       "      <td>FORWARD_CONTROL</td>\n",
       "      <td>AUTOMATIC</td>\n",
       "      <td>1</td>\n",
       "      <td>1</td>\n",
       "      <td>LEFT</td>\n",
       "    </tr>\n",
       "    <tr>\n",
       "      <th>4</th>\n",
       "      <td>LIFTBACK</td>\n",
       "      <td>SKODA</td>\n",
       "      <td>WHITE</td>\n",
       "      <td>1.8</td>\n",
       "      <td>152</td>\n",
       "      <td>GASOLINE</td>\n",
       "      <td>58536</td>\n",
       "      <td>2008</td>\n",
       "      <td>OCTAVIA</td>\n",
       "      <td>5</td>\n",
       "      <td>2012</td>\n",
       "      <td>1101037972</td>\n",
       "      <td>EUROPEAN</td>\n",
       "      <td>8.8</td>\n",
       "      <td>164.0</td>\n",
       "      <td>7.7</td>\n",
       "      <td>FORWARD_CONTROL</td>\n",
       "      <td>AUTOMATIC</td>\n",
       "      <td>1</td>\n",
       "      <td>1</td>\n",
       "      <td>LEFT</td>\n",
       "    </tr>\n",
       "    <tr>\n",
       "      <th>...</th>\n",
       "      <td>...</td>\n",
       "      <td>...</td>\n",
       "      <td>...</td>\n",
       "      <td>...</td>\n",
       "      <td>...</td>\n",
       "      <td>...</td>\n",
       "      <td>...</td>\n",
       "      <td>...</td>\n",
       "      <td>...</td>\n",
       "      <td>...</td>\n",
       "      <td>...</td>\n",
       "      <td>...</td>\n",
       "      <td>...</td>\n",
       "      <td>...</td>\n",
       "      <td>...</td>\n",
       "      <td>...</td>\n",
       "      <td>...</td>\n",
       "      <td>...</td>\n",
       "      <td>...</td>\n",
       "      <td>...</td>\n",
       "      <td>...</td>\n",
       "    </tr>\n",
       "    <tr>\n",
       "      <th>34681</th>\n",
       "      <td>SEDAN</td>\n",
       "      <td>BMW</td>\n",
       "      <td>BROWN</td>\n",
       "      <td>1.6</td>\n",
       "      <td>136</td>\n",
       "      <td>GASOLINE</td>\n",
       "      <td>115000</td>\n",
       "      <td>2011</td>\n",
       "      <td>3ER</td>\n",
       "      <td>4</td>\n",
       "      <td>2014</td>\n",
       "      <td>1101369263</td>\n",
       "      <td>EUROPEAN</td>\n",
       "      <td>9.2</td>\n",
       "      <td>140.0</td>\n",
       "      <td>5.8</td>\n",
       "      <td>REAR_DRIVE</td>\n",
       "      <td>AUTOMATIC</td>\n",
       "      <td>3</td>\n",
       "      <td>1</td>\n",
       "      <td>LEFT</td>\n",
       "    </tr>\n",
       "    <tr>\n",
       "      <th>34682</th>\n",
       "      <td>SEDAN</td>\n",
       "      <td>BMW</td>\n",
       "      <td>BLACK</td>\n",
       "      <td>2.0</td>\n",
       "      <td>190</td>\n",
       "      <td>DIESEL</td>\n",
       "      <td>98000</td>\n",
       "      <td>2016</td>\n",
       "      <td>5ER</td>\n",
       "      <td>4</td>\n",
       "      <td>2018</td>\n",
       "      <td>1101369581</td>\n",
       "      <td>EUROPEAN</td>\n",
       "      <td>7.6</td>\n",
       "      <td>139.0</td>\n",
       "      <td>4.9</td>\n",
       "      <td>ALL_WHEEL_DRIVE</td>\n",
       "      <td>AUTOMATIC</td>\n",
       "      <td>1</td>\n",
       "      <td>1</td>\n",
       "      <td>LEFT</td>\n",
       "    </tr>\n",
       "    <tr>\n",
       "      <th>34683</th>\n",
       "      <td>SEDAN</td>\n",
       "      <td>BMW</td>\n",
       "      <td>GRAY</td>\n",
       "      <td>2.5</td>\n",
       "      <td>170</td>\n",
       "      <td>GASOLINE</td>\n",
       "      <td>360000</td>\n",
       "      <td>1995</td>\n",
       "      <td>5ER</td>\n",
       "      <td>4</td>\n",
       "      <td>1997</td>\n",
       "      <td>1101364889</td>\n",
       "      <td>EUROPEAN</td>\n",
       "      <td>9.6</td>\n",
       "      <td>120.0</td>\n",
       "      <td>10.3</td>\n",
       "      <td>REAR_DRIVE</td>\n",
       "      <td>AUTOMATIC</td>\n",
       "      <td>3</td>\n",
       "      <td>0</td>\n",
       "      <td>LEFT</td>\n",
       "    </tr>\n",
       "    <tr>\n",
       "      <th>34684</th>\n",
       "      <td>ALLROAD_5_DOORS</td>\n",
       "      <td>BMW</td>\n",
       "      <td>BROWN</td>\n",
       "      <td>2.0</td>\n",
       "      <td>184</td>\n",
       "      <td>DIESEL</td>\n",
       "      <td>90500</td>\n",
       "      <td>2012</td>\n",
       "      <td>X1</td>\n",
       "      <td>5</td>\n",
       "      <td>2013</td>\n",
       "      <td>1101362518</td>\n",
       "      <td>EUROPEAN</td>\n",
       "      <td>8.1</td>\n",
       "      <td>195.0</td>\n",
       "      <td>5.4</td>\n",
       "      <td>ALL_WHEEL_DRIVE</td>\n",
       "      <td>AUTOMATIC</td>\n",
       "      <td>2</td>\n",
       "      <td>1</td>\n",
       "      <td>LEFT</td>\n",
       "    </tr>\n",
       "    <tr>\n",
       "      <th>34685</th>\n",
       "      <td>ALLROAD_5_DOORS</td>\n",
       "      <td>BMW</td>\n",
       "      <td>BLACK</td>\n",
       "      <td>3.0</td>\n",
       "      <td>235</td>\n",
       "      <td>DIESEL</td>\n",
       "      <td>240000</td>\n",
       "      <td>2006</td>\n",
       "      <td>X5</td>\n",
       "      <td>5</td>\n",
       "      <td>2008</td>\n",
       "      <td>1101256068</td>\n",
       "      <td>EUROPEAN</td>\n",
       "      <td>8.1</td>\n",
       "      <td>222.0</td>\n",
       "      <td>8.2</td>\n",
       "      <td>ALL_WHEEL_DRIVE</td>\n",
       "      <td>AUTOMATIC</td>\n",
       "      <td>3</td>\n",
       "      <td>1</td>\n",
       "      <td>LEFT</td>\n",
       "    </tr>\n",
       "  </tbody>\n",
       "</table>\n",
       "<p>34686 rows × 21 columns</p>\n",
       "</div>"
      ],
      "text/plain": [
       "              bodyType  brand  color  engineDisplacement  enginePower  \\\n",
       "0             LIFTBACK  SKODA   BLUE                 1.2          105   \n",
       "1             LIFTBACK  SKODA  BLACK                 1.6          110   \n",
       "2             LIFTBACK  SKODA   GRAY                 1.8          152   \n",
       "3             LIFTBACK  SKODA  BROWN                 1.6          110   \n",
       "4             LIFTBACK  SKODA  WHITE                 1.8          152   \n",
       "...                ...    ...    ...                 ...          ...   \n",
       "34681            SEDAN    BMW  BROWN                 1.6          136   \n",
       "34682            SEDAN    BMW  BLACK                 2.0          190   \n",
       "34683            SEDAN    BMW   GRAY                 2.5          170   \n",
       "34684  ALLROAD_5_DOORS    BMW  BROWN                 2.0          184   \n",
       "34685  ALLROAD_5_DOORS    BMW  BLACK                 3.0          235   \n",
       "\n",
       "       fuelType  mileage  modelDate model_name  numberOfDoors  productionDate  \\\n",
       "0      GASOLINE    74000       2013    OCTAVIA              5            2014   \n",
       "1      GASOLINE    60563       2017    OCTAVIA              5            2017   \n",
       "2      GASOLINE    88000       2013     SUPERB              5            2014   \n",
       "3      GASOLINE    95000       2013    OCTAVIA              5            2014   \n",
       "4      GASOLINE    58536       2008    OCTAVIA              5            2012   \n",
       "...         ...      ...        ...        ...            ...             ...   \n",
       "34681  GASOLINE   115000       2011        3ER              4            2014   \n",
       "34682    DIESEL    98000       2016        5ER              4            2018   \n",
       "34683  GASOLINE   360000       1995        5ER              4            1997   \n",
       "34684    DIESEL    90500       2012         X1              5            2013   \n",
       "34685    DIESEL   240000       2006         X5              5            2008   \n",
       "\n",
       "          sell_id    vendor  acceleration  clearance_min  fuel_rate  \\\n",
       "0      1100575026  EUROPEAN          10.5          155.0        5.0   \n",
       "1      1100549428  EUROPEAN          10.8          156.0        6.4   \n",
       "2      1100658222  EUROPEAN           8.7          139.0        7.1   \n",
       "3      1100937408  EUROPEAN          12.2          155.0        6.7   \n",
       "4      1101037972  EUROPEAN           8.8          164.0        7.7   \n",
       "...           ...       ...           ...            ...        ...   \n",
       "34681  1101369263  EUROPEAN           9.2          140.0        5.8   \n",
       "34682  1101369581  EUROPEAN           7.6          139.0        4.9   \n",
       "34683  1101364889  EUROPEAN           9.6          120.0       10.3   \n",
       "34684  1101362518  EUROPEAN           8.1          195.0        5.4   \n",
       "34685  1101256068  EUROPEAN           8.1          222.0        8.2   \n",
       "\n",
       "              gearType transmission  owners_number  original_registration  \\\n",
       "0      FORWARD_CONTROL        ROBOT              3                      1   \n",
       "1      FORWARD_CONTROL   MECHANICAL              1                      1   \n",
       "2      FORWARD_CONTROL        ROBOT              1                      1   \n",
       "3      FORWARD_CONTROL    AUTOMATIC              1                      1   \n",
       "4      FORWARD_CONTROL    AUTOMATIC              1                      1   \n",
       "...                ...          ...            ...                    ...   \n",
       "34681       REAR_DRIVE    AUTOMATIC              3                      1   \n",
       "34682  ALL_WHEEL_DRIVE    AUTOMATIC              1                      1   \n",
       "34683       REAR_DRIVE    AUTOMATIC              3                      0   \n",
       "34684  ALL_WHEEL_DRIVE    AUTOMATIC              2                      1   \n",
       "34685  ALL_WHEEL_DRIVE    AUTOMATIC              3                      1   \n",
       "\n",
       "      steering_wheel  \n",
       "0               LEFT  \n",
       "1               LEFT  \n",
       "2               LEFT  \n",
       "3               LEFT  \n",
       "4               LEFT  \n",
       "...              ...  \n",
       "34681           LEFT  \n",
       "34682           LEFT  \n",
       "34683           LEFT  \n",
       "34684           LEFT  \n",
       "34685           LEFT  \n",
       "\n",
       "[34686 rows x 21 columns]"
      ]
     },
     "execution_count": 111,
     "metadata": {},
     "output_type": "execute_result"
    }
   ],
   "source": [
    "test_data"
   ]
  },
  {
   "cell_type": "markdown",
   "metadata": {
    "papermill": {
     "duration": 0.250158,
     "end_time": "2021-12-01T12:41:34.443886",
     "exception": false,
     "start_time": "2021-12-01T12:41:34.193728",
     "status": "completed"
    },
    "tags": []
   },
   "source": [
    "## ***Train_data***"
   ]
  },
  {
   "cell_type": "code",
   "execution_count": 112,
   "metadata": {
    "execution": {
     "iopub.execute_input": "2021-12-01T12:41:34.933730Z",
     "iopub.status.busy": "2021-12-01T12:41:34.932634Z",
     "iopub.status.idle": "2021-12-01T12:41:34.962643Z",
     "shell.execute_reply": "2021-12-01T12:41:34.963251Z",
     "shell.execute_reply.started": "2021-12-01T12:10:23.502382Z"
    },
    "papermill": {
     "duration": 0.272269,
     "end_time": "2021-12-01T12:41:34.963435",
     "exception": false,
     "start_time": "2021-12-01T12:41:34.691166",
     "status": "completed"
    },
    "tags": []
   },
   "outputs": [
    {
     "data": {
      "text/html": [
       "<div>\n",
       "<style scoped>\n",
       "    .dataframe tbody tr th:only-of-type {\n",
       "        vertical-align: middle;\n",
       "    }\n",
       "\n",
       "    .dataframe tbody tr th {\n",
       "        vertical-align: top;\n",
       "    }\n",
       "\n",
       "    .dataframe thead th {\n",
       "        text-align: right;\n",
       "    }\n",
       "</style>\n",
       "<table border=\"1\" class=\"dataframe\">\n",
       "  <thead>\n",
       "    <tr style=\"text-align: right;\">\n",
       "      <th></th>\n",
       "      <th>bodyType</th>\n",
       "      <th>brand</th>\n",
       "      <th>model_name</th>\n",
       "      <th>color</th>\n",
       "      <th>engineDisplacement</th>\n",
       "      <th>enginePower</th>\n",
       "      <th>fuelType</th>\n",
       "      <th>mileage</th>\n",
       "      <th>modelDate</th>\n",
       "      <th>numberOfDoors</th>\n",
       "      <th>productionDate</th>\n",
       "      <th>sell_id</th>\n",
       "      <th>transmission</th>\n",
       "      <th>vendor</th>\n",
       "      <th>acceleration</th>\n",
       "      <th>clearance_min</th>\n",
       "      <th>fuel_rate</th>\n",
       "      <th>owners_number</th>\n",
       "      <th>original_registration</th>\n",
       "      <th>gearType</th>\n",
       "      <th>steering_wheel</th>\n",
       "      <th>price</th>\n",
       "      <th>equipment_dict</th>\n",
       "    </tr>\n",
       "  </thead>\n",
       "  <tbody>\n",
       "    <tr>\n",
       "      <th>0</th>\n",
       "      <td>ALLROAD_5_DOORS</td>\n",
       "      <td>BMW</td>\n",
       "      <td>X5</td>\n",
       "      <td>040001</td>\n",
       "      <td>4619</td>\n",
       "      <td>347</td>\n",
       "      <td>GASOLINE</td>\n",
       "      <td>151151</td>\n",
       "      <td>1999</td>\n",
       "      <td>5</td>\n",
       "      <td>2003</td>\n",
       "      <td>1102994615</td>\n",
       "      <td>AUTOMATIC</td>\n",
       "      <td>EUROPEAN</td>\n",
       "      <td>6.5</td>\n",
       "      <td>180</td>\n",
       "      <td>14.9</td>\n",
       "      <td>3</td>\n",
       "      <td>ORIGINAL</td>\n",
       "      <td>ALL_WHEEL_DRIVE</td>\n",
       "      <td>LEFT</td>\n",
       "      <td>1188000</td>\n",
       "      <td>0</td>\n",
       "    </tr>\n",
       "    <tr>\n",
       "      <th>1</th>\n",
       "      <td>ALLROAD_5_DOORS</td>\n",
       "      <td>BMW</td>\n",
       "      <td>X5</td>\n",
       "      <td>040001</td>\n",
       "      <td>2993</td>\n",
       "      <td>218</td>\n",
       "      <td>DIESEL</td>\n",
       "      <td>480000</td>\n",
       "      <td>2003</td>\n",
       "      <td>5</td>\n",
       "      <td>2004</td>\n",
       "      <td>1105975644</td>\n",
       "      <td>AUTOMATIC</td>\n",
       "      <td>EUROPEAN</td>\n",
       "      <td>8.8</td>\n",
       "      <td>203</td>\n",
       "      <td>9.4</td>\n",
       "      <td>2</td>\n",
       "      <td>ORIGINAL</td>\n",
       "      <td>ALL_WHEEL_DRIVE</td>\n",
       "      <td>LEFT</td>\n",
       "      <td>855000</td>\n",
       "      <td>16</td>\n",
       "    </tr>\n",
       "    <tr>\n",
       "      <th>2</th>\n",
       "      <td>ALLROAD_5_DOORS</td>\n",
       "      <td>BMW</td>\n",
       "      <td>X5</td>\n",
       "      <td>97948F</td>\n",
       "      <td>2979</td>\n",
       "      <td>231</td>\n",
       "      <td>GASOLINE</td>\n",
       "      <td>303000</td>\n",
       "      <td>1999</td>\n",
       "      <td>5</td>\n",
       "      <td>2002</td>\n",
       "      <td>1105070288</td>\n",
       "      <td>AUTOMATIC</td>\n",
       "      <td>EUROPEAN</td>\n",
       "      <td>8.8</td>\n",
       "      <td>180</td>\n",
       "      <td>12.9</td>\n",
       "      <td>3</td>\n",
       "      <td>ORIGINAL</td>\n",
       "      <td>ALL_WHEEL_DRIVE</td>\n",
       "      <td>LEFT</td>\n",
       "      <td>720000</td>\n",
       "      <td>1</td>\n",
       "    </tr>\n",
       "    <tr>\n",
       "      <th>3</th>\n",
       "      <td>SEDAN</td>\n",
       "      <td>BMW</td>\n",
       "      <td>5ER</td>\n",
       "      <td>0000CC</td>\n",
       "      <td>2494</td>\n",
       "      <td>192</td>\n",
       "      <td>GASOLINE</td>\n",
       "      <td>315000</td>\n",
       "      <td>2000</td>\n",
       "      <td>4</td>\n",
       "      <td>2003</td>\n",
       "      <td>1105561887</td>\n",
       "      <td>MECHANICAL</td>\n",
       "      <td>EUROPEAN</td>\n",
       "      <td>8.1</td>\n",
       "      <td>120</td>\n",
       "      <td>9.4</td>\n",
       "      <td>4</td>\n",
       "      <td>DUPLICATE</td>\n",
       "      <td>REAR_DRIVE</td>\n",
       "      <td>LEFT</td>\n",
       "      <td>200000</td>\n",
       "      <td>24</td>\n",
       "    </tr>\n",
       "    <tr>\n",
       "      <th>4</th>\n",
       "      <td>SEDAN</td>\n",
       "      <td>BMW</td>\n",
       "      <td>5ER</td>\n",
       "      <td>007F00</td>\n",
       "      <td>2494</td>\n",
       "      <td>192</td>\n",
       "      <td>GASOLINE</td>\n",
       "      <td>302543</td>\n",
       "      <td>2000</td>\n",
       "      <td>4</td>\n",
       "      <td>2002</td>\n",
       "      <td>1105068025</td>\n",
       "      <td>AUTOMATIC</td>\n",
       "      <td>EUROPEAN</td>\n",
       "      <td>8.9</td>\n",
       "      <td>120</td>\n",
       "      <td>10.3</td>\n",
       "      <td>3</td>\n",
       "      <td>DUPLICATE</td>\n",
       "      <td>REAR_DRIVE</td>\n",
       "      <td>LEFT</td>\n",
       "      <td>395000</td>\n",
       "      <td>0</td>\n",
       "    </tr>\n",
       "    <tr>\n",
       "      <th>...</th>\n",
       "      <td>...</td>\n",
       "      <td>...</td>\n",
       "      <td>...</td>\n",
       "      <td>...</td>\n",
       "      <td>...</td>\n",
       "      <td>...</td>\n",
       "      <td>...</td>\n",
       "      <td>...</td>\n",
       "      <td>...</td>\n",
       "      <td>...</td>\n",
       "      <td>...</td>\n",
       "      <td>...</td>\n",
       "      <td>...</td>\n",
       "      <td>...</td>\n",
       "      <td>...</td>\n",
       "      <td>...</td>\n",
       "      <td>...</td>\n",
       "      <td>...</td>\n",
       "      <td>...</td>\n",
       "      <td>...</td>\n",
       "      <td>...</td>\n",
       "      <td>...</td>\n",
       "      <td>...</td>\n",
       "    </tr>\n",
       "    <tr>\n",
       "      <th>32199</th>\n",
       "      <td>SEDAN</td>\n",
       "      <td>AUDI</td>\n",
       "      <td>100</td>\n",
       "      <td>660099</td>\n",
       "      <td>2309</td>\n",
       "      <td>136</td>\n",
       "      <td>GASOLINE</td>\n",
       "      <td>300000</td>\n",
       "      <td>1988</td>\n",
       "      <td>4</td>\n",
       "      <td>1988</td>\n",
       "      <td>1105529448</td>\n",
       "      <td>AUTOMATIC</td>\n",
       "      <td>EUROPEAN</td>\n",
       "      <td>11.5</td>\n",
       "      <td>133</td>\n",
       "      <td>9.399999618530273</td>\n",
       "      <td>4</td>\n",
       "      <td>ORIGINAL</td>\n",
       "      <td>FORWARD_CONTROL</td>\n",
       "      <td>LEFT</td>\n",
       "      <td>200000</td>\n",
       "      <td>1</td>\n",
       "    </tr>\n",
       "    <tr>\n",
       "      <th>32200</th>\n",
       "      <td>SEDAN</td>\n",
       "      <td>AUDI</td>\n",
       "      <td>80</td>\n",
       "      <td>4A2197</td>\n",
       "      <td>1781</td>\n",
       "      <td>90</td>\n",
       "      <td>GASOLINE</td>\n",
       "      <td>190000</td>\n",
       "      <td>1986</td>\n",
       "      <td>4</td>\n",
       "      <td>1989</td>\n",
       "      <td>1079718966</td>\n",
       "      <td>AUTOMATIC</td>\n",
       "      <td>EUROPEAN</td>\n",
       "      <td>14.699999809265137</td>\n",
       "      <td>130</td>\n",
       "      <td>8.5</td>\n",
       "      <td>3</td>\n",
       "      <td>DUPLICATE</td>\n",
       "      <td>FORWARD_CONTROL</td>\n",
       "      <td>LEFT</td>\n",
       "      <td>65000</td>\n",
       "      <td>1</td>\n",
       "    </tr>\n",
       "    <tr>\n",
       "      <th>32201</th>\n",
       "      <td>SEDAN</td>\n",
       "      <td>AUDI</td>\n",
       "      <td>80</td>\n",
       "      <td>EE1D19</td>\n",
       "      <td>1781</td>\n",
       "      <td>90</td>\n",
       "      <td>GASOLINE</td>\n",
       "      <td>300000</td>\n",
       "      <td>1986</td>\n",
       "      <td>4</td>\n",
       "      <td>1988</td>\n",
       "      <td>1106020207</td>\n",
       "      <td>MECHANICAL</td>\n",
       "      <td>EUROPEAN</td>\n",
       "      <td>12.399999618530273</td>\n",
       "      <td>130</td>\n",
       "      <td>7.599999904632568</td>\n",
       "      <td>3</td>\n",
       "      <td>DUPLICATE</td>\n",
       "      <td>FORWARD_CONTROL</td>\n",
       "      <td>LEFT</td>\n",
       "      <td>85000</td>\n",
       "      <td>0</td>\n",
       "    </tr>\n",
       "    <tr>\n",
       "      <th>32202</th>\n",
       "      <td>SEDAN</td>\n",
       "      <td>AUDI</td>\n",
       "      <td>80</td>\n",
       "      <td>007F00</td>\n",
       "      <td>1595</td>\n",
       "      <td>75</td>\n",
       "      <td>GASOLINE</td>\n",
       "      <td>150000</td>\n",
       "      <td>1978</td>\n",
       "      <td>4</td>\n",
       "      <td>1984</td>\n",
       "      <td>1105399269</td>\n",
       "      <td>MECHANICAL</td>\n",
       "      <td>EUROPEAN</td>\n",
       "      <td>14.100000381469727</td>\n",
       "      <td>130</td>\n",
       "      <td>8.300000190734863</td>\n",
       "      <td>2</td>\n",
       "      <td>ORIGINAL</td>\n",
       "      <td>FORWARD_CONTROL</td>\n",
       "      <td>LEFT</td>\n",
       "      <td>42000</td>\n",
       "      <td>1</td>\n",
       "    </tr>\n",
       "    <tr>\n",
       "      <th>32203</th>\n",
       "      <td>SEDAN</td>\n",
       "      <td>AUDI</td>\n",
       "      <td>80</td>\n",
       "      <td>CACECB</td>\n",
       "      <td>1781</td>\n",
       "      <td>90</td>\n",
       "      <td>GASOLINE</td>\n",
       "      <td>356000</td>\n",
       "      <td>1986</td>\n",
       "      <td>4</td>\n",
       "      <td>1990</td>\n",
       "      <td>1081036532</td>\n",
       "      <td>MECHANICAL</td>\n",
       "      <td>EUROPEAN</td>\n",
       "      <td>12.399999618530273</td>\n",
       "      <td>130</td>\n",
       "      <td>7.599999904632568</td>\n",
       "      <td>3</td>\n",
       "      <td>ORIGINAL</td>\n",
       "      <td>FORWARD_CONTROL</td>\n",
       "      <td>LEFT</td>\n",
       "      <td>150000</td>\n",
       "      <td>1</td>\n",
       "    </tr>\n",
       "  </tbody>\n",
       "</table>\n",
       "<p>32204 rows × 23 columns</p>\n",
       "</div>"
      ],
      "text/plain": [
       "              bodyType brand model_name   color  engineDisplacement  \\\n",
       "0      ALLROAD_5_DOORS   BMW         X5  040001                4619   \n",
       "1      ALLROAD_5_DOORS   BMW         X5  040001                2993   \n",
       "2      ALLROAD_5_DOORS   BMW         X5  97948F                2979   \n",
       "3                SEDAN   BMW        5ER  0000CC                2494   \n",
       "4                SEDAN   BMW        5ER  007F00                2494   \n",
       "...                ...   ...        ...     ...                 ...   \n",
       "32199            SEDAN  AUDI        100  660099                2309   \n",
       "32200            SEDAN  AUDI         80  4A2197                1781   \n",
       "32201            SEDAN  AUDI         80  EE1D19                1781   \n",
       "32202            SEDAN  AUDI         80  007F00                1595   \n",
       "32203            SEDAN  AUDI         80  CACECB                1781   \n",
       "\n",
       "       enginePower  fuelType  mileage  modelDate  numberOfDoors  \\\n",
       "0              347  GASOLINE   151151       1999              5   \n",
       "1              218    DIESEL   480000       2003              5   \n",
       "2              231  GASOLINE   303000       1999              5   \n",
       "3              192  GASOLINE   315000       2000              4   \n",
       "4              192  GASOLINE   302543       2000              4   \n",
       "...            ...       ...      ...        ...            ...   \n",
       "32199          136  GASOLINE   300000       1988              4   \n",
       "32200           90  GASOLINE   190000       1986              4   \n",
       "32201           90  GASOLINE   300000       1986              4   \n",
       "32202           75  GASOLINE   150000       1978              4   \n",
       "32203           90  GASOLINE   356000       1986              4   \n",
       "\n",
       "       productionDate     sell_id transmission    vendor        acceleration  \\\n",
       "0                2003  1102994615    AUTOMATIC  EUROPEAN                 6.5   \n",
       "1                2004  1105975644    AUTOMATIC  EUROPEAN                 8.8   \n",
       "2                2002  1105070288    AUTOMATIC  EUROPEAN                 8.8   \n",
       "3                2003  1105561887   MECHANICAL  EUROPEAN                 8.1   \n",
       "4                2002  1105068025    AUTOMATIC  EUROPEAN                 8.9   \n",
       "...               ...         ...          ...       ...                 ...   \n",
       "32199            1988  1105529448    AUTOMATIC  EUROPEAN                11.5   \n",
       "32200            1989  1079718966    AUTOMATIC  EUROPEAN  14.699999809265137   \n",
       "32201            1988  1106020207   MECHANICAL  EUROPEAN  12.399999618530273   \n",
       "32202            1984  1105399269   MECHANICAL  EUROPEAN  14.100000381469727   \n",
       "32203            1990  1081036532   MECHANICAL  EUROPEAN  12.399999618530273   \n",
       "\n",
       "      clearance_min          fuel_rate owners_number original_registration  \\\n",
       "0               180               14.9             3              ORIGINAL   \n",
       "1               203                9.4             2              ORIGINAL   \n",
       "2               180               12.9             3              ORIGINAL   \n",
       "3               120                9.4             4             DUPLICATE   \n",
       "4               120               10.3             3             DUPLICATE   \n",
       "...             ...                ...           ...                   ...   \n",
       "32199           133  9.399999618530273             4              ORIGINAL   \n",
       "32200           130                8.5             3             DUPLICATE   \n",
       "32201           130  7.599999904632568             3             DUPLICATE   \n",
       "32202           130  8.300000190734863             2              ORIGINAL   \n",
       "32203           130  7.599999904632568             3              ORIGINAL   \n",
       "\n",
       "              gearType steering_wheel    price  equipment_dict  \n",
       "0      ALL_WHEEL_DRIVE           LEFT  1188000               0  \n",
       "1      ALL_WHEEL_DRIVE           LEFT   855000              16  \n",
       "2      ALL_WHEEL_DRIVE           LEFT   720000               1  \n",
       "3           REAR_DRIVE           LEFT   200000              24  \n",
       "4           REAR_DRIVE           LEFT   395000               0  \n",
       "...                ...            ...      ...             ...  \n",
       "32199  FORWARD_CONTROL           LEFT   200000               1  \n",
       "32200  FORWARD_CONTROL           LEFT    65000               1  \n",
       "32201  FORWARD_CONTROL           LEFT    85000               0  \n",
       "32202  FORWARD_CONTROL           LEFT    42000               1  \n",
       "32203  FORWARD_CONTROL           LEFT   150000               1  \n",
       "\n",
       "[32204 rows x 23 columns]"
      ]
     },
     "execution_count": 112,
     "metadata": {},
     "output_type": "execute_result"
    }
   ],
   "source": [
    "train_data"
   ]
  },
  {
   "cell_type": "code",
   "execution_count": 113,
   "metadata": {
    "execution": {
     "iopub.execute_input": "2021-12-01T12:41:35.538946Z",
     "iopub.status.busy": "2021-12-01T12:41:35.537660Z",
     "iopub.status.idle": "2021-12-01T12:41:35.549848Z",
     "shell.execute_reply": "2021-12-01T12:41:35.550413Z",
     "shell.execute_reply.started": "2021-12-01T12:10:23.534488Z"
    },
    "papermill": {
     "duration": 0.34058,
     "end_time": "2021-12-01T12:41:35.550618",
     "exception": false,
     "start_time": "2021-12-01T12:41:35.210038",
     "status": "completed"
    },
    "tags": []
   },
   "outputs": [
    {
     "name": "stdout",
     "output_type": "stream",
     "text": [
      "<class 'pandas.core.frame.DataFrame'>\n",
      "RangeIndex: 32204 entries, 0 to 32203\n",
      "Data columns (total 23 columns):\n",
      " #   Column                 Non-Null Count  Dtype \n",
      "---  ------                 --------------  ----- \n",
      " 0   bodyType               32204 non-null  object\n",
      " 1   brand                  32204 non-null  object\n",
      " 2   model_name             32204 non-null  object\n",
      " 3   color                  32204 non-null  object\n",
      " 4   engineDisplacement     32204 non-null  int64 \n",
      " 5   enginePower            32204 non-null  int64 \n",
      " 6   fuelType               32204 non-null  object\n",
      " 7   mileage                32204 non-null  int64 \n",
      " 8   modelDate              32204 non-null  int64 \n",
      " 9   numberOfDoors          32204 non-null  int64 \n",
      " 10  productionDate         32204 non-null  int64 \n",
      " 11  sell_id                32204 non-null  int64 \n",
      " 12  transmission           32204 non-null  object\n",
      " 13  vendor                 32204 non-null  object\n",
      " 14  acceleration           32204 non-null  object\n",
      " 15  clearance_min          32204 non-null  object\n",
      " 16  fuel_rate              32204 non-null  object\n",
      " 17  owners_number          32204 non-null  object\n",
      " 18  original_registration  32204 non-null  object\n",
      " 19  gearType               32204 non-null  object\n",
      " 20  steering_wheel         32204 non-null  object\n",
      " 21  price                  32204 non-null  object\n",
      " 22  equipment_dict         32204 non-null  int64 \n",
      "dtypes: int64(8), object(15)\n",
      "memory usage: 5.7+ MB\n"
     ]
    }
   ],
   "source": [
    "train_data.info()"
   ]
  },
  {
   "cell_type": "markdown",
   "metadata": {
    "papermill": {
     "duration": 0.239035,
     "end_time": "2021-12-01T12:41:36.035506",
     "exception": false,
     "start_time": "2021-12-01T12:41:35.796471",
     "status": "completed"
    },
    "tags": []
   },
   "source": [
    "## color"
   ]
  },
  {
   "cell_type": "code",
   "execution_count": 114,
   "metadata": {
    "execution": {
     "iopub.execute_input": "2021-12-01T12:41:36.518220Z",
     "iopub.status.busy": "2021-12-01T12:41:36.516850Z",
     "iopub.status.idle": "2021-12-01T12:41:36.528883Z",
     "shell.execute_reply": "2021-12-01T12:41:36.529457Z",
     "shell.execute_reply.started": "2021-12-01T12:10:23.607055Z"
    },
    "papermill": {
     "duration": 0.260955,
     "end_time": "2021-12-01T12:41:36.529645",
     "exception": false,
     "start_time": "2021-12-01T12:41:36.268690",
     "status": "completed"
    },
    "tags": []
   },
   "outputs": [
    {
     "data": {
      "text/plain": [
       "040001    10144\n",
       "FAFBFB     6403\n",
       "97948F     4184\n",
       "0000CC     3199\n",
       "CACECB     3002\n",
       "200204     1415\n",
       "EE1D19     1401\n",
       "007F00      761\n",
       "C49648      510\n",
       "22A0F8      275\n",
       "660099      239\n",
       "FFD600      192\n",
       "4A2197      188\n",
       "DEA522      151\n",
       "FF8649      131\n",
       "FFC0CB        9\n",
       "Name: color, dtype: int64"
      ]
     },
     "execution_count": 114,
     "metadata": {},
     "output_type": "execute_result"
    }
   ],
   "source": [
    "train_data['color'].value_counts()"
   ]
  },
  {
   "cell_type": "code",
   "execution_count": 115,
   "metadata": {
    "execution": {
     "iopub.execute_input": "2021-12-01T12:41:37.022120Z",
     "iopub.status.busy": "2021-12-01T12:41:37.021348Z",
     "iopub.status.idle": "2021-12-01T12:41:37.029327Z",
     "shell.execute_reply": "2021-12-01T12:41:37.029897Z",
     "shell.execute_reply.started": "2021-12-01T12:10:23.619625Z"
    },
    "papermill": {
     "duration": 0.25721,
     "end_time": "2021-12-01T12:41:37.030080",
     "exception": false,
     "start_time": "2021-12-01T12:41:36.772870",
     "status": "completed"
    },
    "tags": []
   },
   "outputs": [],
   "source": [
    "def fill_color(car):\n",
    "    if car == '0000CC':\n",
    "        return 'BLUE'\n",
    "    elif car == \"040001\":\n",
    "        return 'BLACK'\n",
    "    elif car == \"200204\":\n",
    "        return 'BLACK'\n",
    "    elif car == \"97948F\":\n",
    "        return 'GRAY'\n",
    "    elif car == \"FAFBFB\":\n",
    "        return 'WHITE'\n",
    "    elif car == \"CACECB\":\n",
    "        return 'SILVER'\n",
    "    elif car == \"EE1D19\":\n",
    "        return 'RED'\n",
    "    elif car == \"007F00\":\n",
    "        return 'GREEN'\n",
    "    elif car == \"FFD600\":\n",
    "        return 'YELLOW'\n",
    "    elif car == \"22A0F8\":\n",
    "        return 'LIGHT_BLUE'\n",
    "    elif car == \"FF8649\":\n",
    "        return 'ORANGE'\n",
    "    elif car == \"660099\":\n",
    "        return 'PURPLE'\n",
    "    elif car == \"4A2197\":\n",
    "        return 'PURPLE'\n",
    "    elif car == \"C49648\":\n",
    "        return 'GOLDEN'\n",
    "    elif car == \"DEA522\":\n",
    "        return 'GOLDEN'\n",
    "    elif car == \"FFC0CB\":\n",
    "        return 'PINK'"
   ]
  },
  {
   "cell_type": "code",
   "execution_count": 116,
   "metadata": {
    "execution": {
     "iopub.execute_input": "2021-12-01T12:41:37.532309Z",
     "iopub.status.busy": "2021-12-01T12:41:37.531473Z",
     "iopub.status.idle": "2021-12-01T12:41:37.550056Z",
     "shell.execute_reply": "2021-12-01T12:41:37.550583Z",
     "shell.execute_reply.started": "2021-12-01T12:10:23.631041Z"
    },
    "papermill": {
     "duration": 0.272588,
     "end_time": "2021-12-01T12:41:37.550834",
     "exception": false,
     "start_time": "2021-12-01T12:41:37.278246",
     "status": "completed"
    },
    "tags": []
   },
   "outputs": [],
   "source": [
    "train_data['color'] = train_data['color'].apply(fill_color)"
   ]
  },
  {
   "cell_type": "code",
   "execution_count": 117,
   "metadata": {
    "execution": {
     "iopub.execute_input": "2021-12-01T12:41:38.061949Z",
     "iopub.status.busy": "2021-12-01T12:41:38.060486Z",
     "iopub.status.idle": "2021-12-01T12:41:38.066090Z",
     "shell.execute_reply": "2021-12-01T12:41:38.066691Z",
     "shell.execute_reply.started": "2021-12-01T12:10:23.655813Z"
    },
    "papermill": {
     "duration": 0.265496,
     "end_time": "2021-12-01T12:41:38.066932",
     "exception": false,
     "start_time": "2021-12-01T12:41:37.801436",
     "status": "completed"
    },
    "tags": []
   },
   "outputs": [
    {
     "data": {
      "text/plain": [
       "array(['BLACK', 'GRAY', 'BLUE', 'GREEN', 'PURPLE', 'SILVER', 'WHITE',\n",
       "       'RED', 'LIGHT_BLUE', 'GOLDEN', 'YELLOW', 'ORANGE', 'PINK'],\n",
       "      dtype=object)"
      ]
     },
     "execution_count": 117,
     "metadata": {},
     "output_type": "execute_result"
    }
   ],
   "source": [
    "train_data['color'].unique()"
   ]
  },
  {
   "cell_type": "markdown",
   "metadata": {
    "papermill": {
     "duration": 0.237567,
     "end_time": "2021-12-01T12:41:38.541579",
     "exception": false,
     "start_time": "2021-12-01T12:41:38.304012",
     "status": "completed"
    },
    "tags": []
   },
   "source": [
    "## engineDisplacement"
   ]
  },
  {
   "cell_type": "code",
   "execution_count": 118,
   "metadata": {
    "execution": {
     "iopub.execute_input": "2021-12-01T12:41:39.006859Z",
     "iopub.status.busy": "2021-12-01T12:41:39.004536Z",
     "iopub.status.idle": "2021-12-01T12:41:39.011946Z",
     "shell.execute_reply": "2021-12-01T12:41:39.012496Z",
     "shell.execute_reply.started": "2021-12-01T12:10:23.667001Z"
    },
    "papermill": {
     "duration": 0.238358,
     "end_time": "2021-12-01T12:41:39.012681",
     "exception": false,
     "start_time": "2021-12-01T12:41:38.774323",
     "status": "completed"
    },
    "tags": []
   },
   "outputs": [
    {
     "data": {
      "text/plain": [
       "array([4619, 2993, 2979, 2494, 1991, 2793, 2491, 4398, 1895, 5972])"
      ]
     },
     "execution_count": 118,
     "metadata": {},
     "output_type": "execute_result"
    }
   ],
   "source": [
    "train_data['engineDisplacement'].unique()[:10]"
   ]
  },
  {
   "cell_type": "code",
   "execution_count": 119,
   "metadata": {
    "execution": {
     "iopub.execute_input": "2021-12-01T12:41:39.480916Z",
     "iopub.status.busy": "2021-12-01T12:41:39.479929Z",
     "iopub.status.idle": "2021-12-01T12:41:39.521721Z",
     "shell.execute_reply": "2021-12-01T12:41:39.521104Z",
     "shell.execute_reply.started": "2021-12-01T12:10:23.677182Z"
    },
    "papermill": {
     "duration": 0.278143,
     "end_time": "2021-12-01T12:41:39.521922",
     "exception": false,
     "start_time": "2021-12-01T12:41:39.243779",
     "status": "completed"
    },
    "tags": []
   },
   "outputs": [],
   "source": [
    "train_data['engineDisplacement'] = train_data['engineDisplacement'].apply(lambda x : round((x/1000),1))"
   ]
  },
  {
   "cell_type": "code",
   "execution_count": 120,
   "metadata": {
    "execution": {
     "iopub.execute_input": "2021-12-01T12:41:39.986259Z",
     "iopub.status.busy": "2021-12-01T12:41:39.985249Z",
     "iopub.status.idle": "2021-12-01T12:41:39.992061Z",
     "shell.execute_reply": "2021-12-01T12:41:39.992539Z",
     "shell.execute_reply.started": "2021-12-01T12:10:23.724675Z"
    },
    "papermill": {
     "duration": 0.239789,
     "end_time": "2021-12-01T12:41:39.992726",
     "exception": false,
     "start_time": "2021-12-01T12:41:39.752937",
     "status": "completed"
    },
    "tags": []
   },
   "outputs": [
    {
     "data": {
      "text/plain": [
       "array([4.6, 3. , 2.5, 2. , 2.8, 4.4, 1.9, 6. , 2.2, 2.9])"
      ]
     },
     "execution_count": 120,
     "metadata": {},
     "output_type": "execute_result"
    }
   ],
   "source": [
    "train_data['engineDisplacement'].unique()[:10]"
   ]
  },
  {
   "cell_type": "markdown",
   "metadata": {
    "papermill": {
     "duration": 0.227232,
     "end_time": "2021-12-01T12:41:40.450259",
     "exception": false,
     "start_time": "2021-12-01T12:41:40.223027",
     "status": "completed"
    },
    "tags": []
   },
   "source": [
    "## enginePower"
   ]
  },
  {
   "cell_type": "code",
   "execution_count": 121,
   "metadata": {
    "execution": {
     "iopub.execute_input": "2021-12-01T12:41:40.915922Z",
     "iopub.status.busy": "2021-12-01T12:41:40.914144Z",
     "iopub.status.idle": "2021-12-01T12:41:40.920195Z",
     "shell.execute_reply": "2021-12-01T12:41:40.920655Z",
     "shell.execute_reply.started": "2021-12-01T12:10:23.732651Z"
    },
    "papermill": {
     "duration": 0.240386,
     "end_time": "2021-12-01T12:41:40.920853",
     "exception": false,
     "start_time": "2021-12-01T12:41:40.680467",
     "status": "completed"
    },
    "tags": []
   },
   "outputs": [
    {
     "data": {
      "text/plain": [
       "array([347, 218, 231, 192, 170, 150, 193, 333, 286, 118])"
      ]
     },
     "execution_count": 121,
     "metadata": {},
     "output_type": "execute_result"
    }
   ],
   "source": [
    "train_data['enginePower'].unique()[:10]"
   ]
  },
  {
   "cell_type": "markdown",
   "metadata": {
    "papermill": {
     "duration": 0.240492,
     "end_time": "2021-12-01T12:41:41.388280",
     "exception": false,
     "start_time": "2021-12-01T12:41:41.147788",
     "status": "completed"
    },
    "tags": []
   },
   "source": [
    "## acceleration"
   ]
  },
  {
   "cell_type": "code",
   "execution_count": 122,
   "metadata": {
    "execution": {
     "iopub.execute_input": "2021-12-01T12:41:41.852074Z",
     "iopub.status.busy": "2021-12-01T12:41:41.851076Z",
     "iopub.status.idle": "2021-12-01T12:41:41.860995Z",
     "shell.execute_reply": "2021-12-01T12:41:41.861452Z",
     "shell.execute_reply.started": "2021-12-01T12:10:23.758591Z"
    },
    "papermill": {
     "duration": 0.24009,
     "end_time": "2021-12-01T12:41:41.861627",
     "exception": false,
     "start_time": "2021-12-01T12:41:41.621537",
     "status": "completed"
    },
    "tags": []
   },
   "outputs": [
    {
     "data": {
      "text/plain": [
       "0"
      ]
     },
     "execution_count": 122,
     "metadata": {},
     "output_type": "execute_result"
    }
   ],
   "source": [
    "train_data['acceleration'].isnull().sum()"
   ]
  },
  {
   "cell_type": "code",
   "execution_count": 123,
   "metadata": {
    "execution": {
     "iopub.execute_input": "2021-12-01T12:41:42.332619Z",
     "iopub.status.busy": "2021-12-01T12:41:42.331594Z",
     "iopub.status.idle": "2021-12-01T12:41:42.341428Z",
     "shell.execute_reply": "2021-12-01T12:41:42.341922Z",
     "shell.execute_reply.started": "2021-12-01T12:10:23.771067Z"
    },
    "papermill": {
     "duration": 0.243245,
     "end_time": "2021-12-01T12:41:42.342115",
     "exception": false,
     "start_time": "2021-12-01T12:41:42.098870",
     "status": "completed"
    },
    "tags": []
   },
   "outputs": [
    {
     "data": {
      "text/plain": [
       "array(['6.5', '8.8', '8.1', '8.9', '8.5', '11.7', '10.6', '10.2', '6.3',\n",
       "       '7.5', '11.5', '10.4', '5.5', '9.6', '8.6', '9', '7.9', '8.3',\n",
       "       '10.5', '9.5', '10.8', '6.6', '7.6', '9.1', '12.3', '13.9', '7',\n",
       "       '8', '13.6', '12.2', '7.4', '9.3', '6.4', '5.6', '6.9', '10.1',\n",
       "       '7.1', '11.3', '12.4', '5.3', '6.7', '11.1', '12.7', '8.2', '9.9',\n",
       "       '5.2', '10', '6.1', '7.8', '7.7', '11.9', '8.4', '9.8', '6.8',\n",
       "       '7.2', '5.4', '4.7', '9.7', '9.2', '5.9', '8.7', '7.3', '11',\n",
       "       '12.8', '5.8', '5.1', '5.7', '4.9', '4.6', '6', '4.4', '4.8',\n",
       "       '6.2', '4.2', '5', '9.4', '11.2', '3.9', '3.3', '3.8', '4', '4.1',\n",
       "       '10.9', '4.5', '4.3', '3.4', '3.2', '13.5', '3.7', '14', '11.6',\n",
       "       '14.2', '15.6', '13.1', '12', '12.1', '15', '21.7', '19.5', '16.3',\n",
       "       '19.1', '16', '15.3', '12.9', '13.7', '14.4', '10.3', '17.7',\n",
       "       '15.9', '16.4', '13.3', '17', '11.8', '16.5', '15.2', '24.7',\n",
       "       '18.8', 'None', '12.5', '18.1', '20.5', '15.4', '14.7', '14.9',\n",
       "       '21.6', '11.4', '18.7', '17.6', '28.5', '13.4', '21.5', '14.1',\n",
       "       '15.5', '18.4', '23.6', '20.6', '13.2', '23', '14.6', '10.7',\n",
       "       '14.5', '16.2', '16.1', '17.4', '13', '17.8', '27', '23.7', '15.7',\n",
       "       '15.8', '15.1', '16.7', '19', '14.3', '16.6', '19.4', '22.2',\n",
       "       '12.6', '21.1', '19.7', '17.5', '17.3', '14.8', '17.9', '16.9',\n",
       "       '13.8', '18', '26.5', '3.5', '2.8', '3', '18.2', '19.2', '22',\n",
       "       '3.6', '19.9', '18.3', '20.7', '24.8', '20', '24', '22.3', '25',\n",
       "       '17.1', '6.31', '19.6', '18.5', '25.7', '16.8', '22.5', '31', '28',\n",
       "       '10.600000381469727', '7.599999904632568', '15.800000190734863',\n",
       "       '16.100000381469727', '14.100000381469727', '12.300000190734863',\n",
       "       '12.199999809265137', '11.300000190734863', '11.199999809265137',\n",
       "       '12.399999618530273', '9.199999809265137', '11.800000190734863',\n",
       "       '11.899999618530273', '16.700000762939453', '12.800000190734863',\n",
       "       '15.300000190734863', '10.399999618530273', '10.899999618530273',\n",
       "       '9.800000190734863', '18.299999237060547', '10.800000190734863',\n",
       "       '16.899999618530273', '14.800000190734863', '13.800000190734863',\n",
       "       '12.100000381469727', '11.699999809265137', '7.699999809265137',\n",
       "       '13.699999809265137', '8.600000381469727', '10.699999809265137',\n",
       "       '8.399999618530273', '13.899999618530273', '15.199999809265137',\n",
       "       '9.399999618530273', '17.799999237060547', '5.300000190734863',\n",
       "       '10.100000381469727', '9.100000381469727', '12.699999809265137',\n",
       "       '8.699999809265137', '7.199999809265137', '8.300000190734863',\n",
       "       '5.800000190734863', '6.900000095367432', '14.399999618530273',\n",
       "       '16.299999237060547', '10.300000190734863', '10.199999809265137',\n",
       "       '7.400000095367432', '7.900000095367432', '18.100000381469727',\n",
       "       '20.399999618530273', '8.800000190734863', '18.700000762939453',\n",
       "       '22.299999237060547', '15.399999618530273', '7.800000190734863',\n",
       "       '9.899999618530273', '12.899999618530273', '12.600000381469727',\n",
       "       '13.600000381469727', '19.899999618530273', '13.300000190734863',\n",
       "       '26.200000762939453', '19.200000762939453', '13.199999809265137',\n",
       "       '27.399999618530273', '9.699999809265137', '15.100000381469727',\n",
       "       '6.800000190734863', '11.600000381469727', '8.899999618530273',\n",
       "       '9.600000381469727', '14.699999809265137', '19.600000381469727',\n",
       "       '14.899999618530273'], dtype=object)"
      ]
     },
     "execution_count": 123,
     "metadata": {},
     "output_type": "execute_result"
    }
   ],
   "source": [
    "train_data['acceleration'].unique()"
   ]
  },
  {
   "cell_type": "code",
   "execution_count": 124,
   "metadata": {
    "execution": {
     "iopub.execute_input": "2021-12-01T12:41:42.806572Z",
     "iopub.status.busy": "2021-12-01T12:41:42.805568Z",
     "iopub.status.idle": "2021-12-01T12:41:42.816614Z",
     "shell.execute_reply": "2021-12-01T12:41:42.817123Z",
     "shell.execute_reply.started": "2021-12-01T12:10:23.784112Z"
    },
    "papermill": {
     "duration": 0.246627,
     "end_time": "2021-12-01T12:41:42.817325",
     "exception": false,
     "start_time": "2021-12-01T12:41:42.570698",
     "status": "completed"
    },
    "tags": []
   },
   "outputs": [],
   "source": [
    "train_data.loc[train_data['acceleration'] == 'None','acceleration'] = '10.0'"
   ]
  },
  {
   "cell_type": "code",
   "execution_count": 125,
   "metadata": {
    "execution": {
     "iopub.execute_input": "2021-12-01T12:41:43.274340Z",
     "iopub.status.busy": "2021-12-01T12:41:43.273374Z",
     "iopub.status.idle": "2021-12-01T12:41:43.286982Z",
     "shell.execute_reply": "2021-12-01T12:41:43.287499Z",
     "shell.execute_reply.started": "2021-12-01T12:10:23.797696Z"
    },
    "papermill": {
     "duration": 0.242712,
     "end_time": "2021-12-01T12:41:43.287697",
     "exception": false,
     "start_time": "2021-12-01T12:41:43.044985",
     "status": "completed"
    },
    "tags": []
   },
   "outputs": [],
   "source": [
    "train_data['acceleration'] = train_data['acceleration'].astype(float) "
   ]
  },
  {
   "cell_type": "code",
   "execution_count": 126,
   "metadata": {
    "execution": {
     "iopub.execute_input": "2021-12-01T12:41:43.772343Z",
     "iopub.status.busy": "2021-12-01T12:41:43.767164Z",
     "iopub.status.idle": "2021-12-01T12:41:43.789660Z",
     "shell.execute_reply": "2021-12-01T12:41:43.789116Z",
     "shell.execute_reply.started": "2021-12-01T12:10:23.816402Z"
    },
    "papermill": {
     "duration": 0.2698,
     "end_time": "2021-12-01T12:41:43.789846",
     "exception": false,
     "start_time": "2021-12-01T12:41:43.520046",
     "status": "completed"
    },
    "tags": []
   },
   "outputs": [],
   "source": [
    "train_data['acceleration'] = train_data['acceleration'].apply(lambda x : round((x),1))"
   ]
  },
  {
   "cell_type": "code",
   "execution_count": 127,
   "metadata": {
    "execution": {
     "iopub.execute_input": "2021-12-01T12:41:44.253025Z",
     "iopub.status.busy": "2021-12-01T12:41:44.252149Z",
     "iopub.status.idle": "2021-12-01T12:41:44.257905Z",
     "shell.execute_reply": "2021-12-01T12:41:44.258449Z",
     "shell.execute_reply.started": "2021-12-01T12:10:23.857601Z"
    },
    "papermill": {
     "duration": 0.238187,
     "end_time": "2021-12-01T12:41:44.258639",
     "exception": false,
     "start_time": "2021-12-01T12:41:44.020452",
     "status": "completed"
    },
    "tags": []
   },
   "outputs": [
    {
     "data": {
      "text/plain": [
       "array([ 6.5,  8.8,  8.1,  8.9,  8.5, 11.7, 10.6, 10.2,  6.3,  7.5])"
      ]
     },
     "execution_count": 127,
     "metadata": {},
     "output_type": "execute_result"
    }
   ],
   "source": [
    "train_data['acceleration'].unique()[:10]"
   ]
  },
  {
   "cell_type": "markdown",
   "metadata": {
    "papermill": {
     "duration": 0.228651,
     "end_time": "2021-12-01T12:41:44.718634",
     "exception": false,
     "start_time": "2021-12-01T12:41:44.489983",
     "status": "completed"
    },
    "tags": []
   },
   "source": [
    "## clearance_min"
   ]
  },
  {
   "cell_type": "code",
   "execution_count": 128,
   "metadata": {
    "execution": {
     "iopub.execute_input": "2021-12-01T12:41:45.177864Z",
     "iopub.status.busy": "2021-12-01T12:41:45.176845Z",
     "iopub.status.idle": "2021-12-01T12:41:45.186192Z",
     "shell.execute_reply": "2021-12-01T12:41:45.186905Z",
     "shell.execute_reply.started": "2021-12-01T12:10:23.865473Z"
    },
    "papermill": {
     "duration": 0.241051,
     "end_time": "2021-12-01T12:41:45.187136",
     "exception": false,
     "start_time": "2021-12-01T12:41:44.946085",
     "status": "completed"
    },
    "tags": []
   },
   "outputs": [
    {
     "data": {
      "text/plain": [
       "array(['180', '203', '120', '130', '125', '110', '200', '140', '145',\n",
       "       '144', '142', '143', '212', '222', '151', '195', '148', '201',\n",
       "       '141', '138', '124', '132', '117', '126', '152', '123', '107',\n",
       "       '165', '147', '108', '114', '209', '149', '131', '179', '139',\n",
       "       '221', '135', '133', '118', '128', '204', '214', '213', '136',\n",
       "       '183', '121', '156', '216', '155', '182', '150', '170', '237',\n",
       "       '109', '160', '104', '300', '119', '193', '176', '127', '98',\n",
       "       '186', '192', '154', '249', '146', '159', '115', '137', '91',\n",
       "       '106', '163', '202', '158', '191', '174', '178', '189', '166',\n",
       "       'None', '175', '220', '210', '250', '238', '105', '240', '230',\n",
       "       '228', '233', '274', '226', '215', '259', '205', '184', '181',\n",
       "       '185', '211', '217', '276', '99', '97', '266', '196', '122', '93',\n",
       "       '206', '198', '241', '112', '235', '438', '95', '94', '134', '162',\n",
       "       '89', '231', '275', '420', '225', '197', '254', '190', '260',\n",
       "       '168', '264', '227', '375', '305', '208', '100', '102', '218',\n",
       "       '169', '164', '187', '157', '171', '172', '153', '270', '257',\n",
       "       '234', '129'], dtype=object)"
      ]
     },
     "execution_count": 128,
     "metadata": {},
     "output_type": "execute_result"
    }
   ],
   "source": [
    "train_data['clearance_min'].unique()"
   ]
  },
  {
   "cell_type": "code",
   "execution_count": 129,
   "metadata": {
    "execution": {
     "iopub.execute_input": "2021-12-01T12:41:45.658727Z",
     "iopub.status.busy": "2021-12-01T12:41:45.657698Z",
     "iopub.status.idle": "2021-12-01T12:41:45.668179Z",
     "shell.execute_reply": "2021-12-01T12:41:45.668705Z",
     "shell.execute_reply.started": "2021-12-01T12:10:23.879080Z"
    },
    "papermill": {
     "duration": 0.24826,
     "end_time": "2021-12-01T12:41:45.668925",
     "exception": false,
     "start_time": "2021-12-01T12:41:45.420665",
     "status": "completed"
    },
    "tags": []
   },
   "outputs": [],
   "source": [
    "train_data.loc[train_data['clearance_min'] == 'None','clearance_min'] = '200'"
   ]
  },
  {
   "cell_type": "code",
   "execution_count": 130,
   "metadata": {
    "execution": {
     "iopub.execute_input": "2021-12-01T12:41:46.137160Z",
     "iopub.status.busy": "2021-12-01T12:41:46.136098Z",
     "iopub.status.idle": "2021-12-01T12:41:46.148961Z",
     "shell.execute_reply": "2021-12-01T12:41:46.149868Z",
     "shell.execute_reply.started": "2021-12-01T12:10:23.894323Z"
    },
    "papermill": {
     "duration": 0.248488,
     "end_time": "2021-12-01T12:41:46.150096",
     "exception": false,
     "start_time": "2021-12-01T12:41:45.901608",
     "status": "completed"
    },
    "tags": []
   },
   "outputs": [],
   "source": [
    "train_data['clearance_min'] = train_data['clearance_min'].astype(int) "
   ]
  },
  {
   "cell_type": "markdown",
   "metadata": {
    "papermill": {
     "duration": 0.274792,
     "end_time": "2021-12-01T12:41:46.665786",
     "exception": false,
     "start_time": "2021-12-01T12:41:46.390994",
     "status": "completed"
    },
    "tags": []
   },
   "source": [
    "## fuel_rate"
   ]
  },
  {
   "cell_type": "code",
   "execution_count": 131,
   "metadata": {
    "execution": {
     "iopub.execute_input": "2021-12-01T12:41:47.122166Z",
     "iopub.status.busy": "2021-12-01T12:41:47.121184Z",
     "iopub.status.idle": "2021-12-01T12:41:47.130834Z",
     "shell.execute_reply": "2021-12-01T12:41:47.131328Z",
     "shell.execute_reply.started": "2021-12-01T12:10:23.913880Z"
    },
    "papermill": {
     "duration": 0.241191,
     "end_time": "2021-12-01T12:41:47.131510",
     "exception": false,
     "start_time": "2021-12-01T12:41:46.890319",
     "status": "completed"
    },
    "tags": []
   },
   "outputs": [
    {
     "data": {
      "text/plain": [
       "array(['14.9', '9.4', '12.9', '10.3', '9.7', '9', '10.1', '8.9', '10.7',\n",
       "       '10.9', '13.9', '9.9', 'None', '13.4', '9.5', '9.1', '8.2', '8.6',\n",
       "       '14.2', '8.1', '12.1', '7.7', '7.2', '13.1', '8.3', '11.5', '11.7',\n",
       "       '9.6', '7.3', '7.8', '7.6', '11.4', '12.5', '13', '12.4', '7.4',\n",
       "       '14', '12', '6.7', '8.8', '13.6', '9.8', '11.1', '13.5', '8.4',\n",
       "       '11.2', '8', '10.4', '11.9', '10', '9.3', '12.7', '14.4', '7.9',\n",
       "       '10.2', '10.6', '12.8', '10.8', '5.9', '8.5', '12.2', '8.7', '7.5',\n",
       "       '11', '6.9', '5.6', '6.3', '9.2', '7', '6.4', '10.5', '6.5', '5.8',\n",
       "       '5.7', '5.2', '6', '6.2', '4.4', '4.7', '7.1', '5.4', '5.3', '5.5',\n",
       "       '4.6', '6.1', '11.3', '13.8', '6.8', '6.6', '4.5', '12.3', '14.8',\n",
       "       '5.1', '4.8', '11.8', '5', '0.6', '4.3', '4.9', '0.7', '4', '4.1',\n",
       "       '4.2', '2.1', '11.6', '1.9', '3', '14.7', '15.7', '13.3', '14.5',\n",
       "       '1.6', '15.5', '14.3', '16.3', '18.2', '16.7', '3.8', '3.9', '2.7',\n",
       "       '3.3', '14.1', '15.6', '15.4', '15.9', '20.3', '16.8', '12.6',\n",
       "       '18', '16.9', '23.2', '13.2', '16.1', '16.5', '17', '19.4', '18.3',\n",
       "       '18.1', '2.4', '2.5', '14.6', '16.6', '15.2', '2.6', '15', '2.8',\n",
       "       '3.6', '2.9', '13.7', '7.84', '3.4', '3.5', '3.7', '15.3',\n",
       "       '8.899999618530273', '16.200000762939453', '13.300000190734863',\n",
       "       '7.300000190734863', '7.699999809265137', '12.100000381469727',\n",
       "       '16.799999237060547', '7.900000095367432', '10.199999809265137',\n",
       "       '8.800000190734863', '10.100000381469727', '10.699999809265137',\n",
       "       '6.900000095367432', '14.600000381469727', '8.699999809265137',\n",
       "       '10.800000190734863', '11.800000190734863', '8.199999809265137',\n",
       "       '8.600000381469727', '9.199999809265137', '7.800000190734863',\n",
       "       '7.599999904632568', '9.800000190734863', '9.699999809265137',\n",
       "       '8.100000381469727', '10.300000190734863', '14.300000190734863',\n",
       "       '12.699999809265137', '14.100000381469727', '12.199999809265137',\n",
       "       '16.600000381469727', '13.800000190734863', '9.399999618530273',\n",
       "       '14.699999809265137', '11.699999809265137', '11.600000381469727',\n",
       "       '11.399999618530273', '14.199999809265137', '11.899999618530273',\n",
       "       '12.399999618530273', '14.399999618530273', '15.600000381469727',\n",
       "       '10.899999618530273', '14.800000190734863', '16.399999618530273',\n",
       "       '6.599999904632568', '9.899999618530273', '12.300000190734863',\n",
       "       '7.199999809265137', '11.100000381469727', '8.300000190734863',\n",
       "       '6.800000190734863', '9.600000381469727', '13.100000381469727',\n",
       "       '17.299999237060547', '8.399999618530273', '6.199999809265137',\n",
       "       '9.300000190734863', '14.899999618530273', '6.699999809265137',\n",
       "       '13.199999809265137', '12.600000381469727', '15.800000190734863',\n",
       "       '15.699999809265137', '15.399999618530273', '9.100000381469727',\n",
       "       '7.400000095367432', '11.300000190734863', '10.600000381469727',\n",
       "       '7.099999904632568', '6.300000190734863', '5.800000190734863'],\n",
       "      dtype=object)"
      ]
     },
     "execution_count": 131,
     "metadata": {},
     "output_type": "execute_result"
    }
   ],
   "source": [
    "train_data['fuel_rate'].unique()"
   ]
  },
  {
   "cell_type": "code",
   "execution_count": 132,
   "metadata": {
    "execution": {
     "iopub.execute_input": "2021-12-01T12:41:47.597711Z",
     "iopub.status.busy": "2021-12-01T12:41:47.596730Z",
     "iopub.status.idle": "2021-12-01T12:41:47.607898Z",
     "shell.execute_reply": "2021-12-01T12:41:47.608408Z",
     "shell.execute_reply.started": "2021-12-01T12:10:23.925779Z"
    },
    "papermill": {
     "duration": 0.246702,
     "end_time": "2021-12-01T12:41:47.608585",
     "exception": false,
     "start_time": "2021-12-01T12:41:47.361883",
     "status": "completed"
    },
    "tags": []
   },
   "outputs": [],
   "source": [
    "train_data.loc[train_data['fuel_rate'] == 'None','fuel_rate'] = '10.0'"
   ]
  },
  {
   "cell_type": "code",
   "execution_count": 133,
   "metadata": {
    "execution": {
     "iopub.execute_input": "2021-12-01T12:41:48.135146Z",
     "iopub.status.busy": "2021-12-01T12:41:48.134386Z",
     "iopub.status.idle": "2021-12-01T12:41:48.140957Z",
     "shell.execute_reply": "2021-12-01T12:41:48.141587Z",
     "shell.execute_reply.started": "2021-12-01T12:10:23.937947Z"
    },
    "papermill": {
     "duration": 0.272601,
     "end_time": "2021-12-01T12:41:48.141803",
     "exception": false,
     "start_time": "2021-12-01T12:41:47.869202",
     "status": "completed"
    },
    "tags": []
   },
   "outputs": [],
   "source": [
    "train_data['fuel_rate'] = train_data['fuel_rate'].astype(float) "
   ]
  },
  {
   "cell_type": "code",
   "execution_count": 134,
   "metadata": {
    "execution": {
     "iopub.execute_input": "2021-12-01T12:41:48.648297Z",
     "iopub.status.busy": "2021-12-01T12:41:48.647422Z",
     "iopub.status.idle": "2021-12-01T12:41:48.687401Z",
     "shell.execute_reply": "2021-12-01T12:41:48.688051Z",
     "shell.execute_reply.started": "2021-12-01T12:10:23.958169Z"
    },
    "papermill": {
     "duration": 0.297311,
     "end_time": "2021-12-01T12:41:48.688246",
     "exception": false,
     "start_time": "2021-12-01T12:41:48.390935",
     "status": "completed"
    },
    "tags": []
   },
   "outputs": [],
   "source": [
    "train_data['fuel_rate'] = train_data['fuel_rate'].apply(lambda x : round((x),1))"
   ]
  },
  {
   "cell_type": "markdown",
   "metadata": {
    "papermill": {
     "duration": 0.240227,
     "end_time": "2021-12-01T12:41:49.170494",
     "exception": false,
     "start_time": "2021-12-01T12:41:48.930267",
     "status": "completed"
    },
    "tags": []
   },
   "source": [
    "## owners_number"
   ]
  },
  {
   "cell_type": "code",
   "execution_count": 135,
   "metadata": {
    "execution": {
     "iopub.execute_input": "2021-12-01T12:41:49.656172Z",
     "iopub.status.busy": "2021-12-01T12:41:49.655390Z",
     "iopub.status.idle": "2021-12-01T12:41:49.666801Z",
     "shell.execute_reply": "2021-12-01T12:41:49.665888Z",
     "shell.execute_reply.started": "2021-12-01T12:10:24.001649Z"
    },
    "papermill": {
     "duration": 0.258771,
     "end_time": "2021-12-01T12:41:49.667000",
     "exception": false,
     "start_time": "2021-12-01T12:41:49.408229",
     "status": "completed"
    },
    "tags": []
   },
   "outputs": [
    {
     "data": {
      "text/plain": [
       "array(['3', '2', '4', '1', 'None'], dtype=object)"
      ]
     },
     "execution_count": 135,
     "metadata": {},
     "output_type": "execute_result"
    }
   ],
   "source": [
    "train_data['owners_number'].unique()"
   ]
  },
  {
   "cell_type": "code",
   "execution_count": 136,
   "metadata": {
    "execution": {
     "iopub.execute_input": "2021-12-01T12:41:50.146688Z",
     "iopub.status.busy": "2021-12-01T12:41:50.145637Z",
     "iopub.status.idle": "2021-12-01T12:41:50.149225Z",
     "shell.execute_reply": "2021-12-01T12:41:50.149703Z",
     "shell.execute_reply.started": "2021-12-01T12:10:24.014808Z"
    },
    "papermill": {
     "duration": 0.2496,
     "end_time": "2021-12-01T12:41:50.149912",
     "exception": false,
     "start_time": "2021-12-01T12:41:49.900312",
     "status": "completed"
    },
    "tags": []
   },
   "outputs": [],
   "source": [
    "train_data.loc[train_data['owners_number'] == 'None','owners_number'] = '2'"
   ]
  },
  {
   "cell_type": "code",
   "execution_count": 137,
   "metadata": {
    "execution": {
     "iopub.execute_input": "2021-12-01T12:41:50.612309Z",
     "iopub.status.busy": "2021-12-01T12:41:50.611200Z",
     "iopub.status.idle": "2021-12-01T12:41:50.622802Z",
     "shell.execute_reply": "2021-12-01T12:41:50.623288Z",
     "shell.execute_reply.started": "2021-12-01T12:10:24.029664Z"
    },
    "papermill": {
     "duration": 0.24564,
     "end_time": "2021-12-01T12:41:50.623488",
     "exception": false,
     "start_time": "2021-12-01T12:41:50.377848",
     "status": "completed"
    },
    "tags": []
   },
   "outputs": [],
   "source": [
    "train_data['owners_number'] = train_data['owners_number'].astype(int) "
   ]
  },
  {
   "cell_type": "markdown",
   "metadata": {
    "papermill": {
     "duration": 0.231334,
     "end_time": "2021-12-01T12:41:51.081914",
     "exception": false,
     "start_time": "2021-12-01T12:41:50.850580",
     "status": "completed"
    },
    "tags": []
   },
   "source": [
    "## gearType"
   ]
  },
  {
   "cell_type": "code",
   "execution_count": 138,
   "metadata": {
    "execution": {
     "iopub.execute_input": "2021-12-01T12:41:51.604842Z",
     "iopub.status.busy": "2021-12-01T12:41:51.603833Z",
     "iopub.status.idle": "2021-12-01T12:41:51.609363Z",
     "shell.execute_reply": "2021-12-01T12:41:51.609841Z",
     "shell.execute_reply.started": "2021-12-01T12:10:24.050254Z"
    },
    "papermill": {
     "duration": 0.243531,
     "end_time": "2021-12-01T12:41:51.610021",
     "exception": false,
     "start_time": "2021-12-01T12:41:51.366490",
     "status": "completed"
    },
    "tags": []
   },
   "outputs": [
    {
     "data": {
      "text/plain": [
       "ALL_WHEEL_DRIVE    15526\n",
       "FORWARD_CONTROL    12502\n",
       "REAR_DRIVE          4176\n",
       "Name: gearType, dtype: int64"
      ]
     },
     "execution_count": 138,
     "metadata": {},
     "output_type": "execute_result"
    }
   ],
   "source": [
    "train_data['gearType'].value_counts()"
   ]
  },
  {
   "cell_type": "markdown",
   "metadata": {
    "papermill": {
     "duration": 0.232638,
     "end_time": "2021-12-01T12:41:52.073153",
     "exception": false,
     "start_time": "2021-12-01T12:41:51.840515",
     "status": "completed"
    },
    "tags": []
   },
   "source": [
    "## original_registration"
   ]
  },
  {
   "cell_type": "code",
   "execution_count": 139,
   "metadata": {
    "execution": {
     "iopub.execute_input": "2021-12-01T12:41:52.545342Z",
     "iopub.status.busy": "2021-12-01T12:41:52.544617Z",
     "iopub.status.idle": "2021-12-01T12:41:52.547386Z",
     "shell.execute_reply": "2021-12-01T12:41:52.548256Z",
     "shell.execute_reply.started": "2021-12-01T12:10:24.067513Z"
    },
    "papermill": {
     "duration": 0.245979,
     "end_time": "2021-12-01T12:41:52.548455",
     "exception": false,
     "start_time": "2021-12-01T12:41:52.302476",
     "status": "completed"
    },
    "tags": []
   },
   "outputs": [
    {
     "data": {
      "text/plain": [
       "ORIGINAL     27540\n",
       "DUPLICATE     4660\n",
       "None             4\n",
       "Name: original_registration, dtype: int64"
      ]
     },
     "execution_count": 139,
     "metadata": {},
     "output_type": "execute_result"
    }
   ],
   "source": [
    "train_data['original_registration'].value_counts()"
   ]
  },
  {
   "cell_type": "code",
   "execution_count": 140,
   "metadata": {
    "execution": {
     "iopub.execute_input": "2021-12-01T12:41:53.017448Z",
     "iopub.status.busy": "2021-12-01T12:41:53.016708Z",
     "iopub.status.idle": "2021-12-01T12:41:53.028873Z",
     "shell.execute_reply": "2021-12-01T12:41:53.029418Z",
     "shell.execute_reply.started": "2021-12-01T12:10:24.086610Z"
    },
    "papermill": {
     "duration": 0.251622,
     "end_time": "2021-12-01T12:41:53.029600",
     "exception": false,
     "start_time": "2021-12-01T12:41:52.777978",
     "status": "completed"
    },
    "tags": []
   },
   "outputs": [],
   "source": [
    "train_data.loc[train_data['original_registration'] == 'None','original_registration'] = 'ORIGINAL'"
   ]
  },
  {
   "cell_type": "code",
   "execution_count": 141,
   "metadata": {
    "execution": {
     "iopub.execute_input": "2021-12-01T12:41:53.497395Z",
     "iopub.status.busy": "2021-12-01T12:41:53.496604Z",
     "iopub.status.idle": "2021-12-01T12:41:53.500080Z",
     "shell.execute_reply": "2021-12-01T12:41:53.500559Z",
     "shell.execute_reply.started": "2021-12-01T12:10:24.101242Z"
    },
    "papermill": {
     "duration": 0.238095,
     "end_time": "2021-12-01T12:41:53.500737",
     "exception": false,
     "start_time": "2021-12-01T12:41:53.262642",
     "status": "completed"
    },
    "tags": []
   },
   "outputs": [],
   "source": [
    "def fill_registration(car):\n",
    "    if car == 'ORIGINAL':\n",
    "        return 1\n",
    "    elif car == 'DUPLICATE':\n",
    "        return 0"
   ]
  },
  {
   "cell_type": "code",
   "execution_count": 142,
   "metadata": {
    "execution": {
     "iopub.execute_input": "2021-12-01T12:41:53.967111Z",
     "iopub.status.busy": "2021-12-01T12:41:53.966394Z",
     "iopub.status.idle": "2021-12-01T12:41:53.994092Z",
     "shell.execute_reply": "2021-12-01T12:41:53.993496Z",
     "shell.execute_reply.started": "2021-12-01T12:10:24.111921Z"
    },
    "papermill": {
     "duration": 0.258579,
     "end_time": "2021-12-01T12:41:53.994238",
     "exception": false,
     "start_time": "2021-12-01T12:41:53.735659",
     "status": "completed"
    },
    "tags": []
   },
   "outputs": [],
   "source": [
    "train_data['original_registration'] = train_data['original_registration'].apply(fill_registration) "
   ]
  },
  {
   "cell_type": "markdown",
   "metadata": {
    "papermill": {
     "duration": 0.235107,
     "end_time": "2021-12-01T12:41:54.465148",
     "exception": false,
     "start_time": "2021-12-01T12:41:54.230041",
     "status": "completed"
    },
    "tags": []
   },
   "source": [
    "## train_data['price']"
   ]
  },
  {
   "cell_type": "code",
   "execution_count": 143,
   "metadata": {
    "execution": {
     "iopub.execute_input": "2021-12-01T12:41:54.931707Z",
     "iopub.status.busy": "2021-12-01T12:41:54.930680Z",
     "iopub.status.idle": "2021-12-01T12:41:54.941484Z",
     "shell.execute_reply": "2021-12-01T12:41:54.941990Z",
     "shell.execute_reply.started": "2021-12-01T12:10:24.146525Z"
    },
    "papermill": {
     "duration": 0.243069,
     "end_time": "2021-12-01T12:41:54.942174",
     "exception": false,
     "start_time": "2021-12-01T12:41:54.699105",
     "status": "completed"
    },
    "tags": []
   },
   "outputs": [
    {
     "data": {
      "text/plain": [
       "0"
      ]
     },
     "execution_count": 143,
     "metadata": {},
     "output_type": "execute_result"
    }
   ],
   "source": [
    "train_data['price'].isnull().sum()\n"
   ]
  },
  {
   "cell_type": "code",
   "execution_count": 144,
   "metadata": {
    "execution": {
     "iopub.execute_input": "2021-12-01T12:41:55.427604Z",
     "iopub.status.busy": "2021-12-01T12:41:55.426521Z",
     "iopub.status.idle": "2021-12-01T12:41:55.434549Z",
     "shell.execute_reply": "2021-12-01T12:41:55.435129Z",
     "shell.execute_reply.started": "2021-12-01T12:10:24.160578Z"
    },
    "papermill": {
     "duration": 0.261806,
     "end_time": "2021-12-01T12:41:55.435323",
     "exception": false,
     "start_time": "2021-12-01T12:41:55.173517",
     "status": "completed"
    },
    "tags": []
   },
   "outputs": [
    {
     "data": {
      "text/plain": [
       "1200000    305\n",
       "650000     260\n",
       "1250000    257\n",
       "550000     247\n",
       "1100000    243\n",
       "          ... \n",
       "4119000      1\n",
       "2454000      1\n",
       "4350990      1\n",
       "4790790      1\n",
       "2704000      1\n",
       "Name: price, Length: 4124, dtype: int64"
      ]
     },
     "execution_count": 144,
     "metadata": {},
     "output_type": "execute_result"
    }
   ],
   "source": [
    "train_data['price'].value_counts()\n"
   ]
  },
  {
   "cell_type": "code",
   "execution_count": 145,
   "metadata": {
    "execution": {
     "iopub.execute_input": "2021-12-01T12:41:55.909720Z",
     "iopub.status.busy": "2021-12-01T12:41:55.908709Z",
     "iopub.status.idle": "2021-12-01T12:41:55.950012Z",
     "shell.execute_reply": "2021-12-01T12:41:55.949325Z",
     "shell.execute_reply.started": "2021-12-01T12:10:24.182944Z"
    },
    "papermill": {
     "duration": 0.282116,
     "end_time": "2021-12-01T12:41:55.950163",
     "exception": false,
     "start_time": "2021-12-01T12:41:55.668047",
     "status": "completed"
    },
    "tags": []
   },
   "outputs": [
    {
     "data": {
      "text/html": [
       "<div>\n",
       "<style scoped>\n",
       "    .dataframe tbody tr th:only-of-type {\n",
       "        vertical-align: middle;\n",
       "    }\n",
       "\n",
       "    .dataframe tbody tr th {\n",
       "        vertical-align: top;\n",
       "    }\n",
       "\n",
       "    .dataframe thead th {\n",
       "        text-align: right;\n",
       "    }\n",
       "</style>\n",
       "<table border=\"1\" class=\"dataframe\">\n",
       "  <thead>\n",
       "    <tr style=\"text-align: right;\">\n",
       "      <th></th>\n",
       "      <th>bodyType</th>\n",
       "      <th>brand</th>\n",
       "      <th>model_name</th>\n",
       "      <th>color</th>\n",
       "      <th>engineDisplacement</th>\n",
       "      <th>enginePower</th>\n",
       "      <th>fuelType</th>\n",
       "      <th>mileage</th>\n",
       "      <th>modelDate</th>\n",
       "      <th>numberOfDoors</th>\n",
       "      <th>productionDate</th>\n",
       "      <th>sell_id</th>\n",
       "      <th>transmission</th>\n",
       "      <th>vendor</th>\n",
       "      <th>acceleration</th>\n",
       "      <th>clearance_min</th>\n",
       "      <th>fuel_rate</th>\n",
       "      <th>owners_number</th>\n",
       "      <th>original_registration</th>\n",
       "      <th>gearType</th>\n",
       "      <th>steering_wheel</th>\n",
       "      <th>price</th>\n",
       "      <th>equipment_dict</th>\n",
       "    </tr>\n",
       "  </thead>\n",
       "  <tbody>\n",
       "    <tr>\n",
       "      <th>20</th>\n",
       "      <td>SEDAN</td>\n",
       "      <td>BMW</td>\n",
       "      <td>3ER</td>\n",
       "      <td>GRAY</td>\n",
       "      <td>2.5</td>\n",
       "      <td>170</td>\n",
       "      <td>GASOLINE</td>\n",
       "      <td>152000</td>\n",
       "      <td>1990</td>\n",
       "      <td>4</td>\n",
       "      <td>1997</td>\n",
       "      <td>1105987730</td>\n",
       "      <td>AUTOMATIC</td>\n",
       "      <td>EUROPEAN</td>\n",
       "      <td>9.0</td>\n",
       "      <td>130</td>\n",
       "      <td>10.1</td>\n",
       "      <td>3</td>\n",
       "      <td>1</td>\n",
       "      <td>REAR_DRIVE</td>\n",
       "      <td>LEFT</td>\n",
       "      <td>None</td>\n",
       "      <td>1</td>\n",
       "    </tr>\n",
       "    <tr>\n",
       "      <th>52</th>\n",
       "      <td>SEDAN</td>\n",
       "      <td>BMW</td>\n",
       "      <td>5ER</td>\n",
       "      <td>BLACK</td>\n",
       "      <td>2.5</td>\n",
       "      <td>192</td>\n",
       "      <td>GASOLINE</td>\n",
       "      <td>348000</td>\n",
       "      <td>2000</td>\n",
       "      <td>4</td>\n",
       "      <td>2002</td>\n",
       "      <td>1105775868</td>\n",
       "      <td>AUTOMATIC</td>\n",
       "      <td>EUROPEAN</td>\n",
       "      <td>8.9</td>\n",
       "      <td>120</td>\n",
       "      <td>10.3</td>\n",
       "      <td>3</td>\n",
       "      <td>1</td>\n",
       "      <td>REAR_DRIVE</td>\n",
       "      <td>LEFT</td>\n",
       "      <td>None</td>\n",
       "      <td>1</td>\n",
       "    </tr>\n",
       "    <tr>\n",
       "      <th>82</th>\n",
       "      <td>SEDAN</td>\n",
       "      <td>BMW</td>\n",
       "      <td>5ER</td>\n",
       "      <td>BLUE</td>\n",
       "      <td>2.0</td>\n",
       "      <td>150</td>\n",
       "      <td>GASOLINE</td>\n",
       "      <td>425000</td>\n",
       "      <td>1987</td>\n",
       "      <td>4</td>\n",
       "      <td>1991</td>\n",
       "      <td>1106007928</td>\n",
       "      <td>MECHANICAL</td>\n",
       "      <td>EUROPEAN</td>\n",
       "      <td>10.6</td>\n",
       "      <td>120</td>\n",
       "      <td>8.9</td>\n",
       "      <td>3</td>\n",
       "      <td>0</td>\n",
       "      <td>REAR_DRIVE</td>\n",
       "      <td>LEFT</td>\n",
       "      <td>None</td>\n",
       "      <td>1</td>\n",
       "    </tr>\n",
       "    <tr>\n",
       "      <th>594</th>\n",
       "      <td>ALLROAD_5_DOORS</td>\n",
       "      <td>BMW</td>\n",
       "      <td>X6</td>\n",
       "      <td>PURPLE</td>\n",
       "      <td>3.0</td>\n",
       "      <td>245</td>\n",
       "      <td>DIESEL</td>\n",
       "      <td>167000</td>\n",
       "      <td>2012</td>\n",
       "      <td>5</td>\n",
       "      <td>2013</td>\n",
       "      <td>1106003674</td>\n",
       "      <td>AUTOMATIC</td>\n",
       "      <td>EUROPEAN</td>\n",
       "      <td>7.5</td>\n",
       "      <td>212</td>\n",
       "      <td>7.4</td>\n",
       "      <td>2</td>\n",
       "      <td>1</td>\n",
       "      <td>ALL_WHEEL_DRIVE</td>\n",
       "      <td>LEFT</td>\n",
       "      <td>None</td>\n",
       "      <td>1</td>\n",
       "    </tr>\n",
       "    <tr>\n",
       "      <th>626</th>\n",
       "      <td>SEDAN</td>\n",
       "      <td>BMW</td>\n",
       "      <td>5ER</td>\n",
       "      <td>WHITE</td>\n",
       "      <td>3.0</td>\n",
       "      <td>258</td>\n",
       "      <td>GASOLINE</td>\n",
       "      <td>222000</td>\n",
       "      <td>2009</td>\n",
       "      <td>4</td>\n",
       "      <td>2010</td>\n",
       "      <td>1105954456</td>\n",
       "      <td>AUTOMATIC</td>\n",
       "      <td>EUROPEAN</td>\n",
       "      <td>6.7</td>\n",
       "      <td>141</td>\n",
       "      <td>8.0</td>\n",
       "      <td>4</td>\n",
       "      <td>1</td>\n",
       "      <td>REAR_DRIVE</td>\n",
       "      <td>LEFT</td>\n",
       "      <td>None</td>\n",
       "      <td>1</td>\n",
       "    </tr>\n",
       "    <tr>\n",
       "      <th>...</th>\n",
       "      <td>...</td>\n",
       "      <td>...</td>\n",
       "      <td>...</td>\n",
       "      <td>...</td>\n",
       "      <td>...</td>\n",
       "      <td>...</td>\n",
       "      <td>...</td>\n",
       "      <td>...</td>\n",
       "      <td>...</td>\n",
       "      <td>...</td>\n",
       "      <td>...</td>\n",
       "      <td>...</td>\n",
       "      <td>...</td>\n",
       "      <td>...</td>\n",
       "      <td>...</td>\n",
       "      <td>...</td>\n",
       "      <td>...</td>\n",
       "      <td>...</td>\n",
       "      <td>...</td>\n",
       "      <td>...</td>\n",
       "      <td>...</td>\n",
       "      <td>...</td>\n",
       "      <td>...</td>\n",
       "    </tr>\n",
       "    <tr>\n",
       "      <th>30655</th>\n",
       "      <td>ALLROAD_5_DOORS</td>\n",
       "      <td>VOLVO</td>\n",
       "      <td>XC90</td>\n",
       "      <td>BLACK</td>\n",
       "      <td>2.4</td>\n",
       "      <td>185</td>\n",
       "      <td>DIESEL</td>\n",
       "      <td>299300</td>\n",
       "      <td>2006</td>\n",
       "      <td>5</td>\n",
       "      <td>2008</td>\n",
       "      <td>1106012461</td>\n",
       "      <td>AUTOMATIC</td>\n",
       "      <td>EUROPEAN</td>\n",
       "      <td>11.5</td>\n",
       "      <td>220</td>\n",
       "      <td>9.0</td>\n",
       "      <td>2</td>\n",
       "      <td>1</td>\n",
       "      <td>ALL_WHEEL_DRIVE</td>\n",
       "      <td>LEFT</td>\n",
       "      <td>None</td>\n",
       "      <td>0</td>\n",
       "    </tr>\n",
       "    <tr>\n",
       "      <th>30689</th>\n",
       "      <td>SEDAN</td>\n",
       "      <td>VOLVO</td>\n",
       "      <td>S40</td>\n",
       "      <td>BLACK</td>\n",
       "      <td>2.4</td>\n",
       "      <td>140</td>\n",
       "      <td>GASOLINE</td>\n",
       "      <td>174000</td>\n",
       "      <td>2007</td>\n",
       "      <td>4</td>\n",
       "      <td>2008</td>\n",
       "      <td>1106013206</td>\n",
       "      <td>AUTOMATIC</td>\n",
       "      <td>EUROPEAN</td>\n",
       "      <td>10.5</td>\n",
       "      <td>141</td>\n",
       "      <td>9.1</td>\n",
       "      <td>4</td>\n",
       "      <td>1</td>\n",
       "      <td>FORWARD_CONTROL</td>\n",
       "      <td>LEFT</td>\n",
       "      <td>None</td>\n",
       "      <td>1</td>\n",
       "    </tr>\n",
       "    <tr>\n",
       "      <th>31690</th>\n",
       "      <td>SEDAN</td>\n",
       "      <td>TOYOTA</td>\n",
       "      <td>MARK_II</td>\n",
       "      <td>WHITE</td>\n",
       "      <td>2.0</td>\n",
       "      <td>135</td>\n",
       "      <td>GASOLINE</td>\n",
       "      <td>200000</td>\n",
       "      <td>1988</td>\n",
       "      <td>4</td>\n",
       "      <td>1990</td>\n",
       "      <td>1105994433</td>\n",
       "      <td>AUTOMATIC</td>\n",
       "      <td>JAPANESE</td>\n",
       "      <td>12.3</td>\n",
       "      <td>155</td>\n",
       "      <td>10.7</td>\n",
       "      <td>4</td>\n",
       "      <td>1</td>\n",
       "      <td>REAR_DRIVE</td>\n",
       "      <td>RIGHT</td>\n",
       "      <td>None</td>\n",
       "      <td>1</td>\n",
       "    </tr>\n",
       "    <tr>\n",
       "      <th>31725</th>\n",
       "      <td>WAGON_5_DOORS</td>\n",
       "      <td>VOLKSWAGEN</td>\n",
       "      <td>PASSAT</td>\n",
       "      <td>BLUE</td>\n",
       "      <td>2.0</td>\n",
       "      <td>136</td>\n",
       "      <td>GASOLINE</td>\n",
       "      <td>3000</td>\n",
       "      <td>1988</td>\n",
       "      <td>5</td>\n",
       "      <td>1989</td>\n",
       "      <td>1106002284</td>\n",
       "      <td>MECHANICAL</td>\n",
       "      <td>EUROPEAN</td>\n",
       "      <td>10.4</td>\n",
       "      <td>150</td>\n",
       "      <td>8.1</td>\n",
       "      <td>3</td>\n",
       "      <td>1</td>\n",
       "      <td>FORWARD_CONTROL</td>\n",
       "      <td>LEFT</td>\n",
       "      <td>None</td>\n",
       "      <td>1</td>\n",
       "    </tr>\n",
       "    <tr>\n",
       "      <th>32095</th>\n",
       "      <td>WAGON_5_DOORS</td>\n",
       "      <td>AUDI</td>\n",
       "      <td>100</td>\n",
       "      <td>GRAY</td>\n",
       "      <td>2.3</td>\n",
       "      <td>136</td>\n",
       "      <td>GASOLINE</td>\n",
       "      <td>350000</td>\n",
       "      <td>1988</td>\n",
       "      <td>5</td>\n",
       "      <td>1989</td>\n",
       "      <td>1106030861</td>\n",
       "      <td>MECHANICAL</td>\n",
       "      <td>EUROPEAN</td>\n",
       "      <td>10.0</td>\n",
       "      <td>133</td>\n",
       "      <td>10.6</td>\n",
       "      <td>4</td>\n",
       "      <td>0</td>\n",
       "      <td>FORWARD_CONTROL</td>\n",
       "      <td>LEFT</td>\n",
       "      <td>None</td>\n",
       "      <td>1</td>\n",
       "    </tr>\n",
       "  </tbody>\n",
       "</table>\n",
       "<p>83 rows × 23 columns</p>\n",
       "</div>"
      ],
      "text/plain": [
       "              bodyType       brand model_name   color  engineDisplacement  \\\n",
       "20               SEDAN         BMW        3ER    GRAY                 2.5   \n",
       "52               SEDAN         BMW        5ER   BLACK                 2.5   \n",
       "82               SEDAN         BMW        5ER    BLUE                 2.0   \n",
       "594    ALLROAD_5_DOORS         BMW         X6  PURPLE                 3.0   \n",
       "626              SEDAN         BMW        5ER   WHITE                 3.0   \n",
       "...                ...         ...        ...     ...                 ...   \n",
       "30655  ALLROAD_5_DOORS       VOLVO       XC90   BLACK                 2.4   \n",
       "30689            SEDAN       VOLVO        S40   BLACK                 2.4   \n",
       "31690            SEDAN      TOYOTA    MARK_II   WHITE                 2.0   \n",
       "31725    WAGON_5_DOORS  VOLKSWAGEN     PASSAT    BLUE                 2.0   \n",
       "32095    WAGON_5_DOORS        AUDI        100    GRAY                 2.3   \n",
       "\n",
       "       enginePower  fuelType  mileage  modelDate  numberOfDoors  \\\n",
       "20             170  GASOLINE   152000       1990              4   \n",
       "52             192  GASOLINE   348000       2000              4   \n",
       "82             150  GASOLINE   425000       1987              4   \n",
       "594            245    DIESEL   167000       2012              5   \n",
       "626            258  GASOLINE   222000       2009              4   \n",
       "...            ...       ...      ...        ...            ...   \n",
       "30655          185    DIESEL   299300       2006              5   \n",
       "30689          140  GASOLINE   174000       2007              4   \n",
       "31690          135  GASOLINE   200000       1988              4   \n",
       "31725          136  GASOLINE     3000       1988              5   \n",
       "32095          136  GASOLINE   350000       1988              5   \n",
       "\n",
       "       productionDate     sell_id transmission    vendor  acceleration  \\\n",
       "20               1997  1105987730    AUTOMATIC  EUROPEAN           9.0   \n",
       "52               2002  1105775868    AUTOMATIC  EUROPEAN           8.9   \n",
       "82               1991  1106007928   MECHANICAL  EUROPEAN          10.6   \n",
       "594              2013  1106003674    AUTOMATIC  EUROPEAN           7.5   \n",
       "626              2010  1105954456    AUTOMATIC  EUROPEAN           6.7   \n",
       "...               ...         ...          ...       ...           ...   \n",
       "30655            2008  1106012461    AUTOMATIC  EUROPEAN          11.5   \n",
       "30689            2008  1106013206    AUTOMATIC  EUROPEAN          10.5   \n",
       "31690            1990  1105994433    AUTOMATIC  JAPANESE          12.3   \n",
       "31725            1989  1106002284   MECHANICAL  EUROPEAN          10.4   \n",
       "32095            1989  1106030861   MECHANICAL  EUROPEAN          10.0   \n",
       "\n",
       "       clearance_min  fuel_rate  owners_number  original_registration  \\\n",
       "20               130       10.1              3                      1   \n",
       "52               120       10.3              3                      1   \n",
       "82               120        8.9              3                      0   \n",
       "594              212        7.4              2                      1   \n",
       "626              141        8.0              4                      1   \n",
       "...              ...        ...            ...                    ...   \n",
       "30655            220        9.0              2                      1   \n",
       "30689            141        9.1              4                      1   \n",
       "31690            155       10.7              4                      1   \n",
       "31725            150        8.1              3                      1   \n",
       "32095            133       10.6              4                      0   \n",
       "\n",
       "              gearType steering_wheel price  equipment_dict  \n",
       "20          REAR_DRIVE           LEFT  None               1  \n",
       "52          REAR_DRIVE           LEFT  None               1  \n",
       "82          REAR_DRIVE           LEFT  None               1  \n",
       "594    ALL_WHEEL_DRIVE           LEFT  None               1  \n",
       "626         REAR_DRIVE           LEFT  None               1  \n",
       "...                ...            ...   ...             ...  \n",
       "30655  ALL_WHEEL_DRIVE           LEFT  None               0  \n",
       "30689  FORWARD_CONTROL           LEFT  None               1  \n",
       "31690       REAR_DRIVE          RIGHT  None               1  \n",
       "31725  FORWARD_CONTROL           LEFT  None               1  \n",
       "32095  FORWARD_CONTROL           LEFT  None               1  \n",
       "\n",
       "[83 rows x 23 columns]"
      ]
     },
     "execution_count": 145,
     "metadata": {},
     "output_type": "execute_result"
    }
   ],
   "source": [
    "train_data[train_data['price'] == 'None']\n"
   ]
  },
  {
   "cell_type": "code",
   "execution_count": 146,
   "metadata": {
    "execution": {
     "iopub.execute_input": "2021-12-01T12:41:56.435323Z",
     "iopub.status.busy": "2021-12-01T12:41:56.427497Z",
     "iopub.status.idle": "2021-12-01T12:41:56.444920Z",
     "shell.execute_reply": "2021-12-01T12:41:56.444246Z",
     "shell.execute_reply.started": "2021-12-01T12:10:24.228425Z"
    },
    "papermill": {
     "duration": 0.25878,
     "end_time": "2021-12-01T12:41:56.445066",
     "exception": false,
     "start_time": "2021-12-01T12:41:56.186286",
     "status": "completed"
    },
    "tags": []
   },
   "outputs": [],
   "source": [
    "train_data.drop(train_data[train_data['price'] == 'None'].index, inplace =True)"
   ]
  },
  {
   "cell_type": "code",
   "execution_count": 147,
   "metadata": {
    "execution": {
     "iopub.execute_input": "2021-12-01T12:41:56.943369Z",
     "iopub.status.busy": "2021-12-01T12:41:56.942289Z",
     "iopub.status.idle": "2021-12-01T12:41:56.947262Z",
     "shell.execute_reply": "2021-12-01T12:41:56.948216Z",
     "shell.execute_reply.started": "2021-12-01T12:10:24.248867Z"
    },
    "papermill": {
     "duration": 0.257506,
     "end_time": "2021-12-01T12:41:56.948481",
     "exception": false,
     "start_time": "2021-12-01T12:41:56.690975",
     "status": "completed"
    },
    "tags": []
   },
   "outputs": [],
   "source": [
    "train_data['price'] = train_data['price'].astype(int)"
   ]
  },
  {
   "cell_type": "code",
   "execution_count": 148,
   "metadata": {
    "execution": {
     "iopub.execute_input": "2021-12-01T12:41:57.447701Z",
     "iopub.status.busy": "2021-12-01T12:41:57.446695Z",
     "iopub.status.idle": "2021-12-01T12:41:57.450196Z",
     "shell.execute_reply": "2021-12-01T12:41:57.450698Z",
     "shell.execute_reply.started": "2021-12-01T12:10:24.264104Z"
    },
    "papermill": {
     "duration": 0.252859,
     "end_time": "2021-12-01T12:41:57.450912",
     "exception": false,
     "start_time": "2021-12-01T12:41:57.198053",
     "status": "completed"
    },
    "tags": []
   },
   "outputs": [],
   "source": [
    "# скоректируем цену с поправкой на подорожание машин за 2 года\n",
    "# данная цифра была выбрана опытным путем как оптимально отражающая изменение стоимости"
   ]
  },
  {
   "cell_type": "code",
   "execution_count": 149,
   "metadata": {
    "execution": {
     "iopub.execute_input": "2021-12-01T12:41:57.982620Z",
     "iopub.status.busy": "2021-12-01T12:41:57.981605Z",
     "iopub.status.idle": "2021-12-01T12:41:58.012063Z",
     "shell.execute_reply": "2021-12-01T12:41:58.012629Z",
     "shell.execute_reply.started": "2021-12-01T12:10:24.274562Z"
    },
    "papermill": {
     "duration": 0.289493,
     "end_time": "2021-12-01T12:41:58.012833",
     "exception": false,
     "start_time": "2021-12-01T12:41:57.723340",
     "status": "completed"
    },
    "tags": []
   },
   "outputs": [],
   "source": [
    "train_data['price'] = train_data['price'].apply(lambda x: int(x/1.3))"
   ]
  },
  {
   "cell_type": "markdown",
   "metadata": {
    "papermill": {
     "duration": 0.247967,
     "end_time": "2021-12-01T12:41:58.503267",
     "exception": false,
     "start_time": "2021-12-01T12:41:58.255300",
     "status": "completed"
    },
    "tags": []
   },
   "source": [
    "## model_name"
   ]
  },
  {
   "cell_type": "code",
   "execution_count": 150,
   "metadata": {
    "execution": {
     "iopub.execute_input": "2021-12-01T12:41:59.017126Z",
     "iopub.status.busy": "2021-12-01T12:41:59.016357Z",
     "iopub.status.idle": "2021-12-01T12:41:59.024996Z",
     "shell.execute_reply": "2021-12-01T12:41:59.025537Z",
     "shell.execute_reply.started": "2021-12-01T12:10:24.311676Z"
    },
    "papermill": {
     "duration": 0.262756,
     "end_time": "2021-12-01T12:41:59.025731",
     "exception": false,
     "start_time": "2021-12-01T12:41:58.762975",
     "status": "completed"
    },
    "tags": []
   },
   "outputs": [
    {
     "data": {
      "text/plain": [
       "538"
      ]
     },
     "execution_count": 150,
     "metadata": {},
     "output_type": "execute_result"
    }
   ],
   "source": [
    "train_data['model_name'].nunique()"
   ]
  },
  {
   "cell_type": "markdown",
   "metadata": {
    "execution": {
     "iopub.execute_input": "2021-12-01T08:09:21.757612Z",
     "iopub.status.busy": "2021-12-01T08:09:21.75722Z",
     "iopub.status.idle": "2021-12-01T08:09:21.764488Z",
     "shell.execute_reply": "2021-12-01T08:09:21.763591Z",
     "shell.execute_reply.started": "2021-12-01T08:09:21.757563Z"
    },
    "papermill": {
     "duration": 0.243764,
     "end_time": "2021-12-01T12:41:59.531167",
     "exception": false,
     "start_time": "2021-12-01T12:41:59.287403",
     "status": "completed"
    },
    "tags": []
   },
   "source": [
    "## equipment_dict"
   ]
  },
  {
   "cell_type": "code",
   "execution_count": 151,
   "metadata": {
    "execution": {
     "iopub.execute_input": "2021-12-01T12:42:00.035163Z",
     "iopub.status.busy": "2021-12-01T12:42:00.032895Z",
     "iopub.status.idle": "2021-12-01T12:42:00.043713Z",
     "shell.execute_reply": "2021-12-01T12:42:00.044269Z",
     "shell.execute_reply.started": "2021-12-01T12:10:24.322152Z"
    },
    "papermill": {
     "duration": 0.267346,
     "end_time": "2021-12-01T12:42:00.044450",
     "exception": false,
     "start_time": "2021-12-01T12:41:59.777104",
     "status": "completed"
    },
    "tags": []
   },
   "outputs": [],
   "source": [
    "\n",
    "train_data.drop(['equipment_dict'], axis = 1, inplace = True)"
   ]
  },
  {
   "cell_type": "markdown",
   "metadata": {
    "papermill": {
     "duration": 0.23603,
     "end_time": "2021-12-01T12:42:00.516433",
     "exception": false,
     "start_time": "2021-12-01T12:42:00.280403",
     "status": "completed"
    },
    "tags": []
   },
   "source": [
    "# *Обьединение датасетов*"
   ]
  },
  {
   "cell_type": "code",
   "execution_count": 152,
   "metadata": {
    "execution": {
     "iopub.execute_input": "2021-12-01T12:42:00.999100Z",
     "iopub.status.busy": "2021-12-01T12:42:00.998207Z",
     "iopub.status.idle": "2021-12-01T12:42:01.003012Z",
     "shell.execute_reply": "2021-12-01T12:42:01.003518Z",
     "shell.execute_reply.started": "2021-12-01T12:10:24.336598Z"
    },
    "papermill": {
     "duration": 0.24042,
     "end_time": "2021-12-01T12:42:01.003695",
     "exception": false,
     "start_time": "2021-12-01T12:42:00.763275",
     "status": "completed"
    },
    "tags": []
   },
   "outputs": [
    {
     "data": {
      "text/plain": [
       "(34686, 21)"
      ]
     },
     "execution_count": 152,
     "metadata": {},
     "output_type": "execute_result"
    }
   ],
   "source": [
    "test_data.shape"
   ]
  },
  {
   "cell_type": "code",
   "execution_count": 153,
   "metadata": {
    "execution": {
     "iopub.execute_input": "2021-12-01T12:42:01.507999Z",
     "iopub.status.busy": "2021-12-01T12:42:01.507135Z",
     "iopub.status.idle": "2021-12-01T12:42:01.514776Z",
     "shell.execute_reply": "2021-12-01T12:42:01.515410Z",
     "shell.execute_reply.started": "2021-12-01T12:10:24.346264Z"
    },
    "papermill": {
     "duration": 0.264737,
     "end_time": "2021-12-01T12:42:01.515614",
     "exception": false,
     "start_time": "2021-12-01T12:42:01.250877",
     "status": "completed"
    },
    "tags": []
   },
   "outputs": [
    {
     "data": {
      "text/plain": [
       "Index(['bodyType', 'brand', 'color', 'engineDisplacement', 'enginePower',\n",
       "       'fuelType', 'mileage', 'modelDate', 'model_name', 'numberOfDoors',\n",
       "       'productionDate', 'sell_id', 'vendor', 'acceleration', 'clearance_min',\n",
       "       'fuel_rate', 'gearType', 'transmission', 'owners_number',\n",
       "       'original_registration', 'steering_wheel'],\n",
       "      dtype='object')"
      ]
     },
     "execution_count": 153,
     "metadata": {},
     "output_type": "execute_result"
    }
   ],
   "source": [
    "test_data.columns"
   ]
  },
  {
   "cell_type": "code",
   "execution_count": 154,
   "metadata": {
    "execution": {
     "iopub.execute_input": "2021-12-01T12:42:02.025457Z",
     "iopub.status.busy": "2021-12-01T12:42:02.024465Z",
     "iopub.status.idle": "2021-12-01T12:42:02.031092Z",
     "shell.execute_reply": "2021-12-01T12:42:02.030516Z",
     "shell.execute_reply.started": "2021-12-01T12:10:24.358526Z"
    },
    "papermill": {
     "duration": 0.254463,
     "end_time": "2021-12-01T12:42:02.031251",
     "exception": false,
     "start_time": "2021-12-01T12:42:01.776788",
     "status": "completed"
    },
    "tags": []
   },
   "outputs": [
    {
     "data": {
      "text/plain": [
       "(32121, 22)"
      ]
     },
     "execution_count": 154,
     "metadata": {},
     "output_type": "execute_result"
    }
   ],
   "source": [
    "train_data.shape"
   ]
  },
  {
   "cell_type": "code",
   "execution_count": 155,
   "metadata": {
    "execution": {
     "iopub.execute_input": "2021-12-01T12:42:02.524544Z",
     "iopub.status.busy": "2021-12-01T12:42:02.523492Z",
     "iopub.status.idle": "2021-12-01T12:42:02.529593Z",
     "shell.execute_reply": "2021-12-01T12:42:02.530190Z",
     "shell.execute_reply.started": "2021-12-01T12:10:24.372096Z"
    },
    "papermill": {
     "duration": 0.253664,
     "end_time": "2021-12-01T12:42:02.530375",
     "exception": false,
     "start_time": "2021-12-01T12:42:02.276711",
     "status": "completed"
    },
    "tags": []
   },
   "outputs": [
    {
     "data": {
      "text/plain": [
       "Index(['bodyType', 'brand', 'model_name', 'color', 'engineDisplacement',\n",
       "       'enginePower', 'fuelType', 'mileage', 'modelDate', 'numberOfDoors',\n",
       "       'productionDate', 'sell_id', 'transmission', 'vendor', 'acceleration',\n",
       "       'clearance_min', 'fuel_rate', 'owners_number', 'original_registration',\n",
       "       'gearType', 'steering_wheel', 'price'],\n",
       "      dtype='object')"
      ]
     },
     "execution_count": 155,
     "metadata": {},
     "output_type": "execute_result"
    }
   ],
   "source": [
    "train_data.columns"
   ]
  },
  {
   "cell_type": "code",
   "execution_count": 156,
   "metadata": {
    "execution": {
     "iopub.execute_input": "2021-12-01T12:42:03.018769Z",
     "iopub.status.busy": "2021-12-01T12:42:03.016385Z",
     "iopub.status.idle": "2021-12-01T12:42:03.023415Z",
     "shell.execute_reply": "2021-12-01T12:42:03.023952Z",
     "shell.execute_reply.started": "2021-12-01T12:10:24.389165Z"
    },
    "papermill": {
     "duration": 0.254115,
     "end_time": "2021-12-01T12:42:03.024132",
     "exception": false,
     "start_time": "2021-12-01T12:42:02.770017",
     "status": "completed"
    },
    "tags": []
   },
   "outputs": [],
   "source": [
    "# Для корректной обработки признаков объединяем трейн и тест в один датасет\n",
    "train_data['sample'] = 1 # помечаем где у нас трейн\n",
    "test_data['sample'] = 0 # помечаем где у нас тест\n",
    "test_data['price'] = 0 # в тесте у нас нет значения price, мы его должны предсказать, поэтому пока просто заполняем нулями\n"
   ]
  },
  {
   "cell_type": "code",
   "execution_count": 157,
   "metadata": {
    "execution": {
     "iopub.execute_input": "2021-12-01T12:42:03.487555Z",
     "iopub.status.busy": "2021-12-01T12:42:03.486570Z",
     "iopub.status.idle": "2021-12-01T12:42:03.563272Z",
     "shell.execute_reply": "2021-12-01T12:42:03.563813Z",
     "shell.execute_reply.started": "2021-12-01T12:10:24.403584Z"
    },
    "papermill": {
     "duration": 0.309646,
     "end_time": "2021-12-01T12:42:03.564008",
     "exception": false,
     "start_time": "2021-12-01T12:42:03.254362",
     "status": "completed"
    },
    "tags": []
   },
   "outputs": [],
   "source": [
    "data = test_data.append(train_data, sort=False).reset_index(drop=True) # объединяем"
   ]
  },
  {
   "cell_type": "code",
   "execution_count": 158,
   "metadata": {
    "execution": {
     "iopub.execute_input": "2021-12-01T12:42:04.029625Z",
     "iopub.status.busy": "2021-12-01T12:42:04.028641Z",
     "iopub.status.idle": "2021-12-01T12:42:04.061838Z",
     "shell.execute_reply": "2021-12-01T12:42:04.062356Z",
     "shell.execute_reply.started": "2021-12-01T12:10:24.499102Z"
    },
    "papermill": {
     "duration": 0.267314,
     "end_time": "2021-12-01T12:42:04.062534",
     "exception": false,
     "start_time": "2021-12-01T12:42:03.795220",
     "status": "completed"
    },
    "tags": []
   },
   "outputs": [
    {
     "data": {
      "text/html": [
       "<div>\n",
       "<style scoped>\n",
       "    .dataframe tbody tr th:only-of-type {\n",
       "        vertical-align: middle;\n",
       "    }\n",
       "\n",
       "    .dataframe tbody tr th {\n",
       "        vertical-align: top;\n",
       "    }\n",
       "\n",
       "    .dataframe thead th {\n",
       "        text-align: right;\n",
       "    }\n",
       "</style>\n",
       "<table border=\"1\" class=\"dataframe\">\n",
       "  <thead>\n",
       "    <tr style=\"text-align: right;\">\n",
       "      <th></th>\n",
       "      <th>bodyType</th>\n",
       "      <th>brand</th>\n",
       "      <th>color</th>\n",
       "      <th>engineDisplacement</th>\n",
       "      <th>enginePower</th>\n",
       "      <th>fuelType</th>\n",
       "      <th>mileage</th>\n",
       "      <th>modelDate</th>\n",
       "      <th>model_name</th>\n",
       "      <th>numberOfDoors</th>\n",
       "      <th>productionDate</th>\n",
       "      <th>sell_id</th>\n",
       "      <th>vendor</th>\n",
       "      <th>acceleration</th>\n",
       "      <th>clearance_min</th>\n",
       "      <th>fuel_rate</th>\n",
       "      <th>gearType</th>\n",
       "      <th>transmission</th>\n",
       "      <th>owners_number</th>\n",
       "      <th>original_registration</th>\n",
       "      <th>steering_wheel</th>\n",
       "      <th>sample</th>\n",
       "      <th>price</th>\n",
       "    </tr>\n",
       "  </thead>\n",
       "  <tbody>\n",
       "    <tr>\n",
       "      <th>0</th>\n",
       "      <td>LIFTBACK</td>\n",
       "      <td>SKODA</td>\n",
       "      <td>BLUE</td>\n",
       "      <td>1.2</td>\n",
       "      <td>105</td>\n",
       "      <td>GASOLINE</td>\n",
       "      <td>74000</td>\n",
       "      <td>2013</td>\n",
       "      <td>OCTAVIA</td>\n",
       "      <td>5</td>\n",
       "      <td>2014</td>\n",
       "      <td>1100575026</td>\n",
       "      <td>EUROPEAN</td>\n",
       "      <td>10.5</td>\n",
       "      <td>155.0</td>\n",
       "      <td>5.0</td>\n",
       "      <td>FORWARD_CONTROL</td>\n",
       "      <td>ROBOT</td>\n",
       "      <td>3</td>\n",
       "      <td>1</td>\n",
       "      <td>LEFT</td>\n",
       "      <td>0</td>\n",
       "      <td>0</td>\n",
       "    </tr>\n",
       "    <tr>\n",
       "      <th>1</th>\n",
       "      <td>LIFTBACK</td>\n",
       "      <td>SKODA</td>\n",
       "      <td>BLACK</td>\n",
       "      <td>1.6</td>\n",
       "      <td>110</td>\n",
       "      <td>GASOLINE</td>\n",
       "      <td>60563</td>\n",
       "      <td>2017</td>\n",
       "      <td>OCTAVIA</td>\n",
       "      <td>5</td>\n",
       "      <td>2017</td>\n",
       "      <td>1100549428</td>\n",
       "      <td>EUROPEAN</td>\n",
       "      <td>10.8</td>\n",
       "      <td>156.0</td>\n",
       "      <td>6.4</td>\n",
       "      <td>FORWARD_CONTROL</td>\n",
       "      <td>MECHANICAL</td>\n",
       "      <td>1</td>\n",
       "      <td>1</td>\n",
       "      <td>LEFT</td>\n",
       "      <td>0</td>\n",
       "      <td>0</td>\n",
       "    </tr>\n",
       "    <tr>\n",
       "      <th>2</th>\n",
       "      <td>LIFTBACK</td>\n",
       "      <td>SKODA</td>\n",
       "      <td>GRAY</td>\n",
       "      <td>1.8</td>\n",
       "      <td>152</td>\n",
       "      <td>GASOLINE</td>\n",
       "      <td>88000</td>\n",
       "      <td>2013</td>\n",
       "      <td>SUPERB</td>\n",
       "      <td>5</td>\n",
       "      <td>2014</td>\n",
       "      <td>1100658222</td>\n",
       "      <td>EUROPEAN</td>\n",
       "      <td>8.7</td>\n",
       "      <td>139.0</td>\n",
       "      <td>7.1</td>\n",
       "      <td>FORWARD_CONTROL</td>\n",
       "      <td>ROBOT</td>\n",
       "      <td>1</td>\n",
       "      <td>1</td>\n",
       "      <td>LEFT</td>\n",
       "      <td>0</td>\n",
       "      <td>0</td>\n",
       "    </tr>\n",
       "    <tr>\n",
       "      <th>3</th>\n",
       "      <td>LIFTBACK</td>\n",
       "      <td>SKODA</td>\n",
       "      <td>BROWN</td>\n",
       "      <td>1.6</td>\n",
       "      <td>110</td>\n",
       "      <td>GASOLINE</td>\n",
       "      <td>95000</td>\n",
       "      <td>2013</td>\n",
       "      <td>OCTAVIA</td>\n",
       "      <td>5</td>\n",
       "      <td>2014</td>\n",
       "      <td>1100937408</td>\n",
       "      <td>EUROPEAN</td>\n",
       "      <td>12.2</td>\n",
       "      <td>155.0</td>\n",
       "      <td>6.7</td>\n",
       "      <td>FORWARD_CONTROL</td>\n",
       "      <td>AUTOMATIC</td>\n",
       "      <td>1</td>\n",
       "      <td>1</td>\n",
       "      <td>LEFT</td>\n",
       "      <td>0</td>\n",
       "      <td>0</td>\n",
       "    </tr>\n",
       "    <tr>\n",
       "      <th>4</th>\n",
       "      <td>LIFTBACK</td>\n",
       "      <td>SKODA</td>\n",
       "      <td>WHITE</td>\n",
       "      <td>1.8</td>\n",
       "      <td>152</td>\n",
       "      <td>GASOLINE</td>\n",
       "      <td>58536</td>\n",
       "      <td>2008</td>\n",
       "      <td>OCTAVIA</td>\n",
       "      <td>5</td>\n",
       "      <td>2012</td>\n",
       "      <td>1101037972</td>\n",
       "      <td>EUROPEAN</td>\n",
       "      <td>8.8</td>\n",
       "      <td>164.0</td>\n",
       "      <td>7.7</td>\n",
       "      <td>FORWARD_CONTROL</td>\n",
       "      <td>AUTOMATIC</td>\n",
       "      <td>1</td>\n",
       "      <td>1</td>\n",
       "      <td>LEFT</td>\n",
       "      <td>0</td>\n",
       "      <td>0</td>\n",
       "    </tr>\n",
       "    <tr>\n",
       "      <th>...</th>\n",
       "      <td>...</td>\n",
       "      <td>...</td>\n",
       "      <td>...</td>\n",
       "      <td>...</td>\n",
       "      <td>...</td>\n",
       "      <td>...</td>\n",
       "      <td>...</td>\n",
       "      <td>...</td>\n",
       "      <td>...</td>\n",
       "      <td>...</td>\n",
       "      <td>...</td>\n",
       "      <td>...</td>\n",
       "      <td>...</td>\n",
       "      <td>...</td>\n",
       "      <td>...</td>\n",
       "      <td>...</td>\n",
       "      <td>...</td>\n",
       "      <td>...</td>\n",
       "      <td>...</td>\n",
       "      <td>...</td>\n",
       "      <td>...</td>\n",
       "      <td>...</td>\n",
       "      <td>...</td>\n",
       "    </tr>\n",
       "    <tr>\n",
       "      <th>66802</th>\n",
       "      <td>SEDAN</td>\n",
       "      <td>AUDI</td>\n",
       "      <td>PURPLE</td>\n",
       "      <td>2.3</td>\n",
       "      <td>136</td>\n",
       "      <td>GASOLINE</td>\n",
       "      <td>300000</td>\n",
       "      <td>1988</td>\n",
       "      <td>100</td>\n",
       "      <td>4</td>\n",
       "      <td>1988</td>\n",
       "      <td>1105529448</td>\n",
       "      <td>EUROPEAN</td>\n",
       "      <td>11.5</td>\n",
       "      <td>133.0</td>\n",
       "      <td>9.4</td>\n",
       "      <td>FORWARD_CONTROL</td>\n",
       "      <td>AUTOMATIC</td>\n",
       "      <td>4</td>\n",
       "      <td>1</td>\n",
       "      <td>LEFT</td>\n",
       "      <td>1</td>\n",
       "      <td>153846</td>\n",
       "    </tr>\n",
       "    <tr>\n",
       "      <th>66803</th>\n",
       "      <td>SEDAN</td>\n",
       "      <td>AUDI</td>\n",
       "      <td>PURPLE</td>\n",
       "      <td>1.8</td>\n",
       "      <td>90</td>\n",
       "      <td>GASOLINE</td>\n",
       "      <td>190000</td>\n",
       "      <td>1986</td>\n",
       "      <td>80</td>\n",
       "      <td>4</td>\n",
       "      <td>1989</td>\n",
       "      <td>1079718966</td>\n",
       "      <td>EUROPEAN</td>\n",
       "      <td>14.7</td>\n",
       "      <td>130.0</td>\n",
       "      <td>8.5</td>\n",
       "      <td>FORWARD_CONTROL</td>\n",
       "      <td>AUTOMATIC</td>\n",
       "      <td>3</td>\n",
       "      <td>0</td>\n",
       "      <td>LEFT</td>\n",
       "      <td>1</td>\n",
       "      <td>50000</td>\n",
       "    </tr>\n",
       "    <tr>\n",
       "      <th>66804</th>\n",
       "      <td>SEDAN</td>\n",
       "      <td>AUDI</td>\n",
       "      <td>RED</td>\n",
       "      <td>1.8</td>\n",
       "      <td>90</td>\n",
       "      <td>GASOLINE</td>\n",
       "      <td>300000</td>\n",
       "      <td>1986</td>\n",
       "      <td>80</td>\n",
       "      <td>4</td>\n",
       "      <td>1988</td>\n",
       "      <td>1106020207</td>\n",
       "      <td>EUROPEAN</td>\n",
       "      <td>12.4</td>\n",
       "      <td>130.0</td>\n",
       "      <td>7.6</td>\n",
       "      <td>FORWARD_CONTROL</td>\n",
       "      <td>MECHANICAL</td>\n",
       "      <td>3</td>\n",
       "      <td>0</td>\n",
       "      <td>LEFT</td>\n",
       "      <td>1</td>\n",
       "      <td>65384</td>\n",
       "    </tr>\n",
       "    <tr>\n",
       "      <th>66805</th>\n",
       "      <td>SEDAN</td>\n",
       "      <td>AUDI</td>\n",
       "      <td>GREEN</td>\n",
       "      <td>1.6</td>\n",
       "      <td>75</td>\n",
       "      <td>GASOLINE</td>\n",
       "      <td>150000</td>\n",
       "      <td>1978</td>\n",
       "      <td>80</td>\n",
       "      <td>4</td>\n",
       "      <td>1984</td>\n",
       "      <td>1105399269</td>\n",
       "      <td>EUROPEAN</td>\n",
       "      <td>14.1</td>\n",
       "      <td>130.0</td>\n",
       "      <td>8.3</td>\n",
       "      <td>FORWARD_CONTROL</td>\n",
       "      <td>MECHANICAL</td>\n",
       "      <td>2</td>\n",
       "      <td>1</td>\n",
       "      <td>LEFT</td>\n",
       "      <td>1</td>\n",
       "      <td>32307</td>\n",
       "    </tr>\n",
       "    <tr>\n",
       "      <th>66806</th>\n",
       "      <td>SEDAN</td>\n",
       "      <td>AUDI</td>\n",
       "      <td>SILVER</td>\n",
       "      <td>1.8</td>\n",
       "      <td>90</td>\n",
       "      <td>GASOLINE</td>\n",
       "      <td>356000</td>\n",
       "      <td>1986</td>\n",
       "      <td>80</td>\n",
       "      <td>4</td>\n",
       "      <td>1990</td>\n",
       "      <td>1081036532</td>\n",
       "      <td>EUROPEAN</td>\n",
       "      <td>12.4</td>\n",
       "      <td>130.0</td>\n",
       "      <td>7.6</td>\n",
       "      <td>FORWARD_CONTROL</td>\n",
       "      <td>MECHANICAL</td>\n",
       "      <td>3</td>\n",
       "      <td>1</td>\n",
       "      <td>LEFT</td>\n",
       "      <td>1</td>\n",
       "      <td>115384</td>\n",
       "    </tr>\n",
       "  </tbody>\n",
       "</table>\n",
       "<p>66807 rows × 23 columns</p>\n",
       "</div>"
      ],
      "text/plain": [
       "       bodyType  brand   color  engineDisplacement  enginePower  fuelType  \\\n",
       "0      LIFTBACK  SKODA    BLUE                 1.2          105  GASOLINE   \n",
       "1      LIFTBACK  SKODA   BLACK                 1.6          110  GASOLINE   \n",
       "2      LIFTBACK  SKODA    GRAY                 1.8          152  GASOLINE   \n",
       "3      LIFTBACK  SKODA   BROWN                 1.6          110  GASOLINE   \n",
       "4      LIFTBACK  SKODA   WHITE                 1.8          152  GASOLINE   \n",
       "...         ...    ...     ...                 ...          ...       ...   \n",
       "66802     SEDAN   AUDI  PURPLE                 2.3          136  GASOLINE   \n",
       "66803     SEDAN   AUDI  PURPLE                 1.8           90  GASOLINE   \n",
       "66804     SEDAN   AUDI     RED                 1.8           90  GASOLINE   \n",
       "66805     SEDAN   AUDI   GREEN                 1.6           75  GASOLINE   \n",
       "66806     SEDAN   AUDI  SILVER                 1.8           90  GASOLINE   \n",
       "\n",
       "       mileage  modelDate model_name  numberOfDoors  productionDate  \\\n",
       "0        74000       2013    OCTAVIA              5            2014   \n",
       "1        60563       2017    OCTAVIA              5            2017   \n",
       "2        88000       2013     SUPERB              5            2014   \n",
       "3        95000       2013    OCTAVIA              5            2014   \n",
       "4        58536       2008    OCTAVIA              5            2012   \n",
       "...        ...        ...        ...            ...             ...   \n",
       "66802   300000       1988        100              4            1988   \n",
       "66803   190000       1986         80              4            1989   \n",
       "66804   300000       1986         80              4            1988   \n",
       "66805   150000       1978         80              4            1984   \n",
       "66806   356000       1986         80              4            1990   \n",
       "\n",
       "          sell_id    vendor  acceleration  clearance_min  fuel_rate  \\\n",
       "0      1100575026  EUROPEAN          10.5          155.0        5.0   \n",
       "1      1100549428  EUROPEAN          10.8          156.0        6.4   \n",
       "2      1100658222  EUROPEAN           8.7          139.0        7.1   \n",
       "3      1100937408  EUROPEAN          12.2          155.0        6.7   \n",
       "4      1101037972  EUROPEAN           8.8          164.0        7.7   \n",
       "...           ...       ...           ...            ...        ...   \n",
       "66802  1105529448  EUROPEAN          11.5          133.0        9.4   \n",
       "66803  1079718966  EUROPEAN          14.7          130.0        8.5   \n",
       "66804  1106020207  EUROPEAN          12.4          130.0        7.6   \n",
       "66805  1105399269  EUROPEAN          14.1          130.0        8.3   \n",
       "66806  1081036532  EUROPEAN          12.4          130.0        7.6   \n",
       "\n",
       "              gearType transmission  owners_number  original_registration  \\\n",
       "0      FORWARD_CONTROL        ROBOT              3                      1   \n",
       "1      FORWARD_CONTROL   MECHANICAL              1                      1   \n",
       "2      FORWARD_CONTROL        ROBOT              1                      1   \n",
       "3      FORWARD_CONTROL    AUTOMATIC              1                      1   \n",
       "4      FORWARD_CONTROL    AUTOMATIC              1                      1   \n",
       "...                ...          ...            ...                    ...   \n",
       "66802  FORWARD_CONTROL    AUTOMATIC              4                      1   \n",
       "66803  FORWARD_CONTROL    AUTOMATIC              3                      0   \n",
       "66804  FORWARD_CONTROL   MECHANICAL              3                      0   \n",
       "66805  FORWARD_CONTROL   MECHANICAL              2                      1   \n",
       "66806  FORWARD_CONTROL   MECHANICAL              3                      1   \n",
       "\n",
       "      steering_wheel  sample   price  \n",
       "0               LEFT       0       0  \n",
       "1               LEFT       0       0  \n",
       "2               LEFT       0       0  \n",
       "3               LEFT       0       0  \n",
       "4               LEFT       0       0  \n",
       "...              ...     ...     ...  \n",
       "66802           LEFT       1  153846  \n",
       "66803           LEFT       1   50000  \n",
       "66804           LEFT       1   65384  \n",
       "66805           LEFT       1   32307  \n",
       "66806           LEFT       1  115384  \n",
       "\n",
       "[66807 rows x 23 columns]"
      ]
     },
     "execution_count": 158,
     "metadata": {},
     "output_type": "execute_result"
    }
   ],
   "source": [
    "data"
   ]
  },
  {
   "cell_type": "code",
   "execution_count": 159,
   "metadata": {
    "execution": {
     "iopub.execute_input": "2021-12-01T12:42:04.560053Z",
     "iopub.status.busy": "2021-12-01T12:42:04.559141Z",
     "iopub.status.idle": "2021-12-01T12:42:04.643896Z",
     "shell.execute_reply": "2021-12-01T12:42:04.644451Z",
     "shell.execute_reply.started": "2021-12-01T12:10:24.541032Z"
    },
    "papermill": {
     "duration": 0.33711,
     "end_time": "2021-12-01T12:42:04.644669",
     "exception": false,
     "start_time": "2021-12-01T12:42:04.307559",
     "status": "completed"
    },
    "tags": []
   },
   "outputs": [
    {
     "name": "stdout",
     "output_type": "stream",
     "text": [
      "<class 'pandas.core.frame.DataFrame'>\n",
      "RangeIndex: 66807 entries, 0 to 66806\n",
      "Data columns (total 23 columns):\n",
      " #   Column                 Non-Null Count  Dtype  \n",
      "---  ------                 --------------  -----  \n",
      " 0   bodyType               66807 non-null  object \n",
      " 1   brand                  66807 non-null  object \n",
      " 2   color                  66807 non-null  object \n",
      " 3   engineDisplacement     66807 non-null  float64\n",
      " 4   enginePower            66807 non-null  int64  \n",
      " 5   fuelType               66807 non-null  object \n",
      " 6   mileage                66807 non-null  int64  \n",
      " 7   modelDate              66807 non-null  int64  \n",
      " 8   model_name             66807 non-null  object \n",
      " 9   numberOfDoors          66807 non-null  int64  \n",
      " 10  productionDate         66807 non-null  int64  \n",
      " 11  sell_id                66807 non-null  int64  \n",
      " 12  vendor                 66807 non-null  object \n",
      " 13  acceleration           64862 non-null  float64\n",
      " 14  clearance_min          65856 non-null  float64\n",
      " 15  fuel_rate              63331 non-null  float64\n",
      " 16  gearType               66807 non-null  object \n",
      " 17  transmission           66807 non-null  object \n",
      " 18  owners_number          66807 non-null  int64  \n",
      " 19  original_registration  66807 non-null  int64  \n",
      " 20  steering_wheel         66807 non-null  object \n",
      " 21  sample                 66807 non-null  int64  \n",
      " 22  price                  66807 non-null  int64  \n",
      "dtypes: float64(4), int64(10), object(9)\n",
      "memory usage: 11.7+ MB\n"
     ]
    }
   ],
   "source": [
    "data.info()"
   ]
  },
  {
   "cell_type": "markdown",
   "metadata": {
    "papermill": {
     "duration": 0.243738,
     "end_time": "2021-12-01T12:42:05.126901",
     "exception": false,
     "start_time": "2021-12-01T12:42:04.883163",
     "status": "completed"
    },
    "tags": []
   },
   "source": [
    "## data['bodyType']"
   ]
  },
  {
   "cell_type": "code",
   "execution_count": 160,
   "metadata": {
    "execution": {
     "iopub.execute_input": "2021-12-01T12:42:05.619133Z",
     "iopub.status.busy": "2021-12-01T12:42:05.618405Z",
     "iopub.status.idle": "2021-12-01T12:42:05.625564Z",
     "shell.execute_reply": "2021-12-01T12:42:05.624947Z",
     "shell.execute_reply.started": "2021-12-01T12:10:24.631222Z"
    },
    "papermill": {
     "duration": 0.255273,
     "end_time": "2021-12-01T12:42:05.625704",
     "exception": false,
     "start_time": "2021-12-01T12:42:05.370431",
     "status": "completed"
    },
    "tags": []
   },
   "outputs": [
    {
     "data": {
      "text/plain": [
       "array(['LIFTBACK', 'ALLROAD_5_DOORS', 'HATCHBACK_5_DOORS', 'SEDAN',\n",
       "       'COMPACTVAN', 'WAGON_5_DOORS', 'PICKUP_ONE', 'HATCHBACK_3_DOORS',\n",
       "       'COUPE', 'CABRIO', 'MINIVAN', 'PICKUP_TWO', 'ALLROAD_3_DOORS',\n",
       "       'ROADSTER', 'MICROVAN', 'SEDAN_2_DOORS', 'COUPE_HARDTOP',\n",
       "       'FASTBACK', 'TARGA', 'ALLROAD_OPEN', 'LIMOUSINE',\n",
       "       'PICKUP_ONE_HALF', 'SEDAN_HARDTOP', 'VAN'], dtype=object)"
      ]
     },
     "execution_count": 160,
     "metadata": {},
     "output_type": "execute_result"
    }
   ],
   "source": [
    "data['bodyType'].unique()"
   ]
  },
  {
   "cell_type": "code",
   "execution_count": 161,
   "metadata": {
    "execution": {
     "iopub.execute_input": "2021-12-01T12:42:06.121894Z",
     "iopub.status.busy": "2021-12-01T12:42:06.121189Z",
     "iopub.status.idle": "2021-12-01T12:42:06.124357Z",
     "shell.execute_reply": "2021-12-01T12:42:06.123659Z",
     "shell.execute_reply.started": "2021-12-01T12:10:24.647421Z"
    },
    "papermill": {
     "duration": 0.254937,
     "end_time": "2021-12-01T12:42:06.124502",
     "exception": false,
     "start_time": "2021-12-01T12:42:05.869565",
     "status": "completed"
    },
    "tags": []
   },
   "outputs": [],
   "source": [
    "# сократим количество перемнных в столбце bodyType"
   ]
  },
  {
   "cell_type": "code",
   "execution_count": 163,
   "metadata": {
    "execution": {
     "iopub.execute_input": "2021-12-01T12:42:06.598114Z",
     "iopub.status.busy": "2021-12-01T12:42:06.597452Z",
     "iopub.status.idle": "2021-12-01T12:42:06.605149Z",
     "shell.execute_reply": "2021-12-01T12:42:06.605657Z",
     "shell.execute_reply.started": "2021-12-01T12:10:24.654611Z"
    },
    "papermill": {
     "duration": 0.250748,
     "end_time": "2021-12-01T12:42:06.605858",
     "exception": false,
     "start_time": "2021-12-01T12:42:06.355110",
     "status": "completed"
    },
    "tags": []
   },
   "outputs": [],
   "source": [
    "def bodyType_name(model):    \n",
    "    if model == 'TARGA' or model == 'CABRIO' or model =='ROADSTER' or model =='COUPE'\\\n",
    "         or model =='COUPE_HARDTOP' or model =='FASTBACK' or model =='LIMOUSINE':\n",
    "        return ('LUXURY')\n",
    "    if model == 'ALLROAD_5_DOORS' or model == 'ALLROAD_3_DOORS' or model =='ALLROAD_OPEN':\n",
    "        return ('ALLROAD')\n",
    "    if model == 'HATCHBACK_5_DOORS' or model == 'HATCHBACK_3_DOORS' or model == 'LIFTBACK'\\\n",
    "         or model == 'SEDAN_2_DOORS' or model == 'SEDAN_HARDTOP':\n",
    "        return ('SEDAN')\n",
    "    if model == 'MINIVAN' or model == 'MICROVAN' or model =='COMPACTVAN':\n",
    "        return ('VAN')\n",
    "    if model == 'PICKUP_ONE_HALF' or model == 'PICKUP_ONE' or model =='PICKUP_TWO'or model == 'WAGON_5_DOORS':\n",
    "        return ('WAGON')\n",
    "    else:\n",
    "        return (model)"
   ]
  },
  {
   "cell_type": "code",
   "execution_count": 164,
   "metadata": {
    "execution": {
     "iopub.execute_input": "2021-12-01T12:42:07.088354Z",
     "iopub.status.busy": "2021-12-01T12:42:07.087679Z",
     "iopub.status.idle": "2021-12-01T12:42:07.136691Z",
     "shell.execute_reply": "2021-12-01T12:42:07.137249Z",
     "shell.execute_reply.started": "2021-12-01T12:10:24.666332Z"
    },
    "papermill": {
     "duration": 0.291454,
     "end_time": "2021-12-01T12:42:07.137450",
     "exception": false,
     "start_time": "2021-12-01T12:42:06.845996",
     "status": "completed"
    },
    "tags": []
   },
   "outputs": [],
   "source": [
    "data['bodyType'] =data['bodyType'].apply(bodyType_name)"
   ]
  },
  {
   "cell_type": "code",
   "execution_count": 165,
   "metadata": {
    "execution": {
     "iopub.execute_input": "2021-12-01T12:42:07.611534Z",
     "iopub.status.busy": "2021-12-01T12:42:07.610885Z",
     "iopub.status.idle": "2021-12-01T12:42:07.627159Z",
     "shell.execute_reply": "2021-12-01T12:42:07.626514Z",
     "shell.execute_reply.started": "2021-12-01T12:10:24.726051Z"
    },
    "papermill": {
     "duration": 0.254148,
     "end_time": "2021-12-01T12:42:07.627305",
     "exception": false,
     "start_time": "2021-12-01T12:42:07.373157",
     "status": "completed"
    },
    "tags": []
   },
   "outputs": [
    {
     "data": {
      "text/plain": [
       "SEDAN      33152\n",
       "ALLROAD    25406\n",
       "VAN         3021\n",
       "WAGON       2898\n",
       "LUXURY      2330\n",
       "Name: bodyType, dtype: int64"
      ]
     },
     "execution_count": 165,
     "metadata": {},
     "output_type": "execute_result"
    }
   ],
   "source": [
    "data['bodyType'].value_counts()"
   ]
  },
  {
   "cell_type": "code",
   "execution_count": 166,
   "metadata": {
    "execution": {
     "iopub.execute_input": "2021-12-01T12:42:08.209379Z",
     "iopub.status.busy": "2021-12-01T12:42:08.208627Z",
     "iopub.status.idle": "2021-12-01T12:42:08.225147Z",
     "shell.execute_reply": "2021-12-01T12:42:08.224020Z",
     "shell.execute_reply.started": "2021-12-01T12:10:24.742991Z"
    },
    "papermill": {
     "duration": 0.28804,
     "end_time": "2021-12-01T12:42:08.225419",
     "exception": false,
     "start_time": "2021-12-01T12:42:07.937379",
     "status": "completed"
    },
    "tags": []
   },
   "outputs": [
    {
     "data": {
      "text/plain": [
       "bodyType\n",
       "ALLROAD    9.147850e+05\n",
       "LUXURY     1.072036e+06\n",
       "SEDAN      4.582283e+05\n",
       "VAN        6.434125e+05\n",
       "WAGON      3.811015e+05\n",
       "Name: price, dtype: float64"
      ]
     },
     "execution_count": 166,
     "metadata": {},
     "output_type": "execute_result"
    }
   ],
   "source": [
    "data.groupby('bodyType')['price'].mean()"
   ]
  },
  {
   "cell_type": "code",
   "execution_count": 167,
   "metadata": {
    "execution": {
     "iopub.execute_input": "2021-12-01T12:42:08.767075Z",
     "iopub.status.busy": "2021-12-01T12:42:08.766389Z",
     "iopub.status.idle": "2021-12-01T12:42:08.768600Z",
     "shell.execute_reply": "2021-12-01T12:42:08.768062Z",
     "shell.execute_reply.started": "2021-12-01T12:10:24.759709Z"
    },
    "papermill": {
     "duration": 0.287191,
     "end_time": "2021-12-01T12:42:08.768739",
     "exception": false,
     "start_time": "2021-12-01T12:42:08.481548",
     "status": "completed"
    },
    "tags": []
   },
   "outputs": [],
   "source": [
    "# заполняеем пропуски в следующи столбцах"
   ]
  },
  {
   "cell_type": "markdown",
   "metadata": {
    "papermill": {
     "duration": 0.252907,
     "end_time": "2021-12-01T12:42:09.262112",
     "exception": false,
     "start_time": "2021-12-01T12:42:09.009205",
     "status": "completed"
    },
    "tags": []
   },
   "source": [
    "## data['acceleration']"
   ]
  },
  {
   "cell_type": "code",
   "execution_count": 168,
   "metadata": {
    "execution": {
     "iopub.execute_input": "2021-12-01T12:42:09.753435Z",
     "iopub.status.busy": "2021-12-01T12:42:09.752682Z",
     "iopub.status.idle": "2021-12-01T12:42:09.758154Z",
     "shell.execute_reply": "2021-12-01T12:42:09.758670Z",
     "shell.execute_reply.started": "2021-12-01T12:10:24.764197Z"
    },
    "papermill": {
     "duration": 0.244707,
     "end_time": "2021-12-01T12:42:09.759009",
     "exception": false,
     "start_time": "2021-12-01T12:42:09.514302",
     "status": "completed"
    },
    "tags": []
   },
   "outputs": [],
   "source": [
    "data['acceleration'] = data['acceleration'].fillna(data['acceleration'].mean())"
   ]
  },
  {
   "cell_type": "markdown",
   "metadata": {
    "papermill": {
     "duration": 0.23702,
     "end_time": "2021-12-01T12:42:10.231785",
     "exception": false,
     "start_time": "2021-12-01T12:42:09.994765",
     "status": "completed"
    },
    "tags": []
   },
   "source": [
    "## data['clearance_min']"
   ]
  },
  {
   "cell_type": "code",
   "execution_count": 169,
   "metadata": {
    "execution": {
     "iopub.execute_input": "2021-12-01T12:42:10.702628Z",
     "iopub.status.busy": "2021-12-01T12:42:10.701811Z",
     "iopub.status.idle": "2021-12-01T12:42:10.706352Z",
     "shell.execute_reply": "2021-12-01T12:42:10.706895Z",
     "shell.execute_reply.started": "2021-12-01T12:10:24.776594Z"
    },
    "papermill": {
     "duration": 0.241042,
     "end_time": "2021-12-01T12:42:10.707078",
     "exception": false,
     "start_time": "2021-12-01T12:42:10.466036",
     "status": "completed"
    },
    "tags": []
   },
   "outputs": [],
   "source": [
    "data['clearance_min'] = data['clearance_min'].fillna(data['clearance_min'].mean())"
   ]
  },
  {
   "cell_type": "markdown",
   "metadata": {
    "papermill": {
     "duration": 0.23471,
     "end_time": "2021-12-01T12:42:11.182232",
     "exception": false,
     "start_time": "2021-12-01T12:42:10.947522",
     "status": "completed"
    },
    "tags": []
   },
   "source": [
    "## data['fuel_rate']"
   ]
  },
  {
   "cell_type": "code",
   "execution_count": 170,
   "metadata": {
    "execution": {
     "iopub.execute_input": "2021-12-01T12:42:11.656570Z",
     "iopub.status.busy": "2021-12-01T12:42:11.655902Z",
     "iopub.status.idle": "2021-12-01T12:42:11.658988Z",
     "shell.execute_reply": "2021-12-01T12:42:11.659491Z",
     "shell.execute_reply.started": "2021-12-01T12:10:24.789900Z"
    },
    "papermill": {
     "duration": 0.245185,
     "end_time": "2021-12-01T12:42:11.659681",
     "exception": false,
     "start_time": "2021-12-01T12:42:11.414496",
     "status": "completed"
    },
    "tags": []
   },
   "outputs": [],
   "source": [
    "# пробуем заполнить средним по данной модели"
   ]
  },
  {
   "cell_type": "code",
   "execution_count": 171,
   "metadata": {
    "execution": {
     "iopub.execute_input": "2021-12-01T12:42:12.135787Z",
     "iopub.status.busy": "2021-12-01T12:42:12.135106Z",
     "iopub.status.idle": "2021-12-01T12:42:12.162040Z",
     "shell.execute_reply": "2021-12-01T12:42:12.162533Z",
     "shell.execute_reply.started": "2021-12-01T12:10:24.802577Z"
    },
    "papermill": {
     "duration": 0.264724,
     "end_time": "2021-12-01T12:42:12.162727",
     "exception": false,
     "start_time": "2021-12-01T12:42:11.898003",
     "status": "completed"
    },
    "tags": []
   },
   "outputs": [],
   "source": [
    "data['fuel_rate'] = data['fuel_rate'].fillna(data.groupby('model_name')['fuel_rate'].mean())"
   ]
  },
  {
   "cell_type": "code",
   "execution_count": 172,
   "metadata": {
    "execution": {
     "iopub.execute_input": "2021-12-01T12:42:12.642967Z",
     "iopub.status.busy": "2021-12-01T12:42:12.642262Z",
     "iopub.status.idle": "2021-12-01T12:42:12.645265Z",
     "shell.execute_reply": "2021-12-01T12:42:12.645742Z",
     "shell.execute_reply.started": "2021-12-01T12:10:24.835346Z"
    },
    "papermill": {
     "duration": 0.243088,
     "end_time": "2021-12-01T12:42:12.645965",
     "exception": false,
     "start_time": "2021-12-01T12:42:12.402877",
     "status": "completed"
    },
    "tags": []
   },
   "outputs": [],
   "source": [
    "# оставшиеся заполняем средним по всему датасету"
   ]
  },
  {
   "cell_type": "code",
   "execution_count": 173,
   "metadata": {
    "execution": {
     "iopub.execute_input": "2021-12-01T12:42:13.121374Z",
     "iopub.status.busy": "2021-12-01T12:42:13.120590Z",
     "iopub.status.idle": "2021-12-01T12:42:13.125821Z",
     "shell.execute_reply": "2021-12-01T12:42:13.126372Z",
     "shell.execute_reply.started": "2021-12-01T12:10:24.841576Z"
    },
    "papermill": {
     "duration": 0.243063,
     "end_time": "2021-12-01T12:42:13.126557",
     "exception": false,
     "start_time": "2021-12-01T12:42:12.883494",
     "status": "completed"
    },
    "tags": []
   },
   "outputs": [],
   "source": [
    "data['fuel_rate'] = data['fuel_rate'].fillna(data['fuel_rate'].mean())"
   ]
  },
  {
   "cell_type": "markdown",
   "metadata": {
    "papermill": {
     "duration": 0.233211,
     "end_time": "2021-12-01T12:42:13.593357",
     "exception": false,
     "start_time": "2021-12-01T12:42:13.360146",
     "status": "completed"
    },
    "tags": []
   },
   "source": [
    "## data['vendor']"
   ]
  },
  {
   "cell_type": "code",
   "execution_count": 174,
   "metadata": {
    "execution": {
     "iopub.execute_input": "2021-12-01T12:42:14.072060Z",
     "iopub.status.busy": "2021-12-01T12:42:14.071382Z",
     "iopub.status.idle": "2021-12-01T12:42:14.087651Z",
     "shell.execute_reply": "2021-12-01T12:42:14.088161Z",
     "shell.execute_reply.started": "2021-12-01T12:10:24.853689Z"
    },
    "papermill": {
     "duration": 0.257316,
     "end_time": "2021-12-01T12:42:14.088335",
     "exception": false,
     "start_time": "2021-12-01T12:42:13.831019",
     "status": "completed"
    },
    "tags": []
   },
   "outputs": [
    {
     "data": {
      "text/plain": [
       "EUROPEAN    40444\n",
       "JAPANESE    26358\n",
       "AMERICAN        5\n",
       "Name: vendor, dtype: int64"
      ]
     },
     "execution_count": 174,
     "metadata": {},
     "output_type": "execute_result"
    }
   ],
   "source": [
    "data['vendor'].value_counts()"
   ]
  },
  {
   "cell_type": "code",
   "execution_count": 175,
   "metadata": {
    "execution": {
     "iopub.execute_input": "2021-12-01T12:42:14.566933Z",
     "iopub.status.busy": "2021-12-01T12:42:14.566216Z",
     "iopub.status.idle": "2021-12-01T12:42:14.569404Z",
     "shell.execute_reply": "2021-12-01T12:42:14.570134Z",
     "shell.execute_reply.started": "2021-12-01T12:10:24.876396Z"
    },
    "papermill": {
     "duration": 0.245419,
     "end_time": "2021-12-01T12:42:14.570324",
     "exception": false,
     "start_time": "2021-12-01T12:42:14.324905",
     "status": "completed"
    },
    "tags": []
   },
   "outputs": [],
   "source": [
    "# заменяем data['vendor'] == 'AMERICAN' на 'JAPANESE'"
   ]
  },
  {
   "cell_type": "code",
   "execution_count": 176,
   "metadata": {
    "execution": {
     "iopub.execute_input": "2021-12-01T12:42:15.049801Z",
     "iopub.status.busy": "2021-12-01T12:42:15.049157Z",
     "iopub.status.idle": "2021-12-01T12:42:15.066215Z",
     "shell.execute_reply": "2021-12-01T12:42:15.066693Z",
     "shell.execute_reply.started": "2021-12-01T12:10:24.882574Z"
    },
    "papermill": {
     "duration": 0.257347,
     "end_time": "2021-12-01T12:42:15.066909",
     "exception": false,
     "start_time": "2021-12-01T12:42:14.809562",
     "status": "completed"
    },
    "tags": []
   },
   "outputs": [],
   "source": [
    "data.loc[data['vendor'] == 'AMERICAN', 'vendor']= 'JAPANESE'"
   ]
  },
  {
   "cell_type": "markdown",
   "metadata": {
    "papermill": {
     "duration": 0.235287,
     "end_time": "2021-12-01T12:42:15.539073",
     "exception": false,
     "start_time": "2021-12-01T12:42:15.303786",
     "status": "completed"
    },
    "tags": []
   },
   "source": [
    "## data['steering_wheel']"
   ]
  },
  {
   "cell_type": "code",
   "execution_count": 177,
   "metadata": {
    "execution": {
     "iopub.execute_input": "2021-12-01T12:42:16.020501Z",
     "iopub.status.busy": "2021-12-01T12:42:16.019812Z",
     "iopub.status.idle": "2021-12-01T12:42:16.031613Z",
     "shell.execute_reply": "2021-12-01T12:42:16.031081Z",
     "shell.execute_reply.started": "2021-12-01T12:10:24.908777Z"
    },
    "papermill": {
     "duration": 0.252339,
     "end_time": "2021-12-01T12:42:16.031776",
     "exception": false,
     "start_time": "2021-12-01T12:42:15.779437",
     "status": "completed"
    },
    "tags": []
   },
   "outputs": [
    {
     "data": {
      "text/plain": [
       "array(['LEFT', 'RIGHT'], dtype=object)"
      ]
     },
     "execution_count": 177,
     "metadata": {},
     "output_type": "execute_result"
    }
   ],
   "source": [
    "data['steering_wheel'].unique()"
   ]
  },
  {
   "cell_type": "code",
   "execution_count": 178,
   "metadata": {
    "execution": {
     "iopub.execute_input": "2021-12-01T12:42:16.511312Z",
     "iopub.status.busy": "2021-12-01T12:42:16.510640Z",
     "iopub.status.idle": "2021-12-01T12:42:16.562864Z",
     "shell.execute_reply": "2021-12-01T12:42:16.562158Z",
     "shell.execute_reply.started": "2021-12-01T12:10:24.925198Z"
    },
    "papermill": {
     "duration": 0.293906,
     "end_time": "2021-12-01T12:42:16.563023",
     "exception": false,
     "start_time": "2021-12-01T12:42:16.269117",
     "status": "completed"
    },
    "tags": []
   },
   "outputs": [],
   "source": [
    "data['steering_wheel'] = data['steering_wheel'].apply(lambda x: 0 if x == 'RIGHT' else 1)"
   ]
  },
  {
   "cell_type": "markdown",
   "metadata": {
    "papermill": {
     "duration": 0.231999,
     "end_time": "2021-12-01T12:42:17.031963",
     "exception": false,
     "start_time": "2021-12-01T12:42:16.799964",
     "status": "completed"
    },
    "tags": []
   },
   "source": [
    "## data['productionDate']"
   ]
  },
  {
   "cell_type": "code",
   "execution_count": 179,
   "metadata": {
    "execution": {
     "iopub.execute_input": "2021-12-01T12:42:17.507590Z",
     "iopub.status.busy": "2021-12-01T12:42:17.506957Z",
     "iopub.status.idle": "2021-12-01T12:42:17.509287Z",
     "shell.execute_reply": "2021-12-01T12:42:17.509850Z",
     "shell.execute_reply.started": "2021-12-01T12:10:24.978732Z"
    },
    "papermill": {
     "duration": 0.240967,
     "end_time": "2021-12-01T12:42:17.510030",
     "exception": false,
     "start_time": "2021-12-01T12:42:17.269063",
     "status": "completed"
    },
    "tags": []
   },
   "outputs": [],
   "source": [
    "# заменяем значения года производсвта на количество лет с года выпуска"
   ]
  },
  {
   "cell_type": "code",
   "execution_count": 180,
   "metadata": {
    "execution": {
     "iopub.execute_input": "2021-12-01T12:42:17.987982Z",
     "iopub.status.busy": "2021-12-01T12:42:17.987282Z",
     "iopub.status.idle": "2021-12-01T12:42:17.990894Z",
     "shell.execute_reply": "2021-12-01T12:42:17.990217Z",
     "shell.execute_reply.started": "2021-12-01T12:10:24.983595Z"
    },
    "papermill": {
     "duration": 0.244263,
     "end_time": "2021-12-01T12:42:17.991035",
     "exception": false,
     "start_time": "2021-12-01T12:42:17.746772",
     "status": "completed"
    },
    "tags": []
   },
   "outputs": [],
   "source": [
    "data['productionDate'] = 2020 - data['productionDate']"
   ]
  },
  {
   "cell_type": "markdown",
   "metadata": {
    "papermill": {
     "duration": 0.239769,
     "end_time": "2021-12-01T12:42:18.467797",
     "exception": false,
     "start_time": "2021-12-01T12:42:18.228028",
     "status": "completed"
    },
    "tags": []
   },
   "source": [
    "## data['model_name']"
   ]
  },
  {
   "cell_type": "code",
   "execution_count": 181,
   "metadata": {
    "execution": {
     "iopub.execute_input": "2021-12-01T12:42:18.955831Z",
     "iopub.status.busy": "2021-12-01T12:42:18.955131Z",
     "iopub.status.idle": "2021-12-01T12:42:18.959560Z",
     "shell.execute_reply": "2021-12-01T12:42:18.960147Z",
     "shell.execute_reply.started": "2021-12-01T12:10:24.996689Z"
    },
    "papermill": {
     "duration": 0.256907,
     "end_time": "2021-12-01T12:42:18.960365",
     "exception": false,
     "start_time": "2021-12-01T12:42:18.703458",
     "status": "completed"
    },
    "tags": []
   },
   "outputs": [],
   "source": [
    "data_model_name = data['model_name'].value_counts()"
   ]
  },
  {
   "cell_type": "code",
   "execution_count": 182,
   "metadata": {
    "execution": {
     "iopub.execute_input": "2021-12-01T12:42:19.447601Z",
     "iopub.status.busy": "2021-12-01T12:42:19.446916Z",
     "iopub.status.idle": "2021-12-01T12:42:19.450160Z",
     "shell.execute_reply": "2021-12-01T12:42:19.450707Z",
     "shell.execute_reply.started": "2021-12-01T12:10:25.018632Z"
    },
    "papermill": {
     "duration": 0.245262,
     "end_time": "2021-12-01T12:42:19.450915",
     "exception": false,
     "start_time": "2021-12-01T12:42:19.205653",
     "status": "completed"
    },
    "tags": []
   },
   "outputs": [],
   "source": [
    "# заменяем значения в столбце model_name на количество данной модели в датасете"
   ]
  },
  {
   "cell_type": "code",
   "execution_count": 183,
   "metadata": {
    "execution": {
     "iopub.execute_input": "2021-12-01T12:42:20.014764Z",
     "iopub.status.busy": "2021-12-01T12:42:20.014089Z",
     "iopub.status.idle": "2021-12-01T12:42:20.430199Z",
     "shell.execute_reply": "2021-12-01T12:42:20.429453Z",
     "shell.execute_reply.started": "2021-12-01T12:10:25.027255Z"
    },
    "papermill": {
     "duration": 0.677757,
     "end_time": "2021-12-01T12:42:20.430425",
     "exception": false,
     "start_time": "2021-12-01T12:42:19.752668",
     "status": "completed"
    },
    "tags": []
   },
   "outputs": [],
   "source": [
    "data['model_count'] = data['model_name'].apply(lambda x:data_model_name[x] )"
   ]
  },
  {
   "cell_type": "code",
   "execution_count": 184,
   "metadata": {
    "execution": {
     "iopub.execute_input": "2021-12-01T12:42:20.911201Z",
     "iopub.status.busy": "2021-12-01T12:42:20.910268Z",
     "iopub.status.idle": "2021-12-01T12:42:20.916886Z",
     "shell.execute_reply": "2021-12-01T12:42:20.917405Z",
     "shell.execute_reply.started": "2021-12-01T12:10:25.435253Z"
    },
    "papermill": {
     "duration": 0.250043,
     "end_time": "2021-12-01T12:42:20.917586",
     "exception": false,
     "start_time": "2021-12-01T12:42:20.667543",
     "status": "completed"
    },
    "tags": []
   },
   "outputs": [
    {
     "data": {
      "text/plain": [
       "0        2431\n",
       "1        2431\n",
       "2         416\n",
       "3        2431\n",
       "4        2431\n",
       "         ... \n",
       "66802     177\n",
       "66803     304\n",
       "66804     304\n",
       "66805     304\n",
       "66806     304\n",
       "Name: model_name, Length: 66807, dtype: int64"
      ]
     },
     "execution_count": 184,
     "metadata": {},
     "output_type": "execute_result"
    }
   ],
   "source": [
    "data['model_count']"
   ]
  },
  {
   "cell_type": "markdown",
   "metadata": {
    "papermill": {
     "duration": 0.243867,
     "end_time": "2021-12-01T12:42:21.399340",
     "exception": false,
     "start_time": "2021-12-01T12:42:21.155473",
     "status": "completed"
    },
    "tags": []
   },
   "source": [
    "## data['color']"
   ]
  },
  {
   "cell_type": "code",
   "execution_count": 185,
   "metadata": {
    "execution": {
     "iopub.execute_input": "2021-12-01T12:42:21.891130Z",
     "iopub.status.busy": "2021-12-01T12:42:21.890436Z",
     "iopub.status.idle": "2021-12-01T12:42:21.907402Z",
     "shell.execute_reply": "2021-12-01T12:42:21.907908Z",
     "shell.execute_reply.started": "2021-12-01T12:10:25.445328Z"
    },
    "papermill": {
     "duration": 0.266213,
     "end_time": "2021-12-01T12:42:21.908096",
     "exception": false,
     "start_time": "2021-12-01T12:42:21.641883",
     "status": "completed"
    },
    "tags": []
   },
   "outputs": [
    {
     "data": {
      "text/plain": [
       "BLACK         22532\n",
       "WHITE         12529\n",
       "GRAY           8154\n",
       "SILVER         7105\n",
       "BLUE           6480\n",
       "RED            2931\n",
       "GREEN          1711\n",
       "BROWN          1501\n",
       "GOLDEN          925\n",
       "LIGHT_BLUE      732\n",
       "PURPLE          645\n",
       "BEIGE           639\n",
       "YELLOW          385\n",
       "ORANGE          262\n",
       "MAGENTA         254\n",
       "PINK             22\n",
       "Name: color, dtype: int64"
      ]
     },
     "execution_count": 185,
     "metadata": {},
     "output_type": "execute_result"
    }
   ],
   "source": [
    "data['color'].value_counts()"
   ]
  },
  {
   "cell_type": "code",
   "execution_count": 186,
   "metadata": {
    "execution": {
     "iopub.execute_input": "2021-12-01T12:42:22.391124Z",
     "iopub.status.busy": "2021-12-01T12:42:22.390419Z",
     "iopub.status.idle": "2021-12-01T12:42:22.395605Z",
     "shell.execute_reply": "2021-12-01T12:42:22.396237Z",
     "shell.execute_reply.started": "2021-12-01T12:10:25.466732Z"
    },
    "papermill": {
     "duration": 0.246636,
     "end_time": "2021-12-01T12:42:22.396414",
     "exception": false,
     "start_time": "2021-12-01T12:42:22.149778",
     "status": "completed"
    },
    "tags": []
   },
   "outputs": [],
   "source": [
    "def color (col):\n",
    "    if col == 'RED' or col == 'BROWN' or col == 'MAGENTA' or col =='BEIGE' or col == 'GREEN'\\\n",
    "        or col =='YELLOW' or col =='LIGHT_BLUE' or col =='SILVER'\\\n",
    "        or col =='ORANGE' or col == 'PURPLE' or col =='GOLDEN' or col =='PINK':\n",
    "        return ('OTHER')\n",
    "    if col == 'BLUE' or col == 'GRAY':\n",
    "        return ('BLUE_GRAY')\n",
    "    else:\n",
    "        return (col)"
   ]
  },
  {
   "cell_type": "code",
   "execution_count": 187,
   "metadata": {
    "execution": {
     "iopub.execute_input": "2021-12-01T12:42:22.868961Z",
     "iopub.status.busy": "2021-12-01T12:42:22.868270Z",
     "iopub.status.idle": "2021-12-01T12:42:22.911540Z",
     "shell.execute_reply": "2021-12-01T12:42:22.912137Z",
     "shell.execute_reply.started": "2021-12-01T12:10:25.474447Z"
    },
    "papermill": {
     "duration": 0.280821,
     "end_time": "2021-12-01T12:42:22.912326",
     "exception": false,
     "start_time": "2021-12-01T12:42:22.631505",
     "status": "completed"
    },
    "tags": []
   },
   "outputs": [],
   "source": [
    "data['color'] = data['color'].apply(color)"
   ]
  },
  {
   "cell_type": "code",
   "execution_count": 188,
   "metadata": {
    "execution": {
     "iopub.execute_input": "2021-12-01T12:42:23.402634Z",
     "iopub.status.busy": "2021-12-01T12:42:23.401913Z",
     "iopub.status.idle": "2021-12-01T12:42:23.407685Z",
     "shell.execute_reply": "2021-12-01T12:42:23.408354Z",
     "shell.execute_reply.started": "2021-12-01T12:10:25.526527Z"
    },
    "papermill": {
     "duration": 0.25611,
     "end_time": "2021-12-01T12:42:23.408535",
     "exception": false,
     "start_time": "2021-12-01T12:42:23.152425",
     "status": "completed"
    },
    "tags": []
   },
   "outputs": [
    {
     "data": {
      "text/plain": [
       "BLACK        22532\n",
       "OTHER        17112\n",
       "BLUE_GRAY    14634\n",
       "WHITE        12529\n",
       "Name: color, dtype: int64"
      ]
     },
     "execution_count": 188,
     "metadata": {},
     "output_type": "execute_result"
    }
   ],
   "source": [
    "data['color'].value_counts()"
   ]
  },
  {
   "cell_type": "code",
   "execution_count": 189,
   "metadata": {
    "execution": {
     "iopub.execute_input": "2021-12-01T12:42:23.893396Z",
     "iopub.status.busy": "2021-12-01T12:42:23.892723Z",
     "iopub.status.idle": "2021-12-01T12:42:23.903437Z",
     "shell.execute_reply": "2021-12-01T12:42:23.903999Z",
     "shell.execute_reply.started": "2021-12-01T12:10:25.542773Z"
    },
    "papermill": {
     "duration": 0.256455,
     "end_time": "2021-12-01T12:42:23.904176",
     "exception": false,
     "start_time": "2021-12-01T12:42:23.647721",
     "status": "completed"
    },
    "tags": []
   },
   "outputs": [
    {
     "data": {
      "text/plain": [
       "color\n",
       "BLACK        872287.560314\n",
       "BLUE_GRAY    636280.120473\n",
       "OTHER        353306.993922\n",
       "WHITE        715678.964642\n",
       "Name: price, dtype: float64"
      ]
     },
     "execution_count": 189,
     "metadata": {},
     "output_type": "execute_result"
    }
   ],
   "source": [
    "data.groupby('color')['price'].mean()"
   ]
  },
  {
   "cell_type": "markdown",
   "metadata": {
    "papermill": {
     "duration": 0.239205,
     "end_time": "2021-12-01T12:42:24.379859",
     "exception": false,
     "start_time": "2021-12-01T12:42:24.140654",
     "status": "completed"
    },
    "tags": []
   },
   "source": [
    "## data['brand']"
   ]
  },
  {
   "cell_type": "code",
   "execution_count": 190,
   "metadata": {
    "execution": {
     "iopub.execute_input": "2021-12-01T12:42:24.854242Z",
     "iopub.status.busy": "2021-12-01T12:42:24.853453Z",
     "iopub.status.idle": "2021-12-01T12:42:24.869798Z",
     "shell.execute_reply": "2021-12-01T12:42:24.870321Z",
     "shell.execute_reply.started": "2021-12-01T12:10:25.563853Z"
    },
    "papermill": {
     "duration": 0.255926,
     "end_time": "2021-12-01T12:42:24.870499",
     "exception": false,
     "start_time": "2021-12-01T12:42:24.614573",
     "status": "completed"
    },
    "tags": []
   },
   "outputs": [
    {
     "data": {
      "text/plain": [
       "MERCEDES      9497\n",
       "BMW           8960\n",
       "NISSAN        8678\n",
       "VOLKSWAGEN    8512\n",
       "TOYOTA        7342\n",
       "AUDI          6090\n",
       "MITSUBISHI    4989\n",
       "SKODA         4849\n",
       "VOLVO         2541\n",
       "HONDA         2013\n",
       "LEXUS         1803\n",
       "INFINITI      1533\n",
       "Name: brand, dtype: int64"
      ]
     },
     "execution_count": 190,
     "metadata": {},
     "output_type": "execute_result"
    }
   ],
   "source": [
    "data['brand'].value_counts()"
   ]
  },
  {
   "cell_type": "code",
   "execution_count": 191,
   "metadata": {
    "execution": {
     "iopub.execute_input": "2021-12-01T12:42:25.345318Z",
     "iopub.status.busy": "2021-12-01T12:42:25.344510Z",
     "iopub.status.idle": "2021-12-01T12:42:25.365973Z",
     "shell.execute_reply": "2021-12-01T12:42:25.365284Z",
     "shell.execute_reply.started": "2021-12-01T12:10:25.583282Z"
    },
    "papermill": {
     "duration": 0.260618,
     "end_time": "2021-12-01T12:42:25.366129",
     "exception": false,
     "start_time": "2021-12-01T12:42:25.105511",
     "status": "completed"
    },
    "tags": []
   },
   "outputs": [],
   "source": [
    "data.drop(['modelDate'],inplace = True, axis = 1)"
   ]
  },
  {
   "cell_type": "code",
   "execution_count": 192,
   "metadata": {
    "execution": {
     "iopub.execute_input": "2021-12-01T12:42:25.846628Z",
     "iopub.status.busy": "2021-12-01T12:42:25.845987Z",
     "iopub.status.idle": "2021-12-01T12:42:25.920263Z",
     "shell.execute_reply": "2021-12-01T12:42:25.919535Z",
     "shell.execute_reply.started": "2021-12-01T12:10:25.607953Z"
    },
    "papermill": {
     "duration": 0.31369,
     "end_time": "2021-12-01T12:42:25.920420",
     "exception": false,
     "start_time": "2021-12-01T12:42:25.606730",
     "status": "completed"
    },
    "tags": []
   },
   "outputs": [
    {
     "name": "stdout",
     "output_type": "stream",
     "text": [
      "<class 'pandas.core.frame.DataFrame'>\n",
      "RangeIndex: 66807 entries, 0 to 66806\n",
      "Data columns (total 22 columns):\n",
      " #   Column                 Non-Null Count  Dtype  \n",
      "---  ------                 --------------  -----  \n",
      " 0   bodyType               66807 non-null  object \n",
      " 1   brand                  66807 non-null  object \n",
      " 2   color                  66807 non-null  object \n",
      " 3   engineDisplacement     66807 non-null  float64\n",
      " 4   enginePower            66807 non-null  int64  \n",
      " 5   fuelType               66807 non-null  object \n",
      " 6   mileage                66807 non-null  int64  \n",
      " 7   model_name             66807 non-null  int64  \n",
      " 8   numberOfDoors          66807 non-null  int64  \n",
      " 9   productionDate         66807 non-null  int64  \n",
      " 10  sell_id                66807 non-null  int64  \n",
      " 11  vendor                 66807 non-null  object \n",
      " 12  acceleration           66807 non-null  float64\n",
      " 13  clearance_min          66807 non-null  float64\n",
      " 14  fuel_rate              66807 non-null  float64\n",
      " 15  gearType               66807 non-null  object \n",
      " 16  transmission           66807 non-null  object \n",
      " 17  owners_number          66807 non-null  int64  \n",
      " 18  original_registration  66807 non-null  int64  \n",
      " 19  steering_wheel         66807 non-null  int64  \n",
      " 20  sample                 66807 non-null  int64  \n",
      " 21  price                  66807 non-null  int64  \n",
      "dtypes: float64(4), int64(11), object(7)\n",
      "memory usage: 11.2+ MB\n"
     ]
    }
   ],
   "source": [
    "data.info()"
   ]
  },
  {
   "cell_type": "code",
   "execution_count": null,
   "metadata": {},
   "outputs": [],
   "source": [
    "dfg"
   ]
  },
  {
   "cell_type": "markdown",
   "metadata": {},
   "source": [
    "# EDA"
   ]
  },
  {
   "cell_type": "code",
   "execution_count": null,
   "metadata": {},
   "outputs": [],
   "source": [
    "# исследуем данные для трейна, поскольку в них есть целевая переменная\n",
    "eda = data[data['sample'] == 1].drop(['sample'], axis=1)\n",
    "eda = eda.drop(['sell_id'], axis=1)"
   ]
  },
  {
   "cell_type": "code",
   "execution_count": null,
   "metadata": {},
   "outputs": [],
   "source": [
    "eda.info()"
   ]
  },
  {
   "cell_type": "markdown",
   "metadata": {},
   "source": [
    "## Функции для EDA"
   ]
  },
  {
   "cell_type": "code",
   "execution_count": null,
   "metadata": {},
   "outputs": [],
   "source": [
    "def first_look(df: pd.DataFrame, column: object, descriptions: dict):\n",
    "    '''\n",
    "    Функция для осмотра переменных\n",
    "    '''\n",
    "    printmd('### ' + str(column))\n",
    "    if column in list(descriptions.keys()):\n",
    "        printmd(descriptions[column])\n",
    "    if df.loc[:, col].dtypes == np.dtype('O'): # Проверка на строковый тип данных\n",
    "        fig, ax = plt.subplots(figsize=(6, 5))\n",
    "        sns.countplot(df.loc[:, column], ax=ax)\n",
    "        plt.show()\n",
    "        # Print misses percent\n",
    "        misses = (1 - (df[column].count() / df.shape[0]))\n",
    "    else:\n",
    "        # Prepare plot data frame\n",
    "        plot_df = pd.DataFrame({'Распределение': df[column]})\n",
    "#         if search_mistakes(df, column, outlier_bounds):\n",
    "#             low, high = IQR_outlier(df, column, verbose=False)\n",
    "#             plot_df['Распределение в границах выбросов'] = df.loc[df.loc[:,column].between(low, high)][column]\n",
    "        # Draw plot\n",
    "        fig, ax = plt.subplots(figsize=(7 * plot_df.shape[1], 4))\n",
    "        plot_df.hist(ax=ax)\n",
    "        plt.show()\n",
    "        # Print misses percent\n",
    "        misses = (1 - (df[column].count() / df.shape[0]))\n",
    "\n",
    "        \n",
    "def get_boxplot(df: pd.DataFrame, column: object, ax_y='price') -> None:\n",
    "    '''\n",
    "    Функция для отображения boxplot-графиков для номинативных и смешанных переменных\n",
    "    '''\n",
    "    fig, ax = plt.subplots(figsize = (8, 4))\n",
    "    box_plot = sns.boxplot(x=column, y=ax_y, data=df,ax=ax)\n",
    "    cnt = df[column].value_counts()\n",
    "    medians = df.groupby([column])[ax_y].median()\n",
    "    vertical_offset = df.groupby([column])[ax_y].median() * 0.12\n",
    "    x=df[column].unique()\n",
    "    x = list(filter(lambda v: v==v, x))\n",
    "    if df.loc[:, col].dtypes != np.dtype('O'):\n",
    "        x = sorted(x)\n",
    "    for xtick, ytick in zip(list(box_plot.get_xticks()), x):\n",
    "        box_plot.text(xtick, medians.loc[ytick]-vertical_offset[ytick], cnt.loc[ytick], \n",
    "                    horizontalalignment='center',size=15, color='w',weight='semibold')\n",
    "    plt.xticks(rotation=45)\n",
    "    ax.set_title('Boxplot for ' + column)\n",
    "    plt.show()\n",
    "\n",
    "\n",
    "\n",
    "def get_stat_dif(df: pd.DataFrame, column: object, target='price') -> bool:\n",
    "    '''\n",
    "    Функция для проведения теста Стьюдента для номинативных и смешанных переменных\n",
    "    '''\n",
    "    cols = df.loc[:, column].value_counts()\n",
    "    cols = cols[cols>15].index\n",
    "    combinations_all = list(combinations(cols, 2))\n",
    "    for comb in combinations_all:\n",
    "        if ttest_ind(df.loc[df.loc[:, column] == comb[0], target].dropna(), \n",
    "                        df.loc[df.loc[:, column] == comb[1], target].dropna()).pvalue \\\n",
    "            <= 0.075/len(combinations_all): # Учли поправку Бонферони\n",
    "            print('Найдены статистически значимые различия для колонки', column)\n",
    "            return True\n",
    "            break\n",
    "\n",
    "def printmd(string):\n",
    "    display(Markdown(string))"
   ]
  },
  {
   "cell_type": "markdown",
   "metadata": {},
   "source": [
    "Проверим все ли пропуски заполнены на предыдущем этапе"
   ]
  },
  {
   "cell_type": "code",
   "execution_count": null,
   "metadata": {},
   "outputs": [],
   "source": [
    "plt.figure(figsize=(10, 7))# размер тепловой карты\n",
    "sns.heatmap(eda.isnull(), cmap=\"YlGnBu_r\");"
   ]
  },
  {
   "cell_type": "markdown",
   "metadata": {},
   "source": [
    "## Оценка распределения значений для количественных признаков, поиск и устранение ошибок/аномальных значений."
   ]
  },
  {
   "cell_type": "code",
   "execution_count": null,
   "metadata": {},
   "outputs": [],
   "source": [
    "# Объявим словарь описаний полей, для дальнейшего использования при анализе\n",
    "descriptions = {\n",
    "    \"bodyType\": \"Тип кузова\",\n",
    "    \"brand\": \"Марка авто\",\n",
    "    \"color\": \"Цвет автомобиля\",\n",
    "    \"engineDisplacement\": \"Объем двигателя\",\n",
    "    \"enginePower\": \"Мощность двигателя\",\n",
    "    \"fuelType\": \"Тип топлива\",\n",
    "    \"mileage\": \"Пробег\",\n",
    "    \"model_name\": \"Количество Модель\",\n",
    "    \"numberOfDoors\": \"Количество дверей\",\n",
    "    \"productionDate\": \"Количество лет со дня выпуска\",\n",
    "    \"vendor\": \"Производитель\",\n",
    "    \"acceleration\": \"Разгон\",\n",
    "    \"clearance_min\": \"Клиренс\",\n",
    "    \"fuel_rate\": \"Поотребление топлива\",\n",
    "    \"gearType\": \"Привод\",\n",
    "    \"transmission\": \"Трансмиссия\",\n",
    "    \"owners_number\": \"Количество владельцев\",\n",
    "    \"original_registration\": \"Характеристика ПТС\",\n",
    "    \"steering_wheel\": \"Расположение руля\",\n",
    "    \"price\": \"Цена автомобиля\"\n",
    "}"
   ]
  },
  {
   "cell_type": "markdown",
   "metadata": {},
   "source": [
    "## Быстрый осмотр признаков"
   ]
  },
  {
   "cell_type": "code",
   "execution_count": null,
   "metadata": {},
   "outputs": [],
   "source": [
    "['bodyType', 'brand', 'color', 'fuelType', 'vendor', 'gearType', 'transmission', '']\n",
    "'numberOfDoors', 'owners_number', 'original_registration', 'steering_wheel'"
   ]
  },
  {
   "cell_type": "code",
   "execution_count": null,
   "metadata": {},
   "outputs": [],
   "source": [
    "for col in eda.columns:\n",
    "    first_look(eda, col, descriptions)"
   ]
  },
  {
   "cell_type": "markdown",
   "metadata": {},
   "source": [
    "### Выводы быстрого осмотра данных\n",
    "\n",
    "1. По типу кузова большинство машин относится к 5-дверному типу и аналогу - седану\n",
    "2. По марке авто имеем несбалансированную выборку: MERCEDES представлена в бОльшем количестве (5317), чем остальные; LEXUS, HONDA и INFINITI имееются в количестве менее 1000 шт., остальные больше 1000 шт.\n",
    "3. Значительно преобладают машины с чёрным цветом. Примерно в два раза меньше машин белого цвета. Реже встречаются автомобили других цветов.\n",
    "4. Объем двигателя в объявлениях сконцентрирован в промежутке от 1.5 до 3. Остальные значения более редки.\n",
    "5. Признак мощности двигателя напоминает Пуассоновское распределение. Возможно, стоит прологарифмировать данный признак.\n",
    "6. В датасете представлено мало автомобилей с гибридным типом топлива, электромашин, а также типа LPG. Преобладают автомобили на газу, бензине и дизеле.\n",
    "7. Обычно пробег машин не превышает 400000 км, однако имеются и слишком изношенные. Возможно, стоит прологарифмировать признак, чтобы избавится от \"жирого хвоста\".\n",
    "8. По количеству лет со дня выпуска большинство автомобилей не старше 30-40 лет, однако есть исключения до 80 лет. Возможно, стоит прологарифмировать данный признак.\n",
    "9. Европейских автомобилей представлено в 1.6 раза больше, чем японских.\n",
    "10. Признак \"разгон\" имеет вид нормального распределения, однако имеется \"жирный хвост\". Возможно, стоит прологарифмировать данный признак.\n",
    "10. Признак \"клиренс\" имеет вид нормального (или бимодального?) распределения, однако имеется жирный хвост. Возможно, стоит прологарифмировать данный признак.\n",
    "11. \"Потребление топлива\" на 100 км обычно не превышает 10 л, однако имеется \"жирный хвост\". Возможно, стоит прологарифмировать данный признак.\n",
    "12. По типу привода большинство машин полноприводные или переднеприводные, остальные представлены реже.\n",
    "13. У большинства авто трансмиссия автоматическая. \n",
    "14. Количество владельцев у представленых автомобилей не превышает 4.\n",
    "15. Большинство авто имеют оригинальный ПТС.\n",
    "16. Как и ожидалось, левостороннее расположение руля превалирует в выборке, однако присутствуют и правосторонние в количестве 1108, что примерно в 30 раз меньше. В этом отношении выборка сильно несбалансирована.\n",
    "17. Очевидно, что цена имеет \"жирный хвост\" и данный признак нуждается в логарифмировании."
   ]
  },
  {
   "cell_type": "markdown",
   "metadata": {},
   "source": [
    "## Корреляционный анализ количественных признаков"
   ]
  },
  {
   "cell_type": "code",
   "execution_count": null,
   "metadata": {},
   "outputs": [],
   "source": [
    "stud_num = ['engineDisplacement', 'enginePower', 'numberOfDoors', 'productionDate', 'acceleration',\n",
    "           'clearance_min', 'fuel_rate', 'owners_number', 'price']\n",
    "sns.pairplot(eda[stud_num], kind='reg');"
   ]
  },
  {
   "cell_type": "markdown",
   "metadata": {},
   "source": [
    "Исходя из этих данных однозначных выводов по корреляции между данными характеристиками сделать затруднительно. Посмотрим на матрицу корреляций."
   ]
  },
  {
   "cell_type": "code",
   "execution_count": null,
   "metadata": {
    "scrolled": true
   },
   "outputs": [],
   "source": [
    "eda[stud_num].corr()"
   ]
  },
  {
   "cell_type": "code",
   "execution_count": null,
   "metadata": {},
   "outputs": [],
   "source": [
    "corr = eda.corr()\n",
    "mask = np.zeros_like(corr)\n",
    "mask[np.triu_indices_from(mask)] = True\n",
    "with sns.axes_style(\"white\"):\n",
    "    f, ax = plt.subplots(figsize=(10, 10))\n",
    "    ax = sns.heatmap(corr, mask=mask, annot=True, square=True)"
   ]
  },
  {
   "cell_type": "markdown",
   "metadata": {},
   "source": [
    "Сделаем отдельный датафрейм для кореллирующих значений"
   ]
  },
  {
   "cell_type": "code",
   "execution_count": null,
   "metadata": {},
   "outputs": [],
   "source": [
    "score_correlation_df = pd.DataFrame(eda.corr()[\"price\"].values,\n",
    "                                    index=eda.corr()[\"price\"].index,\n",
    "                                    columns=['correlation'])\n",
    "score_correlation_df = score_correlation_df.drop(\"price\")\n",
    "\n",
    "score_correlation_df['corellation_amount'] = abs(\n",
    "    score_correlation_df.correlation)\n",
    "printmd(\"#### Кореллирующие значения в порядке убывания\")\n",
    "score_correlation_df.sort_values(by='corellation_amount', ascending=False)"
   ]
  },
  {
   "cell_type": "markdown",
   "metadata": {},
   "source": [
    "### Выводы по результатам корреляционного анализа:\n",
    "1. Сильно скоррелированных признаков (0.9 и более) не представлено\n",
    "2. Наибольшая связь представлена между признаками \"Объем двигателя\", \"Мощность двигателя\" и \"Потребление топлива\", что логично.\n",
    "3. Присутствует заметная отрицательная корреляция между \"Разгоном\" и (\"Объем двигателя\", \"Мощность двигателя\")\n",
    "4. Касательно связи признаков с целевой переменной (ценой), то все признаки, за исключением \"Количества дверей\" и \"Потреблением топлива\" имеет выраженную корреляцию, как положительную, так и отрицательную."
   ]
  },
  {
   "cell_type": "markdown",
   "metadata": {},
   "source": [
    "Проверим отдельно признак \"Количестов дверей\" со слабой коррелицией к целевой переменной:"
   ]
  },
  {
   "cell_type": "code",
   "execution_count": null,
   "metadata": {},
   "outputs": [],
   "source": [
    "plt.figure(figsize=(8, 5))\n",
    "sns.lineplot(data=eda, x='numberOfDoors', y='price');"
   ]
  },
  {
   "cell_type": "markdown",
   "metadata": {},
   "source": [
    "Видно, что нелинейная связь присутствует. => признак стоит оставить."
   ]
  },
  {
   "cell_type": "markdown",
   "metadata": {},
   "source": [
    "## Визуальный анализ номинативных признаков, оценка количества уникальных значений."
   ]
  },
  {
   "cell_type": "code",
   "execution_count": null,
   "metadata": {},
   "outputs": [],
   "source": [
    "['bodyType', 'brand', 'color', 'fuelType', 'vendor', 'gearType', 'transmission', 'numberOfDoors', 'owners_number', 'original_registration', 'steering_wheel']\n",
    "# 'numberOfDoors', 'owners_number', 'original_registration', 'steering_wheel'"
   ]
  },
  {
   "cell_type": "code",
   "execution_count": null,
   "metadata": {},
   "outputs": [],
   "source": [
    "nom_cols = ['bodyType', 'brand', 'color', 'fuelType', 'vendor', 'gearType',\n",
    "            'transmission', 'numberOfDoors', 'owners_number', 'original_registration', 'steering_wheel']\n",
    "for col in nom_cols:\n",
    "    get_boxplot(eda, col)"
   ]
  },
  {
   "cell_type": "markdown",
   "metadata": {},
   "source": [
    "=> Анализ номинативных признаков затруднён из-за присутствия очень дорогих авто. => Прологарифмируем цену."
   ]
  },
  {
   "cell_type": "code",
   "execution_count": null,
   "metadata": {},
   "outputs": [],
   "source": [
    "eda['price2'] = eda['price'].apply(lambda x: np.log(x))"
   ]
  },
  {
   "cell_type": "code",
   "execution_count": null,
   "metadata": {},
   "outputs": [],
   "source": [
    "nom_cols = ['bodyType', 'brand', 'color', 'fuelType', 'vendor', 'gearType',\n",
    "            'transmission', 'numberOfDoors', 'owners_number', 'original_registration', 'steering_wheel']\n",
    "for col in nom_cols:\n",
    "    get_boxplot(eda, col, ax_y='price2')"
   ]
  },
  {
   "cell_type": "markdown",
   "metadata": {},
   "source": [
    "### Вывод:\n",
    "1. Обычно наиболее дорогие авто - авто класса \"LUXURY\", что отражает это название (логично). Самые бюджетными классами являются \"WAGON\" и \"HATCHBACK\". Но это разделение не носит ярковыраженного характера.\n",
    "2. Тройка дорогих марок - BMW, MERCEDES и LEXUS. Бюджетные - VOLKSWAGEN и HONDA.\n",
    "3. Предсказуемо чёрные авто обычно самые дорогие, но также и белые недалеко по медианной цене. Последнее удивило.\n",
    "4. Автомобили на дизиле как правило более дорогие.\n",
    "5. За японские машины обычно просят меньшую цену.\n",
    "6. Полноприводные автомобили как правило имеют более высокую цену, в сравнении с другими.\n",
    "7. Машины с механической коробкой передач заметно дешевле других типов.\n",
    "8. Авто с 3 дверьми стоят недорого по сравнению с другими вариантами. Интересно, что двухдверные машины обычно имеют самую высокую цену. Скорее всего, двухдверные авто являются спорткарами или им подобными.\n",
    "9. Цена авто обратнозависима от количества владельцев, что логично.\n",
    "10. Машины с отсутствием оригинального ПТС заметно дешевле.\n",
    "11. Расположение руля также вносит серьёзный вклад в цену. Левостороннее расположение как правило дороже."
   ]
  },
  {
   "cell_type": "markdown",
   "metadata": {},
   "source": [
    "## t-test номинативных и смешанных переменных"
   ]
  },
  {
   "cell_type": "markdown",
   "metadata": {},
   "source": [
    "С помощью теста Стьюдента проверим есть ли статистическая разница в распределении оценок по номинативным признакам, проверив нулевую гипотезу о том, что распределение цены автомобиля в зависимости от уровней категорий неразличимы"
   ]
  },
  {
   "cell_type": "code",
   "execution_count": null,
   "metadata": {},
   "outputs": [],
   "source": [
    "lst = []\n",
    "for col in nom_cols:\n",
    "    if get_stat_dif(eda, col):\n",
    "        lst.append(col)"
   ]
  },
  {
   "cell_type": "markdown",
   "metadata": {
    "papermill": {
     "duration": 0.239035,
     "end_time": "2021-12-01T12:42:27.371937",
     "exception": false,
     "start_time": "2021-12-01T12:42:27.132902",
     "status": "completed"
    },
    "tags": []
   },
   "source": [
    "# ML"
   ]
  },
  {
   "cell_type": "markdown",
   "metadata": {},
   "source": []
  },
  {
   "cell_type": "code",
   "execution_count": null,
   "metadata": {},
   "outputs": [],
   "source": [
    "##### Можно попробовать построить модели с логарифмированием признаков, которые в этом нуждаются\n",
    "##### На некоторых моделях результат незначительно улучшается. Например, линейная регрессия улучшается на 10%\n",
    "##### На деревьях изменения на сотые процентов.\n",
    "##### Код для этого привожу ниже, если захочешь, я на кагле сегодня уже не сделаю\n",
    "\n",
    "# data2 = data.copy()\n",
    "\n",
    "# data2['enginePower'] = data2['enginePower'].apply(lambda x: np.log(x+1))\n",
    "# data2['mileage'] = data2['mileage'].apply(lambda x: np.log(x+1))\n",
    "# data2['productionDate'] = data2['productionDate'].apply(lambda x: np.log(x+1))\n",
    "# data2['acceleration'] = data2['acceleration'].apply(lambda x: np.log(x+1))\n",
    "# data2['clearance_min'] = data2['clearance_min'].apply(lambda x: np.log(x+1))\n",
    "# data2['fuel_rate'] = data2['fuel_rate'].apply(lambda x: np.log(x+1))\n",
    "\n",
    "# RANDOM_SEED = 42\n",
    "# cat_cols_df = data[['bodyType','fuelType', 'gearType','brand','transmission']]\n",
    "\n",
    "# cat_cols_df_dummies = pd.get_dummies(cat_cols_df)\n",
    "# data2 = data2.join(cat_cols_df_dummies)\n",
    "# data2.drop(['bodyType','brand', 'fuelType','gearType', 'transmission','vendor','color'],inplace = True, axis = 1)\n",
    "# data2.drop(['model_name','fuelType_DIESEL'], inplace =True, axis = 1)\n",
    "\n",
    "\n",
    "# # разделение данных для обучения и теста\n",
    "# train2 = data2.query('sample == 1').drop(['sample', 'sell_id'], axis=1)\n",
    "# X_train2 = train2.drop('price',axis = 1)\n",
    "# y_train2 = train2['price']\n",
    "\n",
    "# test2 = data2.query('sample == 0')\n",
    "# sell_id = test2[['sell_id']]\n",
    "# test2 = test.drop(['sample', 'sell_id','price'], axis=1)\n",
    "# X_test2 = test2\n",
    "\n",
    "# X_train_v2, X_val2, y_train_v2, y_val2 = train_test_split(X_train2,y_train2, test_size=0.15,\\\n",
    "#                                                       shuffle=True, random_state=RANDOM_SEED)"
   ]
  },
  {
   "cell_type": "markdown",
   "metadata": {
    "papermill": {
     "duration": 0.247019,
     "end_time": "2021-12-01T12:42:28.331808",
     "exception": false,
     "start_time": "2021-12-01T12:42:28.084789",
     "status": "completed"
    },
    "tags": []
   },
   "source": []
  },
  {
   "cell_type": "code",
   "execution_count": 193,
   "metadata": {
    "execution": {
     "iopub.execute_input": "2021-12-01T12:42:28.812515Z",
     "iopub.status.busy": "2021-12-01T12:42:28.811681Z",
     "iopub.status.idle": "2021-12-01T12:42:28.814870Z",
     "shell.execute_reply": "2021-12-01T12:42:28.814195Z",
     "shell.execute_reply.started": "2021-12-01T12:10:25.709783Z"
    },
    "papermill": {
     "duration": 0.246377,
     "end_time": "2021-12-01T12:42:28.815021",
     "exception": false,
     "start_time": "2021-12-01T12:42:28.568644",
     "status": "completed"
    },
    "tags": []
   },
   "outputs": [],
   "source": [
    "RANDOM_SEED = 42"
   ]
  },
  {
   "cell_type": "code",
   "execution_count": 194,
   "metadata": {
    "execution": {
     "iopub.execute_input": "2021-12-01T12:42:29.306011Z",
     "iopub.status.busy": "2021-12-01T12:42:29.305293Z",
     "iopub.status.idle": "2021-12-01T12:42:29.311791Z",
     "shell.execute_reply": "2021-12-01T12:42:29.312321Z",
     "shell.execute_reply.started": "2021-12-01T12:10:25.718477Z"
    },
    "papermill": {
     "duration": 0.251956,
     "end_time": "2021-12-01T12:42:29.312502",
     "exception": false,
     "start_time": "2021-12-01T12:42:29.060546",
     "status": "completed"
    },
    "tags": []
   },
   "outputs": [],
   "source": [
    "cat_cols_df = data[['bodyType','fuelType', 'gearType','brand','transmission']]"
   ]
  },
  {
   "cell_type": "code",
   "execution_count": 195,
   "metadata": {
    "execution": {
     "iopub.execute_input": "2021-12-01T12:42:29.803827Z",
     "iopub.status.busy": "2021-12-01T12:42:29.803174Z",
     "iopub.status.idle": "2021-12-01T12:42:29.878630Z",
     "shell.execute_reply": "2021-12-01T12:42:29.877997Z",
     "shell.execute_reply.started": "2021-12-01T12:10:25.738871Z"
    },
    "papermill": {
     "duration": 0.322415,
     "end_time": "2021-12-01T12:42:29.878805",
     "exception": false,
     "start_time": "2021-12-01T12:42:29.556390",
     "status": "completed"
    },
    "tags": []
   },
   "outputs": [],
   "source": [
    "cat_cols_df_dummies = pd.get_dummies(cat_cols_df)"
   ]
  },
  {
   "cell_type": "code",
   "execution_count": 196,
   "metadata": {
    "execution": {
     "iopub.execute_input": "2021-12-01T12:42:30.375427Z",
     "iopub.status.busy": "2021-12-01T12:42:30.374706Z",
     "iopub.status.idle": "2021-12-01T12:42:30.397312Z",
     "shell.execute_reply": "2021-12-01T12:42:30.397880Z",
     "shell.execute_reply.started": "2021-12-01T12:10:25.821503Z"
    },
    "papermill": {
     "duration": 0.271295,
     "end_time": "2021-12-01T12:42:30.398069",
     "exception": false,
     "start_time": "2021-12-01T12:42:30.126774",
     "status": "completed"
    },
    "tags": []
   },
   "outputs": [],
   "source": [
    "data = data.join(cat_cols_df_dummies)"
   ]
  },
  {
   "cell_type": "code",
   "execution_count": 197,
   "metadata": {
    "execution": {
     "iopub.execute_input": "2021-12-01T12:42:30.925812Z",
     "iopub.status.busy": "2021-12-01T12:42:30.924950Z",
     "iopub.status.idle": "2021-12-01T12:42:30.959436Z",
     "shell.execute_reply": "2021-12-01T12:42:30.958883Z",
     "shell.execute_reply.started": "2021-12-01T12:10:25.842732Z"
    },
    "papermill": {
     "duration": 0.284107,
     "end_time": "2021-12-01T12:42:30.959591",
     "exception": false,
     "start_time": "2021-12-01T12:42:30.675484",
     "status": "completed"
    },
    "tags": []
   },
   "outputs": [],
   "source": [
    "data.drop(['bodyType','brand', 'fuelType','gearType', 'transmission','vendor','color',\\\n",
    "          'model_name','fuelType_DIESEL'],inplace = True, axis = 1)"
   ]
  },
  {
   "cell_type": "code",
   "execution_count": 198,
   "metadata": {
    "execution": {
     "iopub.execute_input": "2021-12-01T12:42:32.004313Z",
     "iopub.status.busy": "2021-12-01T12:42:32.002012Z",
     "iopub.status.idle": "2021-12-01T12:42:32.023676Z",
     "shell.execute_reply": "2021-12-01T12:42:32.024562Z",
     "shell.execute_reply.started": "2021-12-01T12:10:25.883376Z"
    },
    "papermill": {
     "duration": 0.264784,
     "end_time": "2021-12-01T12:42:32.024814",
     "exception": false,
     "start_time": "2021-12-01T12:42:31.760030",
     "status": "completed"
    },
    "tags": []
   },
   "outputs": [
    {
     "name": "stdout",
     "output_type": "stream",
     "text": [
      "<class 'pandas.core.frame.DataFrame'>\n",
      "RangeIndex: 66807 entries, 0 to 66806\n",
      "Data columns (total 42 columns):\n",
      " #   Column                    Non-Null Count  Dtype  \n",
      "---  ------                    --------------  -----  \n",
      " 0   engineDisplacement        66807 non-null  float64\n",
      " 1   enginePower               66807 non-null  int64  \n",
      " 2   mileage                   66807 non-null  int64  \n",
      " 3   numberOfDoors             66807 non-null  int64  \n",
      " 4   productionDate            66807 non-null  int64  \n",
      " 5   sell_id                   66807 non-null  int64  \n",
      " 6   acceleration              66807 non-null  float64\n",
      " 7   clearance_min             66807 non-null  float64\n",
      " 8   fuel_rate                 66807 non-null  float64\n",
      " 9   owners_number             66807 non-null  int64  \n",
      " 10  original_registration     66807 non-null  int64  \n",
      " 11  steering_wheel            66807 non-null  int64  \n",
      " 12  sample                    66807 non-null  int64  \n",
      " 13  price                     66807 non-null  int64  \n",
      " 14  bodyType_ALLROAD          66807 non-null  uint8  \n",
      " 15  bodyType_LUXURY           66807 non-null  uint8  \n",
      " 16  bodyType_SEDAN            66807 non-null  uint8  \n",
      " 17  bodyType_VAN              66807 non-null  uint8  \n",
      " 18  bodyType_WAGON            66807 non-null  uint8  \n",
      " 19  fuelType_ELECTRO          66807 non-null  uint8  \n",
      " 20  fuelType_GASOLINE         66807 non-null  uint8  \n",
      " 21  fuelType_HYBRID           66807 non-null  uint8  \n",
      " 22  fuelType_LPG              66807 non-null  uint8  \n",
      " 23  gearType_ALL_WHEEL_DRIVE  66807 non-null  uint8  \n",
      " 24  gearType_FORWARD_CONTROL  66807 non-null  uint8  \n",
      " 25  gearType_REAR_DRIVE       66807 non-null  uint8  \n",
      " 26  brand_AUDI                66807 non-null  uint8  \n",
      " 27  brand_BMW                 66807 non-null  uint8  \n",
      " 28  brand_HONDA               66807 non-null  uint8  \n",
      " 29  brand_INFINITI            66807 non-null  uint8  \n",
      " 30  brand_LEXUS               66807 non-null  uint8  \n",
      " 31  brand_MERCEDES            66807 non-null  uint8  \n",
      " 32  brand_MITSUBISHI          66807 non-null  uint8  \n",
      " 33  brand_NISSAN              66807 non-null  uint8  \n",
      " 34  brand_SKODA               66807 non-null  uint8  \n",
      " 35  brand_TOYOTA              66807 non-null  uint8  \n",
      " 36  brand_VOLKSWAGEN          66807 non-null  uint8  \n",
      " 37  brand_VOLVO               66807 non-null  uint8  \n",
      " 38  transmission_AUTOMATIC    66807 non-null  uint8  \n",
      " 39  transmission_MECHANICAL   66807 non-null  uint8  \n",
      " 40  transmission_ROBOT        66807 non-null  uint8  \n",
      " 41  transmission_VARIATOR     66807 non-null  uint8  \n",
      "dtypes: float64(4), int64(10), uint8(28)\n",
      "memory usage: 8.9 MB\n"
     ]
    }
   ],
   "source": [
    "data.info()"
   ]
  },
  {
   "cell_type": "code",
   "execution_count": 199,
   "metadata": {
    "execution": {
     "iopub.execute_input": "2021-12-01T12:42:32.522973Z",
     "iopub.status.busy": "2021-12-01T12:42:32.522225Z",
     "iopub.status.idle": "2021-12-01T12:42:32.542519Z",
     "shell.execute_reply": "2021-12-01T12:42:32.541953Z",
     "shell.execute_reply.started": "2021-12-01T12:10:25.909247Z"
    },
    "papermill": {
     "duration": 0.276962,
     "end_time": "2021-12-01T12:42:32.542672",
     "exception": false,
     "start_time": "2021-12-01T12:42:32.265710",
     "status": "completed"
    },
    "tags": []
   },
   "outputs": [],
   "source": [
    "# разделение данных для обучения и теста\n",
    "train = data.query('sample == 1').drop(['sample', 'sell_id'], axis=1)\n",
    "X_train = train.drop('price',axis = 1)\n",
    "y_train = train['price']"
   ]
  },
  {
   "cell_type": "code",
   "execution_count": 200,
   "metadata": {
    "execution": {
     "iopub.execute_input": "2021-12-01T12:42:33.034679Z",
     "iopub.status.busy": "2021-12-01T12:42:33.030779Z",
     "iopub.status.idle": "2021-12-01T12:42:33.045362Z",
     "shell.execute_reply": "2021-12-01T12:42:33.044731Z",
     "shell.execute_reply.started": "2021-12-01T12:10:25.928307Z"
    },
    "papermill": {
     "duration": 0.260556,
     "end_time": "2021-12-01T12:42:33.045513",
     "exception": false,
     "start_time": "2021-12-01T12:42:32.784957",
     "status": "completed"
    },
    "tags": []
   },
   "outputs": [],
   "source": [
    "test = data.query('sample == 0')\n",
    "sell_id = test[['sell_id']]\n",
    "test = test.drop(['sample', 'sell_id','price'], axis=1)\n",
    "X_test = test"
   ]
  },
  {
   "cell_type": "code",
   "execution_count": 201,
   "metadata": {
    "execution": {
     "iopub.execute_input": "2021-12-01T12:42:33.532686Z",
     "iopub.status.busy": "2021-12-01T12:42:33.532060Z",
     "iopub.status.idle": "2021-12-01T12:42:33.534515Z",
     "shell.execute_reply": "2021-12-01T12:42:33.533920Z",
     "shell.execute_reply.started": "2021-12-01T12:10:25.946195Z"
    },
    "papermill": {
     "duration": 0.248822,
     "end_time": "2021-12-01T12:42:33.534653",
     "exception": false,
     "start_time": "2021-12-01T12:42:33.285831",
     "status": "completed"
    },
    "tags": []
   },
   "outputs": [],
   "source": [
    "# разделим данные для валидации и обучения"
   ]
  },
  {
   "cell_type": "code",
   "execution_count": 202,
   "metadata": {
    "execution": {
     "iopub.execute_input": "2021-12-01T12:42:34.034929Z",
     "iopub.status.busy": "2021-12-01T12:42:34.034194Z",
     "iopub.status.idle": "2021-12-01T12:42:34.045900Z",
     "shell.execute_reply": "2021-12-01T12:42:34.046396Z",
     "shell.execute_reply.started": "2021-12-01T12:10:25.951059Z"
    },
    "papermill": {
     "duration": 0.270562,
     "end_time": "2021-12-01T12:42:34.046583",
     "exception": false,
     "start_time": "2021-12-01T12:42:33.776021",
     "status": "completed"
    },
    "tags": []
   },
   "outputs": [],
   "source": [
    "X_train_v, X_val, y_train_v, y_val = train_test_split(X_train,y_train, test_size=0.15,\\\n",
    "                                                      shuffle=True, random_state=RANDOM_SEED)"
   ]
  },
  {
   "cell_type": "code",
   "execution_count": 203,
   "metadata": {
    "execution": {
     "iopub.execute_input": "2021-12-01T12:42:34.559869Z",
     "iopub.status.busy": "2021-12-01T12:42:34.559195Z",
     "iopub.status.idle": "2021-12-01T12:42:34.562816Z",
     "shell.execute_reply": "2021-12-01T12:42:34.563329Z",
     "shell.execute_reply.started": "2021-12-01T12:10:25.971013Z"
    },
    "papermill": {
     "duration": 0.257736,
     "end_time": "2021-12-01T12:42:34.563499",
     "exception": false,
     "start_time": "2021-12-01T12:42:34.305763",
     "status": "completed"
    },
    "tags": []
   },
   "outputs": [],
   "source": [
    "def mape(y_true, y_pred):\n",
    "    return np.mean(np.abs((y_pred-y_true)/y_true))"
   ]
  },
  {
   "cell_type": "markdown",
   "metadata": {
    "papermill": {
     "duration": 0.261056,
     "end_time": "2021-12-01T12:42:35.568844",
     "exception": false,
     "start_time": "2021-12-01T12:42:35.307788",
     "status": "completed"
    },
    "tags": []
   },
   "source": [
    "## LinearRegression"
   ]
  },
  {
   "cell_type": "code",
   "execution_count": 204,
   "metadata": {
    "execution": {
     "iopub.execute_input": "2021-12-01T12:42:36.074113Z",
     "iopub.status.busy": "2021-12-01T12:42:36.073333Z",
     "iopub.status.idle": "2021-12-01T12:42:36.143589Z",
     "shell.execute_reply": "2021-12-01T12:42:36.144493Z",
     "shell.execute_reply.started": "2021-12-01T12:10:41.023370Z"
    },
    "papermill": {
     "duration": 0.328032,
     "end_time": "2021-12-01T12:42:36.144800",
     "exception": false,
     "start_time": "2021-12-01T12:42:35.816768",
     "status": "completed"
    },
    "tags": []
   },
   "outputs": [
    {
     "name": "stdout",
     "output_type": "stream",
     "text": [
      "Точность модели по метрике MAPE: 87.23%\n"
     ]
    }
   ],
   "source": [
    "reg = LinearRegression().fit(X_train_v, y_train_v)\n",
    "\n",
    "y_pred = reg.predict(X_val)\n",
    "print(f\"Точность модели по метрике MAPE: {(mape(y_val,y_pred))*100:0.2f}%\")"
   ]
  },
  {
   "cell_type": "markdown",
   "metadata": {
    "papermill": {
     "duration": 0.258068,
     "end_time": "2021-12-01T12:42:36.717171",
     "exception": false,
     "start_time": "2021-12-01T12:42:36.459103",
     "status": "completed"
    },
    "tags": []
   },
   "source": [
    "## DecisionTreeRegressor"
   ]
  },
  {
   "cell_type": "code",
   "execution_count": 205,
   "metadata": {
    "execution": {
     "iopub.execute_input": "2021-12-01T12:42:37.242811Z",
     "iopub.status.busy": "2021-12-01T12:42:37.242122Z",
     "iopub.status.idle": "2021-12-01T12:42:37.553958Z",
     "shell.execute_reply": "2021-12-01T12:42:37.553301Z",
     "shell.execute_reply.started": "2021-12-01T12:10:49.270735Z"
    },
    "papermill": {
     "duration": 0.586274,
     "end_time": "2021-12-01T12:42:37.554105",
     "exception": false,
     "start_time": "2021-12-01T12:42:36.967831",
     "status": "completed"
    },
    "tags": []
   },
   "outputs": [
    {
     "name": "stdout",
     "output_type": "stream",
     "text": [
      "Точность модели по метрике MAPE: 19.98%\n"
     ]
    }
   ],
   "source": [
    "dtr = DecisionTreeRegressor(random_state=42)\n",
    "\n",
    "dtr.fit(X_train_v, np.log(y_train_v))\n",
    "y_pred = np.exp(dtr.predict(X_val))\n",
    "\n",
    "print(f\"Точность модели по метрике MAPE: {(mape(y_val,y_pred))*100:0.2f}%\")"
   ]
  },
  {
   "cell_type": "markdown",
   "metadata": {
    "papermill": {
     "duration": 0.249647,
     "end_time": "2021-12-01T12:42:38.051625",
     "exception": false,
     "start_time": "2021-12-01T12:42:37.801978",
     "status": "completed"
    },
    "tags": []
   },
   "source": [
    "## BaggingRegressor"
   ]
  },
  {
   "cell_type": "code",
   "execution_count": 208,
   "metadata": {
    "execution": {
     "iopub.execute_input": "2021-12-01T12:42:38.558415Z",
     "iopub.status.busy": "2021-12-01T12:42:38.557724Z",
     "iopub.status.idle": "2021-12-01T12:42:38.562387Z",
     "shell.execute_reply": "2021-12-01T12:42:38.561720Z",
     "shell.execute_reply.started": "2021-12-01T12:17:58.959196Z"
    },
    "papermill": {
     "duration": 0.255323,
     "end_time": "2021-12-01T12:42:38.562631",
     "exception": false,
     "start_time": "2021-12-01T12:42:38.307308",
     "status": "completed"
    },
    "tags": []
   },
   "outputs": [
    {
     "name": "stdout",
     "output_type": "stream",
     "text": [
      "Точность модели по метрике MAPE: 14.97%\n"
     ]
    }
   ],
   "source": [
    "dtr = DecisionTreeRegressor(random_state=42)\n",
    "\n",
    "bagging_trees = BaggingRegressor(dtr)\n",
    "\n",
    "bagging_trees.fit(X_train_v, np.log(y_train_v))\n",
    "y_pred = np.exp(bagging_trees.predict(X_val))\n",
    "print(f\"Точность модели по метрике MAPE: {(mape(y_val,y_pred))*100:0.2f}%\")"
   ]
  },
  {
   "cell_type": "markdown",
   "metadata": {
    "papermill": {
     "duration": 0.250302,
     "end_time": "2021-12-01T12:42:39.057008",
     "exception": false,
     "start_time": "2021-12-01T12:42:38.806706",
     "status": "completed"
    },
    "tags": []
   },
   "source": [
    "## RandomForestRegressor"
   ]
  },
  {
   "cell_type": "code",
   "execution_count": 209,
   "metadata": {
    "execution": {
     "iopub.execute_input": "2021-12-01T12:42:39.553633Z",
     "iopub.status.busy": "2021-12-01T12:42:39.552933Z",
     "iopub.status.idle": "2021-12-01T12:42:59.047871Z",
     "shell.execute_reply": "2021-12-01T12:42:59.047193Z",
     "shell.execute_reply.started": "2021-12-01T12:16:45.115573Z"
    },
    "papermill": {
     "duration": 19.748608,
     "end_time": "2021-12-01T12:42:59.048031",
     "exception": false,
     "start_time": "2021-12-01T12:42:39.299423",
     "status": "completed"
    },
    "tags": []
   },
   "outputs": [
    {
     "name": "stdout",
     "output_type": "stream",
     "text": [
      "Точность модели по метрике MAPE: 14.16%\n"
     ]
    }
   ],
   "source": [
    "rfr = RandomForestRegressor(random_state=42)\n",
    "\n",
    "rfr.fit(X_train_v, np.log(y_train_v))\n",
    "y_pred = np.exp(rfr.predict(X_val))\n",
    "print(f\"Точность модели по метрике MAPE: {(mape(y_val,y_pred))*100:0.2f}%\")"
   ]
  },
  {
   "cell_type": "markdown",
   "metadata": {
    "papermill": {
     "duration": 0.252521,
     "end_time": "2021-12-01T12:42:59.555640",
     "exception": false,
     "start_time": "2021-12-01T12:42:59.303119",
     "status": "completed"
    },
    "tags": []
   },
   "source": [
    "## AdaBoostRegressor"
   ]
  },
  {
   "cell_type": "code",
   "execution_count": 210,
   "metadata": {
    "execution": {
     "iopub.execute_input": "2021-12-01T12:43:00.143225Z",
     "iopub.status.busy": "2021-12-01T12:43:00.142361Z",
     "iopub.status.idle": "2021-12-01T12:43:23.779789Z",
     "shell.execute_reply": "2021-12-01T12:43:23.780337Z",
     "shell.execute_reply.started": "2021-12-01T12:23:54.552849Z"
    },
    "papermill": {
     "duration": 23.910418,
     "end_time": "2021-12-01T12:43:23.780521",
     "exception": false,
     "start_time": "2021-12-01T12:42:59.870103",
     "status": "completed"
    },
    "tags": []
   },
   "outputs": [
    {
     "name": "stdout",
     "output_type": "stream",
     "text": [
      "Точность модели по метрике MAPE: 33.32%\n"
     ]
    }
   ],
   "source": [
    "regr = AdaBoostRegressor(random_state=42, n_estimators=1000)\n",
    "regr.fit(X_train_v, np.log(y_train_v))\n",
    "y_pred = np.exp(regr.predict(X_val))\n",
    "print(f\"Точность модели по метрике MAPE: {(mape(y_val,y_pred))*100:0.2f}%\")"
   ]
  },
  {
   "cell_type": "markdown",
   "metadata": {
    "papermill": {
     "duration": 0.240243,
     "end_time": "2021-12-01T12:43:24.263794",
     "exception": false,
     "start_time": "2021-12-01T12:43:24.023551",
     "status": "completed"
    },
    "tags": []
   },
   "source": [
    "## GradientBoostingRegressor"
   ]
  },
  {
   "cell_type": "code",
   "execution_count": 211,
   "metadata": {
    "execution": {
     "iopub.execute_input": "2021-12-01T12:43:24.758948Z",
     "iopub.status.busy": "2021-12-01T12:43:24.757913Z",
     "iopub.status.idle": "2021-12-01T12:44:23.204767Z",
     "shell.execute_reply": "2021-12-01T12:44:23.205322Z",
     "shell.execute_reply.started": "2021-12-01T12:22:43.638973Z"
    },
    "papermill": {
     "duration": 58.693367,
     "end_time": "2021-12-01T12:44:23.205515",
     "exception": false,
     "start_time": "2021-12-01T12:43:24.512148",
     "status": "completed"
    },
    "tags": []
   },
   "outputs": [
    {
     "name": "stdout",
     "output_type": "stream",
     "text": [
      "Точность модели по метрике MAPE: 13.91%\n"
     ]
    }
   ],
   "source": [
    "gb = GradientBoostingRegressor(random_state=42,\n",
    "                               min_samples_split=2, \n",
    "                               learning_rate=0.1, \n",
    "                               max_depth=7,\n",
    "                               n_estimators=500)\n",
    "\n",
    "gb.fit(X_train_v, np.log(y_train_v))\n",
    "y_pred = np.exp(gb.predict(X_val))\n",
    "print(f\"Точность модели по метрике MAPE: {(mape(y_val,y_pred))*100:0.2f}%\")"
   ]
  },
  {
   "cell_type": "markdown",
   "metadata": {
    "execution": {
     "iopub.execute_input": "2021-12-01T12:24:42.959515Z",
     "iopub.status.busy": "2021-12-01T12:24:42.959103Z",
     "iopub.status.idle": "2021-12-01T12:24:42.964992Z",
     "shell.execute_reply": "2021-12-01T12:24:42.963973Z",
     "shell.execute_reply.started": "2021-12-01T12:24:42.959474Z"
    },
    "papermill": {
     "duration": 0.256363,
     "end_time": "2021-12-01T12:44:23.709526",
     "exception": false,
     "start_time": "2021-12-01T12:44:23.453163",
     "status": "completed"
    },
    "tags": []
   },
   "source": [
    "## CatBoostRegressor"
   ]
  },
  {
   "cell_type": "code",
   "execution_count": 214,
   "metadata": {
    "execution": {
     "iopub.execute_input": "2021-12-01T12:44:24.232378Z",
     "iopub.status.busy": "2021-12-01T12:44:24.231532Z",
     "iopub.status.idle": "2021-12-01T12:44:45.865778Z",
     "shell.execute_reply": "2021-12-01T12:44:45.866409Z",
     "shell.execute_reply.started": "2021-12-01T12:30:26.527842Z"
    },
    "papermill": {
     "duration": 21.901749,
     "end_time": "2021-12-01T12:44:45.866609",
     "exception": false,
     "start_time": "2021-12-01T12:44:23.964860",
     "status": "completed"
    },
    "scrolled": false,
    "tags": []
   },
   "outputs": [
    {
     "name": "stdout",
     "output_type": "stream",
     "text": [
      "Точность модели по метрике MAPE: 13.84%\n"
     ]
    }
   ],
   "source": [
    "model = CatBoostRegressor(iterations = 5000,\n",
    "                          random_seed = 42,\n",
    "                          custom_metric=['R2', 'MAE'],\n",
    "                          silent=True,)\n",
    "model.fit(X_train_v, np.log(y_train_v))\n",
    "y_pred = np.exp(model.predict(X_val))\n",
    "print(f\"Точность модели по метрике MAPE: {(mape(y_val,y_pred))*100:0.2f}%\")"
   ]
  },
  {
   "cell_type": "markdown",
   "metadata": {},
   "source": [
    "## LGBMRegressor"
   ]
  },
  {
   "cell_type": "code",
   "execution_count": null,
   "metadata": {},
   "outputs": [],
   "source": [
    "# lgbmr = LGBMRegressor(random_state=RANDOM_SEED,\n",
    "#                             max_depth=14,\n",
    "#                             n_estimators=800)\n",
    "\n",
    "# lgbmr.fit(X_train, np.log(y_train))\n",
    "# y_pred = np.exp(lgbmr.predict(X_test))\n",
    "# print(f\"Точность модели по метрике MAPE: {(mape(y_val,y_pred))*100:0.2f}%\")"
   ]
  },
  {
   "cell_type": "markdown",
   "metadata": {},
   "source": [
    "## Стэкинг\n",
    "\n",
    "Было перепробовано множество вариаций стекинга, представленных выше моделей, но по всей видимости из-за того, что большинство моделей (за исключением линейной регрессии) одной природы, т.е. построены на деревьях, они не выдают результат лучше, чем отдельные модели. Сама же линейная регрессия выдаёт очень плохой результат. Соответственно, её наличие в базисных моделях ни к чему хорошему не приводит.\n",
    "\n",
    "Ниже представлены два разных подхода к стекингу: с использованием импорта специального класса из sklearn и без."
   ]
  },
  {
   "cell_type": "code",
   "execution_count": 215,
   "metadata": {},
   "outputs": [
    {
     "ename": "NameError",
     "evalue": "name 'XGBRegressor' is not defined",
     "output_type": "error",
     "traceback": [
      "\u001b[0;31m---------------------------------------------------------------------------\u001b[0m",
      "\u001b[0;31mNameError\u001b[0m                                 Traceback (most recent call last)",
      "\u001b[0;32m<ipython-input-215-c9dadcdc9565>\u001b[0m in \u001b[0;36m<module>\u001b[0;34m\u001b[0m\n\u001b[1;32m      2\u001b[0m \u001b[0;31m#from sklearn.ensemble import StackingRegressor\u001b[0m\u001b[0;34m\u001b[0m\u001b[0;34m\u001b[0m\u001b[0;34m\u001b[0m\u001b[0m\n\u001b[1;32m      3\u001b[0m \u001b[0;34m\u001b[0m\u001b[0m\n\u001b[0;32m----> 4\u001b[0;31m estimators = [('xgbr', XGBRegressor(random_state=RANDOM_SEED,\n\u001b[0m\u001b[1;32m      5\u001b[0m                             \u001b[0mmax_depth\u001b[0m\u001b[0;34m=\u001b[0m\u001b[0;36m12\u001b[0m\u001b[0;34m,\u001b[0m\u001b[0;34m\u001b[0m\u001b[0;34m\u001b[0m\u001b[0m\n\u001b[1;32m      6\u001b[0m                             \u001b[0mn_estimators\u001b[0m\u001b[0;34m=\u001b[0m\u001b[0;36m1000\u001b[0m\u001b[0;34m,\u001b[0m\u001b[0;34m\u001b[0m\u001b[0;34m\u001b[0m\u001b[0m\n",
      "\u001b[0;31mNameError\u001b[0m: name 'XGBRegressor' is not defined"
     ]
    }
   ],
   "source": [
    "# # Стекинг с использованием класса StackingRegressor\n",
    "# #from sklearn.ensemble import StackingRegressor\n",
    "\n",
    "# estimators = [('xgbr', XGBRegressor(random_state=RANDOM_SEED,\n",
    "#                             max_depth=12,\n",
    "#                             n_estimators=1000,\n",
    "#                             learning_rate=0.03,\n",
    "#                             objective='reg:squarederror',\n",
    "#                             colsample_bytree=0.5,\n",
    "#                             alpha=1)),\n",
    "#               ('lgbmr', LGBMRegressor(random_state=RANDOM_SEED,\n",
    "#                             max_depth=14,\n",
    "#                             n_estimators=800)),\n",
    "#               ('gbr', GradientBoostingRegressor(random_state=RANDOM_SEED,\n",
    "#                                    max_depth=5,\n",
    "#                                    n_estimators=1000))\n",
    "# ]\n",
    "\n",
    "# reg = StackingRegressor(estimators=estimators,\n",
    "#                         passthrough=True)\n",
    "# reg.fit(X_train, np.log(y_train))\n",
    "\n",
    "# y_pred = np.exp(reg.predict(X_val))\n",
    "# predict_submission = np.exp(reg.predict(X_test))\n",
    "\n",
    "# print(f\"Точность модели по метрике MAPE: {(mape(y_val, y_pred))*100:0.2f}%\")"
   ]
  },
  {
   "cell_type": "code",
   "execution_count": null,
   "metadata": {},
   "outputs": [],
   "source": [
    "# # Без использования класса StackingRegressor\n",
    "\n",
    "# # get a list of base models\n",
    "# def get_models():\n",
    "#     models = list()\n",
    "#     models.append(('rfr', CatBoostRegressor()))\n",
    "#     models.append(('dtr', RandomForestRegressor()))\n",
    "#     models.append(('etr', ExtraTreesRegressor()))\n",
    "#     models.append(('gbr', GradientBoostingRegressor()))\n",
    "#     models.append(('dtr', DecisionTreeRegressor()))\n",
    "#     return models\n",
    "\n",
    "# models = get_models()\n",
    "\n",
    "# # fit all models on the training set and predict on hold out set\n",
    "# meta_X = list()\n",
    "# for name, model in tqdm(models):\n",
    "#     # fit in training set\n",
    "#     model.fit(X_train_v, y_train_v)\n",
    "#     # predict on hold out set\n",
    "#     yhat = model.predict(X_val)\n",
    "#     # reshape predictions into a matrix with one column\n",
    "#     yhat = yhat.reshape(len(yhat), 1)\n",
    "#     # store predictions as input for blending\n",
    "#     meta_X.append(yhat)\n",
    "    \n",
    "# # create 2d array from predictions, each set is an input feature\n",
    "# meta_X = np.hstack(meta_X)\n",
    "\n",
    "# # define blending model\n",
    "# blender = DecisionTreeRegressor()\n",
    "# # fit on predictions from base models\n",
    "# blender.fit(meta_X, y_val)\n",
    "\n",
    "# # make a prediction with the blending ensemble\n",
    "# def predict_ensemble(models, blender, X_val):\n",
    "#     # make predictions with base models\n",
    "#     meta_X = list()\n",
    "#     for name, model in models:\n",
    "#         # predict with base model\n",
    "#         yhat = model.predict(X_val)\n",
    "#         # reshape predictions into a matrix with one column\n",
    "#         yhat = yhat.reshape(len(yhat), 1)\n",
    "#         # store prediction\n",
    "#         meta_X.append(yhat)\n",
    "#         # create 2d array from predictions, each set is an input feature\n",
    "#         meta_X = np.hstack(meta_X)\n",
    "#         # predict\n",
    "#     return blender.predict(meta_X)\n",
    "\n",
    "# score = mean_absolute_percentage_error(y_val, yhat)\n",
    "# print('Blending MAPE: %.3f' % score)"
   ]
  },
  {
   "cell_type": "markdown",
   "metadata": {},
   "source": [
    "## Подбор параметров для моделей\n",
    "Для моделей проводился подбор наилучших параметров по сетке GridSearchCV. К сожалению, данный способ занимал слишком много времени и самое неприятное то, что он не привнёс положительных результатов. Гораздо быстрее и эффективнее был ручной перебор параметров для всех моделей. Также использовалась optuna для подбора параметров, но и в этом случае результат приходилоьс ждать слишком долго и эффект был скорее отрицательным. Ниже представлен код перебора параметров по сетке GridSearchCV с использованием небольшого числа узлов сетки на примере модели GradientBoostingRegressor. Другие модели при подборе параметров также не продемонстрировали удовлетворительного результата."
   ]
  },
  {
   "cell_type": "code",
   "execution_count": null,
   "metadata": {},
   "outputs": [],
   "source": [
    "# def regularise(X_train, y_train):\n",
    "#     max_depth = [5, 7, 10]\n",
    "#     n_estimators = [600, 800, 1000]\n",
    "#     learning_rate = [0.01, 0.1]\n",
    "#     hyperparameters = dict(max_depth=max_depth, n_estimators=n_estimators, learning_rate=learning_rate)\n",
    "#     model = GradientBoostingRegressor()\n",
    "#     model.fit(X_train, y_train)\n",
    "\n",
    "#     clf = GridSearchCV(model, hyperparameters)\n",
    "\n",
    "#     best_model = clf.fit(X_train, y_train)\n",
    "\n",
    "#     best_max_depth = best_model.best_estimator_.get_params()['max_depth']\n",
    "#     best_n_estimators = best_model.best_estimator_.get_params()['n_estimators']\n",
    "#     best_learning_rate = best_model.best_estimator_.get_params()['learning_rate']\n",
    "\n",
    "#     return best_max_depth, best_n_estimators, best_learning_rate\n",
    "\n",
    "# best_max_depth, best_n_estimators, best_learning_rate = regularise(X_train, y_train)\n",
    "# best_max_depth, best_n_estimators, best_learning_rate"
   ]
  },
  {
   "cell_type": "markdown",
   "metadata": {
    "papermill": {
     "duration": 0.260724,
     "end_time": "2021-12-01T12:44:46.391212",
     "exception": false,
     "start_time": "2021-12-01T12:44:46.130488",
     "status": "completed"
    },
    "tags": []
   },
   "source": [
    "## submission"
   ]
  },
  {
   "cell_type": "code",
   "execution_count": null,
   "metadata": {},
   "outputs": [],
   "source": [
    "model = CatBoostRegressor(iterations = 5000,\n",
    "                          random_state=42,\n",
    "                          custom_metric=['R2', 'MAE'],\n",
    "                          silent=True)\n",
    "\n",
    "model.fit(X_train, np.log(y_train))\n",
    "y_pred = np.exp(model.predict(X_test))"
   ]
  },
  {
   "cell_type": "code",
   "execution_count": null,
   "metadata": {},
   "outputs": [],
   "source": [
    "submission = pd.concat([sell_id.sell_id,pd.Series(y_pred,name='price')],axis=1)\n",
    "submission.to_csv('My_sub_CB.csv', index=False)"
   ]
  },
  {
   "cell_type": "markdown",
   "metadata": {},
   "source": [
    "## Выводы:\n",
    "1.Собраны и предварительно проанализированы данные с сайта  auto.ru, для марок представленных в тесте и с годом выпуска до 2020, как и тестовая выборка(смотреть файл Парсер Auto-ru.ipynb);\n",
    "\n",
    "2.Собранные и тестовые данные одинаково предобработаны;\n",
    "\n",
    "3.Проведен разведовательный анализ обработанных данных (EDA), по результатам которого было выявлено, что практически все признаки являются значимыми (подробнее в разделе EDA);\n",
    "\n",
    "4.В процессе обучения моделей было были протестированы различные комбинации признаков. \n",
    "- Опытным путем было выявлено, что признак color ни как не влияет на целевую переменную, так же как и признак vendor.\n",
    "- Удаление сильно коррелирующих признаков только ухудшало метрику.\n",
    "- Не удалось достаточно обработать признак model_name, так как в данных было более 500 различных моделей, сделать из этого признака dummie переменную не возможно, были попытки разделить все марки в зависимости от цены на 4 категории, что привело к ухудшению метрики, так как была задействована целевая переменная в создании такого признака, в итоге единственно возможным вариантом стало заменить данные в столбце на количество моделей в выборке.\n",
    "- Были попытки сократить количество уникальных значений в столбце brand, но так же разделение машин на классы ухудшило метрику и лучшим вариантом для данного столбца оказались dummie переменные из всех уникальных значений. \n",
    "- Столбец bodyType наоборот показал лучшее влияние на целевую переменную после сокращения уникальных значений.\n",
    "- Пробовали заменить год в столбце prodactionDate на разницу между годом сбора данных и фактическим, что казалось достаточно логичным решением, но такие действия ухудшили метрику, и оптимальным вариантом оказалось отнимать фактический год производства от 2020 года. \n",
    "- Столбец equipment_dict содержал много полезной информации, но к сожалению, присуствовало очень много пропусков, и все попытки как-то использовать его данные привели к ухудшению метрики, и было принято решение отказаться от данного признака.\n",
    "\n",
    "5.Машинное обучение (ML) проводилось с применением широкого ряда моделей:\n",
    "\n",
    "- LinearRegression показала наихудший результат на валидации и значение метрики немного улучшилось только после уменьшения размерности итоговой таблицы и удаления сильно кореллирующих признаков, но ниже 75% не удалось получить по этой модели.\n",
    "\n",
    "- DecisionTreeRegressor показала на базавовых настройках довольно не плохой результат, в райне 20%, но этого не достаточно для точного предсказания. Один из плюсов данной модели скорость ее обучения.\n",
    "\n",
    "- BaggingRegressor показал конкурентную метрикув в райне 15% на валидации, сравнимую с различными бустингами, но в борьбе за цифры после запятой, все же уступает данная модель более прогресивным. Обучение так же проходит быстро\n",
    "\n",
    "- RandomForestRegressor одна из лучших моделей для данной задачи, метрика на валидации всегда была около 14% и достаточно быстро проходило обучение.\n",
    "\n",
    "- AdaBoostRegressor самая разочаровывающая модель, лучший результат около 35% на валидации, при чем до применения логафмирования результат был около 500%. Считает быстро, но рельтаты совсем плохие.\n",
    "\n",
    "- GradientBoostingRegressor просчитывает модель достаточно четко, в районе 14% на валидации получали результат, но на тесте метрика сильно падала, разница была около 3-4% в засисимости от комбинации признаков. Очень долго проходит обучение.\n",
    "\n",
    "- CatBoostRegressor оказался лучшим регрессором для нашей задачи, результат на валидации был ниже 14% и на тесте в районе 14-16%, разрыв минимальный между валидацией и тестом, что навело на мысль, что модель не переучивается и выявляет действительно тонкие взаимосвязи между данными. Модель работает довольно быстро, около 4 сек происходит обучение на нашем трейне.\n",
    "\n",
    "- LGBMRegressor как и предыдущая модель показывал очень хорошие результаты, но из-за сложностей в установке на стандартный юпитер ноутбук, отказались от этой модели, но сделалаи для себя выводы на будущее, что ее стоит рассматривать серьезно.\n",
    "\n",
    "- Разнообразный стекинг не показал улучшений по целевой метрике. \n",
    "\n",
    "6.Наилучший результат по метрике MAPE (14.67510) на тестовой выборке показывает модель CatBoostRegressor с параметрами (iterations = 5000,random_state=42, custom_metric=['R2', 'MAE'],silent=True)\n",
    "\n",
    "7.Итоговое место на kaggle.com - 73."
   ]
  }
 ],
 "metadata": {
  "kernelspec": {
   "display_name": "Python 3",
   "language": "python",
   "name": "python3"
  },
  "language_info": {
   "codemirror_mode": {
    "name": "ipython",
    "version": 3
   },
   "file_extension": ".py",
   "mimetype": "text/x-python",
   "name": "python",
   "nbconvert_exporter": "python",
   "pygments_lexer": "ipython3",
   "version": "3.7.6"
  },
  "papermill": {
   "default_parameters": {},
   "duration": 278.67727,
   "end_time": "2021-12-01T12:44:48.062194",
   "environment_variables": {},
   "exception": null,
   "input_path": "__notebook__.ipynb",
   "output_path": "__notebook__.ipynb",
   "parameters": {},
   "start_time": "2021-12-01T12:40:09.384924",
   "version": "2.3.3"
  }
 },
 "nbformat": 4,
 "nbformat_minor": 5
}
